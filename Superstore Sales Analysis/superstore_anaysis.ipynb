{
 "cells": [
  {
   "cell_type": "code",
   "execution_count": 2,
   "id": "af9f0d94",
   "metadata": {},
   "outputs": [],
   "source": [
    "import pandas as pd\n",
    "import numpy as np\n",
    "import plotly.io as pio\n",
    "import plotly.express as px\n",
    "import plotly.graph_objects as go\n",
    "import plotly.colors as colors\n",
    "from plotly.subplots import make_subplots"
   ]
  },
  {
   "cell_type": "code",
   "execution_count": 3,
   "id": "47163b50",
   "metadata": {},
   "outputs": [
    {
     "data": {
      "text/html": [
       "<div>\n",
       "<style scoped>\n",
       "    .dataframe tbody tr th:only-of-type {\n",
       "        vertical-align: middle;\n",
       "    }\n",
       "\n",
       "    .dataframe tbody tr th {\n",
       "        vertical-align: top;\n",
       "    }\n",
       "\n",
       "    .dataframe thead th {\n",
       "        text-align: right;\n",
       "    }\n",
       "</style>\n",
       "<table border=\"1\" class=\"dataframe\">\n",
       "  <thead>\n",
       "    <tr style=\"text-align: right;\">\n",
       "      <th></th>\n",
       "      <th>Row ID</th>\n",
       "      <th>Order ID</th>\n",
       "      <th>Order Date</th>\n",
       "      <th>Ship Date</th>\n",
       "      <th>Ship Mode</th>\n",
       "      <th>Customer ID</th>\n",
       "      <th>Customer Name</th>\n",
       "      <th>Segment</th>\n",
       "      <th>Country</th>\n",
       "      <th>City</th>\n",
       "      <th>...</th>\n",
       "      <th>Postal Code</th>\n",
       "      <th>Region</th>\n",
       "      <th>Product ID</th>\n",
       "      <th>Category</th>\n",
       "      <th>Sub-Category</th>\n",
       "      <th>Product Name</th>\n",
       "      <th>Sales</th>\n",
       "      <th>Quantity</th>\n",
       "      <th>Discount</th>\n",
       "      <th>Profit</th>\n",
       "    </tr>\n",
       "  </thead>\n",
       "  <tbody>\n",
       "    <tr>\n",
       "      <th>0</th>\n",
       "      <td>1</td>\n",
       "      <td>CA-2016-152156</td>\n",
       "      <td>11/8/2016</td>\n",
       "      <td>11/11/2016</td>\n",
       "      <td>Second Class</td>\n",
       "      <td>CG-12520</td>\n",
       "      <td>Claire Gute</td>\n",
       "      <td>Consumer</td>\n",
       "      <td>United States</td>\n",
       "      <td>Henderson</td>\n",
       "      <td>...</td>\n",
       "      <td>42420</td>\n",
       "      <td>South</td>\n",
       "      <td>FUR-BO-10001798</td>\n",
       "      <td>Furniture</td>\n",
       "      <td>Bookcases</td>\n",
       "      <td>Bush Somerset Collection Bookcase</td>\n",
       "      <td>261.9600</td>\n",
       "      <td>2</td>\n",
       "      <td>0.00</td>\n",
       "      <td>41.9136</td>\n",
       "    </tr>\n",
       "    <tr>\n",
       "      <th>1</th>\n",
       "      <td>2</td>\n",
       "      <td>CA-2016-152156</td>\n",
       "      <td>11/8/2016</td>\n",
       "      <td>11/11/2016</td>\n",
       "      <td>Second Class</td>\n",
       "      <td>CG-12520</td>\n",
       "      <td>Claire Gute</td>\n",
       "      <td>Consumer</td>\n",
       "      <td>United States</td>\n",
       "      <td>Henderson</td>\n",
       "      <td>...</td>\n",
       "      <td>42420</td>\n",
       "      <td>South</td>\n",
       "      <td>FUR-CH-10000454</td>\n",
       "      <td>Furniture</td>\n",
       "      <td>Chairs</td>\n",
       "      <td>Hon Deluxe Fabric Upholstered Stacking Chairs,...</td>\n",
       "      <td>731.9400</td>\n",
       "      <td>3</td>\n",
       "      <td>0.00</td>\n",
       "      <td>219.5820</td>\n",
       "    </tr>\n",
       "    <tr>\n",
       "      <th>2</th>\n",
       "      <td>3</td>\n",
       "      <td>CA-2016-138688</td>\n",
       "      <td>6/12/2016</td>\n",
       "      <td>6/16/2016</td>\n",
       "      <td>Second Class</td>\n",
       "      <td>DV-13045</td>\n",
       "      <td>Darrin Van Huff</td>\n",
       "      <td>Corporate</td>\n",
       "      <td>United States</td>\n",
       "      <td>Los Angeles</td>\n",
       "      <td>...</td>\n",
       "      <td>90036</td>\n",
       "      <td>West</td>\n",
       "      <td>OFF-LA-10000240</td>\n",
       "      <td>Office Supplies</td>\n",
       "      <td>Labels</td>\n",
       "      <td>Self-Adhesive Address Labels for Typewriters b...</td>\n",
       "      <td>14.6200</td>\n",
       "      <td>2</td>\n",
       "      <td>0.00</td>\n",
       "      <td>6.8714</td>\n",
       "    </tr>\n",
       "    <tr>\n",
       "      <th>3</th>\n",
       "      <td>4</td>\n",
       "      <td>US-2015-108966</td>\n",
       "      <td>10/11/2015</td>\n",
       "      <td>10/18/2015</td>\n",
       "      <td>Standard Class</td>\n",
       "      <td>SO-20335</td>\n",
       "      <td>Sean O'Donnell</td>\n",
       "      <td>Consumer</td>\n",
       "      <td>United States</td>\n",
       "      <td>Fort Lauderdale</td>\n",
       "      <td>...</td>\n",
       "      <td>33311</td>\n",
       "      <td>South</td>\n",
       "      <td>FUR-TA-10000577</td>\n",
       "      <td>Furniture</td>\n",
       "      <td>Tables</td>\n",
       "      <td>Bretford CR4500 Series Slim Rectangular Table</td>\n",
       "      <td>957.5775</td>\n",
       "      <td>5</td>\n",
       "      <td>0.45</td>\n",
       "      <td>-383.0310</td>\n",
       "    </tr>\n",
       "    <tr>\n",
       "      <th>4</th>\n",
       "      <td>5</td>\n",
       "      <td>US-2015-108966</td>\n",
       "      <td>10/11/2015</td>\n",
       "      <td>10/18/2015</td>\n",
       "      <td>Standard Class</td>\n",
       "      <td>SO-20335</td>\n",
       "      <td>Sean O'Donnell</td>\n",
       "      <td>Consumer</td>\n",
       "      <td>United States</td>\n",
       "      <td>Fort Lauderdale</td>\n",
       "      <td>...</td>\n",
       "      <td>33311</td>\n",
       "      <td>South</td>\n",
       "      <td>OFF-ST-10000760</td>\n",
       "      <td>Office Supplies</td>\n",
       "      <td>Storage</td>\n",
       "      <td>Eldon Fold 'N Roll Cart System</td>\n",
       "      <td>22.3680</td>\n",
       "      <td>2</td>\n",
       "      <td>0.20</td>\n",
       "      <td>2.5164</td>\n",
       "    </tr>\n",
       "    <tr>\n",
       "      <th>...</th>\n",
       "      <td>...</td>\n",
       "      <td>...</td>\n",
       "      <td>...</td>\n",
       "      <td>...</td>\n",
       "      <td>...</td>\n",
       "      <td>...</td>\n",
       "      <td>...</td>\n",
       "      <td>...</td>\n",
       "      <td>...</td>\n",
       "      <td>...</td>\n",
       "      <td>...</td>\n",
       "      <td>...</td>\n",
       "      <td>...</td>\n",
       "      <td>...</td>\n",
       "      <td>...</td>\n",
       "      <td>...</td>\n",
       "      <td>...</td>\n",
       "      <td>...</td>\n",
       "      <td>...</td>\n",
       "      <td>...</td>\n",
       "      <td>...</td>\n",
       "    </tr>\n",
       "    <tr>\n",
       "      <th>9989</th>\n",
       "      <td>9990</td>\n",
       "      <td>CA-2014-110422</td>\n",
       "      <td>1/21/2014</td>\n",
       "      <td>1/23/2014</td>\n",
       "      <td>Second Class</td>\n",
       "      <td>TB-21400</td>\n",
       "      <td>Tom Boeckenhauer</td>\n",
       "      <td>Consumer</td>\n",
       "      <td>United States</td>\n",
       "      <td>Miami</td>\n",
       "      <td>...</td>\n",
       "      <td>33180</td>\n",
       "      <td>South</td>\n",
       "      <td>FUR-FU-10001889</td>\n",
       "      <td>Furniture</td>\n",
       "      <td>Furnishings</td>\n",
       "      <td>Ultra Door Pull Handle</td>\n",
       "      <td>25.2480</td>\n",
       "      <td>3</td>\n",
       "      <td>0.20</td>\n",
       "      <td>4.1028</td>\n",
       "    </tr>\n",
       "    <tr>\n",
       "      <th>9990</th>\n",
       "      <td>9991</td>\n",
       "      <td>CA-2017-121258</td>\n",
       "      <td>2/26/2017</td>\n",
       "      <td>3/3/2017</td>\n",
       "      <td>Standard Class</td>\n",
       "      <td>DB-13060</td>\n",
       "      <td>Dave Brooks</td>\n",
       "      <td>Consumer</td>\n",
       "      <td>United States</td>\n",
       "      <td>Costa Mesa</td>\n",
       "      <td>...</td>\n",
       "      <td>92627</td>\n",
       "      <td>West</td>\n",
       "      <td>FUR-FU-10000747</td>\n",
       "      <td>Furniture</td>\n",
       "      <td>Furnishings</td>\n",
       "      <td>Tenex B1-RE Series Chair Mats for Low Pile Car...</td>\n",
       "      <td>91.9600</td>\n",
       "      <td>2</td>\n",
       "      <td>0.00</td>\n",
       "      <td>15.6332</td>\n",
       "    </tr>\n",
       "    <tr>\n",
       "      <th>9991</th>\n",
       "      <td>9992</td>\n",
       "      <td>CA-2017-121258</td>\n",
       "      <td>2/26/2017</td>\n",
       "      <td>3/3/2017</td>\n",
       "      <td>Standard Class</td>\n",
       "      <td>DB-13060</td>\n",
       "      <td>Dave Brooks</td>\n",
       "      <td>Consumer</td>\n",
       "      <td>United States</td>\n",
       "      <td>Costa Mesa</td>\n",
       "      <td>...</td>\n",
       "      <td>92627</td>\n",
       "      <td>West</td>\n",
       "      <td>TEC-PH-10003645</td>\n",
       "      <td>Technology</td>\n",
       "      <td>Phones</td>\n",
       "      <td>Aastra 57i VoIP phone</td>\n",
       "      <td>258.5760</td>\n",
       "      <td>2</td>\n",
       "      <td>0.20</td>\n",
       "      <td>19.3932</td>\n",
       "    </tr>\n",
       "    <tr>\n",
       "      <th>9992</th>\n",
       "      <td>9993</td>\n",
       "      <td>CA-2017-121258</td>\n",
       "      <td>2/26/2017</td>\n",
       "      <td>3/3/2017</td>\n",
       "      <td>Standard Class</td>\n",
       "      <td>DB-13060</td>\n",
       "      <td>Dave Brooks</td>\n",
       "      <td>Consumer</td>\n",
       "      <td>United States</td>\n",
       "      <td>Costa Mesa</td>\n",
       "      <td>...</td>\n",
       "      <td>92627</td>\n",
       "      <td>West</td>\n",
       "      <td>OFF-PA-10004041</td>\n",
       "      <td>Office Supplies</td>\n",
       "      <td>Paper</td>\n",
       "      <td>It's Hot Message Books with Stickers, 2 3/4\" x 5\"</td>\n",
       "      <td>29.6000</td>\n",
       "      <td>4</td>\n",
       "      <td>0.00</td>\n",
       "      <td>13.3200</td>\n",
       "    </tr>\n",
       "    <tr>\n",
       "      <th>9993</th>\n",
       "      <td>9994</td>\n",
       "      <td>CA-2017-119914</td>\n",
       "      <td>5/4/2017</td>\n",
       "      <td>5/9/2017</td>\n",
       "      <td>Second Class</td>\n",
       "      <td>CC-12220</td>\n",
       "      <td>Chris Cortes</td>\n",
       "      <td>Consumer</td>\n",
       "      <td>United States</td>\n",
       "      <td>Westminster</td>\n",
       "      <td>...</td>\n",
       "      <td>92683</td>\n",
       "      <td>West</td>\n",
       "      <td>OFF-AP-10002684</td>\n",
       "      <td>Office Supplies</td>\n",
       "      <td>Appliances</td>\n",
       "      <td>Acco 7-Outlet Masterpiece Power Center, Wihtou...</td>\n",
       "      <td>243.1600</td>\n",
       "      <td>2</td>\n",
       "      <td>0.00</td>\n",
       "      <td>72.9480</td>\n",
       "    </tr>\n",
       "  </tbody>\n",
       "</table>\n",
       "<p>9994 rows × 21 columns</p>\n",
       "</div>"
      ],
      "text/plain": [
       "      Row ID        Order ID  Order Date   Ship Date       Ship Mode  \\\n",
       "0          1  CA-2016-152156   11/8/2016  11/11/2016    Second Class   \n",
       "1          2  CA-2016-152156   11/8/2016  11/11/2016    Second Class   \n",
       "2          3  CA-2016-138688   6/12/2016   6/16/2016    Second Class   \n",
       "3          4  US-2015-108966  10/11/2015  10/18/2015  Standard Class   \n",
       "4          5  US-2015-108966  10/11/2015  10/18/2015  Standard Class   \n",
       "...      ...             ...         ...         ...             ...   \n",
       "9989    9990  CA-2014-110422   1/21/2014   1/23/2014    Second Class   \n",
       "9990    9991  CA-2017-121258   2/26/2017    3/3/2017  Standard Class   \n",
       "9991    9992  CA-2017-121258   2/26/2017    3/3/2017  Standard Class   \n",
       "9992    9993  CA-2017-121258   2/26/2017    3/3/2017  Standard Class   \n",
       "9993    9994  CA-2017-119914    5/4/2017    5/9/2017    Second Class   \n",
       "\n",
       "     Customer ID     Customer Name    Segment        Country             City  \\\n",
       "0       CG-12520       Claire Gute   Consumer  United States        Henderson   \n",
       "1       CG-12520       Claire Gute   Consumer  United States        Henderson   \n",
       "2       DV-13045   Darrin Van Huff  Corporate  United States      Los Angeles   \n",
       "3       SO-20335    Sean O'Donnell   Consumer  United States  Fort Lauderdale   \n",
       "4       SO-20335    Sean O'Donnell   Consumer  United States  Fort Lauderdale   \n",
       "...          ...               ...        ...            ...              ...   \n",
       "9989    TB-21400  Tom Boeckenhauer   Consumer  United States            Miami   \n",
       "9990    DB-13060       Dave Brooks   Consumer  United States       Costa Mesa   \n",
       "9991    DB-13060       Dave Brooks   Consumer  United States       Costa Mesa   \n",
       "9992    DB-13060       Dave Brooks   Consumer  United States       Costa Mesa   \n",
       "9993    CC-12220      Chris Cortes   Consumer  United States      Westminster   \n",
       "\n",
       "      ... Postal Code  Region       Product ID         Category Sub-Category  \\\n",
       "0     ...       42420   South  FUR-BO-10001798        Furniture    Bookcases   \n",
       "1     ...       42420   South  FUR-CH-10000454        Furniture       Chairs   \n",
       "2     ...       90036    West  OFF-LA-10000240  Office Supplies       Labels   \n",
       "3     ...       33311   South  FUR-TA-10000577        Furniture       Tables   \n",
       "4     ...       33311   South  OFF-ST-10000760  Office Supplies      Storage   \n",
       "...   ...         ...     ...              ...              ...          ...   \n",
       "9989  ...       33180   South  FUR-FU-10001889        Furniture  Furnishings   \n",
       "9990  ...       92627    West  FUR-FU-10000747        Furniture  Furnishings   \n",
       "9991  ...       92627    West  TEC-PH-10003645       Technology       Phones   \n",
       "9992  ...       92627    West  OFF-PA-10004041  Office Supplies        Paper   \n",
       "9993  ...       92683    West  OFF-AP-10002684  Office Supplies   Appliances   \n",
       "\n",
       "                                           Product Name     Sales  Quantity  \\\n",
       "0                     Bush Somerset Collection Bookcase  261.9600         2   \n",
       "1     Hon Deluxe Fabric Upholstered Stacking Chairs,...  731.9400         3   \n",
       "2     Self-Adhesive Address Labels for Typewriters b...   14.6200         2   \n",
       "3         Bretford CR4500 Series Slim Rectangular Table  957.5775         5   \n",
       "4                        Eldon Fold 'N Roll Cart System   22.3680         2   \n",
       "...                                                 ...       ...       ...   \n",
       "9989                             Ultra Door Pull Handle   25.2480         3   \n",
       "9990  Tenex B1-RE Series Chair Mats for Low Pile Car...   91.9600         2   \n",
       "9991                              Aastra 57i VoIP phone  258.5760         2   \n",
       "9992  It's Hot Message Books with Stickers, 2 3/4\" x 5\"   29.6000         4   \n",
       "9993  Acco 7-Outlet Masterpiece Power Center, Wihtou...  243.1600         2   \n",
       "\n",
       "      Discount    Profit  \n",
       "0         0.00   41.9136  \n",
       "1         0.00  219.5820  \n",
       "2         0.00    6.8714  \n",
       "3         0.45 -383.0310  \n",
       "4         0.20    2.5164  \n",
       "...        ...       ...  \n",
       "9989      0.20    4.1028  \n",
       "9990      0.00   15.6332  \n",
       "9991      0.20   19.3932  \n",
       "9992      0.00   13.3200  \n",
       "9993      0.00   72.9480  \n",
       "\n",
       "[9994 rows x 21 columns]"
      ]
     },
     "execution_count": 3,
     "metadata": {},
     "output_type": "execute_result"
    }
   ],
   "source": [
    "data = pd.read_csv(r\"D:\\Data Analytics\\Data Analytics Projects\\Portfolio projects\\Python projects\\Superstore Sales Analysis\\Sample - Superstore.csv\", encoding = 'latin1')\n",
    "df = data.copy()\n",
    "df.sort_index()"
   ]
  },
  {
   "cell_type": "code",
   "execution_count": 4,
   "id": "4175bb41",
   "metadata": {},
   "outputs": [
    {
     "name": "stdout",
     "output_type": "stream",
     "text": [
      "<class 'pandas.core.frame.DataFrame'>\n",
      "RangeIndex: 9994 entries, 0 to 9993\n",
      "Data columns (total 21 columns):\n",
      " #   Column         Non-Null Count  Dtype  \n",
      "---  ------         --------------  -----  \n",
      " 0   Row ID         9994 non-null   int64  \n",
      " 1   Order ID       9994 non-null   object \n",
      " 2   Order Date     9994 non-null   object \n",
      " 3   Ship Date      9994 non-null   object \n",
      " 4   Ship Mode      9994 non-null   object \n",
      " 5   Customer ID    9994 non-null   object \n",
      " 6   Customer Name  9994 non-null   object \n",
      " 7   Segment        9994 non-null   object \n",
      " 8   Country        9994 non-null   object \n",
      " 9   City           9994 non-null   object \n",
      " 10  State          9994 non-null   object \n",
      " 11  Postal Code    9994 non-null   int64  \n",
      " 12  Region         9994 non-null   object \n",
      " 13  Product ID     9994 non-null   object \n",
      " 14  Category       9994 non-null   object \n",
      " 15  Sub-Category   9994 non-null   object \n",
      " 16  Product Name   9994 non-null   object \n",
      " 17  Sales          9994 non-null   float64\n",
      " 18  Quantity       9994 non-null   int64  \n",
      " 19  Discount       9994 non-null   float64\n",
      " 20  Profit         9994 non-null   float64\n",
      "dtypes: float64(3), int64(3), object(15)\n",
      "memory usage: 1.6+ MB\n"
     ]
    }
   ],
   "source": [
    "df.info()"
   ]
  },
  {
   "cell_type": "code",
   "execution_count": 5,
   "id": "b66712bb",
   "metadata": {},
   "outputs": [
    {
     "data": {
      "text/html": [
       "<div>\n",
       "<style scoped>\n",
       "    .dataframe tbody tr th:only-of-type {\n",
       "        vertical-align: middle;\n",
       "    }\n",
       "\n",
       "    .dataframe tbody tr th {\n",
       "        vertical-align: top;\n",
       "    }\n",
       "\n",
       "    .dataframe thead th {\n",
       "        text-align: right;\n",
       "    }\n",
       "</style>\n",
       "<table border=\"1\" class=\"dataframe\">\n",
       "  <thead>\n",
       "    <tr style=\"text-align: right;\">\n",
       "      <th></th>\n",
       "      <th>Row ID</th>\n",
       "      <th>Postal Code</th>\n",
       "      <th>Sales</th>\n",
       "      <th>Quantity</th>\n",
       "      <th>Discount</th>\n",
       "      <th>Profit</th>\n",
       "    </tr>\n",
       "  </thead>\n",
       "  <tbody>\n",
       "    <tr>\n",
       "      <th>count</th>\n",
       "      <td>9994.000000</td>\n",
       "      <td>9994.000000</td>\n",
       "      <td>9994.000000</td>\n",
       "      <td>9994.000000</td>\n",
       "      <td>9994.000000</td>\n",
       "      <td>9994.000000</td>\n",
       "    </tr>\n",
       "    <tr>\n",
       "      <th>mean</th>\n",
       "      <td>4997.500000</td>\n",
       "      <td>55190.379428</td>\n",
       "      <td>229.858001</td>\n",
       "      <td>3.789574</td>\n",
       "      <td>0.156203</td>\n",
       "      <td>28.656896</td>\n",
       "    </tr>\n",
       "    <tr>\n",
       "      <th>std</th>\n",
       "      <td>2885.163629</td>\n",
       "      <td>32063.693350</td>\n",
       "      <td>623.245101</td>\n",
       "      <td>2.225110</td>\n",
       "      <td>0.206452</td>\n",
       "      <td>234.260108</td>\n",
       "    </tr>\n",
       "    <tr>\n",
       "      <th>min</th>\n",
       "      <td>1.000000</td>\n",
       "      <td>1040.000000</td>\n",
       "      <td>0.444000</td>\n",
       "      <td>1.000000</td>\n",
       "      <td>0.000000</td>\n",
       "      <td>-6599.978000</td>\n",
       "    </tr>\n",
       "    <tr>\n",
       "      <th>25%</th>\n",
       "      <td>2499.250000</td>\n",
       "      <td>23223.000000</td>\n",
       "      <td>17.280000</td>\n",
       "      <td>2.000000</td>\n",
       "      <td>0.000000</td>\n",
       "      <td>1.728750</td>\n",
       "    </tr>\n",
       "    <tr>\n",
       "      <th>50%</th>\n",
       "      <td>4997.500000</td>\n",
       "      <td>56430.500000</td>\n",
       "      <td>54.490000</td>\n",
       "      <td>3.000000</td>\n",
       "      <td>0.200000</td>\n",
       "      <td>8.666500</td>\n",
       "    </tr>\n",
       "    <tr>\n",
       "      <th>75%</th>\n",
       "      <td>7495.750000</td>\n",
       "      <td>90008.000000</td>\n",
       "      <td>209.940000</td>\n",
       "      <td>5.000000</td>\n",
       "      <td>0.200000</td>\n",
       "      <td>29.364000</td>\n",
       "    </tr>\n",
       "    <tr>\n",
       "      <th>max</th>\n",
       "      <td>9994.000000</td>\n",
       "      <td>99301.000000</td>\n",
       "      <td>22638.480000</td>\n",
       "      <td>14.000000</td>\n",
       "      <td>0.800000</td>\n",
       "      <td>8399.976000</td>\n",
       "    </tr>\n",
       "  </tbody>\n",
       "</table>\n",
       "</div>"
      ],
      "text/plain": [
       "            Row ID   Postal Code         Sales     Quantity     Discount  \\\n",
       "count  9994.000000   9994.000000   9994.000000  9994.000000  9994.000000   \n",
       "mean   4997.500000  55190.379428    229.858001     3.789574     0.156203   \n",
       "std    2885.163629  32063.693350    623.245101     2.225110     0.206452   \n",
       "min       1.000000   1040.000000      0.444000     1.000000     0.000000   \n",
       "25%    2499.250000  23223.000000     17.280000     2.000000     0.000000   \n",
       "50%    4997.500000  56430.500000     54.490000     3.000000     0.200000   \n",
       "75%    7495.750000  90008.000000    209.940000     5.000000     0.200000   \n",
       "max    9994.000000  99301.000000  22638.480000    14.000000     0.800000   \n",
       "\n",
       "            Profit  \n",
       "count  9994.000000  \n",
       "mean     28.656896  \n",
       "std     234.260108  \n",
       "min   -6599.978000  \n",
       "25%       1.728750  \n",
       "50%       8.666500  \n",
       "75%      29.364000  \n",
       "max    8399.976000  "
      ]
     },
     "execution_count": 5,
     "metadata": {},
     "output_type": "execute_result"
    }
   ],
   "source": [
    "df.describe()"
   ]
  },
  {
   "cell_type": "code",
   "execution_count": 6,
   "id": "3d35f412",
   "metadata": {},
   "outputs": [],
   "source": [
    "df['Order Date'] = pd.to_datetime(df['Order Date'])\n",
    "df['Ship Date'] = pd.to_datetime(df['Ship Date'])"
   ]
  },
  {
   "cell_type": "code",
   "execution_count": 7,
   "id": "aea7c755",
   "metadata": {},
   "outputs": [
    {
     "data": {
      "text/html": [
       "<div>\n",
       "<style scoped>\n",
       "    .dataframe tbody tr th:only-of-type {\n",
       "        vertical-align: middle;\n",
       "    }\n",
       "\n",
       "    .dataframe tbody tr th {\n",
       "        vertical-align: top;\n",
       "    }\n",
       "\n",
       "    .dataframe thead th {\n",
       "        text-align: right;\n",
       "    }\n",
       "</style>\n",
       "<table border=\"1\" class=\"dataframe\">\n",
       "  <thead>\n",
       "    <tr style=\"text-align: right;\">\n",
       "      <th></th>\n",
       "      <th>Row ID</th>\n",
       "      <th>Order ID</th>\n",
       "      <th>Order Date</th>\n",
       "      <th>Ship Date</th>\n",
       "      <th>Ship Mode</th>\n",
       "      <th>Customer ID</th>\n",
       "      <th>Customer Name</th>\n",
       "      <th>Segment</th>\n",
       "      <th>Country</th>\n",
       "      <th>City</th>\n",
       "      <th>...</th>\n",
       "      <th>Postal Code</th>\n",
       "      <th>Region</th>\n",
       "      <th>Product ID</th>\n",
       "      <th>Category</th>\n",
       "      <th>Sub-Category</th>\n",
       "      <th>Product Name</th>\n",
       "      <th>Sales</th>\n",
       "      <th>Quantity</th>\n",
       "      <th>Discount</th>\n",
       "      <th>Profit</th>\n",
       "    </tr>\n",
       "  </thead>\n",
       "  <tbody>\n",
       "    <tr>\n",
       "      <th>0</th>\n",
       "      <td>1</td>\n",
       "      <td>CA-2016-152156</td>\n",
       "      <td>2016-11-08</td>\n",
       "      <td>2016-11-11</td>\n",
       "      <td>Second Class</td>\n",
       "      <td>CG-12520</td>\n",
       "      <td>Claire Gute</td>\n",
       "      <td>Consumer</td>\n",
       "      <td>United States</td>\n",
       "      <td>Henderson</td>\n",
       "      <td>...</td>\n",
       "      <td>42420</td>\n",
       "      <td>South</td>\n",
       "      <td>FUR-BO-10001798</td>\n",
       "      <td>Furniture</td>\n",
       "      <td>Bookcases</td>\n",
       "      <td>Bush Somerset Collection Bookcase</td>\n",
       "      <td>261.9600</td>\n",
       "      <td>2</td>\n",
       "      <td>0.00</td>\n",
       "      <td>41.9136</td>\n",
       "    </tr>\n",
       "    <tr>\n",
       "      <th>1</th>\n",
       "      <td>2</td>\n",
       "      <td>CA-2016-152156</td>\n",
       "      <td>2016-11-08</td>\n",
       "      <td>2016-11-11</td>\n",
       "      <td>Second Class</td>\n",
       "      <td>CG-12520</td>\n",
       "      <td>Claire Gute</td>\n",
       "      <td>Consumer</td>\n",
       "      <td>United States</td>\n",
       "      <td>Henderson</td>\n",
       "      <td>...</td>\n",
       "      <td>42420</td>\n",
       "      <td>South</td>\n",
       "      <td>FUR-CH-10000454</td>\n",
       "      <td>Furniture</td>\n",
       "      <td>Chairs</td>\n",
       "      <td>Hon Deluxe Fabric Upholstered Stacking Chairs,...</td>\n",
       "      <td>731.9400</td>\n",
       "      <td>3</td>\n",
       "      <td>0.00</td>\n",
       "      <td>219.5820</td>\n",
       "    </tr>\n",
       "    <tr>\n",
       "      <th>2</th>\n",
       "      <td>3</td>\n",
       "      <td>CA-2016-138688</td>\n",
       "      <td>2016-06-12</td>\n",
       "      <td>2016-06-16</td>\n",
       "      <td>Second Class</td>\n",
       "      <td>DV-13045</td>\n",
       "      <td>Darrin Van Huff</td>\n",
       "      <td>Corporate</td>\n",
       "      <td>United States</td>\n",
       "      <td>Los Angeles</td>\n",
       "      <td>...</td>\n",
       "      <td>90036</td>\n",
       "      <td>West</td>\n",
       "      <td>OFF-LA-10000240</td>\n",
       "      <td>Office Supplies</td>\n",
       "      <td>Labels</td>\n",
       "      <td>Self-Adhesive Address Labels for Typewriters b...</td>\n",
       "      <td>14.6200</td>\n",
       "      <td>2</td>\n",
       "      <td>0.00</td>\n",
       "      <td>6.8714</td>\n",
       "    </tr>\n",
       "    <tr>\n",
       "      <th>3</th>\n",
       "      <td>4</td>\n",
       "      <td>US-2015-108966</td>\n",
       "      <td>2015-10-11</td>\n",
       "      <td>2015-10-18</td>\n",
       "      <td>Standard Class</td>\n",
       "      <td>SO-20335</td>\n",
       "      <td>Sean O'Donnell</td>\n",
       "      <td>Consumer</td>\n",
       "      <td>United States</td>\n",
       "      <td>Fort Lauderdale</td>\n",
       "      <td>...</td>\n",
       "      <td>33311</td>\n",
       "      <td>South</td>\n",
       "      <td>FUR-TA-10000577</td>\n",
       "      <td>Furniture</td>\n",
       "      <td>Tables</td>\n",
       "      <td>Bretford CR4500 Series Slim Rectangular Table</td>\n",
       "      <td>957.5775</td>\n",
       "      <td>5</td>\n",
       "      <td>0.45</td>\n",
       "      <td>-383.0310</td>\n",
       "    </tr>\n",
       "    <tr>\n",
       "      <th>4</th>\n",
       "      <td>5</td>\n",
       "      <td>US-2015-108966</td>\n",
       "      <td>2015-10-11</td>\n",
       "      <td>2015-10-18</td>\n",
       "      <td>Standard Class</td>\n",
       "      <td>SO-20335</td>\n",
       "      <td>Sean O'Donnell</td>\n",
       "      <td>Consumer</td>\n",
       "      <td>United States</td>\n",
       "      <td>Fort Lauderdale</td>\n",
       "      <td>...</td>\n",
       "      <td>33311</td>\n",
       "      <td>South</td>\n",
       "      <td>OFF-ST-10000760</td>\n",
       "      <td>Office Supplies</td>\n",
       "      <td>Storage</td>\n",
       "      <td>Eldon Fold 'N Roll Cart System</td>\n",
       "      <td>22.3680</td>\n",
       "      <td>2</td>\n",
       "      <td>0.20</td>\n",
       "      <td>2.5164</td>\n",
       "    </tr>\n",
       "  </tbody>\n",
       "</table>\n",
       "<p>5 rows × 21 columns</p>\n",
       "</div>"
      ],
      "text/plain": [
       "   Row ID        Order ID Order Date  Ship Date       Ship Mode Customer ID  \\\n",
       "0       1  CA-2016-152156 2016-11-08 2016-11-11    Second Class    CG-12520   \n",
       "1       2  CA-2016-152156 2016-11-08 2016-11-11    Second Class    CG-12520   \n",
       "2       3  CA-2016-138688 2016-06-12 2016-06-16    Second Class    DV-13045   \n",
       "3       4  US-2015-108966 2015-10-11 2015-10-18  Standard Class    SO-20335   \n",
       "4       5  US-2015-108966 2015-10-11 2015-10-18  Standard Class    SO-20335   \n",
       "\n",
       "     Customer Name    Segment        Country             City  ...  \\\n",
       "0      Claire Gute   Consumer  United States        Henderson  ...   \n",
       "1      Claire Gute   Consumer  United States        Henderson  ...   \n",
       "2  Darrin Van Huff  Corporate  United States      Los Angeles  ...   \n",
       "3   Sean O'Donnell   Consumer  United States  Fort Lauderdale  ...   \n",
       "4   Sean O'Donnell   Consumer  United States  Fort Lauderdale  ...   \n",
       "\n",
       "  Postal Code  Region       Product ID         Category Sub-Category  \\\n",
       "0       42420   South  FUR-BO-10001798        Furniture    Bookcases   \n",
       "1       42420   South  FUR-CH-10000454        Furniture       Chairs   \n",
       "2       90036    West  OFF-LA-10000240  Office Supplies       Labels   \n",
       "3       33311   South  FUR-TA-10000577        Furniture       Tables   \n",
       "4       33311   South  OFF-ST-10000760  Office Supplies      Storage   \n",
       "\n",
       "                                        Product Name     Sales  Quantity  \\\n",
       "0                  Bush Somerset Collection Bookcase  261.9600         2   \n",
       "1  Hon Deluxe Fabric Upholstered Stacking Chairs,...  731.9400         3   \n",
       "2  Self-Adhesive Address Labels for Typewriters b...   14.6200         2   \n",
       "3      Bretford CR4500 Series Slim Rectangular Table  957.5775         5   \n",
       "4                     Eldon Fold 'N Roll Cart System   22.3680         2   \n",
       "\n",
       "   Discount    Profit  \n",
       "0      0.00   41.9136  \n",
       "1      0.00  219.5820  \n",
       "2      0.00    6.8714  \n",
       "3      0.45 -383.0310  \n",
       "4      0.20    2.5164  \n",
       "\n",
       "[5 rows x 21 columns]"
      ]
     },
     "execution_count": 7,
     "metadata": {},
     "output_type": "execute_result"
    }
   ],
   "source": [
    "df.head()"
   ]
  },
  {
   "cell_type": "code",
   "execution_count": 8,
   "id": "616e0e3e",
   "metadata": {},
   "outputs": [],
   "source": [
    "df['Order Month'] = df['Order Date'].dt.month\n",
    "df['Order Year'] = df['Order Date'].dt.year\n",
    "df['Order Day of Week'] = df['Order Date'].dt.dayofweek"
   ]
  },
  {
   "cell_type": "code",
   "execution_count": 9,
   "id": "077eeaa8",
   "metadata": {},
   "outputs": [
    {
     "data": {
      "text/html": [
       "<div>\n",
       "<style scoped>\n",
       "    .dataframe tbody tr th:only-of-type {\n",
       "        vertical-align: middle;\n",
       "    }\n",
       "\n",
       "    .dataframe tbody tr th {\n",
       "        vertical-align: top;\n",
       "    }\n",
       "\n",
       "    .dataframe thead th {\n",
       "        text-align: right;\n",
       "    }\n",
       "</style>\n",
       "<table border=\"1\" class=\"dataframe\">\n",
       "  <thead>\n",
       "    <tr style=\"text-align: right;\">\n",
       "      <th></th>\n",
       "      <th>Row ID</th>\n",
       "      <th>Order ID</th>\n",
       "      <th>Order Date</th>\n",
       "      <th>Ship Date</th>\n",
       "      <th>Ship Mode</th>\n",
       "      <th>Customer ID</th>\n",
       "      <th>Customer Name</th>\n",
       "      <th>Segment</th>\n",
       "      <th>Country</th>\n",
       "      <th>City</th>\n",
       "      <th>...</th>\n",
       "      <th>Category</th>\n",
       "      <th>Sub-Category</th>\n",
       "      <th>Product Name</th>\n",
       "      <th>Sales</th>\n",
       "      <th>Quantity</th>\n",
       "      <th>Discount</th>\n",
       "      <th>Profit</th>\n",
       "      <th>Order Month</th>\n",
       "      <th>Order Year</th>\n",
       "      <th>Order Day of Week</th>\n",
       "    </tr>\n",
       "  </thead>\n",
       "  <tbody>\n",
       "    <tr>\n",
       "      <th>0</th>\n",
       "      <td>1</td>\n",
       "      <td>CA-2016-152156</td>\n",
       "      <td>2016-11-08</td>\n",
       "      <td>2016-11-11</td>\n",
       "      <td>Second Class</td>\n",
       "      <td>CG-12520</td>\n",
       "      <td>Claire Gute</td>\n",
       "      <td>Consumer</td>\n",
       "      <td>United States</td>\n",
       "      <td>Henderson</td>\n",
       "      <td>...</td>\n",
       "      <td>Furniture</td>\n",
       "      <td>Bookcases</td>\n",
       "      <td>Bush Somerset Collection Bookcase</td>\n",
       "      <td>261.9600</td>\n",
       "      <td>2</td>\n",
       "      <td>0.00</td>\n",
       "      <td>41.9136</td>\n",
       "      <td>11</td>\n",
       "      <td>2016</td>\n",
       "      <td>1</td>\n",
       "    </tr>\n",
       "    <tr>\n",
       "      <th>1</th>\n",
       "      <td>2</td>\n",
       "      <td>CA-2016-152156</td>\n",
       "      <td>2016-11-08</td>\n",
       "      <td>2016-11-11</td>\n",
       "      <td>Second Class</td>\n",
       "      <td>CG-12520</td>\n",
       "      <td>Claire Gute</td>\n",
       "      <td>Consumer</td>\n",
       "      <td>United States</td>\n",
       "      <td>Henderson</td>\n",
       "      <td>...</td>\n",
       "      <td>Furniture</td>\n",
       "      <td>Chairs</td>\n",
       "      <td>Hon Deluxe Fabric Upholstered Stacking Chairs,...</td>\n",
       "      <td>731.9400</td>\n",
       "      <td>3</td>\n",
       "      <td>0.00</td>\n",
       "      <td>219.5820</td>\n",
       "      <td>11</td>\n",
       "      <td>2016</td>\n",
       "      <td>1</td>\n",
       "    </tr>\n",
       "    <tr>\n",
       "      <th>2</th>\n",
       "      <td>3</td>\n",
       "      <td>CA-2016-138688</td>\n",
       "      <td>2016-06-12</td>\n",
       "      <td>2016-06-16</td>\n",
       "      <td>Second Class</td>\n",
       "      <td>DV-13045</td>\n",
       "      <td>Darrin Van Huff</td>\n",
       "      <td>Corporate</td>\n",
       "      <td>United States</td>\n",
       "      <td>Los Angeles</td>\n",
       "      <td>...</td>\n",
       "      <td>Office Supplies</td>\n",
       "      <td>Labels</td>\n",
       "      <td>Self-Adhesive Address Labels for Typewriters b...</td>\n",
       "      <td>14.6200</td>\n",
       "      <td>2</td>\n",
       "      <td>0.00</td>\n",
       "      <td>6.8714</td>\n",
       "      <td>6</td>\n",
       "      <td>2016</td>\n",
       "      <td>6</td>\n",
       "    </tr>\n",
       "    <tr>\n",
       "      <th>3</th>\n",
       "      <td>4</td>\n",
       "      <td>US-2015-108966</td>\n",
       "      <td>2015-10-11</td>\n",
       "      <td>2015-10-18</td>\n",
       "      <td>Standard Class</td>\n",
       "      <td>SO-20335</td>\n",
       "      <td>Sean O'Donnell</td>\n",
       "      <td>Consumer</td>\n",
       "      <td>United States</td>\n",
       "      <td>Fort Lauderdale</td>\n",
       "      <td>...</td>\n",
       "      <td>Furniture</td>\n",
       "      <td>Tables</td>\n",
       "      <td>Bretford CR4500 Series Slim Rectangular Table</td>\n",
       "      <td>957.5775</td>\n",
       "      <td>5</td>\n",
       "      <td>0.45</td>\n",
       "      <td>-383.0310</td>\n",
       "      <td>10</td>\n",
       "      <td>2015</td>\n",
       "      <td>6</td>\n",
       "    </tr>\n",
       "    <tr>\n",
       "      <th>4</th>\n",
       "      <td>5</td>\n",
       "      <td>US-2015-108966</td>\n",
       "      <td>2015-10-11</td>\n",
       "      <td>2015-10-18</td>\n",
       "      <td>Standard Class</td>\n",
       "      <td>SO-20335</td>\n",
       "      <td>Sean O'Donnell</td>\n",
       "      <td>Consumer</td>\n",
       "      <td>United States</td>\n",
       "      <td>Fort Lauderdale</td>\n",
       "      <td>...</td>\n",
       "      <td>Office Supplies</td>\n",
       "      <td>Storage</td>\n",
       "      <td>Eldon Fold 'N Roll Cart System</td>\n",
       "      <td>22.3680</td>\n",
       "      <td>2</td>\n",
       "      <td>0.20</td>\n",
       "      <td>2.5164</td>\n",
       "      <td>10</td>\n",
       "      <td>2015</td>\n",
       "      <td>6</td>\n",
       "    </tr>\n",
       "  </tbody>\n",
       "</table>\n",
       "<p>5 rows × 24 columns</p>\n",
       "</div>"
      ],
      "text/plain": [
       "   Row ID        Order ID Order Date  Ship Date       Ship Mode Customer ID  \\\n",
       "0       1  CA-2016-152156 2016-11-08 2016-11-11    Second Class    CG-12520   \n",
       "1       2  CA-2016-152156 2016-11-08 2016-11-11    Second Class    CG-12520   \n",
       "2       3  CA-2016-138688 2016-06-12 2016-06-16    Second Class    DV-13045   \n",
       "3       4  US-2015-108966 2015-10-11 2015-10-18  Standard Class    SO-20335   \n",
       "4       5  US-2015-108966 2015-10-11 2015-10-18  Standard Class    SO-20335   \n",
       "\n",
       "     Customer Name    Segment        Country             City  ...  \\\n",
       "0      Claire Gute   Consumer  United States        Henderson  ...   \n",
       "1      Claire Gute   Consumer  United States        Henderson  ...   \n",
       "2  Darrin Van Huff  Corporate  United States      Los Angeles  ...   \n",
       "3   Sean O'Donnell   Consumer  United States  Fort Lauderdale  ...   \n",
       "4   Sean O'Donnell   Consumer  United States  Fort Lauderdale  ...   \n",
       "\n",
       "          Category  Sub-Category  \\\n",
       "0        Furniture     Bookcases   \n",
       "1        Furniture        Chairs   \n",
       "2  Office Supplies        Labels   \n",
       "3        Furniture        Tables   \n",
       "4  Office Supplies       Storage   \n",
       "\n",
       "                                        Product Name     Sales Quantity  \\\n",
       "0                  Bush Somerset Collection Bookcase  261.9600        2   \n",
       "1  Hon Deluxe Fabric Upholstered Stacking Chairs,...  731.9400        3   \n",
       "2  Self-Adhesive Address Labels for Typewriters b...   14.6200        2   \n",
       "3      Bretford CR4500 Series Slim Rectangular Table  957.5775        5   \n",
       "4                     Eldon Fold 'N Roll Cart System   22.3680        2   \n",
       "\n",
       "  Discount    Profit  Order Month  Order Year  Order Day of Week  \n",
       "0     0.00   41.9136           11        2016                  1  \n",
       "1     0.00  219.5820           11        2016                  1  \n",
       "2     0.00    6.8714            6        2016                  6  \n",
       "3     0.45 -383.0310           10        2015                  6  \n",
       "4     0.20    2.5164           10        2015                  6  \n",
       "\n",
       "[5 rows x 24 columns]"
      ]
     },
     "execution_count": 9,
     "metadata": {},
     "output_type": "execute_result"
    }
   ],
   "source": [
    "df.head()"
   ]
  },
  {
   "cell_type": "markdown",
   "id": "696e3ada",
   "metadata": {},
   "source": [
    "<h3> Q.1 - Calculate the monthly sales of the store and identify which month had the highest sales and which month had the lowest sales. <h3> "
   ]
  },
  {
   "cell_type": "code",
   "execution_count": 10,
   "id": "aaadc462",
   "metadata": {},
   "outputs": [
    {
     "data": {
      "text/html": [
       "<div>\n",
       "<style scoped>\n",
       "    .dataframe tbody tr th:only-of-type {\n",
       "        vertical-align: middle;\n",
       "    }\n",
       "\n",
       "    .dataframe tbody tr th {\n",
       "        vertical-align: top;\n",
       "    }\n",
       "\n",
       "    .dataframe thead th {\n",
       "        text-align: right;\n",
       "    }\n",
       "</style>\n",
       "<table border=\"1\" class=\"dataframe\">\n",
       "  <thead>\n",
       "    <tr style=\"text-align: right;\">\n",
       "      <th></th>\n",
       "      <th>Order Month</th>\n",
       "      <th>Sales</th>\n",
       "    </tr>\n",
       "  </thead>\n",
       "  <tbody>\n",
       "    <tr>\n",
       "      <th>0</th>\n",
       "      <td>1</td>\n",
       "      <td>94924.8356</td>\n",
       "    </tr>\n",
       "    <tr>\n",
       "      <th>1</th>\n",
       "      <td>2</td>\n",
       "      <td>59751.2514</td>\n",
       "    </tr>\n",
       "    <tr>\n",
       "      <th>2</th>\n",
       "      <td>3</td>\n",
       "      <td>205005.4888</td>\n",
       "    </tr>\n",
       "    <tr>\n",
       "      <th>3</th>\n",
       "      <td>4</td>\n",
       "      <td>137762.1286</td>\n",
       "    </tr>\n",
       "    <tr>\n",
       "      <th>4</th>\n",
       "      <td>5</td>\n",
       "      <td>155028.8117</td>\n",
       "    </tr>\n",
       "    <tr>\n",
       "      <th>5</th>\n",
       "      <td>6</td>\n",
       "      <td>152718.6793</td>\n",
       "    </tr>\n",
       "    <tr>\n",
       "      <th>6</th>\n",
       "      <td>7</td>\n",
       "      <td>147238.0970</td>\n",
       "    </tr>\n",
       "    <tr>\n",
       "      <th>7</th>\n",
       "      <td>8</td>\n",
       "      <td>159044.0630</td>\n",
       "    </tr>\n",
       "    <tr>\n",
       "      <th>8</th>\n",
       "      <td>9</td>\n",
       "      <td>307649.9457</td>\n",
       "    </tr>\n",
       "    <tr>\n",
       "      <th>9</th>\n",
       "      <td>10</td>\n",
       "      <td>200322.9847</td>\n",
       "    </tr>\n",
       "    <tr>\n",
       "      <th>10</th>\n",
       "      <td>11</td>\n",
       "      <td>352461.0710</td>\n",
       "    </tr>\n",
       "    <tr>\n",
       "      <th>11</th>\n",
       "      <td>12</td>\n",
       "      <td>325293.5035</td>\n",
       "    </tr>\n",
       "  </tbody>\n",
       "</table>\n",
       "</div>"
      ],
      "text/plain": [
       "    Order Month        Sales\n",
       "0             1   94924.8356\n",
       "1             2   59751.2514\n",
       "2             3  205005.4888\n",
       "3             4  137762.1286\n",
       "4             5  155028.8117\n",
       "5             6  152718.6793\n",
       "6             7  147238.0970\n",
       "7             8  159044.0630\n",
       "8             9  307649.9457\n",
       "9            10  200322.9847\n",
       "10           11  352461.0710\n",
       "11           12  325293.5035"
      ]
     },
     "execution_count": 10,
     "metadata": {},
     "output_type": "execute_result"
    }
   ],
   "source": [
    "sbm = df.groupby(['Order Month'])['Sales'].sum().reset_index()\n",
    "sbm"
   ]
  },
  {
   "cell_type": "code",
   "execution_count": 11,
   "id": "1b029691",
   "metadata": {},
   "outputs": [
    {
     "data": {
      "application/vnd.plotly.v1+json": {
       "config": {
        "plotlyServerURL": "https://plot.ly"
       },
       "data": [
        {
         "hoverinfo": "x+y",
         "line": {
          "color": "cyan",
          "dash": "dashdot",
          "width": 3
         },
         "marker": {
          "color": "white",
          "line": {
           "color": "cyan",
           "width": 2
          },
          "size": 8
         },
         "mode": "lines+markers",
         "name": "Monthly Sales Analysis",
         "type": "scatter",
         "x": {
          "bdata": "AQAAAAIAAAADAAAABAAAAAUAAAAGAAAABwAAAAgAAAAJAAAACgAAAAsAAAAMAAAA",
          "dtype": "i4"
         },
         "y": {
          "bdata": "CRueXs0s90BHA3gL6CztQHL5D+lrBglB0m9fBxHRAEHRkVx+puwCQaHWNG91pAJBnu+nxjD5AUHdJAaBIGoDQa+UZcgHxxJBw2Sq4Bd0CEFYObRINIMVQQaBlQO22hNB",
          "dtype": "f8"
         }
        }
       ],
       "layout": {
        "hovermode": "x unified",
        "legend": {
         "x": 0.01,
         "y": 0.99
        },
        "margin": {
         "b": 50,
         "l": 60,
         "r": 30,
         "t": 100
        },
        "showlegend": true,
        "template": {
         "data": {
          "bar": [
           {
            "error_x": {
             "color": "#f2f5fa"
            },
            "error_y": {
             "color": "#f2f5fa"
            },
            "marker": {
             "line": {
              "color": "rgb(17,17,17)",
              "width": 0.5
             },
             "pattern": {
              "fillmode": "overlay",
              "size": 10,
              "solidity": 0.2
             }
            },
            "type": "bar"
           }
          ],
          "barpolar": [
           {
            "marker": {
             "line": {
              "color": "rgb(17,17,17)",
              "width": 0.5
             },
             "pattern": {
              "fillmode": "overlay",
              "size": 10,
              "solidity": 0.2
             }
            },
            "type": "barpolar"
           }
          ],
          "carpet": [
           {
            "aaxis": {
             "endlinecolor": "#A2B1C6",
             "gridcolor": "#506784",
             "linecolor": "#506784",
             "minorgridcolor": "#506784",
             "startlinecolor": "#A2B1C6"
            },
            "baxis": {
             "endlinecolor": "#A2B1C6",
             "gridcolor": "#506784",
             "linecolor": "#506784",
             "minorgridcolor": "#506784",
             "startlinecolor": "#A2B1C6"
            },
            "type": "carpet"
           }
          ],
          "choropleth": [
           {
            "colorbar": {
             "outlinewidth": 0,
             "ticks": ""
            },
            "type": "choropleth"
           }
          ],
          "contour": [
           {
            "colorbar": {
             "outlinewidth": 0,
             "ticks": ""
            },
            "colorscale": [
             [
              0,
              "#0d0887"
             ],
             [
              0.1111111111111111,
              "#46039f"
             ],
             [
              0.2222222222222222,
              "#7201a8"
             ],
             [
              0.3333333333333333,
              "#9c179e"
             ],
             [
              0.4444444444444444,
              "#bd3786"
             ],
             [
              0.5555555555555556,
              "#d8576b"
             ],
             [
              0.6666666666666666,
              "#ed7953"
             ],
             [
              0.7777777777777778,
              "#fb9f3a"
             ],
             [
              0.8888888888888888,
              "#fdca26"
             ],
             [
              1,
              "#f0f921"
             ]
            ],
            "type": "contour"
           }
          ],
          "contourcarpet": [
           {
            "colorbar": {
             "outlinewidth": 0,
             "ticks": ""
            },
            "type": "contourcarpet"
           }
          ],
          "heatmap": [
           {
            "colorbar": {
             "outlinewidth": 0,
             "ticks": ""
            },
            "colorscale": [
             [
              0,
              "#0d0887"
             ],
             [
              0.1111111111111111,
              "#46039f"
             ],
             [
              0.2222222222222222,
              "#7201a8"
             ],
             [
              0.3333333333333333,
              "#9c179e"
             ],
             [
              0.4444444444444444,
              "#bd3786"
             ],
             [
              0.5555555555555556,
              "#d8576b"
             ],
             [
              0.6666666666666666,
              "#ed7953"
             ],
             [
              0.7777777777777778,
              "#fb9f3a"
             ],
             [
              0.8888888888888888,
              "#fdca26"
             ],
             [
              1,
              "#f0f921"
             ]
            ],
            "type": "heatmap"
           }
          ],
          "histogram": [
           {
            "marker": {
             "pattern": {
              "fillmode": "overlay",
              "size": 10,
              "solidity": 0.2
             }
            },
            "type": "histogram"
           }
          ],
          "histogram2d": [
           {
            "colorbar": {
             "outlinewidth": 0,
             "ticks": ""
            },
            "colorscale": [
             [
              0,
              "#0d0887"
             ],
             [
              0.1111111111111111,
              "#46039f"
             ],
             [
              0.2222222222222222,
              "#7201a8"
             ],
             [
              0.3333333333333333,
              "#9c179e"
             ],
             [
              0.4444444444444444,
              "#bd3786"
             ],
             [
              0.5555555555555556,
              "#d8576b"
             ],
             [
              0.6666666666666666,
              "#ed7953"
             ],
             [
              0.7777777777777778,
              "#fb9f3a"
             ],
             [
              0.8888888888888888,
              "#fdca26"
             ],
             [
              1,
              "#f0f921"
             ]
            ],
            "type": "histogram2d"
           }
          ],
          "histogram2dcontour": [
           {
            "colorbar": {
             "outlinewidth": 0,
             "ticks": ""
            },
            "colorscale": [
             [
              0,
              "#0d0887"
             ],
             [
              0.1111111111111111,
              "#46039f"
             ],
             [
              0.2222222222222222,
              "#7201a8"
             ],
             [
              0.3333333333333333,
              "#9c179e"
             ],
             [
              0.4444444444444444,
              "#bd3786"
             ],
             [
              0.5555555555555556,
              "#d8576b"
             ],
             [
              0.6666666666666666,
              "#ed7953"
             ],
             [
              0.7777777777777778,
              "#fb9f3a"
             ],
             [
              0.8888888888888888,
              "#fdca26"
             ],
             [
              1,
              "#f0f921"
             ]
            ],
            "type": "histogram2dcontour"
           }
          ],
          "mesh3d": [
           {
            "colorbar": {
             "outlinewidth": 0,
             "ticks": ""
            },
            "type": "mesh3d"
           }
          ],
          "parcoords": [
           {
            "line": {
             "colorbar": {
              "outlinewidth": 0,
              "ticks": ""
             }
            },
            "type": "parcoords"
           }
          ],
          "pie": [
           {
            "automargin": true,
            "type": "pie"
           }
          ],
          "scatter": [
           {
            "marker": {
             "line": {
              "color": "#283442"
             }
            },
            "type": "scatter"
           }
          ],
          "scatter3d": [
           {
            "line": {
             "colorbar": {
              "outlinewidth": 0,
              "ticks": ""
             }
            },
            "marker": {
             "colorbar": {
              "outlinewidth": 0,
              "ticks": ""
             }
            },
            "type": "scatter3d"
           }
          ],
          "scattercarpet": [
           {
            "marker": {
             "colorbar": {
              "outlinewidth": 0,
              "ticks": ""
             }
            },
            "type": "scattercarpet"
           }
          ],
          "scattergeo": [
           {
            "marker": {
             "colorbar": {
              "outlinewidth": 0,
              "ticks": ""
             }
            },
            "type": "scattergeo"
           }
          ],
          "scattergl": [
           {
            "marker": {
             "line": {
              "color": "#283442"
             }
            },
            "type": "scattergl"
           }
          ],
          "scattermap": [
           {
            "marker": {
             "colorbar": {
              "outlinewidth": 0,
              "ticks": ""
             }
            },
            "type": "scattermap"
           }
          ],
          "scattermapbox": [
           {
            "marker": {
             "colorbar": {
              "outlinewidth": 0,
              "ticks": ""
             }
            },
            "type": "scattermapbox"
           }
          ],
          "scatterpolar": [
           {
            "marker": {
             "colorbar": {
              "outlinewidth": 0,
              "ticks": ""
             }
            },
            "type": "scatterpolar"
           }
          ],
          "scatterpolargl": [
           {
            "marker": {
             "colorbar": {
              "outlinewidth": 0,
              "ticks": ""
             }
            },
            "type": "scatterpolargl"
           }
          ],
          "scatterternary": [
           {
            "marker": {
             "colorbar": {
              "outlinewidth": 0,
              "ticks": ""
             }
            },
            "type": "scatterternary"
           }
          ],
          "surface": [
           {
            "colorbar": {
             "outlinewidth": 0,
             "ticks": ""
            },
            "colorscale": [
             [
              0,
              "#0d0887"
             ],
             [
              0.1111111111111111,
              "#46039f"
             ],
             [
              0.2222222222222222,
              "#7201a8"
             ],
             [
              0.3333333333333333,
              "#9c179e"
             ],
             [
              0.4444444444444444,
              "#bd3786"
             ],
             [
              0.5555555555555556,
              "#d8576b"
             ],
             [
              0.6666666666666666,
              "#ed7953"
             ],
             [
              0.7777777777777778,
              "#fb9f3a"
             ],
             [
              0.8888888888888888,
              "#fdca26"
             ],
             [
              1,
              "#f0f921"
             ]
            ],
            "type": "surface"
           }
          ],
          "table": [
           {
            "cells": {
             "fill": {
              "color": "#506784"
             },
             "line": {
              "color": "rgb(17,17,17)"
             }
            },
            "header": {
             "fill": {
              "color": "#2a3f5f"
             },
             "line": {
              "color": "rgb(17,17,17)"
             }
            },
            "type": "table"
           }
          ]
         },
         "layout": {
          "annotationdefaults": {
           "arrowcolor": "#f2f5fa",
           "arrowhead": 0,
           "arrowwidth": 1
          },
          "autotypenumbers": "strict",
          "coloraxis": {
           "colorbar": {
            "outlinewidth": 0,
            "ticks": ""
           }
          },
          "colorscale": {
           "diverging": [
            [
             0,
             "#8e0152"
            ],
            [
             0.1,
             "#c51b7d"
            ],
            [
             0.2,
             "#de77ae"
            ],
            [
             0.3,
             "#f1b6da"
            ],
            [
             0.4,
             "#fde0ef"
            ],
            [
             0.5,
             "#f7f7f7"
            ],
            [
             0.6,
             "#e6f5d0"
            ],
            [
             0.7,
             "#b8e186"
            ],
            [
             0.8,
             "#7fbc41"
            ],
            [
             0.9,
             "#4d9221"
            ],
            [
             1,
             "#276419"
            ]
           ],
           "sequential": [
            [
             0,
             "#0d0887"
            ],
            [
             0.1111111111111111,
             "#46039f"
            ],
            [
             0.2222222222222222,
             "#7201a8"
            ],
            [
             0.3333333333333333,
             "#9c179e"
            ],
            [
             0.4444444444444444,
             "#bd3786"
            ],
            [
             0.5555555555555556,
             "#d8576b"
            ],
            [
             0.6666666666666666,
             "#ed7953"
            ],
            [
             0.7777777777777778,
             "#fb9f3a"
            ],
            [
             0.8888888888888888,
             "#fdca26"
            ],
            [
             1,
             "#f0f921"
            ]
           ],
           "sequentialminus": [
            [
             0,
             "#0d0887"
            ],
            [
             0.1111111111111111,
             "#46039f"
            ],
            [
             0.2222222222222222,
             "#7201a8"
            ],
            [
             0.3333333333333333,
             "#9c179e"
            ],
            [
             0.4444444444444444,
             "#bd3786"
            ],
            [
             0.5555555555555556,
             "#d8576b"
            ],
            [
             0.6666666666666666,
             "#ed7953"
            ],
            [
             0.7777777777777778,
             "#fb9f3a"
            ],
            [
             0.8888888888888888,
             "#fdca26"
            ],
            [
             1,
             "#f0f921"
            ]
           ]
          },
          "colorway": [
           "#636efa",
           "#EF553B",
           "#00cc96",
           "#ab63fa",
           "#FFA15A",
           "#19d3f3",
           "#FF6692",
           "#B6E880",
           "#FF97FF",
           "#FECB52"
          ],
          "font": {
           "color": "#f2f5fa"
          },
          "geo": {
           "bgcolor": "rgb(17,17,17)",
           "lakecolor": "rgb(17,17,17)",
           "landcolor": "rgb(17,17,17)",
           "showlakes": true,
           "showland": true,
           "subunitcolor": "#506784"
          },
          "hoverlabel": {
           "align": "left"
          },
          "hovermode": "closest",
          "mapbox": {
           "style": "dark"
          },
          "paper_bgcolor": "rgb(17,17,17)",
          "plot_bgcolor": "rgb(17,17,17)",
          "polar": {
           "angularaxis": {
            "gridcolor": "#506784",
            "linecolor": "#506784",
            "ticks": ""
           },
           "bgcolor": "rgb(17,17,17)",
           "radialaxis": {
            "gridcolor": "#506784",
            "linecolor": "#506784",
            "ticks": ""
           }
          },
          "scene": {
           "xaxis": {
            "backgroundcolor": "rgb(17,17,17)",
            "gridcolor": "#506784",
            "gridwidth": 2,
            "linecolor": "#506784",
            "showbackground": true,
            "ticks": "",
            "zerolinecolor": "#C8D4E3"
           },
           "yaxis": {
            "backgroundcolor": "rgb(17,17,17)",
            "gridcolor": "#506784",
            "gridwidth": 2,
            "linecolor": "#506784",
            "showbackground": true,
            "ticks": "",
            "zerolinecolor": "#C8D4E3"
           },
           "zaxis": {
            "backgroundcolor": "rgb(17,17,17)",
            "gridcolor": "#506784",
            "gridwidth": 2,
            "linecolor": "#506784",
            "showbackground": true,
            "ticks": "",
            "zerolinecolor": "#C8D4E3"
           }
          },
          "shapedefaults": {
           "line": {
            "color": "#f2f5fa"
           }
          },
          "sliderdefaults": {
           "bgcolor": "#C8D4E3",
           "bordercolor": "rgb(17,17,17)",
           "borderwidth": 1,
           "tickwidth": 0
          },
          "ternary": {
           "aaxis": {
            "gridcolor": "#506784",
            "linecolor": "#506784",
            "ticks": ""
           },
           "baxis": {
            "gridcolor": "#506784",
            "linecolor": "#506784",
            "ticks": ""
           },
           "bgcolor": "rgb(17,17,17)",
           "caxis": {
            "gridcolor": "#506784",
            "linecolor": "#506784",
            "ticks": ""
           }
          },
          "title": {
           "x": 0.05
          },
          "updatemenudefaults": {
           "bgcolor": "#506784",
           "borderwidth": 0
          },
          "xaxis": {
           "automargin": true,
           "gridcolor": "#283442",
           "linecolor": "#506784",
           "ticks": "",
           "title": {
            "standoff": 15
           },
           "zerolinecolor": "#283442",
           "zerolinewidth": 2
          },
          "yaxis": {
           "automargin": true,
           "gridcolor": "#283442",
           "linecolor": "#506784",
           "ticks": "",
           "title": {
            "standoff": 15
           },
           "zerolinecolor": "#283442",
           "zerolinewidth": 2
          }
         }
        },
        "title": {
         "font": {
          "color": "white",
          "family": "Arial",
          "size": 36
         },
         "pad": {
          "b": 10,
          "t": 20
         },
         "text": "Monthly Sales Analysis",
         "x": 0.5
        },
        "xaxis": {
         "tickfont": {
          "color": "lightgray",
          "size": 12
         },
         "ticktext": [
          "Jan",
          "Feb",
          "Mar",
          "Apr",
          "May",
          "Jun",
          "Jul",
          "Aug",
          "Sep",
          "Oct",
          "Nov",
          "Dec"
         ],
         "tickvals": [
          1,
          2,
          3,
          4,
          5,
          6,
          7,
          8,
          9,
          10,
          11,
          12
         ],
         "title": {
          "text": "Months"
         }
        },
        "yaxis": {
         "tickfont": {
          "color": "lightgray",
          "size": 12
         },
         "title": {
          "text": "Sales"
         }
        }
       }
      }
     },
     "metadata": {},
     "output_type": "display_data"
    }
   ],
   "source": [
    "trace = go.Scatter(\n",
    "    x = sbm['Order Month'],\n",
    "    y = sbm['Sales'],\n",
    "    mode = 'lines+markers',\n",
    "    name = 'Monthly Sales Analysis',\n",
    "    line = dict(color = 'cyan', width = 3, dash = 'dashdot'),\n",
    "    marker = dict(size = 8, color = 'white', line = dict(width = 2, color = 'cyan')),\n",
    "    hoverinfo = 'x+y'\n",
    ")\n",
    "\n",
    "layout = go.Layout(\n",
    "    title = dict(text ='Monthly Sales Analysis', font = dict(size = 36, family = 'Arial', color = 'white'), x = 0.5, pad = dict(t = 20, b = 10)),\n",
    "    xaxis = dict(title = 'Months', tickvals = [1,2,3,4,5,6,7,8,9,10,11,12],\n",
    "                 ticktext = ['Jan', 'Feb', 'Mar', 'Apr', 'May','Jun','Jul','Aug','Sep','Oct','Nov','Dec'],\n",
    "                 tickfont = dict(size = 12, color = 'lightgray')),\n",
    "    yaxis = dict(title = 'Sales', tickfont = dict(size = 12, color = 'lightgray')),\n",
    "    hovermode = 'x unified',\n",
    "    template = 'plotly_dark',\n",
    "    showlegend = True,\n",
    "    legend = dict(x = 0.01, y = 0.99),\n",
    "    margin = dict(l = 60 ,r = 30, t = 100, b = 50)\n",
    ")\n",
    "fig = go.Figure(data = [trace], layout = layout)\n",
    "fig.show()"
   ]
  },
  {
   "cell_type": "markdown",
   "id": "d5584f74",
   "metadata": {},
   "source": [
    "<h4> January and February shows the minimum sales across months, whereas, September, November and December shows much higher sales </h4>"
   ]
  },
  {
   "cell_type": "markdown",
   "id": "472f4e8a",
   "metadata": {},
   "source": [
    "<h3> Q.2 - Analyse sales based on product categories and determine which category has the lowest sales an which category has the highest sales. </h3>"
   ]
  },
  {
   "cell_type": "code",
   "execution_count": 12,
   "id": "f80f7d26",
   "metadata": {},
   "outputs": [
    {
     "data": {
      "text/html": [
       "<div>\n",
       "<style scoped>\n",
       "    .dataframe tbody tr th:only-of-type {\n",
       "        vertical-align: middle;\n",
       "    }\n",
       "\n",
       "    .dataframe tbody tr th {\n",
       "        vertical-align: top;\n",
       "    }\n",
       "\n",
       "    .dataframe thead th {\n",
       "        text-align: right;\n",
       "    }\n",
       "</style>\n",
       "<table border=\"1\" class=\"dataframe\">\n",
       "  <thead>\n",
       "    <tr style=\"text-align: right;\">\n",
       "      <th></th>\n",
       "      <th>Category</th>\n",
       "      <th>Sales</th>\n",
       "    </tr>\n",
       "  </thead>\n",
       "  <tbody>\n",
       "    <tr>\n",
       "      <th>2</th>\n",
       "      <td>Technology</td>\n",
       "      <td>836154.0330</td>\n",
       "    </tr>\n",
       "    <tr>\n",
       "      <th>0</th>\n",
       "      <td>Furniture</td>\n",
       "      <td>741999.7953</td>\n",
       "    </tr>\n",
       "    <tr>\n",
       "      <th>1</th>\n",
       "      <td>Office Supplies</td>\n",
       "      <td>719047.0320</td>\n",
       "    </tr>\n",
       "  </tbody>\n",
       "</table>\n",
       "</div>"
      ],
      "text/plain": [
       "          Category        Sales\n",
       "2       Technology  836154.0330\n",
       "0        Furniture  741999.7953\n",
       "1  Office Supplies  719047.0320"
      ]
     },
     "execution_count": 12,
     "metadata": {},
     "output_type": "execute_result"
    }
   ],
   "source": [
    "sbc = df.groupby(['Category'], as_index = False)['Sales'].sum().sort_values(by = 'Sales', ascending = False)\n",
    "sbc"
   ]
  },
  {
   "cell_type": "code",
   "execution_count": null,
   "id": "97b405f2",
   "metadata": {},
   "outputs": [
    {
     "data": {
      "application/vnd.plotly.v1+json": {
       "config": {
        "plotlyServerURL": "https://plot.ly"
       },
       "data": [
        {
         "domain": {
          "x": [
           0.1,
           0.9
          ],
          "y": [
           0.1,
           0.9
          ]
         },
         "hole": 0.3,
         "hoverinfo": "label+value+percent",
         "insidetextorientation": "radial",
         "labels": [
          "Furniture",
          "Furniture",
          "Office Supplies",
          "Furniture",
          "Office Supplies",
          "Furniture",
          "Office Supplies",
          "Technology",
          "Office Supplies",
          "Office Supplies",
          "Furniture",
          "Technology",
          "Office Supplies",
          "Office Supplies",
          "Office Supplies",
          "Office Supplies",
          "Office Supplies",
          "Office Supplies",
          "Office Supplies",
          "Technology",
          "Office Supplies",
          "Office Supplies",
          "Office Supplies",
          "Furniture",
          "Furniture",
          "Office Supplies",
          "Technology",
          "Furniture",
          "Office Supplies",
          "Furniture",
          "Office Supplies",
          "Office Supplies",
          "Office Supplies",
          "Office Supplies",
          "Office Supplies",
          "Technology",
          "Furniture",
          "Office Supplies",
          "Furniture",
          "Furniture",
          "Technology",
          "Technology",
          "Office Supplies",
          "Office Supplies",
          "Technology",
          "Office Supplies",
          "Office Supplies",
          "Technology",
          "Technology",
          "Office Supplies",
          "Office Supplies",
          "Furniture",
          "Furniture",
          "Office Supplies",
          "Technology",
          "Office Supplies",
          "Office Supplies",
          "Furniture",
          "Office Supplies",
          "Technology",
          "Office Supplies",
          "Office Supplies",
          "Technology",
          "Office Supplies",
          "Office Supplies",
          "Furniture",
          "Furniture",
          "Office Supplies",
          "Technology",
          "Office Supplies",
          "Office Supplies",
          "Office Supplies",
          "Furniture",
          "Furniture",
          "Office Supplies",
          "Office Supplies",
          "Furniture",
          "Office Supplies",
          "Furniture",
          "Office Supplies",
          "Office Supplies",
          "Office Supplies",
          "Office Supplies",
          "Office Supplies",
          "Office Supplies",
          "Furniture",
          "Technology",
          "Office Supplies",
          "Office Supplies",
          "Office Supplies",
          "Technology",
          "Office Supplies",
          "Office Supplies",
          "Furniture",
          "Office Supplies",
          "Office Supplies",
          "Furniture",
          "Office Supplies",
          "Office Supplies",
          "Office Supplies",
          "Technology",
          "Office Supplies",
          "Office Supplies",
          "Technology",
          "Furniture",
          "Office Supplies",
          "Technology",
          "Technology",
          "Office Supplies",
          "Technology",
          "Furniture",
          "Office Supplies",
          "Office Supplies",
          "Office Supplies",
          "Office Supplies",
          "Office Supplies",
          "Office Supplies",
          "Furniture",
          "Office Supplies",
          "Furniture",
          "Office Supplies",
          "Office Supplies",
          "Office Supplies",
          "Technology",
          "Furniture",
          "Furniture",
          "Office Supplies",
          "Office Supplies",
          "Furniture",
          "Furniture",
          "Technology",
          "Office Supplies",
          "Office Supplies",
          "Office Supplies",
          "Office Supplies",
          "Office Supplies",
          "Office Supplies",
          "Office Supplies",
          "Office Supplies",
          "Furniture",
          "Furniture",
          "Office Supplies",
          "Office Supplies",
          "Office Supplies",
          "Office Supplies",
          "Office Supplies",
          "Furniture",
          "Technology",
          "Technology",
          "Furniture",
          "Office Supplies",
          "Office Supplies",
          "Technology",
          "Office Supplies",
          "Office Supplies",
          "Office Supplies",
          "Office Supplies",
          "Furniture",
          "Office Supplies",
          "Technology",
          "Office Supplies",
          "Technology",
          "Office Supplies",
          "Office Supplies",
          "Office Supplies",
          "Technology",
          "Office Supplies",
          "Furniture",
          "Office Supplies",
          "Office Supplies",
          "Technology",
          "Office Supplies",
          "Office Supplies",
          "Furniture",
          "Office Supplies",
          "Office Supplies",
          "Office Supplies",
          "Furniture",
          "Office Supplies",
          "Office Supplies",
          "Office Supplies",
          "Technology",
          "Technology",
          "Technology",
          "Technology",
          "Office Supplies",
          "Technology",
          "Office Supplies",
          "Office Supplies",
          "Furniture",
          "Technology",
          "Office Supplies",
          "Furniture",
          "Office Supplies",
          "Office Supplies",
          "Office Supplies",
          "Office Supplies",
          "Office Supplies",
          "Office Supplies",
          "Office Supplies",
          "Office Supplies",
          "Furniture",
          "Office Supplies",
          "Office Supplies",
          "Furniture",
          "Technology",
          "Office Supplies",
          "Technology",
          "Office Supplies",
          "Office Supplies",
          "Office Supplies",
          "Technology",
          "Office Supplies",
          "Furniture",
          "Technology",
          "Technology",
          "Technology",
          "Office Supplies",
          "Technology",
          "Office Supplies",
          "Office Supplies",
          "Office Supplies",
          "Furniture",
          "Technology",
          "Office Supplies",
          "Office Supplies",
          "Furniture",
          "Office Supplies",
          "Furniture",
          "Furniture",
          "Office Supplies",
          "Furniture",
          "Furniture",
          "Office Supplies",
          "Furniture",
          "Technology",
          "Office Supplies",
          "Office Supplies",
          "Furniture",
          "Furniture",
          "Technology",
          "Furniture",
          "Furniture",
          "Office Supplies",
          "Furniture",
          "Office Supplies",
          "Office Supplies",
          "Office Supplies",
          "Office Supplies",
          "Furniture",
          "Office Supplies",
          "Technology",
          "Office Supplies",
          "Office Supplies",
          "Furniture",
          "Office Supplies",
          "Office Supplies",
          "Technology",
          "Technology",
          "Office Supplies",
          "Office Supplies",
          "Office Supplies",
          "Technology",
          "Technology",
          "Technology",
          "Technology",
          "Office Supplies",
          "Office Supplies",
          "Office Supplies",
          "Office Supplies",
          "Office Supplies",
          "Technology",
          "Furniture",
          "Office Supplies",
          "Office Supplies",
          "Office Supplies",
          "Office Supplies",
          "Office Supplies",
          "Office Supplies",
          "Office Supplies",
          "Office Supplies",
          "Technology",
          "Furniture",
          "Office Supplies",
          "Technology",
          "Office Supplies",
          "Office Supplies",
          "Office Supplies",
          "Office Supplies",
          "Office Supplies",
          "Office Supplies",
          "Technology",
          "Furniture",
          "Furniture",
          "Furniture",
          "Furniture",
          "Office Supplies",
          "Office Supplies",
          "Office Supplies",
          "Office Supplies",
          "Office Supplies",
          "Furniture",
          "Office Supplies",
          "Furniture",
          "Furniture",
          "Office Supplies",
          "Office Supplies",
          "Office Supplies",
          "Office Supplies",
          "Furniture",
          "Furniture",
          "Furniture",
          "Office Supplies",
          "Furniture",
          "Technology",
          "Office Supplies",
          "Office Supplies",
          "Furniture",
          "Technology",
          "Technology",
          "Technology",
          "Office Supplies",
          "Office Supplies",
          "Office Supplies",
          "Technology",
          "Furniture",
          "Technology",
          "Office Supplies",
          "Furniture",
          "Office Supplies",
          "Office Supplies",
          "Technology",
          "Office Supplies",
          "Office Supplies",
          "Office Supplies",
          "Technology",
          "Office Supplies",
          "Office Supplies",
          "Furniture",
          "Office Supplies",
          "Office Supplies",
          "Office Supplies",
          "Office Supplies",
          "Technology",
          "Office Supplies",
          "Technology",
          "Office Supplies",
          "Office Supplies",
          "Office Supplies",
          "Technology",
          "Office Supplies",
          "Office Supplies",
          "Office Supplies",
          "Office Supplies",
          "Furniture",
          "Office Supplies",
          "Office Supplies",
          "Office Supplies",
          "Office Supplies",
          "Office Supplies",
          "Office Supplies",
          "Office Supplies",
          "Furniture",
          "Office Supplies",
          "Furniture",
          "Office Supplies",
          "Office Supplies",
          "Office Supplies",
          "Office Supplies",
          "Furniture",
          "Office Supplies",
          "Office Supplies",
          "Office Supplies",
          "Technology",
          "Office Supplies",
          "Technology",
          "Office Supplies",
          "Furniture",
          "Office Supplies",
          "Office Supplies",
          "Office Supplies",
          "Office Supplies",
          "Office Supplies",
          "Technology",
          "Furniture",
          "Technology",
          "Technology",
          "Furniture",
          "Office Supplies",
          "Office Supplies",
          "Technology",
          "Technology",
          "Technology",
          "Office Supplies",
          "Office Supplies",
          "Office Supplies",
          "Office Supplies",
          "Office Supplies",
          "Office Supplies",
          "Furniture",
          "Office Supplies",
          "Technology",
          "Office Supplies",
          "Office Supplies",
          "Office Supplies",
          "Technology",
          "Technology",
          "Office Supplies",
          "Furniture",
          "Office Supplies",
          "Office Supplies",
          "Office Supplies",
          "Furniture",
          "Furniture",
          "Office Supplies",
          "Furniture",
          "Office Supplies",
          "Furniture",
          "Office Supplies",
          "Office Supplies",
          "Office Supplies",
          "Technology",
          "Furniture",
          "Office Supplies",
          "Furniture",
          "Furniture",
          "Office Supplies",
          "Technology",
          "Office Supplies",
          "Office Supplies",
          "Technology",
          "Technology",
          "Office Supplies",
          "Office Supplies",
          "Office Supplies",
          "Technology",
          "Technology",
          "Office Supplies",
          "Office Supplies",
          "Furniture",
          "Furniture",
          "Office Supplies",
          "Office Supplies",
          "Office Supplies",
          "Furniture",
          "Office Supplies",
          "Furniture",
          "Office Supplies",
          "Office Supplies",
          "Office Supplies",
          "Office Supplies",
          "Office Supplies",
          "Technology",
          "Furniture",
          "Office Supplies",
          "Technology",
          "Furniture",
          "Furniture",
          "Office Supplies",
          "Office Supplies",
          "Technology",
          "Office Supplies",
          "Furniture",
          "Furniture",
          "Office Supplies",
          "Office Supplies",
          "Office Supplies",
          "Furniture",
          "Furniture",
          "Office Supplies",
          "Office Supplies",
          "Office Supplies",
          "Furniture",
          "Technology",
          "Office Supplies",
          "Office Supplies",
          "Office Supplies",
          "Technology",
          "Furniture",
          "Office Supplies",
          "Office Supplies",
          "Technology",
          "Office Supplies",
          "Technology",
          "Office Supplies",
          "Furniture",
          "Technology",
          "Technology",
          "Technology",
          "Technology",
          "Office Supplies",
          "Office Supplies",
          "Office Supplies",
          "Technology",
          "Furniture",
          "Office Supplies",
          "Office Supplies",
          "Furniture",
          "Furniture",
          "Furniture",
          "Office Supplies",
          "Office Supplies",
          "Furniture",
          "Office Supplies",
          "Office Supplies",
          "Office Supplies",
          "Office Supplies",
          "Office Supplies",
          "Office Supplies",
          "Office Supplies",
          "Furniture",
          "Technology",
          "Office Supplies",
          "Office Supplies",
          "Office Supplies",
          "Technology",
          "Office Supplies",
          "Office Supplies",
          "Office Supplies",
          "Technology",
          "Office Supplies",
          "Office Supplies",
          "Furniture",
          "Technology",
          "Technology",
          "Office Supplies",
          "Furniture",
          "Furniture",
          "Office Supplies",
          "Office Supplies",
          "Office Supplies",
          "Furniture",
          "Furniture",
          "Technology",
          "Office Supplies",
          "Office Supplies",
          "Office Supplies",
          "Office Supplies",
          "Office Supplies",
          "Furniture",
          "Technology",
          "Technology",
          "Office Supplies",
          "Technology",
          "Technology",
          "Furniture",
          "Office Supplies",
          "Office Supplies",
          "Office Supplies",
          "Office Supplies",
          "Office Supplies",
          "Furniture",
          "Furniture",
          "Office Supplies",
          "Office Supplies",
          "Office Supplies",
          "Office Supplies",
          "Furniture",
          "Office Supplies",
          "Furniture",
          "Office Supplies",
          "Office Supplies",
          "Furniture",
          "Office Supplies",
          "Office Supplies",
          "Technology",
          "Office Supplies",
          "Office Supplies",
          "Office Supplies",
          "Furniture",
          "Office Supplies",
          "Office Supplies",
          "Office Supplies",
          "Technology",
          "Office Supplies",
          "Office Supplies",
          "Office Supplies",
          "Office Supplies",
          "Office Supplies",
          "Furniture",
          "Office Supplies",
          "Technology",
          "Technology",
          "Office Supplies",
          "Office Supplies",
          "Technology",
          "Furniture",
          "Office Supplies",
          "Technology",
          "Office Supplies",
          "Office Supplies",
          "Office Supplies",
          "Office Supplies",
          "Technology",
          "Office Supplies",
          "Technology",
          "Technology",
          "Furniture",
          "Office Supplies",
          "Technology",
          "Technology",
          "Office Supplies",
          "Office Supplies",
          "Furniture",
          "Office Supplies",
          "Office Supplies",
          "Office Supplies",
          "Office Supplies",
          "Office Supplies",
          "Technology",
          "Technology",
          "Office Supplies",
          "Office Supplies",
          "Technology",
          "Technology",
          "Office Supplies",
          "Furniture",
          "Furniture",
          "Office Supplies",
          "Technology",
          "Furniture",
          "Office Supplies",
          "Furniture",
          "Office Supplies",
          "Office Supplies",
          "Office Supplies",
          "Furniture",
          "Office Supplies",
          "Office Supplies",
          "Office Supplies",
          "Office Supplies",
          "Technology",
          "Technology",
          "Technology",
          "Office Supplies",
          "Furniture",
          "Office Supplies",
          "Office Supplies",
          "Furniture",
          "Office Supplies",
          "Furniture",
          "Office Supplies",
          "Office Supplies",
          "Technology",
          "Office Supplies",
          "Office Supplies",
          "Office Supplies",
          "Office Supplies",
          "Furniture",
          "Technology",
          "Technology",
          "Office Supplies",
          "Office Supplies",
          "Technology",
          "Office Supplies",
          "Office Supplies",
          "Office Supplies",
          "Furniture",
          "Office Supplies",
          "Office Supplies",
          "Office Supplies",
          "Furniture",
          "Office Supplies",
          "Office Supplies",
          "Office Supplies",
          "Office Supplies",
          "Office Supplies",
          "Technology",
          "Furniture",
          "Furniture",
          "Furniture",
          "Office Supplies",
          "Office Supplies",
          "Office Supplies",
          "Office Supplies",
          "Technology",
          "Office Supplies",
          "Technology",
          "Furniture",
          "Office Supplies",
          "Office Supplies",
          "Office Supplies",
          "Office Supplies",
          "Technology",
          "Office Supplies",
          "Technology",
          "Office Supplies",
          "Office Supplies",
          "Furniture",
          "Furniture",
          "Technology",
          "Office Supplies",
          "Technology",
          "Office Supplies",
          "Office Supplies",
          "Office Supplies",
          "Office Supplies",
          "Office Supplies",
          "Office Supplies",
          "Office Supplies",
          "Office Supplies",
          "Furniture",
          "Furniture",
          "Furniture",
          "Office Supplies",
          "Office Supplies",
          "Technology",
          "Technology",
          "Furniture",
          "Office Supplies",
          "Office Supplies",
          "Office Supplies",
          "Office Supplies",
          "Technology",
          "Technology",
          "Office Supplies",
          "Furniture",
          "Furniture",
          "Office Supplies",
          "Furniture",
          "Office Supplies",
          "Furniture",
          "Office Supplies",
          "Furniture",
          "Office Supplies",
          "Office Supplies",
          "Technology",
          "Office Supplies",
          "Furniture",
          "Office Supplies",
          "Furniture",
          "Office Supplies",
          "Office Supplies",
          "Technology",
          "Office Supplies",
          "Office Supplies",
          "Furniture",
          "Office Supplies",
          "Technology",
          "Office Supplies",
          "Office Supplies",
          "Office Supplies",
          "Office Supplies",
          "Office Supplies",
          "Office Supplies",
          "Office Supplies",
          "Furniture",
          "Office Supplies",
          "Technology",
          "Office Supplies",
          "Furniture",
          "Office Supplies",
          "Office Supplies",
          "Technology",
          "Furniture",
          "Furniture",
          "Office Supplies",
          "Technology",
          "Office Supplies",
          "Office Supplies",
          "Office Supplies",
          "Office Supplies",
          "Technology",
          "Office Supplies",
          "Office Supplies",
          "Technology",
          "Office Supplies",
          "Office Supplies",
          "Furniture",
          "Furniture",
          "Office Supplies",
          "Technology",
          "Office Supplies",
          "Office Supplies",
          "Office Supplies",
          "Furniture",
          "Office Supplies",
          "Furniture",
          "Office Supplies",
          "Office Supplies",
          "Office Supplies",
          "Office Supplies",
          "Technology",
          "Furniture",
          "Technology",
          "Office Supplies",
          "Office Supplies",
          "Furniture",
          "Office Supplies",
          "Office Supplies",
          "Office Supplies",
          "Furniture",
          "Technology",
          "Office Supplies",
          "Office Supplies",
          "Office Supplies",
          "Office Supplies",
          "Office Supplies",
          "Office Supplies",
          "Furniture",
          "Furniture",
          "Technology",
          "Office Supplies",
          "Office Supplies",
          "Furniture",
          "Office Supplies",
          "Technology",
          "Furniture",
          "Technology",
          "Office Supplies",
          "Furniture",
          "Office Supplies",
          "Technology",
          "Furniture",
          "Technology",
          "Office Supplies",
          "Office Supplies",
          "Office Supplies",
          "Office Supplies",
          "Furniture",
          "Office Supplies",
          "Office Supplies",
          "Technology",
          "Office Supplies",
          "Technology",
          "Technology",
          "Office Supplies",
          "Office Supplies",
          "Office Supplies",
          "Furniture",
          "Office Supplies",
          "Technology",
          "Technology",
          "Office Supplies",
          "Office Supplies",
          "Technology",
          "Office Supplies",
          "Office Supplies",
          "Technology",
          "Office Supplies",
          "Office Supplies",
          "Furniture",
          "Office Supplies",
          "Office Supplies",
          "Office Supplies",
          "Office Supplies",
          "Technology",
          "Furniture",
          "Furniture",
          "Technology",
          "Office Supplies",
          "Office Supplies",
          "Office Supplies",
          "Furniture",
          "Office Supplies",
          "Office Supplies",
          "Office Supplies",
          "Office Supplies",
          "Office Supplies",
          "Office Supplies",
          "Office Supplies",
          "Office Supplies",
          "Technology",
          "Office Supplies",
          "Technology",
          "Office Supplies",
          "Furniture",
          "Office Supplies",
          "Office Supplies",
          "Office Supplies",
          "Technology",
          "Office Supplies",
          "Office Supplies",
          "Office Supplies",
          "Office Supplies",
          "Furniture",
          "Technology",
          "Technology",
          "Office Supplies",
          "Office Supplies",
          "Furniture",
          "Office Supplies",
          "Office Supplies",
          "Furniture",
          "Furniture",
          "Office Supplies",
          "Office Supplies",
          "Office Supplies",
          "Office Supplies",
          "Technology",
          "Office Supplies",
          "Office Supplies",
          "Office Supplies",
          "Technology",
          "Office Supplies",
          "Office Supplies",
          "Office Supplies",
          "Office Supplies",
          "Office Supplies",
          "Office Supplies",
          "Office Supplies",
          "Office Supplies",
          "Technology",
          "Office Supplies",
          "Office Supplies",
          "Office Supplies",
          "Furniture",
          "Technology",
          "Office Supplies",
          "Technology",
          "Technology",
          "Office Supplies",
          "Furniture",
          "Furniture",
          "Technology",
          "Furniture",
          "Furniture",
          "Office Supplies",
          "Office Supplies",
          "Office Supplies",
          "Office Supplies",
          "Technology",
          "Technology",
          "Office Supplies",
          "Office Supplies",
          "Office Supplies",
          "Technology",
          "Office Supplies",
          "Office Supplies",
          "Office Supplies",
          "Office Supplies",
          "Office Supplies",
          "Office Supplies",
          "Office Supplies",
          "Office Supplies",
          "Office Supplies",
          "Office Supplies",
          "Technology",
          "Office Supplies",
          "Office Supplies",
          "Office Supplies",
          "Office Supplies",
          "Furniture",
          "Office Supplies",
          "Office Supplies",
          "Office Supplies",
          "Furniture",
          "Furniture",
          "Furniture",
          "Furniture",
          "Office Supplies",
          "Office Supplies",
          "Furniture",
          "Office Supplies",
          "Furniture",
          "Office Supplies",
          "Technology",
          "Office Supplies",
          "Office Supplies",
          "Furniture",
          "Furniture",
          "Office Supplies",
          "Office Supplies",
          "Office Supplies",
          "Office Supplies",
          "Office Supplies",
          "Office Supplies",
          "Office Supplies",
          "Office Supplies",
          "Office Supplies",
          "Furniture",
          "Technology",
          "Office Supplies",
          "Office Supplies",
          "Technology",
          "Office Supplies",
          "Office Supplies",
          "Technology",
          "Office Supplies",
          "Office Supplies",
          "Furniture",
          "Office Supplies",
          "Technology",
          "Furniture",
          "Office Supplies",
          "Office Supplies",
          "Technology",
          "Office Supplies",
          "Furniture",
          "Office Supplies",
          "Furniture",
          "Office Supplies",
          "Office Supplies",
          "Office Supplies",
          "Office Supplies",
          "Technology",
          "Office Supplies",
          "Office Supplies",
          "Furniture",
          "Furniture",
          "Office Supplies",
          "Technology",
          "Furniture",
          "Office Supplies",
          "Office Supplies",
          "Office Supplies",
          "Office Supplies",
          "Office Supplies",
          "Office Supplies",
          "Technology",
          "Furniture",
          "Furniture",
          "Office Supplies",
          "Furniture",
          "Technology",
          "Office Supplies",
          "Furniture",
          "Furniture",
          "Technology",
          "Office Supplies",
          "Office Supplies",
          "Furniture",
          "Technology",
          "Office Supplies",
          "Office Supplies",
          "Office Supplies",
          "Office Supplies",
          "Technology",
          "Office Supplies",
          "Technology",
          "Furniture",
          "Furniture",
          "Office Supplies",
          "Office Supplies",
          "Office Supplies",
          "Office Supplies",
          "Furniture",
          "Office Supplies",
          "Office Supplies",
          "Office Supplies",
          "Furniture",
          "Technology",
          "Furniture",
          "Office Supplies",
          "Office Supplies",
          "Furniture",
          "Technology",
          "Furniture",
          "Technology",
          "Technology",
          "Furniture",
          "Office Supplies",
          "Furniture",
          "Office Supplies",
          "Furniture",
          "Office Supplies",
          "Office Supplies",
          "Office Supplies",
          "Office Supplies",
          "Office Supplies",
          "Furniture",
          "Office Supplies",
          "Office Supplies",
          "Office Supplies",
          "Technology",
          "Office Supplies",
          "Office Supplies",
          "Furniture",
          "Office Supplies",
          "Office Supplies",
          "Office Supplies",
          "Office Supplies",
          "Office Supplies",
          "Office Supplies",
          "Office Supplies",
          "Technology",
          "Office Supplies",
          "Office Supplies",
          "Office Supplies",
          "Office Supplies",
          "Office Supplies",
          "Furniture",
          "Furniture",
          "Office Supplies",
          "Office Supplies",
          "Technology",
          "Office Supplies",
          "Technology",
          "Office Supplies",
          "Furniture",
          "Technology",
          "Office Supplies",
          "Technology",
          "Office Supplies",
          "Office Supplies",
          "Office Supplies",
          "Office Supplies",
          "Furniture",
          "Office Supplies",
          "Furniture",
          "Technology",
          "Office Supplies",
          "Office Supplies",
          "Office Supplies",
          "Office Supplies",
          "Office Supplies",
          "Furniture",
          "Office Supplies",
          "Office Supplies",
          "Office Supplies",
          "Technology",
          "Office Supplies",
          "Office Supplies",
          "Office Supplies",
          "Furniture",
          "Technology",
          "Office Supplies",
          "Office Supplies",
          "Technology",
          "Office Supplies",
          "Office Supplies",
          "Technology",
          "Office Supplies",
          "Furniture",
          "Office Supplies",
          "Office Supplies",
          "Furniture",
          "Office Supplies",
          "Office Supplies",
          "Furniture",
          "Office Supplies",
          "Office Supplies",
          "Office Supplies",
          "Office Supplies",
          "Office Supplies",
          "Office Supplies",
          "Office Supplies",
          "Office Supplies",
          "Office Supplies",
          "Office Supplies",
          "Office Supplies",
          "Furniture",
          "Office Supplies",
          "Office Supplies",
          "Technology",
          "Office Supplies",
          "Office Supplies",
          "Office Supplies",
          "Office Supplies",
          "Technology",
          "Technology",
          "Furniture",
          "Office Supplies",
          "Office Supplies",
          "Office Supplies",
          "Furniture",
          "Office Supplies",
          "Furniture",
          "Furniture",
          "Office Supplies",
          "Office Supplies",
          "Office Supplies",
          "Technology",
          "Office Supplies",
          "Office Supplies",
          "Office Supplies",
          "Technology",
          "Furniture",
          "Office Supplies",
          "Office Supplies",
          "Office Supplies",
          "Office Supplies",
          "Office Supplies",
          "Office Supplies",
          "Office Supplies",
          "Office Supplies",
          "Office Supplies",
          "Furniture",
          "Technology",
          "Technology",
          "Technology",
          "Office Supplies",
          "Office Supplies",
          "Technology",
          "Office Supplies",
          "Office Supplies",
          "Office Supplies",
          "Office Supplies",
          "Office Supplies",
          "Technology",
          "Furniture",
          "Office Supplies",
          "Office Supplies",
          "Office Supplies",
          "Furniture",
          "Office Supplies",
          "Furniture",
          "Technology",
          "Furniture",
          "Office Supplies",
          "Furniture",
          "Office Supplies",
          "Furniture",
          "Office Supplies",
          "Office Supplies",
          "Technology",
          "Office Supplies",
          "Office Supplies",
          "Office Supplies",
          "Office Supplies",
          "Office Supplies",
          "Furniture",
          "Furniture",
          "Office Supplies",
          "Office Supplies",
          "Office Supplies",
          "Technology",
          "Furniture",
          "Technology",
          "Technology",
          "Office Supplies",
          "Technology",
          "Furniture",
          "Technology",
          "Office Supplies",
          "Office Supplies",
          "Office Supplies",
          "Office Supplies",
          "Office Supplies",
          "Furniture",
          "Office Supplies",
          "Office Supplies",
          "Office Supplies",
          "Technology",
          "Furniture",
          "Office Supplies",
          "Furniture",
          "Furniture",
          "Furniture",
          "Office Supplies",
          "Office Supplies",
          "Technology",
          "Office Supplies",
          "Office Supplies",
          "Office Supplies",
          "Furniture",
          "Furniture",
          "Furniture",
          "Office Supplies",
          "Furniture",
          "Office Supplies",
          "Office Supplies",
          "Technology",
          "Office Supplies",
          "Technology",
          "Furniture",
          "Furniture",
          "Office Supplies",
          "Office Supplies",
          "Technology",
          "Technology",
          "Office Supplies",
          "Office Supplies",
          "Technology",
          "Furniture",
          "Office Supplies",
          "Office Supplies",
          "Furniture",
          "Furniture",
          "Office Supplies",
          "Office Supplies",
          "Office Supplies",
          "Office Supplies",
          "Office Supplies",
          "Furniture",
          "Office Supplies",
          "Technology",
          "Office Supplies",
          "Technology",
          "Technology",
          "Technology",
          "Office Supplies",
          "Office Supplies",
          "Office Supplies",
          "Office Supplies",
          "Office Supplies",
          "Office Supplies",
          "Furniture",
          "Office Supplies",
          "Office Supplies",
          "Office Supplies",
          "Office Supplies",
          "Office Supplies",
          "Office Supplies",
          "Office Supplies",
          "Office Supplies",
          "Office Supplies",
          "Office Supplies",
          "Technology",
          "Office Supplies",
          "Furniture",
          "Furniture",
          "Furniture",
          "Furniture",
          "Technology",
          "Technology",
          "Office Supplies",
          "Office Supplies",
          "Office Supplies",
          "Office Supplies",
          "Furniture",
          "Office Supplies",
          "Office Supplies",
          "Furniture",
          "Office Supplies",
          "Furniture",
          "Office Supplies",
          "Technology",
          "Technology",
          "Office Supplies",
          "Office Supplies",
          "Office Supplies",
          "Office Supplies",
          "Office Supplies",
          "Office Supplies",
          "Office Supplies",
          "Furniture",
          "Office Supplies",
          "Office Supplies",
          "Furniture",
          "Technology",
          "Office Supplies",
          "Office Supplies",
          "Office Supplies",
          "Office Supplies",
          "Office Supplies",
          "Furniture",
          "Furniture",
          "Technology",
          "Office Supplies",
          "Technology",
          "Office Supplies",
          "Office Supplies",
          "Office Supplies",
          "Office Supplies",
          "Office Supplies",
          "Office Supplies",
          "Office Supplies",
          "Office Supplies",
          "Office Supplies",
          "Furniture",
          "Office Supplies",
          "Technology",
          "Office Supplies",
          "Furniture",
          "Office Supplies",
          "Office Supplies",
          "Office Supplies",
          "Furniture",
          "Furniture",
          "Office Supplies",
          "Office Supplies",
          "Technology",
          "Office Supplies",
          "Technology",
          "Technology",
          "Technology",
          "Furniture",
          "Furniture",
          "Furniture",
          "Office Supplies",
          "Technology",
          "Office Supplies",
          "Office Supplies",
          "Furniture",
          "Office Supplies",
          "Office Supplies",
          "Office Supplies",
          "Technology",
          "Office Supplies",
          "Office Supplies",
          "Furniture",
          "Office Supplies",
          "Office Supplies",
          "Office Supplies",
          "Furniture",
          "Furniture",
          "Office Supplies",
          "Technology",
          "Technology",
          "Office Supplies",
          "Office Supplies",
          "Office Supplies",
          "Office Supplies",
          "Furniture",
          "Furniture",
          "Office Supplies",
          "Office Supplies",
          "Technology",
          "Office Supplies",
          "Technology",
          "Office Supplies",
          "Furniture",
          "Office Supplies",
          "Office Supplies",
          "Furniture",
          "Technology",
          "Office Supplies",
          "Furniture",
          "Furniture",
          "Office Supplies",
          "Furniture",
          "Furniture",
          "Office Supplies",
          "Technology",
          "Furniture",
          "Technology",
          "Technology",
          "Furniture",
          "Office Supplies",
          "Office Supplies",
          "Office Supplies",
          "Office Supplies",
          "Office Supplies",
          "Technology",
          "Office Supplies",
          "Office Supplies",
          "Office Supplies",
          "Office Supplies",
          "Office Supplies",
          "Technology",
          "Office Supplies",
          "Office Supplies",
          "Furniture",
          "Office Supplies",
          "Office Supplies",
          "Office Supplies",
          "Technology",
          "Furniture",
          "Office Supplies",
          "Office Supplies",
          "Office Supplies",
          "Office Supplies",
          "Office Supplies",
          "Technology",
          "Office Supplies",
          "Furniture",
          "Technology",
          "Office Supplies",
          "Technology",
          "Office Supplies",
          "Office Supplies",
          "Office Supplies",
          "Office Supplies",
          "Technology",
          "Office Supplies",
          "Furniture",
          "Office Supplies",
          "Office Supplies",
          "Furniture",
          "Office Supplies",
          "Furniture",
          "Technology",
          "Furniture",
          "Office Supplies",
          "Furniture",
          "Technology",
          "Technology",
          "Furniture",
          "Office Supplies",
          "Office Supplies",
          "Office Supplies",
          "Office Supplies",
          "Furniture",
          "Office Supplies",
          "Office Supplies",
          "Office Supplies",
          "Office Supplies",
          "Technology",
          "Office Supplies",
          "Office Supplies",
          "Office Supplies",
          "Office Supplies",
          "Office Supplies",
          "Technology",
          "Office Supplies",
          "Technology",
          "Technology",
          "Furniture",
          "Office Supplies",
          "Office Supplies",
          "Office Supplies",
          "Furniture",
          "Furniture",
          "Office Supplies",
          "Office Supplies",
          "Office Supplies",
          "Office Supplies",
          "Office Supplies",
          "Office Supplies",
          "Office Supplies",
          "Office Supplies",
          "Technology",
          "Furniture",
          "Office Supplies",
          "Furniture",
          "Office Supplies",
          "Technology",
          "Office Supplies",
          "Furniture",
          "Office Supplies",
          "Office Supplies",
          "Office Supplies",
          "Office Supplies",
          "Office Supplies",
          "Furniture",
          "Furniture",
          "Office Supplies",
          "Office Supplies",
          "Office Supplies",
          "Office Supplies",
          "Furniture",
          "Office Supplies",
          "Office Supplies",
          "Office Supplies",
          "Office Supplies",
          "Office Supplies",
          "Furniture",
          "Office Supplies",
          "Office Supplies",
          "Office Supplies",
          "Office Supplies",
          "Office Supplies",
          "Office Supplies",
          "Furniture",
          "Office Supplies",
          "Office Supplies",
          "Technology",
          "Office Supplies",
          "Furniture",
          "Office Supplies",
          "Furniture",
          "Office Supplies",
          "Office Supplies",
          "Office Supplies",
          "Furniture",
          "Office Supplies",
          "Office Supplies",
          "Office Supplies",
          "Technology",
          "Office Supplies",
          "Office Supplies",
          "Office Supplies",
          "Office Supplies",
          "Office Supplies",
          "Technology",
          "Office Supplies",
          "Office Supplies",
          "Furniture",
          "Office Supplies",
          "Office Supplies",
          "Office Supplies",
          "Furniture",
          "Office Supplies",
          "Office Supplies",
          "Technology",
          "Technology",
          "Office Supplies",
          "Office Supplies",
          "Office Supplies",
          "Furniture",
          "Office Supplies",
          "Technology",
          "Furniture",
          "Technology",
          "Furniture",
          "Office Supplies",
          "Office Supplies",
          "Office Supplies",
          "Technology",
          "Furniture",
          "Office Supplies",
          "Office Supplies",
          "Furniture",
          "Furniture",
          "Technology",
          "Office Supplies",
          "Office Supplies",
          "Technology",
          "Office Supplies",
          "Office Supplies",
          "Office Supplies",
          "Technology",
          "Office Supplies",
          "Furniture",
          "Furniture",
          "Furniture",
          "Office Supplies",
          "Office Supplies",
          "Office Supplies",
          "Furniture",
          "Furniture",
          "Office Supplies",
          "Office Supplies",
          "Technology",
          "Office Supplies",
          "Office Supplies",
          "Office Supplies",
          "Office Supplies",
          "Office Supplies",
          "Furniture",
          "Technology",
          "Technology",
          "Office Supplies",
          "Technology",
          "Office Supplies",
          "Office Supplies",
          "Office Supplies",
          "Office Supplies",
          "Office Supplies",
          "Furniture",
          "Office Supplies",
          "Office Supplies",
          "Technology",
          "Technology",
          "Technology",
          "Office Supplies",
          "Furniture",
          "Furniture",
          "Office Supplies",
          "Office Supplies",
          "Office Supplies",
          "Office Supplies",
          "Office Supplies",
          "Technology",
          "Office Supplies",
          "Office Supplies",
          "Technology",
          "Office Supplies",
          "Office Supplies",
          "Office Supplies",
          "Furniture",
          "Office Supplies",
          "Office Supplies",
          "Technology",
          "Office Supplies",
          "Technology",
          "Office Supplies",
          "Office Supplies",
          "Technology",
          "Office Supplies",
          "Office Supplies",
          "Office Supplies",
          "Technology",
          "Office Supplies",
          "Office Supplies",
          "Office Supplies",
          "Furniture",
          "Technology",
          "Office Supplies",
          "Office Supplies",
          "Technology",
          "Office Supplies",
          "Office Supplies",
          "Technology",
          "Office Supplies",
          "Technology",
          "Office Supplies",
          "Office Supplies",
          "Furniture",
          "Technology",
          "Technology",
          "Technology",
          "Office Supplies",
          "Furniture",
          "Office Supplies",
          "Office Supplies",
          "Office Supplies",
          "Office Supplies",
          "Technology",
          "Furniture",
          "Technology",
          "Office Supplies",
          "Furniture",
          "Office Supplies",
          "Office Supplies",
          "Office Supplies",
          "Office Supplies",
          "Furniture",
          "Furniture",
          "Office Supplies",
          "Office Supplies",
          "Furniture",
          "Technology",
          "Technology",
          "Office Supplies",
          "Technology",
          "Office Supplies",
          "Office Supplies",
          "Furniture",
          "Office Supplies",
          "Furniture",
          "Office Supplies",
          "Office Supplies",
          "Office Supplies",
          "Office Supplies",
          "Office Supplies",
          "Technology",
          "Office Supplies",
          "Furniture",
          "Office Supplies",
          "Office Supplies",
          "Office Supplies",
          "Furniture",
          "Furniture",
          "Office Supplies",
          "Office Supplies",
          "Office Supplies",
          "Furniture",
          "Furniture",
          "Office Supplies",
          "Technology",
          "Technology",
          "Furniture",
          "Office Supplies",
          "Office Supplies",
          "Office Supplies",
          "Furniture",
          "Technology",
          "Office Supplies",
          "Office Supplies",
          "Office Supplies",
          "Office Supplies",
          "Office Supplies",
          "Office Supplies",
          "Technology",
          "Office Supplies",
          "Office Supplies",
          "Technology",
          "Technology",
          "Office Supplies",
          "Office Supplies",
          "Furniture",
          "Office Supplies",
          "Technology",
          "Office Supplies",
          "Office Supplies",
          "Office Supplies",
          "Office Supplies",
          "Office Supplies",
          "Furniture",
          "Furniture",
          "Office Supplies",
          "Office Supplies",
          "Office Supplies",
          "Office Supplies",
          "Technology",
          "Office Supplies",
          "Technology",
          "Office Supplies",
          "Furniture",
          "Office Supplies",
          "Furniture",
          "Office Supplies",
          "Office Supplies",
          "Furniture",
          "Office Supplies",
          "Office Supplies",
          "Office Supplies",
          "Office Supplies",
          "Office Supplies",
          "Office Supplies",
          "Technology",
          "Office Supplies",
          "Office Supplies",
          "Office Supplies",
          "Office Supplies",
          "Office Supplies",
          "Office Supplies",
          "Technology",
          "Office Supplies",
          "Office Supplies",
          "Office Supplies",
          "Office Supplies",
          "Technology",
          "Office Supplies",
          "Technology",
          "Technology",
          "Technology",
          "Technology",
          "Office Supplies",
          "Furniture",
          "Office Supplies",
          "Office Supplies",
          "Office Supplies",
          "Office Supplies",
          "Technology",
          "Office Supplies",
          "Furniture",
          "Office Supplies",
          "Office Supplies",
          "Furniture",
          "Office Supplies",
          "Office Supplies",
          "Technology",
          "Technology",
          "Office Supplies",
          "Technology",
          "Technology",
          "Furniture",
          "Office Supplies",
          "Furniture",
          "Furniture",
          "Furniture",
          "Furniture",
          "Office Supplies",
          "Office Supplies",
          "Office Supplies",
          "Office Supplies",
          "Furniture",
          "Office Supplies",
          "Office Supplies",
          "Furniture",
          "Office Supplies",
          "Office Supplies",
          "Furniture",
          "Furniture",
          "Technology",
          "Office Supplies",
          "Technology",
          "Technology",
          "Furniture",
          "Furniture",
          "Technology",
          "Office Supplies",
          "Office Supplies",
          "Office Supplies",
          "Office Supplies",
          "Furniture",
          "Office Supplies",
          "Office Supplies",
          "Furniture",
          "Office Supplies",
          "Furniture",
          "Technology",
          "Office Supplies",
          "Furniture",
          "Furniture",
          "Office Supplies",
          "Office Supplies",
          "Technology",
          "Office Supplies",
          "Office Supplies",
          "Office Supplies",
          "Office Supplies",
          "Office Supplies",
          "Office Supplies",
          "Office Supplies",
          "Office Supplies",
          "Technology",
          "Furniture",
          "Technology",
          "Office Supplies",
          "Furniture",
          "Furniture",
          "Technology",
          "Furniture",
          "Office Supplies",
          "Office Supplies",
          "Office Supplies",
          "Office Supplies",
          "Furniture",
          "Furniture",
          "Furniture",
          "Office Supplies",
          "Furniture",
          "Technology",
          "Furniture",
          "Technology",
          "Office Supplies",
          "Office Supplies",
          "Furniture",
          "Office Supplies",
          "Office Supplies",
          "Office Supplies",
          "Furniture",
          "Office Supplies",
          "Office Supplies",
          "Office Supplies",
          "Furniture",
          "Office Supplies",
          "Office Supplies",
          "Office Supplies",
          "Office Supplies",
          "Office Supplies",
          "Office Supplies",
          "Office Supplies",
          "Office Supplies",
          "Office Supplies",
          "Furniture",
          "Office Supplies",
          "Technology",
          "Office Supplies",
          "Furniture",
          "Technology",
          "Office Supplies",
          "Office Supplies",
          "Office Supplies",
          "Furniture",
          "Furniture",
          "Technology",
          "Office Supplies",
          "Technology",
          "Technology",
          "Office Supplies",
          "Office Supplies",
          "Office Supplies",
          "Office Supplies",
          "Technology",
          "Office Supplies",
          "Furniture",
          "Office Supplies",
          "Technology",
          "Office Supplies",
          "Office Supplies",
          "Technology",
          "Technology",
          "Office Supplies",
          "Office Supplies",
          "Office Supplies",
          "Technology",
          "Technology",
          "Furniture",
          "Furniture",
          "Office Supplies",
          "Technology",
          "Furniture",
          "Office Supplies",
          "Office Supplies",
          "Office Supplies",
          "Furniture",
          "Office Supplies",
          "Office Supplies",
          "Office Supplies",
          "Technology",
          "Office Supplies",
          "Office Supplies",
          "Furniture",
          "Furniture",
          "Office Supplies",
          "Office Supplies",
          "Technology",
          "Office Supplies",
          "Furniture",
          "Office Supplies",
          "Technology",
          "Technology",
          "Office Supplies",
          "Office Supplies",
          "Office Supplies",
          "Technology",
          "Technology",
          "Office Supplies",
          "Office Supplies",
          "Office Supplies",
          "Office Supplies",
          "Technology",
          "Office Supplies",
          "Office Supplies",
          "Technology",
          "Office Supplies",
          "Technology",
          "Office Supplies",
          "Office Supplies",
          "Technology",
          "Office Supplies",
          "Technology",
          "Furniture",
          "Office Supplies",
          "Furniture",
          "Office Supplies",
          "Office Supplies",
          "Technology",
          "Office Supplies",
          "Furniture",
          "Office Supplies",
          "Technology",
          "Office Supplies",
          "Furniture",
          "Office Supplies",
          "Office Supplies",
          "Office Supplies",
          "Office Supplies",
          "Office Supplies",
          "Office Supplies",
          "Office Supplies",
          "Furniture",
          "Office Supplies",
          "Technology",
          "Technology",
          "Technology",
          "Office Supplies",
          "Office Supplies",
          "Furniture",
          "Office Supplies",
          "Office Supplies",
          "Technology",
          "Furniture",
          "Office Supplies",
          "Office Supplies",
          "Office Supplies",
          "Technology",
          "Office Supplies",
          "Furniture",
          "Office Supplies",
          "Office Supplies",
          "Office Supplies",
          "Office Supplies",
          "Office Supplies",
          "Office Supplies",
          "Office Supplies",
          "Office Supplies",
          "Office Supplies",
          "Furniture",
          "Office Supplies",
          "Furniture",
          "Office Supplies",
          "Office Supplies",
          "Office Supplies",
          "Office Supplies",
          "Office Supplies",
          "Office Supplies",
          "Office Supplies",
          "Office Supplies",
          "Office Supplies",
          "Furniture",
          "Office Supplies",
          "Office Supplies",
          "Office Supplies",
          "Office Supplies",
          "Office Supplies",
          "Furniture",
          "Office Supplies",
          "Office Supplies",
          "Office Supplies",
          "Office Supplies",
          "Technology",
          "Office Supplies",
          "Furniture",
          "Office Supplies",
          "Office Supplies",
          "Furniture",
          "Office Supplies",
          "Furniture",
          "Furniture",
          "Technology",
          "Furniture",
          "Technology",
          "Furniture",
          "Office Supplies",
          "Office Supplies",
          "Office Supplies",
          "Office Supplies",
          "Office Supplies",
          "Office Supplies",
          "Furniture",
          "Technology",
          "Office Supplies",
          "Technology",
          "Furniture",
          "Office Supplies",
          "Furniture",
          "Office Supplies",
          "Technology",
          "Technology",
          "Furniture",
          "Office Supplies",
          "Office Supplies",
          "Office Supplies",
          "Office Supplies",
          "Technology",
          "Furniture",
          "Office Supplies",
          "Office Supplies",
          "Office Supplies",
          "Office Supplies",
          "Office Supplies",
          "Office Supplies",
          "Office Supplies",
          "Office Supplies",
          "Office Supplies",
          "Furniture",
          "Furniture",
          "Office Supplies",
          "Office Supplies",
          "Office Supplies",
          "Office Supplies",
          "Office Supplies",
          "Office Supplies",
          "Technology",
          "Office Supplies",
          "Office Supplies",
          "Furniture",
          "Office Supplies",
          "Technology",
          "Office Supplies",
          "Office Supplies",
          "Office Supplies",
          "Office Supplies",
          "Office Supplies",
          "Office Supplies",
          "Furniture",
          "Office Supplies",
          "Technology",
          "Office Supplies",
          "Furniture",
          "Furniture",
          "Office Supplies",
          "Office Supplies",
          "Office Supplies",
          "Office Supplies",
          "Furniture",
          "Furniture",
          "Office Supplies",
          "Office Supplies",
          "Technology",
          "Technology",
          "Furniture",
          "Office Supplies",
          "Office Supplies",
          "Office Supplies",
          "Furniture",
          "Office Supplies",
          "Office Supplies",
          "Office Supplies",
          "Technology",
          "Furniture",
          "Office Supplies",
          "Office Supplies",
          "Office Supplies",
          "Office Supplies",
          "Furniture",
          "Office Supplies",
          "Technology",
          "Office Supplies",
          "Furniture",
          "Office Supplies",
          "Office Supplies",
          "Furniture",
          "Technology",
          "Furniture",
          "Technology",
          "Office Supplies",
          "Office Supplies",
          "Furniture",
          "Office Supplies",
          "Office Supplies",
          "Office Supplies",
          "Office Supplies",
          "Office Supplies",
          "Furniture",
          "Office Supplies",
          "Office Supplies",
          "Technology",
          "Office Supplies",
          "Furniture",
          "Office Supplies",
          "Office Supplies",
          "Office Supplies",
          "Technology",
          "Technology",
          "Furniture",
          "Office Supplies",
          "Office Supplies",
          "Office Supplies",
          "Office Supplies",
          "Office Supplies",
          "Office Supplies",
          "Office Supplies",
          "Office Supplies",
          "Office Supplies",
          "Furniture",
          "Technology",
          "Technology",
          "Furniture",
          "Office Supplies",
          "Technology",
          "Office Supplies",
          "Furniture",
          "Technology",
          "Office Supplies",
          "Office Supplies",
          "Office Supplies",
          "Office Supplies",
          "Office Supplies",
          "Technology",
          "Office Supplies",
          "Office Supplies",
          "Office Supplies",
          "Office Supplies",
          "Furniture",
          "Technology",
          "Office Supplies",
          "Furniture",
          "Furniture",
          "Office Supplies",
          "Office Supplies",
          "Technology",
          "Office Supplies",
          "Technology",
          "Office Supplies",
          "Office Supplies",
          "Furniture",
          "Office Supplies",
          "Office Supplies",
          "Office Supplies",
          "Furniture",
          "Office Supplies",
          "Office Supplies",
          "Office Supplies",
          "Technology",
          "Technology",
          "Office Supplies",
          "Furniture",
          "Office Supplies",
          "Furniture",
          "Office Supplies",
          "Technology",
          "Furniture",
          "Office Supplies",
          "Office Supplies",
          "Furniture",
          "Office Supplies",
          "Technology",
          "Technology",
          "Office Supplies",
          "Office Supplies",
          "Office Supplies",
          "Furniture",
          "Office Supplies",
          "Office Supplies",
          "Technology",
          "Office Supplies",
          "Office Supplies",
          "Office Supplies",
          "Office Supplies",
          "Technology",
          "Office Supplies",
          "Office Supplies",
          "Office Supplies",
          "Office Supplies",
          "Office Supplies",
          "Office Supplies",
          "Office Supplies",
          "Office Supplies",
          "Technology",
          "Furniture",
          "Furniture",
          "Office Supplies",
          "Office Supplies",
          "Technology",
          "Technology",
          "Furniture",
          "Technology",
          "Office Supplies",
          "Office Supplies",
          "Office Supplies",
          "Office Supplies",
          "Office Supplies",
          "Office Supplies",
          "Office Supplies",
          "Office Supplies",
          "Furniture",
          "Technology",
          "Furniture",
          "Furniture",
          "Office Supplies",
          "Furniture",
          "Technology",
          "Furniture",
          "Furniture",
          "Furniture",
          "Office Supplies",
          "Technology",
          "Office Supplies",
          "Office Supplies",
          "Office Supplies",
          "Office Supplies",
          "Office Supplies",
          "Furniture",
          "Technology",
          "Furniture",
          "Office Supplies",
          "Technology",
          "Furniture",
          "Office Supplies",
          "Furniture",
          "Technology",
          "Technology",
          "Technology",
          "Office Supplies",
          "Office Supplies",
          "Technology",
          "Furniture",
          "Office Supplies",
          "Furniture",
          "Office Supplies",
          "Technology",
          "Furniture",
          "Office Supplies",
          "Office Supplies",
          "Office Supplies",
          "Office Supplies",
          "Office Supplies",
          "Office Supplies",
          "Office Supplies",
          "Furniture",
          "Office Supplies",
          "Technology",
          "Office Supplies",
          "Technology",
          "Office Supplies",
          "Office Supplies",
          "Office Supplies",
          "Office Supplies",
          "Office Supplies",
          "Furniture",
          "Office Supplies",
          "Office Supplies",
          "Furniture",
          "Office Supplies",
          "Office Supplies",
          "Office Supplies",
          "Office Supplies",
          "Office Supplies",
          "Office Supplies",
          "Office Supplies",
          "Office Supplies",
          "Office Supplies",
          "Office Supplies",
          "Office Supplies",
          "Furniture",
          "Technology",
          "Office Supplies",
          "Office Supplies",
          "Office Supplies",
          "Office Supplies",
          "Furniture",
          "Office Supplies",
          "Office Supplies",
          "Office Supplies",
          "Office Supplies",
          "Office Supplies",
          "Furniture",
          "Office Supplies",
          "Technology",
          "Technology",
          "Furniture",
          "Furniture",
          "Furniture",
          "Office Supplies",
          "Office Supplies",
          "Office Supplies",
          "Furniture",
          "Office Supplies",
          "Office Supplies",
          "Furniture",
          "Office Supplies",
          "Furniture",
          "Office Supplies",
          "Technology",
          "Furniture",
          "Office Supplies",
          "Office Supplies",
          "Furniture",
          "Office Supplies",
          "Office Supplies",
          "Office Supplies",
          "Office Supplies",
          "Office Supplies",
          "Office Supplies",
          "Furniture",
          "Office Supplies",
          "Office Supplies",
          "Office Supplies",
          "Technology",
          "Technology",
          "Office Supplies",
          "Office Supplies",
          "Office Supplies",
          "Office Supplies",
          "Technology",
          "Furniture",
          "Office Supplies",
          "Technology",
          "Technology",
          "Office Supplies",
          "Office Supplies",
          "Office Supplies",
          "Office Supplies",
          "Office Supplies",
          "Office Supplies",
          "Office Supplies",
          "Furniture",
          "Technology",
          "Technology",
          "Technology",
          "Office Supplies",
          "Technology",
          "Furniture",
          "Office Supplies",
          "Office Supplies",
          "Office Supplies",
          "Furniture",
          "Furniture",
          "Furniture",
          "Technology",
          "Office Supplies",
          "Technology",
          "Office Supplies",
          "Technology",
          "Office Supplies",
          "Office Supplies",
          "Technology",
          "Office Supplies",
          "Furniture",
          "Office Supplies",
          "Office Supplies",
          "Office Supplies",
          "Furniture",
          "Office Supplies",
          "Furniture",
          "Furniture",
          "Technology",
          "Office Supplies",
          "Office Supplies",
          "Furniture",
          "Furniture",
          "Office Supplies",
          "Furniture",
          "Technology",
          "Furniture",
          "Office Supplies",
          "Technology",
          "Office Supplies",
          "Technology",
          "Office Supplies",
          "Furniture",
          "Office Supplies",
          "Office Supplies",
          "Office Supplies",
          "Technology",
          "Office Supplies",
          "Technology",
          "Technology",
          "Office Supplies",
          "Office Supplies",
          "Office Supplies",
          "Office Supplies",
          "Office Supplies",
          "Office Supplies",
          "Office Supplies",
          "Office Supplies",
          "Office Supplies",
          "Technology",
          "Office Supplies",
          "Office Supplies",
          "Office Supplies",
          "Office Supplies",
          "Office Supplies",
          "Furniture",
          "Furniture",
          "Office Supplies",
          "Furniture",
          "Technology",
          "Office Supplies",
          "Office Supplies",
          "Furniture",
          "Office Supplies",
          "Office Supplies",
          "Office Supplies",
          "Office Supplies",
          "Technology",
          "Furniture",
          "Office Supplies",
          "Office Supplies",
          "Office Supplies",
          "Office Supplies",
          "Office Supplies",
          "Technology",
          "Office Supplies",
          "Office Supplies",
          "Technology",
          "Furniture",
          "Technology",
          "Furniture",
          "Office Supplies",
          "Office Supplies",
          "Office Supplies",
          "Office Supplies",
          "Office Supplies",
          "Office Supplies",
          "Office Supplies",
          "Office Supplies",
          "Office Supplies",
          "Office Supplies",
          "Furniture",
          "Office Supplies",
          "Technology",
          "Technology",
          "Office Supplies",
          "Technology",
          "Office Supplies",
          "Technology",
          "Furniture",
          "Office Supplies",
          "Office Supplies",
          "Furniture",
          "Office Supplies",
          "Office Supplies",
          "Office Supplies",
          "Office Supplies",
          "Technology",
          "Office Supplies",
          "Office Supplies",
          "Technology",
          "Office Supplies",
          "Office Supplies",
          "Office Supplies",
          "Office Supplies",
          "Office Supplies",
          "Office Supplies",
          "Office Supplies",
          "Technology",
          "Office Supplies",
          "Technology",
          "Furniture",
          "Technology",
          "Technology",
          "Furniture",
          "Furniture",
          "Furniture",
          "Office Supplies",
          "Furniture",
          "Office Supplies",
          "Office Supplies",
          "Furniture",
          "Office Supplies",
          "Technology",
          "Office Supplies",
          "Office Supplies",
          "Furniture",
          "Office Supplies",
          "Office Supplies",
          "Technology",
          "Technology",
          "Furniture",
          "Office Supplies",
          "Furniture",
          "Office Supplies",
          "Office Supplies",
          "Office Supplies",
          "Office Supplies",
          "Technology",
          "Office Supplies",
          "Technology",
          "Office Supplies",
          "Furniture",
          "Office Supplies",
          "Technology",
          "Office Supplies",
          "Office Supplies",
          "Technology",
          "Furniture",
          "Office Supplies",
          "Office Supplies",
          "Office Supplies",
          "Office Supplies",
          "Furniture",
          "Office Supplies",
          "Office Supplies",
          "Office Supplies",
          "Technology",
          "Furniture",
          "Technology",
          "Office Supplies",
          "Office Supplies",
          "Furniture",
          "Office Supplies",
          "Technology",
          "Furniture",
          "Furniture",
          "Technology",
          "Office Supplies",
          "Office Supplies",
          "Office Supplies",
          "Technology",
          "Office Supplies",
          "Office Supplies",
          "Office Supplies",
          "Office Supplies",
          "Office Supplies",
          "Technology",
          "Furniture",
          "Furniture",
          "Office Supplies",
          "Office Supplies",
          "Technology",
          "Office Supplies",
          "Furniture",
          "Office Supplies",
          "Office Supplies",
          "Furniture",
          "Furniture",
          "Furniture",
          "Office Supplies",
          "Office Supplies",
          "Office Supplies",
          "Office Supplies",
          "Technology",
          "Office Supplies",
          "Office Supplies",
          "Office Supplies",
          "Technology",
          "Technology",
          "Office Supplies",
          "Technology",
          "Technology",
          "Technology",
          "Office Supplies",
          "Office Supplies",
          "Furniture",
          "Furniture",
          "Furniture",
          "Furniture",
          "Office Supplies",
          "Office Supplies",
          "Office Supplies",
          "Office Supplies",
          "Office Supplies",
          "Furniture",
          "Technology",
          "Office Supplies",
          "Technology",
          "Furniture",
          "Furniture",
          "Office Supplies",
          "Office Supplies",
          "Furniture",
          "Technology",
          "Furniture",
          "Office Supplies",
          "Office Supplies",
          "Office Supplies",
          "Furniture",
          "Office Supplies",
          "Office Supplies",
          "Office Supplies",
          "Office Supplies",
          "Furniture",
          "Technology",
          "Office Supplies",
          "Office Supplies",
          "Office Supplies",
          "Furniture",
          "Office Supplies",
          "Technology",
          "Office Supplies",
          "Furniture",
          "Office Supplies",
          "Office Supplies",
          "Furniture",
          "Office Supplies",
          "Office Supplies",
          "Office Supplies",
          "Office Supplies",
          "Office Supplies",
          "Office Supplies",
          "Office Supplies",
          "Office Supplies",
          "Technology",
          "Office Supplies",
          "Technology",
          "Technology",
          "Office Supplies",
          "Office Supplies",
          "Office Supplies",
          "Office Supplies",
          "Office Supplies",
          "Office Supplies",
          "Office Supplies",
          "Office Supplies",
          "Technology",
          "Furniture",
          "Furniture",
          "Office Supplies",
          "Technology",
          "Technology",
          "Office Supplies",
          "Office Supplies",
          "Furniture",
          "Office Supplies",
          "Furniture",
          "Office Supplies",
          "Technology",
          "Office Supplies",
          "Office Supplies",
          "Office Supplies",
          "Furniture",
          "Technology",
          "Office Supplies",
          "Furniture",
          "Office Supplies",
          "Technology",
          "Office Supplies",
          "Technology",
          "Technology",
          "Technology",
          "Office Supplies",
          "Furniture",
          "Office Supplies",
          "Office Supplies",
          "Office Supplies",
          "Office Supplies",
          "Office Supplies",
          "Technology",
          "Furniture",
          "Office Supplies",
          "Technology",
          "Office Supplies",
          "Technology",
          "Furniture",
          "Technology",
          "Office Supplies",
          "Office Supplies",
          "Technology",
          "Office Supplies",
          "Furniture",
          "Technology",
          "Office Supplies",
          "Technology",
          "Office Supplies",
          "Furniture",
          "Furniture",
          "Technology",
          "Technology",
          "Furniture",
          "Technology",
          "Office Supplies",
          "Furniture",
          "Office Supplies",
          "Furniture",
          "Office Supplies",
          "Technology",
          "Technology",
          "Office Supplies",
          "Office Supplies",
          "Technology",
          "Furniture",
          "Office Supplies",
          "Office Supplies",
          "Technology",
          "Office Supplies",
          "Office Supplies",
          "Office Supplies",
          "Office Supplies",
          "Office Supplies",
          "Office Supplies",
          "Office Supplies",
          "Technology",
          "Technology",
          "Office Supplies",
          "Furniture",
          "Office Supplies",
          "Office Supplies",
          "Office Supplies",
          "Office Supplies",
          "Furniture",
          "Furniture",
          "Technology",
          "Office Supplies",
          "Office Supplies",
          "Technology",
          "Technology",
          "Technology",
          "Furniture",
          "Office Supplies",
          "Furniture",
          "Office Supplies",
          "Furniture",
          "Office Supplies",
          "Office Supplies",
          "Office Supplies",
          "Technology",
          "Technology",
          "Office Supplies",
          "Furniture",
          "Office Supplies",
          "Office Supplies",
          "Office Supplies",
          "Technology",
          "Office Supplies",
          "Furniture",
          "Office Supplies",
          "Office Supplies",
          "Furniture",
          "Office Supplies",
          "Office Supplies",
          "Furniture",
          "Furniture",
          "Office Supplies",
          "Furniture",
          "Furniture",
          "Technology",
          "Furniture",
          "Office Supplies",
          "Furniture",
          "Furniture",
          "Office Supplies",
          "Office Supplies",
          "Furniture",
          "Technology",
          "Office Supplies",
          "Office Supplies",
          "Office Supplies",
          "Furniture",
          "Office Supplies",
          "Office Supplies",
          "Office Supplies",
          "Office Supplies",
          "Office Supplies",
          "Office Supplies",
          "Technology",
          "Office Supplies",
          "Office Supplies",
          "Office Supplies",
          "Office Supplies",
          "Office Supplies",
          "Technology",
          "Office Supplies",
          "Furniture",
          "Office Supplies",
          "Office Supplies",
          "Technology",
          "Furniture",
          "Office Supplies",
          "Office Supplies",
          "Furniture",
          "Office Supplies",
          "Office Supplies",
          "Office Supplies",
          "Office Supplies",
          "Furniture",
          "Furniture",
          "Office Supplies",
          "Office Supplies",
          "Furniture",
          "Furniture",
          "Technology",
          "Technology",
          "Furniture",
          "Office Supplies",
          "Office Supplies",
          "Office Supplies",
          "Office Supplies",
          "Office Supplies",
          "Office Supplies",
          "Office Supplies",
          "Office Supplies",
          "Furniture",
          "Office Supplies",
          "Furniture",
          "Office Supplies",
          "Office Supplies",
          "Office Supplies",
          "Furniture",
          "Furniture",
          "Office Supplies",
          "Office Supplies",
          "Technology",
          "Office Supplies",
          "Office Supplies",
          "Office Supplies",
          "Furniture",
          "Office Supplies",
          "Furniture",
          "Office Supplies",
          "Office Supplies",
          "Office Supplies",
          "Office Supplies",
          "Furniture",
          "Office Supplies",
          "Office Supplies",
          "Office Supplies",
          "Furniture",
          "Technology",
          "Office Supplies",
          "Technology",
          "Furniture",
          "Technology",
          "Office Supplies",
          "Office Supplies",
          "Office Supplies",
          "Office Supplies",
          "Furniture",
          "Office Supplies",
          "Office Supplies",
          "Office Supplies",
          "Office Supplies",
          "Office Supplies",
          "Office Supplies",
          "Office Supplies",
          "Office Supplies",
          "Office Supplies",
          "Technology",
          "Office Supplies",
          "Technology",
          "Office Supplies",
          "Office Supplies",
          "Furniture",
          "Furniture",
          "Office Supplies",
          "Office Supplies",
          "Office Supplies",
          "Office Supplies",
          "Furniture",
          "Furniture",
          "Office Supplies",
          "Office Supplies",
          "Furniture",
          "Office Supplies",
          "Office Supplies",
          "Furniture",
          "Technology",
          "Technology",
          "Office Supplies",
          "Office Supplies",
          "Office Supplies",
          "Office Supplies",
          "Office Supplies",
          "Furniture",
          "Furniture",
          "Furniture",
          "Office Supplies",
          "Furniture",
          "Furniture",
          "Furniture",
          "Office Supplies",
          "Office Supplies",
          "Technology",
          "Office Supplies",
          "Furniture",
          "Furniture",
          "Technology",
          "Technology",
          "Technology",
          "Furniture",
          "Office Supplies",
          "Office Supplies",
          "Office Supplies",
          "Office Supplies",
          "Office Supplies",
          "Furniture",
          "Furniture",
          "Office Supplies",
          "Furniture",
          "Furniture",
          "Office Supplies",
          "Office Supplies",
          "Office Supplies",
          "Office Supplies",
          "Furniture",
          "Office Supplies",
          "Office Supplies",
          "Furniture",
          "Office Supplies",
          "Furniture",
          "Office Supplies",
          "Furniture",
          "Office Supplies",
          "Furniture",
          "Furniture",
          "Office Supplies",
          "Office Supplies",
          "Furniture",
          "Furniture",
          "Office Supplies",
          "Office Supplies",
          "Technology",
          "Office Supplies",
          "Office Supplies",
          "Office Supplies",
          "Office Supplies",
          "Office Supplies",
          "Office Supplies",
          "Office Supplies",
          "Office Supplies",
          "Furniture",
          "Technology",
          "Technology",
          "Office Supplies",
          "Office Supplies",
          "Office Supplies",
          "Office Supplies",
          "Office Supplies",
          "Office Supplies",
          "Office Supplies",
          "Office Supplies",
          "Furniture",
          "Office Supplies",
          "Office Supplies",
          "Technology",
          "Office Supplies",
          "Office Supplies",
          "Office Supplies",
          "Furniture",
          "Office Supplies",
          "Furniture",
          "Technology",
          "Office Supplies",
          "Office Supplies",
          "Furniture",
          "Office Supplies",
          "Furniture",
          "Office Supplies",
          "Office Supplies",
          "Furniture",
          "Office Supplies",
          "Furniture",
          "Technology",
          "Furniture",
          "Office Supplies",
          "Furniture",
          "Office Supplies",
          "Technology",
          "Office Supplies",
          "Office Supplies",
          "Office Supplies",
          "Furniture",
          "Furniture",
          "Furniture",
          "Office Supplies",
          "Office Supplies",
          "Furniture",
          "Technology",
          "Office Supplies",
          "Office Supplies",
          "Office Supplies",
          "Furniture",
          "Technology",
          "Furniture",
          "Office Supplies",
          "Office Supplies",
          "Technology",
          "Office Supplies",
          "Technology",
          "Office Supplies",
          "Office Supplies",
          "Furniture",
          "Furniture",
          "Technology",
          "Office Supplies",
          "Technology",
          "Technology",
          "Office Supplies",
          "Technology",
          "Technology",
          "Office Supplies",
          "Office Supplies",
          "Office Supplies",
          "Office Supplies",
          "Furniture",
          "Office Supplies",
          "Office Supplies",
          "Furniture",
          "Office Supplies",
          "Furniture",
          "Furniture",
          "Office Supplies",
          "Office Supplies",
          "Technology",
          "Office Supplies",
          "Technology",
          "Office Supplies",
          "Office Supplies",
          "Technology",
          "Furniture",
          "Office Supplies",
          "Furniture",
          "Technology",
          "Office Supplies",
          "Technology",
          "Office Supplies",
          "Office Supplies",
          "Office Supplies",
          "Office Supplies",
          "Office Supplies",
          "Office Supplies",
          "Furniture",
          "Office Supplies",
          "Furniture",
          "Office Supplies",
          "Furniture",
          "Office Supplies",
          "Office Supplies",
          "Office Supplies",
          "Office Supplies",
          "Office Supplies",
          "Office Supplies",
          "Office Supplies",
          "Office Supplies",
          "Office Supplies",
          "Technology",
          "Office Supplies",
          "Office Supplies",
          "Furniture",
          "Office Supplies",
          "Office Supplies",
          "Furniture",
          "Technology",
          "Furniture",
          "Office Supplies",
          "Office Supplies",
          "Office Supplies",
          "Office Supplies",
          "Office Supplies",
          "Technology",
          "Office Supplies",
          "Furniture",
          "Furniture",
          "Technology",
          "Technology",
          "Furniture",
          "Office Supplies",
          "Office Supplies",
          "Office Supplies",
          "Technology",
          "Office Supplies",
          "Technology",
          "Furniture",
          "Office Supplies",
          "Office Supplies",
          "Technology",
          "Office Supplies",
          "Furniture",
          "Furniture",
          "Technology",
          "Office Supplies",
          "Office Supplies",
          "Office Supplies",
          "Technology",
          "Technology",
          "Technology",
          "Furniture",
          "Office Supplies",
          "Office Supplies",
          "Furniture",
          "Technology",
          "Office Supplies",
          "Technology",
          "Office Supplies",
          "Office Supplies",
          "Office Supplies",
          "Office Supplies",
          "Office Supplies",
          "Technology",
          "Office Supplies",
          "Furniture",
          "Furniture",
          "Office Supplies",
          "Office Supplies",
          "Office Supplies",
          "Furniture",
          "Office Supplies",
          "Office Supplies",
          "Furniture",
          "Technology",
          "Office Supplies",
          "Furniture",
          "Furniture",
          "Office Supplies",
          "Office Supplies",
          "Technology",
          "Office Supplies",
          "Office Supplies",
          "Office Supplies",
          "Office Supplies",
          "Technology",
          "Office Supplies",
          "Office Supplies",
          "Office Supplies",
          "Technology",
          "Office Supplies",
          "Office Supplies",
          "Office Supplies",
          "Office Supplies",
          "Technology",
          "Office Supplies",
          "Technology",
          "Office Supplies",
          "Furniture",
          "Office Supplies",
          "Technology",
          "Technology",
          "Furniture",
          "Office Supplies",
          "Furniture",
          "Office Supplies",
          "Technology",
          "Technology",
          "Office Supplies",
          "Office Supplies",
          "Office Supplies",
          "Office Supplies",
          "Office Supplies",
          "Office Supplies",
          "Technology",
          "Office Supplies",
          "Technology",
          "Office Supplies",
          "Office Supplies",
          "Technology",
          "Office Supplies",
          "Office Supplies",
          "Technology",
          "Office Supplies",
          "Office Supplies",
          "Technology",
          "Technology",
          "Office Supplies",
          "Furniture",
          "Office Supplies",
          "Office Supplies",
          "Office Supplies",
          "Office Supplies",
          "Furniture",
          "Office Supplies",
          "Office Supplies",
          "Furniture",
          "Technology",
          "Furniture",
          "Office Supplies",
          "Office Supplies",
          "Technology",
          "Furniture",
          "Technology",
          "Office Supplies",
          "Office Supplies",
          "Furniture",
          "Technology",
          "Office Supplies",
          "Furniture",
          "Office Supplies",
          "Technology",
          "Technology",
          "Office Supplies",
          "Office Supplies",
          "Furniture",
          "Office Supplies",
          "Office Supplies",
          "Office Supplies",
          "Technology",
          "Office Supplies",
          "Office Supplies",
          "Office Supplies",
          "Office Supplies",
          "Office Supplies",
          "Technology",
          "Technology",
          "Technology",
          "Office Supplies",
          "Technology",
          "Furniture",
          "Technology",
          "Office Supplies",
          "Office Supplies",
          "Office Supplies",
          "Technology",
          "Office Supplies",
          "Office Supplies",
          "Office Supplies",
          "Technology",
          "Office Supplies",
          "Furniture",
          "Office Supplies",
          "Office Supplies",
          "Office Supplies",
          "Technology",
          "Office Supplies",
          "Technology",
          "Technology",
          "Office Supplies",
          "Office Supplies",
          "Furniture",
          "Office Supplies",
          "Technology",
          "Office Supplies",
          "Office Supplies",
          "Technology",
          "Office Supplies",
          "Office Supplies",
          "Technology",
          "Furniture",
          "Office Supplies",
          "Office Supplies",
          "Technology",
          "Technology",
          "Office Supplies",
          "Technology",
          "Office Supplies",
          "Office Supplies",
          "Furniture",
          "Furniture",
          "Office Supplies",
          "Furniture",
          "Office Supplies",
          "Furniture",
          "Office Supplies",
          "Office Supplies",
          "Office Supplies",
          "Furniture",
          "Office Supplies",
          "Office Supplies",
          "Furniture",
          "Office Supplies",
          "Office Supplies",
          "Office Supplies",
          "Office Supplies",
          "Office Supplies",
          "Technology",
          "Technology",
          "Technology",
          "Technology",
          "Furniture",
          "Office Supplies",
          "Technology",
          "Furniture",
          "Furniture",
          "Office Supplies",
          "Office Supplies",
          "Office Supplies",
          "Office Supplies",
          "Furniture",
          "Technology",
          "Office Supplies",
          "Office Supplies",
          "Office Supplies",
          "Office Supplies",
          "Office Supplies",
          "Office Supplies",
          "Technology",
          "Furniture",
          "Technology",
          "Technology",
          "Furniture",
          "Office Supplies",
          "Office Supplies",
          "Office Supplies",
          "Office Supplies",
          "Technology",
          "Office Supplies",
          "Furniture",
          "Office Supplies",
          "Office Supplies",
          "Furniture",
          "Furniture",
          "Office Supplies",
          "Office Supplies",
          "Furniture",
          "Office Supplies",
          "Technology",
          "Office Supplies",
          "Office Supplies",
          "Furniture",
          "Furniture",
          "Technology",
          "Furniture",
          "Office Supplies",
          "Office Supplies",
          "Office Supplies",
          "Furniture",
          "Office Supplies",
          "Office Supplies",
          "Furniture",
          "Technology",
          "Office Supplies",
          "Office Supplies",
          "Technology",
          "Office Supplies",
          "Furniture",
          "Office Supplies",
          "Technology",
          "Technology",
          "Office Supplies",
          "Office Supplies",
          "Office Supplies",
          "Office Supplies",
          "Office Supplies",
          "Technology",
          "Office Supplies",
          "Office Supplies",
          "Office Supplies",
          "Furniture",
          "Furniture",
          "Office Supplies",
          "Furniture",
          "Furniture",
          "Office Supplies",
          "Furniture",
          "Office Supplies",
          "Office Supplies",
          "Office Supplies",
          "Office Supplies",
          "Office Supplies",
          "Office Supplies",
          "Office Supplies",
          "Office Supplies",
          "Office Supplies",
          "Office Supplies",
          "Furniture",
          "Office Supplies",
          "Office Supplies",
          "Technology",
          "Office Supplies",
          "Technology",
          "Office Supplies",
          "Furniture",
          "Office Supplies",
          "Furniture",
          "Office Supplies",
          "Office Supplies",
          "Furniture",
          "Office Supplies",
          "Office Supplies",
          "Office Supplies",
          "Office Supplies",
          "Furniture",
          "Furniture",
          "Furniture",
          "Office Supplies",
          "Office Supplies",
          "Office Supplies",
          "Office Supplies",
          "Office Supplies",
          "Office Supplies",
          "Office Supplies",
          "Office Supplies",
          "Office Supplies",
          "Office Supplies",
          "Office Supplies",
          "Office Supplies",
          "Office Supplies",
          "Technology",
          "Office Supplies",
          "Office Supplies",
          "Office Supplies",
          "Technology",
          "Furniture",
          "Office Supplies",
          "Office Supplies",
          "Technology",
          "Technology",
          "Office Supplies",
          "Office Supplies",
          "Technology",
          "Office Supplies",
          "Furniture",
          "Office Supplies",
          "Furniture",
          "Office Supplies",
          "Furniture",
          "Office Supplies",
          "Technology",
          "Furniture",
          "Technology",
          "Technology",
          "Office Supplies",
          "Technology",
          "Office Supplies",
          "Office Supplies",
          "Furniture",
          "Furniture",
          "Technology",
          "Furniture",
          "Furniture",
          "Office Supplies",
          "Technology",
          "Office Supplies",
          "Furniture",
          "Furniture",
          "Office Supplies",
          "Office Supplies",
          "Office Supplies",
          "Technology",
          "Technology",
          "Furniture",
          "Furniture",
          "Office Supplies",
          "Office Supplies",
          "Technology",
          "Office Supplies",
          "Office Supplies",
          "Office Supplies",
          "Technology",
          "Office Supplies",
          "Technology",
          "Office Supplies",
          "Furniture",
          "Office Supplies",
          "Office Supplies",
          "Technology",
          "Office Supplies",
          "Furniture",
          "Office Supplies",
          "Office Supplies",
          "Technology",
          "Office Supplies",
          "Technology",
          "Office Supplies",
          "Furniture",
          "Office Supplies",
          "Office Supplies",
          "Technology",
          "Technology",
          "Technology",
          "Technology",
          "Technology",
          "Office Supplies",
          "Technology",
          "Technology",
          "Office Supplies",
          "Office Supplies",
          "Technology",
          "Office Supplies",
          "Office Supplies",
          "Office Supplies",
          "Office Supplies",
          "Office Supplies",
          "Office Supplies",
          "Office Supplies",
          "Office Supplies",
          "Furniture",
          "Furniture",
          "Office Supplies",
          "Office Supplies",
          "Office Supplies",
          "Office Supplies",
          "Office Supplies",
          "Furniture",
          "Office Supplies",
          "Office Supplies",
          "Furniture",
          "Technology",
          "Office Supplies",
          "Office Supplies",
          "Technology",
          "Office Supplies",
          "Office Supplies",
          "Office Supplies",
          "Technology",
          "Office Supplies",
          "Office Supplies",
          "Office Supplies",
          "Office Supplies",
          "Office Supplies",
          "Office Supplies",
          "Office Supplies",
          "Furniture",
          "Technology",
          "Technology",
          "Technology",
          "Technology",
          "Office Supplies",
          "Office Supplies",
          "Office Supplies",
          "Office Supplies",
          "Office Supplies",
          "Office Supplies",
          "Office Supplies",
          "Office Supplies",
          "Furniture",
          "Office Supplies",
          "Office Supplies",
          "Furniture",
          "Furniture",
          "Office Supplies",
          "Office Supplies",
          "Technology",
          "Office Supplies",
          "Office Supplies",
          "Office Supplies",
          "Office Supplies",
          "Office Supplies",
          "Office Supplies",
          "Office Supplies",
          "Office Supplies",
          "Office Supplies",
          "Technology",
          "Furniture",
          "Technology",
          "Technology",
          "Office Supplies",
          "Furniture",
          "Office Supplies",
          "Furniture",
          "Furniture",
          "Office Supplies",
          "Office Supplies",
          "Office Supplies",
          "Office Supplies",
          "Office Supplies",
          "Technology",
          "Office Supplies",
          "Technology",
          "Furniture",
          "Office Supplies",
          "Office Supplies",
          "Office Supplies",
          "Technology",
          "Office Supplies",
          "Office Supplies",
          "Technology",
          "Furniture",
          "Office Supplies",
          "Furniture",
          "Office Supplies",
          "Office Supplies",
          "Technology",
          "Office Supplies",
          "Office Supplies",
          "Office Supplies",
          "Office Supplies",
          "Office Supplies",
          "Office Supplies",
          "Technology",
          "Office Supplies",
          "Office Supplies",
          "Office Supplies",
          "Furniture",
          "Office Supplies",
          "Technology",
          "Office Supplies",
          "Office Supplies",
          "Office Supplies",
          "Office Supplies",
          "Office Supplies",
          "Office Supplies",
          "Office Supplies",
          "Office Supplies",
          "Office Supplies",
          "Technology",
          "Office Supplies",
          "Office Supplies",
          "Office Supplies",
          "Office Supplies",
          "Office Supplies",
          "Technology",
          "Office Supplies",
          "Furniture",
          "Furniture",
          "Office Supplies",
          "Technology",
          "Technology",
          "Office Supplies",
          "Office Supplies",
          "Office Supplies",
          "Technology",
          "Office Supplies",
          "Technology",
          "Office Supplies",
          "Office Supplies",
          "Office Supplies",
          "Office Supplies",
          "Office Supplies",
          "Furniture",
          "Office Supplies",
          "Furniture",
          "Office Supplies",
          "Technology",
          "Furniture",
          "Office Supplies",
          "Office Supplies",
          "Office Supplies",
          "Office Supplies",
          "Office Supplies",
          "Office Supplies",
          "Office Supplies",
          "Office Supplies",
          "Office Supplies",
          "Office Supplies",
          "Technology",
          "Technology",
          "Technology",
          "Furniture",
          "Office Supplies",
          "Office Supplies",
          "Office Supplies",
          "Furniture",
          "Office Supplies",
          "Technology",
          "Furniture",
          "Furniture",
          "Office Supplies",
          "Office Supplies",
          "Technology",
          "Office Supplies",
          "Office Supplies",
          "Furniture",
          "Office Supplies",
          "Technology",
          "Furniture",
          "Office Supplies",
          "Technology",
          "Furniture",
          "Office Supplies",
          "Furniture",
          "Office Supplies",
          "Office Supplies",
          "Technology",
          "Office Supplies",
          "Furniture",
          "Office Supplies",
          "Office Supplies",
          "Office Supplies",
          "Office Supplies",
          "Office Supplies",
          "Office Supplies",
          "Office Supplies",
          "Office Supplies",
          "Office Supplies",
          "Office Supplies",
          "Technology",
          "Technology",
          "Office Supplies",
          "Office Supplies",
          "Furniture",
          "Technology",
          "Office Supplies",
          "Technology",
          "Technology",
          "Office Supplies",
          "Office Supplies",
          "Office Supplies",
          "Office Supplies",
          "Office Supplies",
          "Office Supplies",
          "Furniture",
          "Furniture",
          "Office Supplies",
          "Technology",
          "Office Supplies",
          "Furniture",
          "Office Supplies",
          "Office Supplies",
          "Office Supplies",
          "Office Supplies",
          "Furniture",
          "Office Supplies",
          "Office Supplies",
          "Office Supplies",
          "Furniture",
          "Office Supplies",
          "Furniture",
          "Office Supplies",
          "Office Supplies",
          "Furniture",
          "Office Supplies",
          "Technology",
          "Furniture",
          "Office Supplies",
          "Furniture",
          "Office Supplies",
          "Technology",
          "Office Supplies",
          "Technology",
          "Office Supplies",
          "Technology",
          "Furniture",
          "Technology",
          "Office Supplies",
          "Technology",
          "Technology",
          "Office Supplies",
          "Office Supplies",
          "Technology",
          "Office Supplies",
          "Office Supplies",
          "Office Supplies",
          "Office Supplies",
          "Office Supplies",
          "Office Supplies",
          "Office Supplies",
          "Office Supplies",
          "Office Supplies",
          "Office Supplies",
          "Furniture",
          "Office Supplies",
          "Office Supplies",
          "Furniture",
          "Technology",
          "Furniture",
          "Technology",
          "Office Supplies",
          "Office Supplies",
          "Office Supplies",
          "Office Supplies",
          "Office Supplies",
          "Office Supplies",
          "Office Supplies",
          "Furniture",
          "Technology",
          "Furniture",
          "Office Supplies",
          "Office Supplies",
          "Technology",
          "Office Supplies",
          "Furniture",
          "Technology",
          "Furniture",
          "Office Supplies",
          "Furniture",
          "Office Supplies",
          "Office Supplies",
          "Office Supplies",
          "Technology",
          "Office Supplies",
          "Office Supplies",
          "Furniture",
          "Furniture",
          "Furniture",
          "Office Supplies",
          "Furniture",
          "Office Supplies",
          "Technology",
          "Furniture",
          "Office Supplies",
          "Office Supplies",
          "Technology",
          "Furniture",
          "Furniture",
          "Technology",
          "Furniture",
          "Office Supplies",
          "Office Supplies",
          "Office Supplies",
          "Furniture",
          "Office Supplies",
          "Office Supplies",
          "Office Supplies",
          "Technology",
          "Office Supplies",
          "Furniture",
          "Office Supplies",
          "Furniture",
          "Office Supplies",
          "Office Supplies",
          "Technology",
          "Office Supplies",
          "Technology",
          "Furniture",
          "Technology",
          "Office Supplies",
          "Office Supplies",
          "Office Supplies",
          "Furniture",
          "Technology",
          "Technology",
          "Technology",
          "Furniture",
          "Furniture",
          "Office Supplies",
          "Office Supplies",
          "Furniture",
          "Office Supplies",
          "Office Supplies",
          "Technology",
          "Office Supplies",
          "Office Supplies",
          "Office Supplies",
          "Office Supplies",
          "Office Supplies",
          "Office Supplies",
          "Furniture",
          "Furniture",
          "Office Supplies",
          "Office Supplies",
          "Technology",
          "Office Supplies",
          "Technology",
          "Office Supplies",
          "Technology",
          "Furniture",
          "Technology",
          "Technology",
          "Office Supplies",
          "Technology",
          "Office Supplies",
          "Office Supplies",
          "Office Supplies",
          "Technology",
          "Office Supplies",
          "Technology",
          "Office Supplies",
          "Office Supplies",
          "Office Supplies",
          "Office Supplies",
          "Furniture",
          "Technology",
          "Technology",
          "Furniture",
          "Furniture",
          "Technology",
          "Office Supplies",
          "Furniture",
          "Furniture",
          "Furniture",
          "Office Supplies",
          "Office Supplies",
          "Furniture",
          "Office Supplies",
          "Office Supplies",
          "Technology",
          "Office Supplies",
          "Office Supplies",
          "Office Supplies",
          "Office Supplies",
          "Furniture",
          "Office Supplies",
          "Furniture",
          "Office Supplies",
          "Office Supplies",
          "Office Supplies",
          "Technology",
          "Office Supplies",
          "Office Supplies",
          "Technology",
          "Office Supplies",
          "Office Supplies",
          "Furniture",
          "Furniture",
          "Furniture",
          "Office Supplies",
          "Office Supplies",
          "Office Supplies",
          "Office Supplies",
          "Office Supplies",
          "Office Supplies",
          "Office Supplies",
          "Office Supplies",
          "Office Supplies",
          "Furniture",
          "Office Supplies",
          "Technology",
          "Office Supplies",
          "Furniture",
          "Office Supplies",
          "Furniture",
          "Office Supplies",
          "Office Supplies",
          "Furniture",
          "Office Supplies",
          "Technology",
          "Office Supplies",
          "Furniture",
          "Office Supplies",
          "Office Supplies",
          "Office Supplies",
          "Office Supplies",
          "Office Supplies",
          "Office Supplies",
          "Office Supplies",
          "Office Supplies",
          "Office Supplies",
          "Office Supplies",
          "Furniture",
          "Office Supplies",
          "Furniture",
          "Office Supplies",
          "Technology",
          "Furniture",
          "Office Supplies",
          "Furniture",
          "Furniture",
          "Technology",
          "Office Supplies",
          "Furniture",
          "Office Supplies",
          "Office Supplies",
          "Furniture",
          "Furniture",
          "Office Supplies",
          "Furniture",
          "Office Supplies",
          "Office Supplies",
          "Furniture",
          "Furniture",
          "Technology",
          "Office Supplies",
          "Furniture",
          "Furniture",
          "Furniture",
          "Technology",
          "Furniture",
          "Technology",
          "Office Supplies",
          "Office Supplies",
          "Office Supplies",
          "Technology",
          "Office Supplies",
          "Furniture",
          "Office Supplies",
          "Office Supplies",
          "Office Supplies",
          "Office Supplies",
          "Office Supplies",
          "Office Supplies",
          "Office Supplies",
          "Office Supplies",
          "Technology",
          "Office Supplies",
          "Furniture",
          "Technology",
          "Furniture",
          "Furniture",
          "Technology",
          "Office Supplies",
          "Office Supplies",
          "Technology",
          "Office Supplies",
          "Technology",
          "Furniture",
          "Office Supplies",
          "Office Supplies",
          "Technology",
          "Office Supplies",
          "Technology",
          "Office Supplies",
          "Furniture",
          "Office Supplies",
          "Technology",
          "Office Supplies",
          "Technology",
          "Office Supplies",
          "Furniture",
          "Furniture",
          "Office Supplies",
          "Office Supplies",
          "Office Supplies",
          "Technology",
          "Furniture",
          "Furniture",
          "Office Supplies",
          "Furniture",
          "Office Supplies",
          "Office Supplies",
          "Office Supplies",
          "Furniture",
          "Office Supplies",
          "Technology",
          "Furniture",
          "Technology",
          "Office Supplies",
          "Technology",
          "Office Supplies",
          "Office Supplies",
          "Office Supplies",
          "Office Supplies",
          "Office Supplies",
          "Technology",
          "Office Supplies",
          "Office Supplies",
          "Furniture",
          "Technology",
          "Technology",
          "Furniture",
          "Furniture",
          "Office Supplies",
          "Office Supplies",
          "Office Supplies",
          "Technology",
          "Office Supplies",
          "Office Supplies",
          "Office Supplies",
          "Office Supplies",
          "Office Supplies",
          "Technology",
          "Office Supplies",
          "Office Supplies",
          "Furniture",
          "Office Supplies",
          "Office Supplies",
          "Office Supplies",
          "Office Supplies",
          "Technology",
          "Technology",
          "Technology",
          "Office Supplies",
          "Office Supplies",
          "Office Supplies",
          "Office Supplies",
          "Office Supplies",
          "Office Supplies",
          "Office Supplies",
          "Furniture",
          "Technology",
          "Office Supplies",
          "Office Supplies",
          "Office Supplies",
          "Furniture",
          "Technology",
          "Furniture",
          "Office Supplies",
          "Office Supplies",
          "Office Supplies",
          "Technology",
          "Office Supplies",
          "Office Supplies",
          "Office Supplies",
          "Office Supplies",
          "Office Supplies",
          "Technology",
          "Office Supplies",
          "Office Supplies",
          "Office Supplies",
          "Office Supplies",
          "Furniture",
          "Office Supplies",
          "Office Supplies",
          "Technology",
          "Office Supplies",
          "Office Supplies",
          "Office Supplies",
          "Office Supplies",
          "Office Supplies",
          "Technology",
          "Office Supplies",
          "Office Supplies",
          "Office Supplies",
          "Office Supplies",
          "Office Supplies",
          "Furniture",
          "Office Supplies",
          "Office Supplies",
          "Office Supplies",
          "Office Supplies",
          "Furniture",
          "Furniture",
          "Office Supplies",
          "Office Supplies",
          "Technology",
          "Office Supplies",
          "Office Supplies",
          "Office Supplies",
          "Office Supplies",
          "Office Supplies",
          "Office Supplies",
          "Technology",
          "Office Supplies",
          "Office Supplies",
          "Office Supplies",
          "Technology",
          "Office Supplies",
          "Office Supplies",
          "Office Supplies",
          "Technology",
          "Office Supplies",
          "Office Supplies",
          "Office Supplies",
          "Furniture",
          "Office Supplies",
          "Office Supplies",
          "Office Supplies",
          "Office Supplies",
          "Office Supplies",
          "Office Supplies",
          "Office Supplies",
          "Technology",
          "Office Supplies",
          "Office Supplies",
          "Office Supplies",
          "Office Supplies",
          "Technology",
          "Office Supplies",
          "Office Supplies",
          "Furniture",
          "Technology",
          "Office Supplies",
          "Office Supplies",
          "Office Supplies",
          "Office Supplies",
          "Technology",
          "Office Supplies",
          "Furniture",
          "Technology",
          "Office Supplies",
          "Furniture",
          "Office Supplies",
          "Office Supplies",
          "Office Supplies",
          "Office Supplies",
          "Technology",
          "Office Supplies",
          "Office Supplies",
          "Office Supplies",
          "Office Supplies",
          "Furniture",
          "Office Supplies",
          "Furniture",
          "Furniture",
          "Furniture",
          "Office Supplies",
          "Office Supplies",
          "Office Supplies",
          "Office Supplies",
          "Office Supplies",
          "Office Supplies",
          "Office Supplies",
          "Furniture",
          "Technology",
          "Office Supplies",
          "Office Supplies",
          "Technology",
          "Office Supplies",
          "Furniture",
          "Office Supplies",
          "Furniture",
          "Office Supplies",
          "Furniture",
          "Office Supplies",
          "Furniture",
          "Office Supplies",
          "Office Supplies",
          "Office Supplies",
          "Office Supplies",
          "Office Supplies",
          "Office Supplies",
          "Office Supplies",
          "Office Supplies",
          "Office Supplies",
          "Office Supplies",
          "Office Supplies",
          "Office Supplies",
          "Technology",
          "Office Supplies",
          "Technology",
          "Office Supplies",
          "Furniture",
          "Furniture",
          "Office Supplies",
          "Furniture",
          "Furniture",
          "Technology",
          "Office Supplies",
          "Technology",
          "Office Supplies",
          "Office Supplies",
          "Furniture",
          "Office Supplies",
          "Furniture",
          "Office Supplies",
          "Office Supplies",
          "Technology",
          "Office Supplies",
          "Office Supplies",
          "Furniture",
          "Office Supplies",
          "Furniture",
          "Office Supplies",
          "Technology",
          "Furniture",
          "Furniture",
          "Furniture",
          "Technology",
          "Office Supplies",
          "Office Supplies",
          "Office Supplies",
          "Office Supplies",
          "Technology",
          "Furniture",
          "Office Supplies",
          "Office Supplies",
          "Furniture",
          "Office Supplies",
          "Office Supplies",
          "Furniture",
          "Office Supplies",
          "Technology",
          "Office Supplies",
          "Office Supplies",
          "Office Supplies",
          "Office Supplies",
          "Furniture",
          "Office Supplies",
          "Technology",
          "Furniture",
          "Furniture",
          "Office Supplies",
          "Technology",
          "Office Supplies",
          "Office Supplies",
          "Furniture",
          "Office Supplies",
          "Office Supplies",
          "Office Supplies",
          "Furniture",
          "Technology",
          "Office Supplies",
          "Office Supplies",
          "Technology",
          "Furniture",
          "Office Supplies",
          "Office Supplies",
          "Technology",
          "Office Supplies",
          "Office Supplies",
          "Office Supplies",
          "Office Supplies",
          "Office Supplies",
          "Furniture",
          "Technology",
          "Office Supplies",
          "Office Supplies",
          "Technology",
          "Office Supplies",
          "Office Supplies",
          "Technology",
          "Office Supplies",
          "Office Supplies",
          "Office Supplies",
          "Office Supplies",
          "Office Supplies",
          "Technology",
          "Office Supplies",
          "Technology",
          "Office Supplies",
          "Office Supplies",
          "Furniture",
          "Technology",
          "Office Supplies",
          "Office Supplies",
          "Office Supplies",
          "Office Supplies",
          "Office Supplies",
          "Technology",
          "Technology",
          "Technology",
          "Furniture",
          "Furniture",
          "Office Supplies",
          "Office Supplies",
          "Office Supplies",
          "Technology",
          "Technology",
          "Office Supplies",
          "Office Supplies",
          "Office Supplies",
          "Office Supplies",
          "Office Supplies",
          "Furniture",
          "Furniture",
          "Office Supplies",
          "Technology",
          "Office Supplies",
          "Office Supplies",
          "Office Supplies",
          "Office Supplies",
          "Office Supplies",
          "Office Supplies",
          "Office Supplies",
          "Office Supplies",
          "Office Supplies",
          "Office Supplies",
          "Office Supplies",
          "Technology",
          "Office Supplies",
          "Furniture",
          "Office Supplies",
          "Furniture",
          "Office Supplies",
          "Office Supplies",
          "Office Supplies",
          "Furniture",
          "Office Supplies",
          "Furniture",
          "Technology",
          "Furniture",
          "Office Supplies",
          "Office Supplies",
          "Office Supplies",
          "Furniture",
          "Technology",
          "Office Supplies",
          "Office Supplies",
          "Technology",
          "Office Supplies",
          "Office Supplies",
          "Technology",
          "Furniture",
          "Furniture",
          "Office Supplies",
          "Office Supplies",
          "Furniture",
          "Office Supplies",
          "Office Supplies",
          "Technology",
          "Office Supplies",
          "Office Supplies",
          "Office Supplies",
          "Office Supplies",
          "Office Supplies",
          "Office Supplies",
          "Office Supplies",
          "Technology",
          "Office Supplies",
          "Office Supplies",
          "Technology",
          "Office Supplies",
          "Office Supplies",
          "Furniture",
          "Office Supplies",
          "Office Supplies",
          "Office Supplies",
          "Office Supplies",
          "Furniture",
          "Technology",
          "Office Supplies",
          "Technology",
          "Office Supplies",
          "Furniture",
          "Office Supplies",
          "Office Supplies",
          "Office Supplies",
          "Furniture",
          "Office Supplies",
          "Furniture",
          "Office Supplies",
          "Office Supplies",
          "Office Supplies",
          "Office Supplies",
          "Office Supplies",
          "Technology",
          "Office Supplies",
          "Office Supplies",
          "Office Supplies",
          "Office Supplies",
          "Office Supplies",
          "Office Supplies",
          "Office Supplies",
          "Furniture",
          "Office Supplies",
          "Office Supplies",
          "Furniture",
          "Office Supplies",
          "Furniture",
          "Office Supplies",
          "Furniture",
          "Office Supplies",
          "Office Supplies",
          "Office Supplies",
          "Furniture",
          "Office Supplies",
          "Technology",
          "Office Supplies",
          "Office Supplies",
          "Office Supplies",
          "Office Supplies",
          "Office Supplies",
          "Office Supplies",
          "Furniture",
          "Office Supplies",
          "Furniture",
          "Furniture",
          "Technology",
          "Furniture",
          "Office Supplies",
          "Furniture",
          "Office Supplies",
          "Office Supplies",
          "Furniture",
          "Office Supplies",
          "Office Supplies",
          "Office Supplies",
          "Office Supplies",
          "Office Supplies",
          "Office Supplies",
          "Office Supplies",
          "Office Supplies",
          "Office Supplies",
          "Office Supplies",
          "Office Supplies",
          "Furniture",
          "Technology",
          "Furniture",
          "Office Supplies",
          "Furniture",
          "Furniture",
          "Office Supplies",
          "Office Supplies",
          "Office Supplies",
          "Office Supplies",
          "Office Supplies",
          "Office Supplies",
          "Office Supplies",
          "Technology",
          "Office Supplies",
          "Technology",
          "Technology",
          "Office Supplies",
          "Furniture",
          "Furniture",
          "Furniture",
          "Office Supplies",
          "Office Supplies",
          "Office Supplies",
          "Furniture",
          "Office Supplies",
          "Office Supplies",
          "Office Supplies",
          "Office Supplies",
          "Office Supplies",
          "Technology",
          "Furniture",
          "Office Supplies",
          "Office Supplies",
          "Furniture",
          "Technology",
          "Office Supplies",
          "Furniture",
          "Technology",
          "Office Supplies",
          "Furniture",
          "Office Supplies",
          "Furniture",
          "Office Supplies",
          "Office Supplies",
          "Furniture",
          "Office Supplies",
          "Office Supplies",
          "Office Supplies",
          "Technology",
          "Furniture",
          "Office Supplies",
          "Office Supplies",
          "Furniture",
          "Technology",
          "Technology",
          "Office Supplies",
          "Office Supplies",
          "Furniture",
          "Technology",
          "Office Supplies",
          "Furniture",
          "Furniture",
          "Office Supplies",
          "Office Supplies",
          "Office Supplies",
          "Office Supplies",
          "Office Supplies",
          "Office Supplies",
          "Furniture",
          "Office Supplies",
          "Technology",
          "Furniture",
          "Furniture",
          "Office Supplies",
          "Office Supplies",
          "Office Supplies",
          "Office Supplies",
          "Office Supplies",
          "Furniture",
          "Office Supplies",
          "Office Supplies",
          "Technology",
          "Technology",
          "Furniture",
          "Office Supplies",
          "Office Supplies",
          "Office Supplies",
          "Office Supplies",
          "Office Supplies",
          "Technology",
          "Furniture",
          "Office Supplies",
          "Office Supplies",
          "Office Supplies",
          "Office Supplies",
          "Office Supplies",
          "Office Supplies",
          "Furniture",
          "Office Supplies",
          "Office Supplies",
          "Technology",
          "Furniture",
          "Office Supplies",
          "Furniture",
          "Office Supplies",
          "Office Supplies",
          "Office Supplies",
          "Office Supplies",
          "Furniture",
          "Office Supplies",
          "Office Supplies",
          "Office Supplies",
          "Office Supplies",
          "Office Supplies",
          "Technology",
          "Technology",
          "Office Supplies",
          "Office Supplies",
          "Office Supplies",
          "Furniture",
          "Office Supplies",
          "Office Supplies",
          "Office Supplies",
          "Office Supplies",
          "Office Supplies",
          "Technology",
          "Technology",
          "Furniture",
          "Technology",
          "Office Supplies",
          "Office Supplies",
          "Office Supplies",
          "Office Supplies",
          "Office Supplies",
          "Furniture",
          "Office Supplies",
          "Office Supplies",
          "Office Supplies",
          "Office Supplies",
          "Furniture",
          "Office Supplies",
          "Furniture",
          "Furniture",
          "Office Supplies",
          "Office Supplies",
          "Office Supplies",
          "Office Supplies",
          "Office Supplies",
          "Technology",
          "Office Supplies",
          "Office Supplies",
          "Furniture",
          "Office Supplies",
          "Technology",
          "Furniture",
          "Office Supplies",
          "Furniture",
          "Office Supplies",
          "Office Supplies",
          "Office Supplies",
          "Office Supplies",
          "Office Supplies",
          "Office Supplies",
          "Office Supplies",
          "Office Supplies",
          "Office Supplies",
          "Office Supplies",
          "Office Supplies",
          "Office Supplies",
          "Technology",
          "Furniture",
          "Office Supplies",
          "Office Supplies",
          "Office Supplies",
          "Office Supplies",
          "Furniture",
          "Technology",
          "Office Supplies",
          "Furniture",
          "Office Supplies",
          "Office Supplies",
          "Technology",
          "Technology",
          "Furniture",
          "Furniture",
          "Office Supplies",
          "Office Supplies",
          "Technology",
          "Office Supplies",
          "Office Supplies",
          "Office Supplies",
          "Technology",
          "Furniture",
          "Furniture",
          "Office Supplies",
          "Office Supplies",
          "Technology",
          "Office Supplies",
          "Furniture",
          "Technology",
          "Furniture",
          "Office Supplies",
          "Office Supplies",
          "Office Supplies",
          "Furniture",
          "Furniture",
          "Furniture",
          "Furniture",
          "Office Supplies",
          "Office Supplies",
          "Office Supplies",
          "Furniture",
          "Office Supplies",
          "Office Supplies",
          "Office Supplies",
          "Furniture",
          "Office Supplies",
          "Office Supplies",
          "Office Supplies",
          "Technology",
          "Office Supplies",
          "Office Supplies",
          "Furniture",
          "Technology",
          "Technology",
          "Furniture",
          "Office Supplies",
          "Office Supplies",
          "Office Supplies",
          "Office Supplies",
          "Furniture",
          "Office Supplies",
          "Office Supplies",
          "Office Supplies",
          "Office Supplies",
          "Office Supplies",
          "Furniture",
          "Office Supplies",
          "Technology",
          "Office Supplies",
          "Office Supplies",
          "Technology",
          "Furniture",
          "Furniture",
          "Office Supplies",
          "Office Supplies",
          "Technology",
          "Office Supplies",
          "Furniture",
          "Office Supplies",
          "Office Supplies",
          "Office Supplies",
          "Office Supplies",
          "Office Supplies",
          "Office Supplies",
          "Office Supplies",
          "Office Supplies",
          "Furniture",
          "Office Supplies",
          "Technology",
          "Technology",
          "Furniture",
          "Technology",
          "Office Supplies",
          "Office Supplies",
          "Office Supplies",
          "Office Supplies",
          "Technology",
          "Office Supplies",
          "Office Supplies",
          "Office Supplies",
          "Office Supplies",
          "Office Supplies",
          "Office Supplies",
          "Office Supplies",
          "Technology",
          "Technology",
          "Office Supplies",
          "Office Supplies",
          "Office Supplies",
          "Technology",
          "Furniture",
          "Office Supplies",
          "Technology",
          "Office Supplies",
          "Office Supplies",
          "Office Supplies",
          "Office Supplies",
          "Furniture",
          "Furniture",
          "Office Supplies",
          "Office Supplies",
          "Office Supplies",
          "Office Supplies",
          "Furniture",
          "Office Supplies",
          "Technology",
          "Furniture",
          "Furniture",
          "Furniture",
          "Office Supplies",
          "Office Supplies",
          "Office Supplies",
          "Furniture",
          "Office Supplies",
          "Office Supplies",
          "Office Supplies",
          "Furniture",
          "Technology",
          "Office Supplies",
          "Office Supplies",
          "Office Supplies",
          "Technology",
          "Furniture",
          "Office Supplies",
          "Office Supplies",
          "Office Supplies",
          "Office Supplies",
          "Office Supplies",
          "Technology",
          "Furniture",
          "Technology",
          "Furniture",
          "Office Supplies",
          "Office Supplies",
          "Office Supplies",
          "Office Supplies",
          "Office Supplies",
          "Office Supplies",
          "Office Supplies",
          "Technology",
          "Office Supplies",
          "Technology",
          "Furniture",
          "Furniture",
          "Office Supplies",
          "Office Supplies",
          "Office Supplies",
          "Office Supplies",
          "Office Supplies",
          "Office Supplies",
          "Office Supplies",
          "Office Supplies",
          "Office Supplies",
          "Office Supplies",
          "Office Supplies",
          "Office Supplies",
          "Office Supplies",
          "Technology",
          "Furniture",
          "Office Supplies",
          "Office Supplies",
          "Office Supplies",
          "Office Supplies",
          "Office Supplies",
          "Technology",
          "Office Supplies",
          "Office Supplies",
          "Office Supplies",
          "Furniture",
          "Office Supplies",
          "Office Supplies",
          "Furniture",
          "Office Supplies",
          "Furniture",
          "Office Supplies",
          "Furniture",
          "Furniture",
          "Office Supplies",
          "Office Supplies",
          "Technology",
          "Office Supplies",
          "Office Supplies",
          "Technology",
          "Furniture",
          "Office Supplies",
          "Office Supplies",
          "Office Supplies",
          "Technology",
          "Office Supplies",
          "Office Supplies",
          "Office Supplies",
          "Office Supplies",
          "Office Supplies",
          "Technology",
          "Office Supplies",
          "Office Supplies",
          "Office Supplies",
          "Office Supplies",
          "Furniture",
          "Technology",
          "Office Supplies",
          "Office Supplies",
          "Office Supplies",
          "Office Supplies",
          "Furniture",
          "Technology",
          "Office Supplies",
          "Office Supplies",
          "Office Supplies",
          "Office Supplies",
          "Office Supplies",
          "Office Supplies",
          "Office Supplies",
          "Office Supplies",
          "Office Supplies",
          "Furniture",
          "Office Supplies",
          "Office Supplies",
          "Office Supplies",
          "Office Supplies",
          "Office Supplies",
          "Office Supplies",
          "Furniture",
          "Office Supplies",
          "Office Supplies",
          "Office Supplies",
          "Technology",
          "Office Supplies",
          "Office Supplies",
          "Technology",
          "Office Supplies",
          "Office Supplies",
          "Office Supplies",
          "Office Supplies",
          "Office Supplies",
          "Furniture",
          "Furniture",
          "Technology",
          "Office Supplies",
          "Office Supplies",
          "Office Supplies",
          "Office Supplies",
          "Technology",
          "Office Supplies",
          "Furniture",
          "Office Supplies",
          "Furniture",
          "Office Supplies",
          "Office Supplies",
          "Office Supplies",
          "Office Supplies",
          "Office Supplies",
          "Office Supplies",
          "Technology",
          "Office Supplies",
          "Office Supplies",
          "Furniture",
          "Office Supplies",
          "Furniture",
          "Furniture",
          "Office Supplies",
          "Office Supplies",
          "Office Supplies",
          "Office Supplies",
          "Office Supplies",
          "Office Supplies",
          "Office Supplies",
          "Furniture",
          "Office Supplies",
          "Office Supplies",
          "Office Supplies",
          "Technology",
          "Office Supplies",
          "Office Supplies",
          "Furniture",
          "Office Supplies",
          "Office Supplies",
          "Technology",
          "Office Supplies",
          "Furniture",
          "Office Supplies",
          "Office Supplies",
          "Office Supplies",
          "Technology",
          "Technology",
          "Office Supplies",
          "Technology",
          "Furniture",
          "Furniture",
          "Office Supplies",
          "Furniture",
          "Office Supplies",
          "Office Supplies",
          "Technology",
          "Office Supplies",
          "Office Supplies",
          "Technology",
          "Office Supplies",
          "Office Supplies",
          "Technology",
          "Office Supplies",
          "Office Supplies",
          "Office Supplies",
          "Office Supplies",
          "Office Supplies",
          "Furniture",
          "Office Supplies",
          "Office Supplies",
          "Technology",
          "Office Supplies",
          "Office Supplies",
          "Office Supplies",
          "Furniture",
          "Office Supplies",
          "Office Supplies",
          "Office Supplies",
          "Technology",
          "Office Supplies",
          "Technology",
          "Office Supplies",
          "Office Supplies",
          "Office Supplies",
          "Technology",
          "Office Supplies",
          "Technology",
          "Office Supplies",
          "Office Supplies",
          "Technology",
          "Office Supplies",
          "Furniture",
          "Office Supplies",
          "Office Supplies",
          "Technology",
          "Furniture",
          "Technology",
          "Furniture",
          "Technology",
          "Office Supplies",
          "Office Supplies",
          "Technology",
          "Technology",
          "Furniture",
          "Office Supplies",
          "Technology",
          "Office Supplies",
          "Furniture",
          "Technology",
          "Office Supplies",
          "Office Supplies",
          "Office Supplies",
          "Furniture",
          "Office Supplies",
          "Furniture",
          "Furniture",
          "Technology",
          "Technology",
          "Furniture",
          "Technology",
          "Office Supplies",
          "Office Supplies",
          "Office Supplies",
          "Furniture",
          "Office Supplies",
          "Office Supplies",
          "Office Supplies",
          "Office Supplies",
          "Office Supplies",
          "Technology",
          "Office Supplies",
          "Office Supplies",
          "Office Supplies",
          "Technology",
          "Office Supplies",
          "Furniture",
          "Office Supplies",
          "Office Supplies",
          "Office Supplies",
          "Technology",
          "Office Supplies",
          "Office Supplies",
          "Technology",
          "Furniture",
          "Technology",
          "Technology",
          "Furniture",
          "Office Supplies",
          "Technology",
          "Office Supplies",
          "Office Supplies",
          "Furniture",
          "Technology",
          "Office Supplies",
          "Office Supplies",
          "Furniture",
          "Office Supplies",
          "Furniture",
          "Office Supplies",
          "Furniture",
          "Office Supplies",
          "Office Supplies",
          "Technology",
          "Office Supplies",
          "Office Supplies",
          "Office Supplies",
          "Technology",
          "Technology",
          "Office Supplies",
          "Office Supplies",
          "Office Supplies",
          "Office Supplies",
          "Office Supplies",
          "Office Supplies",
          "Furniture",
          "Technology",
          "Furniture",
          "Office Supplies",
          "Office Supplies",
          "Office Supplies",
          "Office Supplies",
          "Office Supplies",
          "Office Supplies",
          "Office Supplies",
          "Technology",
          "Furniture",
          "Technology",
          "Office Supplies",
          "Office Supplies",
          "Office Supplies",
          "Office Supplies",
          "Office Supplies",
          "Furniture",
          "Office Supplies",
          "Office Supplies",
          "Office Supplies",
          "Office Supplies",
          "Office Supplies",
          "Technology",
          "Office Supplies",
          "Office Supplies",
          "Technology",
          "Office Supplies",
          "Office Supplies",
          "Furniture",
          "Office Supplies",
          "Technology",
          "Office Supplies",
          "Technology",
          "Technology",
          "Office Supplies",
          "Furniture",
          "Technology",
          "Office Supplies",
          "Office Supplies",
          "Office Supplies",
          "Office Supplies",
          "Furniture",
          "Office Supplies",
          "Office Supplies",
          "Technology",
          "Furniture",
          "Office Supplies",
          "Office Supplies",
          "Furniture",
          "Office Supplies",
          "Office Supplies",
          "Furniture",
          "Furniture",
          "Technology",
          "Office Supplies",
          "Office Supplies",
          "Office Supplies",
          "Office Supplies",
          "Office Supplies",
          "Furniture",
          "Technology",
          "Furniture",
          "Furniture",
          "Technology",
          "Technology",
          "Furniture",
          "Furniture",
          "Furniture",
          "Office Supplies",
          "Office Supplies",
          "Office Supplies",
          "Furniture",
          "Office Supplies",
          "Office Supplies",
          "Furniture",
          "Office Supplies",
          "Office Supplies",
          "Office Supplies",
          "Office Supplies",
          "Furniture",
          "Office Supplies",
          "Office Supplies",
          "Furniture",
          "Technology",
          "Office Supplies",
          "Office Supplies",
          "Office Supplies",
          "Office Supplies",
          "Office Supplies",
          "Office Supplies",
          "Technology",
          "Technology",
          "Furniture",
          "Technology",
          "Office Supplies",
          "Office Supplies",
          "Furniture",
          "Office Supplies",
          "Office Supplies",
          "Office Supplies",
          "Office Supplies",
          "Technology",
          "Office Supplies",
          "Office Supplies",
          "Technology",
          "Technology",
          "Furniture",
          "Office Supplies",
          "Office Supplies",
          "Office Supplies",
          "Office Supplies",
          "Office Supplies",
          "Office Supplies",
          "Office Supplies",
          "Office Supplies",
          "Office Supplies",
          "Office Supplies",
          "Office Supplies",
          "Office Supplies",
          "Office Supplies",
          "Office Supplies",
          "Office Supplies",
          "Office Supplies",
          "Furniture",
          "Furniture",
          "Office Supplies",
          "Technology",
          "Office Supplies",
          "Office Supplies",
          "Office Supplies",
          "Office Supplies",
          "Furniture",
          "Office Supplies",
          "Office Supplies",
          "Furniture",
          "Furniture",
          "Office Supplies",
          "Furniture",
          "Furniture",
          "Office Supplies",
          "Furniture",
          "Furniture",
          "Technology",
          "Office Supplies",
          "Office Supplies",
          "Office Supplies",
          "Office Supplies",
          "Office Supplies",
          "Furniture",
          "Technology",
          "Office Supplies",
          "Office Supplies",
          "Technology",
          "Office Supplies",
          "Technology",
          "Office Supplies",
          "Office Supplies",
          "Office Supplies",
          "Furniture",
          "Furniture",
          "Office Supplies",
          "Office Supplies",
          "Office Supplies",
          "Office Supplies",
          "Technology",
          "Office Supplies",
          "Furniture",
          "Technology",
          "Office Supplies",
          "Office Supplies",
          "Office Supplies",
          "Office Supplies",
          "Technology",
          "Furniture",
          "Office Supplies",
          "Furniture",
          "Furniture",
          "Office Supplies",
          "Furniture",
          "Technology",
          "Technology",
          "Furniture",
          "Office Supplies",
          "Technology",
          "Office Supplies",
          "Furniture",
          "Office Supplies",
          "Office Supplies",
          "Office Supplies",
          "Office Supplies",
          "Office Supplies",
          "Furniture",
          "Office Supplies",
          "Office Supplies",
          "Furniture",
          "Office Supplies",
          "Office Supplies",
          "Furniture",
          "Office Supplies",
          "Office Supplies",
          "Furniture",
          "Technology",
          "Office Supplies",
          "Office Supplies",
          "Furniture",
          "Technology",
          "Office Supplies",
          "Furniture",
          "Furniture",
          "Furniture",
          "Office Supplies",
          "Technology",
          "Furniture",
          "Office Supplies",
          "Office Supplies",
          "Office Supplies",
          "Office Supplies",
          "Furniture",
          "Office Supplies",
          "Furniture",
          "Furniture",
          "Furniture",
          "Office Supplies",
          "Office Supplies",
          "Furniture",
          "Office Supplies",
          "Furniture",
          "Office Supplies",
          "Office Supplies",
          "Furniture",
          "Office Supplies",
          "Office Supplies",
          "Technology",
          "Office Supplies",
          "Furniture",
          "Office Supplies",
          "Office Supplies",
          "Furniture",
          "Office Supplies",
          "Office Supplies",
          "Office Supplies",
          "Office Supplies",
          "Office Supplies",
          "Office Supplies",
          "Technology",
          "Technology",
          "Office Supplies",
          "Technology",
          "Technology",
          "Office Supplies",
          "Office Supplies",
          "Office Supplies",
          "Office Supplies",
          "Office Supplies",
          "Office Supplies",
          "Office Supplies",
          "Technology",
          "Office Supplies",
          "Furniture",
          "Office Supplies",
          "Office Supplies",
          "Technology",
          "Office Supplies",
          "Office Supplies",
          "Furniture",
          "Office Supplies",
          "Furniture",
          "Office Supplies",
          "Office Supplies",
          "Technology",
          "Technology",
          "Office Supplies",
          "Office Supplies",
          "Office Supplies",
          "Furniture",
          "Furniture",
          "Office Supplies",
          "Furniture",
          "Office Supplies",
          "Technology",
          "Office Supplies",
          "Office Supplies",
          "Office Supplies",
          "Office Supplies",
          "Technology",
          "Office Supplies",
          "Office Supplies",
          "Office Supplies",
          "Technology",
          "Technology",
          "Office Supplies",
          "Technology",
          "Technology",
          "Office Supplies",
          "Office Supplies",
          "Office Supplies",
          "Office Supplies",
          "Office Supplies",
          "Furniture",
          "Office Supplies",
          "Furniture",
          "Office Supplies",
          "Office Supplies",
          "Furniture",
          "Technology",
          "Technology",
          "Office Supplies",
          "Office Supplies",
          "Technology",
          "Technology",
          "Office Supplies",
          "Office Supplies",
          "Office Supplies",
          "Office Supplies",
          "Office Supplies",
          "Office Supplies",
          "Technology",
          "Technology",
          "Office Supplies",
          "Office Supplies",
          "Technology",
          "Office Supplies",
          "Office Supplies",
          "Technology",
          "Technology",
          "Technology",
          "Office Supplies",
          "Office Supplies",
          "Office Supplies",
          "Technology",
          "Furniture",
          "Furniture",
          "Office Supplies",
          "Furniture",
          "Office Supplies",
          "Office Supplies",
          "Office Supplies",
          "Office Supplies",
          "Office Supplies",
          "Technology",
          "Furniture",
          "Office Supplies",
          "Furniture",
          "Office Supplies",
          "Office Supplies",
          "Office Supplies",
          "Technology",
          "Office Supplies",
          "Office Supplies",
          "Office Supplies",
          "Technology",
          "Technology",
          "Office Supplies",
          "Technology",
          "Office Supplies",
          "Furniture",
          "Office Supplies",
          "Office Supplies",
          "Office Supplies",
          "Office Supplies",
          "Office Supplies",
          "Furniture",
          "Office Supplies",
          "Furniture",
          "Office Supplies",
          "Furniture",
          "Office Supplies",
          "Office Supplies",
          "Office Supplies",
          "Furniture",
          "Office Supplies",
          "Furniture",
          "Furniture",
          "Office Supplies",
          "Office Supplies",
          "Furniture",
          "Office Supplies",
          "Furniture",
          "Office Supplies",
          "Office Supplies",
          "Office Supplies",
          "Office Supplies",
          "Office Supplies",
          "Office Supplies",
          "Technology",
          "Technology",
          "Technology",
          "Office Supplies",
          "Furniture",
          "Office Supplies",
          "Office Supplies",
          "Technology",
          "Office Supplies",
          "Office Supplies",
          "Furniture",
          "Office Supplies",
          "Office Supplies",
          "Office Supplies",
          "Furniture",
          "Office Supplies",
          "Technology",
          "Office Supplies",
          "Office Supplies",
          "Technology",
          "Furniture",
          "Office Supplies",
          "Furniture",
          "Office Supplies",
          "Office Supplies",
          "Technology",
          "Office Supplies",
          "Office Supplies",
          "Furniture",
          "Office Supplies",
          "Technology",
          "Office Supplies",
          "Office Supplies",
          "Technology",
          "Office Supplies",
          "Technology",
          "Technology",
          "Furniture",
          "Furniture",
          "Office Supplies",
          "Office Supplies",
          "Technology",
          "Office Supplies",
          "Office Supplies",
          "Office Supplies",
          "Office Supplies",
          "Office Supplies",
          "Office Supplies",
          "Technology",
          "Office Supplies",
          "Technology",
          "Technology",
          "Technology",
          "Technology",
          "Office Supplies",
          "Office Supplies",
          "Office Supplies",
          "Office Supplies",
          "Office Supplies",
          "Furniture",
          "Office Supplies",
          "Office Supplies",
          "Furniture",
          "Office Supplies",
          "Office Supplies",
          "Office Supplies",
          "Furniture",
          "Technology",
          "Office Supplies",
          "Technology",
          "Office Supplies",
          "Office Supplies",
          "Technology",
          "Office Supplies",
          "Furniture",
          "Furniture",
          "Furniture",
          "Office Supplies",
          "Office Supplies",
          "Office Supplies",
          "Office Supplies",
          "Office Supplies",
          "Technology",
          "Office Supplies",
          "Office Supplies",
          "Technology",
          "Office Supplies",
          "Furniture",
          "Technology",
          "Office Supplies",
          "Technology",
          "Office Supplies",
          "Office Supplies",
          "Office Supplies",
          "Technology",
          "Technology",
          "Furniture",
          "Office Supplies",
          "Office Supplies",
          "Furniture",
          "Office Supplies",
          "Furniture",
          "Office Supplies",
          "Furniture",
          "Office Supplies",
          "Technology",
          "Office Supplies",
          "Office Supplies",
          "Office Supplies",
          "Office Supplies",
          "Office Supplies",
          "Furniture",
          "Office Supplies",
          "Office Supplies",
          "Technology",
          "Technology",
          "Office Supplies",
          "Office Supplies",
          "Office Supplies",
          "Office Supplies",
          "Office Supplies",
          "Technology",
          "Office Supplies",
          "Office Supplies",
          "Office Supplies",
          "Furniture",
          "Furniture",
          "Office Supplies",
          "Office Supplies",
          "Technology",
          "Technology",
          "Technology",
          "Technology",
          "Office Supplies",
          "Office Supplies",
          "Office Supplies",
          "Office Supplies",
          "Furniture",
          "Office Supplies",
          "Technology",
          "Office Supplies",
          "Furniture",
          "Furniture",
          "Technology",
          "Technology",
          "Furniture",
          "Furniture",
          "Office Supplies",
          "Furniture",
          "Furniture",
          "Technology",
          "Furniture",
          "Office Supplies",
          "Office Supplies",
          "Office Supplies",
          "Office Supplies",
          "Technology",
          "Furniture",
          "Furniture",
          "Furniture",
          "Office Supplies",
          "Office Supplies",
          "Furniture",
          "Office Supplies",
          "Office Supplies",
          "Furniture",
          "Furniture",
          "Office Supplies",
          "Office Supplies",
          "Office Supplies",
          "Office Supplies",
          "Furniture",
          "Office Supplies",
          "Office Supplies",
          "Office Supplies",
          "Office Supplies",
          "Office Supplies",
          "Technology",
          "Furniture",
          "Office Supplies",
          "Technology",
          "Furniture",
          "Office Supplies",
          "Office Supplies",
          "Office Supplies",
          "Office Supplies",
          "Office Supplies",
          "Office Supplies",
          "Office Supplies",
          "Technology",
          "Furniture",
          "Technology",
          "Office Supplies",
          "Office Supplies",
          "Office Supplies",
          "Technology",
          "Technology",
          "Furniture",
          "Office Supplies",
          "Office Supplies",
          "Office Supplies",
          "Office Supplies",
          "Office Supplies",
          "Technology",
          "Office Supplies",
          "Office Supplies",
          "Office Supplies",
          "Furniture",
          "Office Supplies",
          "Furniture",
          "Office Supplies",
          "Office Supplies",
          "Technology",
          "Office Supplies",
          "Furniture",
          "Furniture",
          "Office Supplies",
          "Office Supplies",
          "Office Supplies",
          "Office Supplies",
          "Office Supplies",
          "Technology",
          "Office Supplies",
          "Furniture",
          "Technology",
          "Office Supplies",
          "Office Supplies",
          "Furniture",
          "Office Supplies",
          "Furniture",
          "Technology",
          "Office Supplies",
          "Technology",
          "Technology",
          "Office Supplies",
          "Technology",
          "Technology",
          "Office Supplies",
          "Office Supplies",
          "Office Supplies",
          "Office Supplies",
          "Technology",
          "Technology",
          "Office Supplies",
          "Office Supplies",
          "Technology",
          "Technology",
          "Technology",
          "Office Supplies",
          "Office Supplies",
          "Furniture",
          "Office Supplies",
          "Furniture",
          "Office Supplies",
          "Furniture",
          "Office Supplies",
          "Office Supplies",
          "Furniture",
          "Office Supplies",
          "Office Supplies",
          "Furniture",
          "Technology",
          "Office Supplies",
          "Office Supplies",
          "Office Supplies",
          "Furniture",
          "Technology",
          "Technology",
          "Technology",
          "Technology",
          "Furniture",
          "Office Supplies",
          "Office Supplies",
          "Furniture",
          "Office Supplies",
          "Office Supplies",
          "Technology",
          "Furniture",
          "Technology",
          "Office Supplies",
          "Office Supplies",
          "Office Supplies",
          "Furniture",
          "Furniture",
          "Office Supplies",
          "Technology",
          "Office Supplies",
          "Technology",
          "Office Supplies",
          "Office Supplies",
          "Furniture",
          "Office Supplies",
          "Technology",
          "Office Supplies",
          "Furniture",
          "Office Supplies",
          "Office Supplies",
          "Office Supplies",
          "Office Supplies",
          "Furniture",
          "Technology",
          "Office Supplies",
          "Office Supplies",
          "Office Supplies",
          "Furniture",
          "Office Supplies",
          "Office Supplies",
          "Office Supplies",
          "Furniture",
          "Office Supplies",
          "Office Supplies",
          "Furniture",
          "Office Supplies",
          "Furniture",
          "Office Supplies",
          "Office Supplies",
          "Furniture",
          "Office Supplies",
          "Office Supplies",
          "Furniture",
          "Technology",
          "Office Supplies",
          "Technology",
          "Office Supplies",
          "Office Supplies",
          "Furniture",
          "Office Supplies",
          "Office Supplies",
          "Office Supplies",
          "Furniture",
          "Office Supplies",
          "Furniture",
          "Technology",
          "Office Supplies",
          "Technology",
          "Technology",
          "Office Supplies",
          "Office Supplies",
          "Office Supplies",
          "Office Supplies",
          "Office Supplies",
          "Office Supplies",
          "Furniture",
          "Office Supplies",
          "Office Supplies",
          "Office Supplies",
          "Furniture",
          "Furniture",
          "Office Supplies",
          "Furniture",
          "Furniture",
          "Technology",
          "Office Supplies",
          "Furniture",
          "Office Supplies",
          "Office Supplies",
          "Technology",
          "Technology",
          "Office Supplies",
          "Office Supplies",
          "Furniture",
          "Technology",
          "Office Supplies",
          "Furniture",
          "Office Supplies",
          "Office Supplies",
          "Furniture",
          "Furniture",
          "Office Supplies",
          "Office Supplies",
          "Technology",
          "Office Supplies",
          "Furniture",
          "Office Supplies",
          "Office Supplies",
          "Office Supplies",
          "Office Supplies",
          "Furniture",
          "Furniture",
          "Furniture",
          "Office Supplies",
          "Office Supplies",
          "Office Supplies",
          "Office Supplies",
          "Office Supplies",
          "Office Supplies",
          "Furniture",
          "Office Supplies",
          "Office Supplies",
          "Furniture",
          "Furniture",
          "Furniture",
          "Office Supplies",
          "Office Supplies",
          "Office Supplies",
          "Office Supplies",
          "Office Supplies",
          "Office Supplies",
          "Office Supplies",
          "Office Supplies",
          "Furniture",
          "Office Supplies",
          "Furniture",
          "Furniture",
          "Office Supplies",
          "Office Supplies",
          "Technology",
          "Office Supplies",
          "Office Supplies",
          "Office Supplies",
          "Office Supplies",
          "Office Supplies",
          "Technology",
          "Office Supplies",
          "Office Supplies",
          "Office Supplies",
          "Office Supplies",
          "Furniture",
          "Technology",
          "Office Supplies",
          "Office Supplies",
          "Furniture",
          "Office Supplies",
          "Office Supplies",
          "Office Supplies",
          "Office Supplies",
          "Technology",
          "Office Supplies",
          "Office Supplies",
          "Furniture",
          "Office Supplies",
          "Office Supplies",
          "Office Supplies",
          "Office Supplies",
          "Office Supplies",
          "Furniture",
          "Office Supplies",
          "Furniture",
          "Furniture",
          "Technology",
          "Technology",
          "Office Supplies",
          "Technology",
          "Furniture",
          "Office Supplies",
          "Technology",
          "Furniture",
          "Office Supplies",
          "Furniture",
          "Furniture",
          "Office Supplies",
          "Technology",
          "Office Supplies",
          "Technology",
          "Technology",
          "Furniture",
          "Technology",
          "Technology",
          "Technology",
          "Office Supplies",
          "Technology",
          "Office Supplies",
          "Technology",
          "Furniture",
          "Technology",
          "Office Supplies",
          "Office Supplies",
          "Office Supplies",
          "Office Supplies",
          "Technology",
          "Office Supplies",
          "Office Supplies",
          "Office Supplies",
          "Office Supplies",
          "Furniture",
          "Furniture",
          "Office Supplies",
          "Office Supplies",
          "Office Supplies",
          "Furniture",
          "Furniture",
          "Technology",
          "Office Supplies",
          "Office Supplies",
          "Office Supplies",
          "Office Supplies",
          "Technology",
          "Office Supplies",
          "Office Supplies",
          "Office Supplies",
          "Office Supplies",
          "Furniture",
          "Furniture",
          "Office Supplies",
          "Office Supplies",
          "Office Supplies",
          "Office Supplies",
          "Technology",
          "Furniture",
          "Office Supplies",
          "Furniture",
          "Office Supplies",
          "Office Supplies",
          "Office Supplies",
          "Furniture",
          "Office Supplies",
          "Office Supplies",
          "Office Supplies",
          "Office Supplies",
          "Furniture",
          "Office Supplies",
          "Technology",
          "Furniture",
          "Office Supplies",
          "Office Supplies",
          "Furniture",
          "Office Supplies",
          "Furniture",
          "Furniture",
          "Office Supplies",
          "Office Supplies",
          "Furniture",
          "Office Supplies",
          "Office Supplies",
          "Furniture",
          "Furniture",
          "Technology",
          "Furniture",
          "Office Supplies",
          "Office Supplies",
          "Technology",
          "Office Supplies",
          "Technology",
          "Office Supplies",
          "Technology",
          "Furniture",
          "Furniture",
          "Office Supplies",
          "Office Supplies",
          "Office Supplies",
          "Office Supplies",
          "Technology",
          "Office Supplies",
          "Technology",
          "Office Supplies",
          "Office Supplies",
          "Office Supplies",
          "Technology",
          "Office Supplies",
          "Office Supplies",
          "Furniture",
          "Furniture",
          "Office Supplies",
          "Furniture",
          "Office Supplies",
          "Office Supplies",
          "Furniture",
          "Office Supplies",
          "Office Supplies",
          "Office Supplies",
          "Technology",
          "Technology",
          "Furniture",
          "Furniture",
          "Office Supplies",
          "Furniture",
          "Furniture",
          "Office Supplies",
          "Office Supplies",
          "Office Supplies",
          "Office Supplies",
          "Office Supplies",
          "Office Supplies",
          "Furniture",
          "Office Supplies",
          "Office Supplies",
          "Office Supplies",
          "Office Supplies",
          "Office Supplies",
          "Technology",
          "Office Supplies",
          "Office Supplies",
          "Technology",
          "Office Supplies",
          "Office Supplies",
          "Office Supplies",
          "Office Supplies",
          "Furniture",
          "Furniture",
          "Technology",
          "Office Supplies",
          "Office Supplies",
          "Office Supplies",
          "Office Supplies",
          "Office Supplies",
          "Office Supplies",
          "Technology",
          "Technology",
          "Office Supplies",
          "Furniture",
          "Office Supplies",
          "Furniture",
          "Office Supplies",
          "Office Supplies",
          "Technology",
          "Office Supplies",
          "Office Supplies",
          "Furniture",
          "Office Supplies",
          "Office Supplies",
          "Furniture",
          "Technology",
          "Office Supplies",
          "Technology",
          "Office Supplies",
          "Office Supplies",
          "Furniture",
          "Office Supplies",
          "Office Supplies",
          "Furniture",
          "Technology",
          "Furniture",
          "Technology",
          "Technology",
          "Furniture",
          "Office Supplies",
          "Office Supplies",
          "Technology",
          "Office Supplies",
          "Office Supplies",
          "Furniture",
          "Office Supplies",
          "Office Supplies",
          "Furniture",
          "Furniture",
          "Office Supplies",
          "Technology",
          "Office Supplies",
          "Technology",
          "Office Supplies",
          "Furniture",
          "Furniture",
          "Office Supplies",
          "Office Supplies",
          "Technology",
          "Office Supplies",
          "Office Supplies",
          "Furniture",
          "Office Supplies",
          "Technology",
          "Office Supplies",
          "Furniture",
          "Office Supplies",
          "Furniture",
          "Office Supplies",
          "Technology",
          "Office Supplies",
          "Office Supplies",
          "Furniture",
          "Office Supplies",
          "Office Supplies",
          "Office Supplies",
          "Technology",
          "Office Supplies",
          "Office Supplies",
          "Office Supplies",
          "Office Supplies",
          "Office Supplies",
          "Technology",
          "Furniture",
          "Furniture",
          "Furniture",
          "Office Supplies",
          "Furniture",
          "Office Supplies",
          "Office Supplies",
          "Furniture",
          "Office Supplies",
          "Technology",
          "Office Supplies",
          "Technology",
          "Office Supplies",
          "Office Supplies",
          "Office Supplies",
          "Furniture",
          "Furniture",
          "Technology",
          "Office Supplies",
          "Office Supplies",
          "Office Supplies",
          "Office Supplies",
          "Office Supplies",
          "Office Supplies",
          "Technology",
          "Office Supplies",
          "Furniture",
          "Office Supplies",
          "Office Supplies",
          "Office Supplies",
          "Office Supplies",
          "Technology",
          "Technology",
          "Office Supplies",
          "Office Supplies",
          "Furniture",
          "Office Supplies",
          "Office Supplies",
          "Office Supplies",
          "Office Supplies",
          "Technology",
          "Furniture",
          "Office Supplies",
          "Office Supplies",
          "Office Supplies",
          "Office Supplies",
          "Technology",
          "Office Supplies",
          "Office Supplies",
          "Technology",
          "Office Supplies",
          "Technology",
          "Technology",
          "Furniture",
          "Technology",
          "Furniture",
          "Office Supplies",
          "Office Supplies",
          "Furniture",
          "Office Supplies",
          "Office Supplies",
          "Office Supplies",
          "Furniture",
          "Office Supplies",
          "Office Supplies",
          "Office Supplies",
          "Furniture",
          "Office Supplies",
          "Technology",
          "Technology",
          "Technology",
          "Office Supplies",
          "Office Supplies",
          "Furniture",
          "Office Supplies",
          "Office Supplies",
          "Furniture",
          "Furniture",
          "Technology",
          "Technology",
          "Technology",
          "Office Supplies",
          "Furniture",
          "Office Supplies",
          "Office Supplies",
          "Office Supplies",
          "Technology",
          "Office Supplies",
          "Office Supplies",
          "Furniture",
          "Office Supplies",
          "Office Supplies",
          "Furniture",
          "Office Supplies",
          "Office Supplies",
          "Office Supplies",
          "Furniture",
          "Technology",
          "Office Supplies",
          "Furniture",
          "Office Supplies",
          "Office Supplies",
          "Office Supplies",
          "Office Supplies",
          "Technology",
          "Furniture",
          "Office Supplies",
          "Office Supplies",
          "Office Supplies",
          "Office Supplies",
          "Office Supplies",
          "Office Supplies",
          "Office Supplies",
          "Office Supplies",
          "Office Supplies",
          "Office Supplies",
          "Office Supplies",
          "Office Supplies",
          "Technology",
          "Office Supplies",
          "Technology",
          "Furniture",
          "Office Supplies",
          "Technology",
          "Furniture",
          "Technology",
          "Furniture",
          "Office Supplies",
          "Office Supplies",
          "Technology",
          "Office Supplies",
          "Office Supplies",
          "Furniture",
          "Office Supplies",
          "Office Supplies",
          "Furniture",
          "Furniture",
          "Technology",
          "Furniture",
          "Office Supplies",
          "Furniture",
          "Furniture",
          "Furniture",
          "Technology",
          "Office Supplies",
          "Office Supplies",
          "Office Supplies",
          "Office Supplies",
          "Office Supplies",
          "Office Supplies",
          "Furniture",
          "Office Supplies",
          "Office Supplies",
          "Technology",
          "Office Supplies",
          "Office Supplies",
          "Office Supplies",
          "Furniture",
          "Office Supplies",
          "Furniture",
          "Office Supplies",
          "Office Supplies",
          "Furniture",
          "Office Supplies",
          "Technology",
          "Office Supplies",
          "Office Supplies",
          "Office Supplies",
          "Office Supplies",
          "Technology",
          "Office Supplies",
          "Office Supplies",
          "Office Supplies",
          "Office Supplies",
          "Technology",
          "Office Supplies",
          "Office Supplies",
          "Office Supplies",
          "Furniture",
          "Office Supplies",
          "Office Supplies",
          "Office Supplies",
          "Office Supplies",
          "Furniture",
          "Office Supplies",
          "Office Supplies",
          "Office Supplies",
          "Furniture",
          "Technology",
          "Technology",
          "Furniture",
          "Technology",
          "Office Supplies",
          "Technology",
          "Office Supplies",
          "Office Supplies",
          "Technology",
          "Office Supplies",
          "Office Supplies",
          "Office Supplies",
          "Office Supplies",
          "Furniture",
          "Technology",
          "Office Supplies",
          "Office Supplies",
          "Technology",
          "Office Supplies",
          "Office Supplies",
          "Office Supplies",
          "Office Supplies",
          "Technology",
          "Office Supplies",
          "Office Supplies",
          "Office Supplies",
          "Technology",
          "Office Supplies",
          "Technology",
          "Office Supplies",
          "Technology",
          "Office Supplies",
          "Furniture",
          "Furniture",
          "Furniture",
          "Office Supplies",
          "Technology",
          "Furniture",
          "Office Supplies",
          "Office Supplies",
          "Furniture",
          "Technology",
          "Office Supplies",
          "Office Supplies",
          "Furniture",
          "Technology",
          "Office Supplies",
          "Technology",
          "Technology",
          "Office Supplies",
          "Office Supplies",
          "Office Supplies",
          "Office Supplies",
          "Office Supplies",
          "Office Supplies",
          "Office Supplies",
          "Office Supplies",
          "Furniture",
          "Office Supplies",
          "Office Supplies",
          "Office Supplies",
          "Technology",
          "Office Supplies",
          "Office Supplies",
          "Furniture",
          "Office Supplies",
          "Furniture",
          "Technology",
          "Furniture",
          "Office Supplies",
          "Furniture",
          "Office Supplies",
          "Office Supplies",
          "Technology",
          "Office Supplies",
          "Office Supplies",
          "Technology",
          "Office Supplies",
          "Office Supplies",
          "Technology",
          "Office Supplies",
          "Office Supplies",
          "Furniture",
          "Office Supplies",
          "Office Supplies",
          "Technology",
          "Furniture",
          "Office Supplies",
          "Technology",
          "Office Supplies",
          "Office Supplies",
          "Technology",
          "Office Supplies",
          "Furniture",
          "Office Supplies",
          "Furniture",
          "Office Supplies",
          "Technology",
          "Furniture",
          "Office Supplies",
          "Technology",
          "Furniture",
          "Furniture",
          "Office Supplies",
          "Office Supplies",
          "Office Supplies",
          "Office Supplies",
          "Furniture",
          "Office Supplies",
          "Furniture",
          "Office Supplies",
          "Office Supplies",
          "Office Supplies",
          "Office Supplies",
          "Office Supplies",
          "Technology",
          "Office Supplies",
          "Office Supplies",
          "Furniture",
          "Technology",
          "Office Supplies",
          "Office Supplies",
          "Office Supplies",
          "Office Supplies",
          "Technology",
          "Furniture",
          "Office Supplies",
          "Furniture",
          "Office Supplies",
          "Technology",
          "Office Supplies",
          "Technology",
          "Furniture",
          "Technology",
          "Technology",
          "Office Supplies",
          "Office Supplies",
          "Furniture",
          "Office Supplies",
          "Office Supplies",
          "Technology",
          "Office Supplies",
          "Technology",
          "Office Supplies",
          "Furniture",
          "Technology",
          "Furniture",
          "Technology",
          "Office Supplies",
          "Office Supplies",
          "Office Supplies",
          "Office Supplies",
          "Office Supplies",
          "Furniture",
          "Furniture",
          "Office Supplies",
          "Technology",
          "Technology",
          "Office Supplies",
          "Technology",
          "Furniture",
          "Office Supplies",
          "Technology",
          "Office Supplies",
          "Technology",
          "Technology",
          "Office Supplies",
          "Office Supplies",
          "Office Supplies",
          "Office Supplies",
          "Furniture",
          "Office Supplies",
          "Office Supplies",
          "Office Supplies",
          "Office Supplies",
          "Office Supplies",
          "Office Supplies",
          "Technology",
          "Furniture",
          "Furniture",
          "Office Supplies",
          "Office Supplies",
          "Office Supplies",
          "Office Supplies",
          "Furniture",
          "Office Supplies",
          "Office Supplies",
          "Technology",
          "Office Supplies",
          "Office Supplies",
          "Technology",
          "Office Supplies",
          "Office Supplies",
          "Office Supplies",
          "Office Supplies",
          "Technology",
          "Technology",
          "Office Supplies",
          "Furniture",
          "Furniture",
          "Office Supplies",
          "Technology",
          "Furniture",
          "Office Supplies",
          "Furniture",
          "Technology",
          "Office Supplies",
          "Office Supplies",
          "Office Supplies",
          "Office Supplies",
          "Furniture",
          "Office Supplies",
          "Furniture",
          "Furniture",
          "Office Supplies",
          "Office Supplies",
          "Technology",
          "Office Supplies",
          "Office Supplies",
          "Office Supplies",
          "Office Supplies",
          "Furniture",
          "Office Supplies",
          "Office Supplies",
          "Office Supplies",
          "Office Supplies",
          "Furniture",
          "Office Supplies",
          "Furniture",
          "Office Supplies",
          "Office Supplies",
          "Office Supplies",
          "Furniture",
          "Office Supplies",
          "Technology",
          "Office Supplies",
          "Office Supplies",
          "Technology",
          "Technology",
          "Furniture",
          "Technology",
          "Technology",
          "Office Supplies",
          "Office Supplies",
          "Furniture",
          "Technology",
          "Office Supplies",
          "Technology",
          "Furniture",
          "Office Supplies",
          "Furniture",
          "Office Supplies",
          "Office Supplies",
          "Office Supplies",
          "Office Supplies",
          "Technology",
          "Office Supplies",
          "Office Supplies",
          "Office Supplies",
          "Office Supplies",
          "Office Supplies",
          "Office Supplies",
          "Furniture",
          "Office Supplies",
          "Furniture",
          "Office Supplies",
          "Office Supplies",
          "Office Supplies",
          "Office Supplies",
          "Technology",
          "Furniture",
          "Technology",
          "Office Supplies",
          "Office Supplies",
          "Furniture",
          "Office Supplies",
          "Technology",
          "Furniture",
          "Furniture",
          "Office Supplies",
          "Office Supplies",
          "Office Supplies",
          "Office Supplies",
          "Office Supplies",
          "Furniture",
          "Furniture",
          "Office Supplies",
          "Furniture",
          "Furniture",
          "Technology",
          "Office Supplies",
          "Technology",
          "Office Supplies",
          "Furniture",
          "Furniture",
          "Office Supplies",
          "Technology",
          "Office Supplies",
          "Technology",
          "Office Supplies",
          "Office Supplies",
          "Office Supplies",
          "Furniture",
          "Office Supplies",
          "Technology",
          "Office Supplies",
          "Technology",
          "Technology",
          "Office Supplies",
          "Furniture",
          "Office Supplies",
          "Office Supplies",
          "Technology",
          "Office Supplies",
          "Furniture",
          "Office Supplies",
          "Furniture",
          "Technology",
          "Technology",
          "Office Supplies",
          "Office Supplies",
          "Furniture",
          "Furniture",
          "Office Supplies",
          "Office Supplies",
          "Office Supplies",
          "Furniture",
          "Office Supplies",
          "Office Supplies",
          "Furniture",
          "Office Supplies",
          "Office Supplies",
          "Technology",
          "Office Supplies",
          "Office Supplies",
          "Office Supplies",
          "Furniture",
          "Office Supplies",
          "Technology",
          "Office Supplies",
          "Technology",
          "Furniture",
          "Office Supplies",
          "Office Supplies",
          "Office Supplies",
          "Office Supplies",
          "Furniture",
          "Office Supplies",
          "Furniture",
          "Office Supplies",
          "Office Supplies",
          "Technology",
          "Office Supplies",
          "Office Supplies",
          "Office Supplies",
          "Office Supplies",
          "Office Supplies",
          "Technology",
          "Office Supplies",
          "Office Supplies",
          "Office Supplies",
          "Office Supplies",
          "Furniture",
          "Office Supplies",
          "Furniture",
          "Office Supplies",
          "Technology",
          "Office Supplies",
          "Technology",
          "Technology",
          "Office Supplies",
          "Furniture",
          "Furniture",
          "Office Supplies",
          "Office Supplies",
          "Furniture",
          "Furniture",
          "Technology",
          "Office Supplies",
          "Office Supplies",
          "Office Supplies",
          "Furniture",
          "Office Supplies",
          "Technology",
          "Office Supplies",
          "Office Supplies",
          "Office Supplies",
          "Office Supplies",
          "Office Supplies",
          "Office Supplies",
          "Office Supplies",
          "Furniture",
          "Office Supplies",
          "Furniture",
          "Office Supplies",
          "Office Supplies",
          "Office Supplies",
          "Office Supplies",
          "Office Supplies",
          "Office Supplies",
          "Office Supplies",
          "Office Supplies",
          "Office Supplies",
          "Furniture",
          "Office Supplies",
          "Furniture",
          "Office Supplies",
          "Technology",
          "Office Supplies",
          "Technology",
          "Office Supplies",
          "Office Supplies",
          "Technology",
          "Furniture",
          "Office Supplies",
          "Office Supplies",
          "Office Supplies",
          "Office Supplies",
          "Furniture",
          "Furniture",
          "Technology",
          "Office Supplies",
          "Office Supplies",
          "Office Supplies",
          "Furniture",
          "Office Supplies",
          "Office Supplies",
          "Technology",
          "Furniture",
          "Office Supplies",
          "Furniture",
          "Office Supplies",
          "Office Supplies",
          "Office Supplies",
          "Office Supplies",
          "Office Supplies",
          "Office Supplies",
          "Office Supplies",
          "Office Supplies",
          "Office Supplies",
          "Technology",
          "Furniture",
          "Furniture",
          "Office Supplies",
          "Office Supplies",
          "Furniture",
          "Office Supplies",
          "Furniture",
          "Office Supplies",
          "Office Supplies",
          "Furniture",
          "Office Supplies",
          "Office Supplies",
          "Office Supplies",
          "Furniture",
          "Office Supplies",
          "Office Supplies",
          "Technology",
          "Furniture",
          "Furniture",
          "Office Supplies",
          "Furniture",
          "Furniture",
          "Technology",
          "Technology",
          "Technology",
          "Furniture",
          "Technology",
          "Office Supplies",
          "Office Supplies",
          "Office Supplies",
          "Furniture",
          "Office Supplies",
          "Technology",
          "Furniture",
          "Office Supplies",
          "Furniture",
          "Technology",
          "Furniture",
          "Office Supplies",
          "Office Supplies",
          "Office Supplies",
          "Furniture",
          "Furniture",
          "Furniture",
          "Office Supplies",
          "Office Supplies",
          "Furniture",
          "Office Supplies",
          "Technology",
          "Office Supplies",
          "Office Supplies",
          "Office Supplies",
          "Technology",
          "Office Supplies",
          "Office Supplies",
          "Furniture",
          "Technology",
          "Office Supplies",
          "Furniture",
          "Office Supplies",
          "Office Supplies",
          "Technology",
          "Office Supplies",
          "Technology",
          "Office Supplies",
          "Office Supplies",
          "Furniture",
          "Furniture",
          "Office Supplies",
          "Technology",
          "Office Supplies",
          "Furniture",
          "Furniture",
          "Office Supplies",
          "Office Supplies",
          "Technology",
          "Office Supplies",
          "Office Supplies",
          "Office Supplies",
          "Office Supplies",
          "Office Supplies",
          "Office Supplies",
          "Technology",
          "Office Supplies",
          "Furniture",
          "Office Supplies",
          "Office Supplies",
          "Technology",
          "Technology",
          "Technology",
          "Furniture",
          "Office Supplies",
          "Office Supplies",
          "Office Supplies",
          "Office Supplies",
          "Office Supplies",
          "Technology",
          "Office Supplies",
          "Furniture",
          "Furniture",
          "Office Supplies",
          "Furniture",
          "Office Supplies",
          "Furniture",
          "Office Supplies",
          "Office Supplies",
          "Furniture",
          "Technology",
          "Technology",
          "Office Supplies",
          "Office Supplies",
          "Technology",
          "Office Supplies",
          "Office Supplies",
          "Office Supplies",
          "Furniture",
          "Technology",
          "Office Supplies",
          "Office Supplies",
          "Office Supplies",
          "Furniture",
          "Office Supplies",
          "Technology",
          "Technology",
          "Office Supplies",
          "Office Supplies",
          "Office Supplies",
          "Office Supplies",
          "Office Supplies",
          "Technology",
          "Furniture",
          "Office Supplies",
          "Furniture",
          "Office Supplies",
          "Technology",
          "Technology",
          "Office Supplies",
          "Office Supplies",
          "Office Supplies",
          "Furniture",
          "Office Supplies",
          "Office Supplies",
          "Office Supplies",
          "Office Supplies",
          "Office Supplies",
          "Office Supplies",
          "Office Supplies",
          "Furniture",
          "Office Supplies",
          "Office Supplies",
          "Office Supplies",
          "Technology",
          "Office Supplies",
          "Technology",
          "Technology",
          "Furniture",
          "Office Supplies",
          "Technology",
          "Furniture",
          "Office Supplies",
          "Technology",
          "Office Supplies",
          "Office Supplies",
          "Office Supplies",
          "Office Supplies",
          "Technology",
          "Office Supplies",
          "Furniture",
          "Office Supplies",
          "Office Supplies",
          "Furniture",
          "Office Supplies",
          "Furniture",
          "Technology",
          "Office Supplies",
          "Office Supplies",
          "Technology",
          "Office Supplies",
          "Office Supplies",
          "Furniture",
          "Office Supplies",
          "Office Supplies",
          "Office Supplies",
          "Office Supplies",
          "Office Supplies",
          "Office Supplies",
          "Office Supplies",
          "Technology",
          "Office Supplies",
          "Office Supplies",
          "Technology",
          "Furniture",
          "Office Supplies",
          "Technology",
          "Technology",
          "Office Supplies",
          "Office Supplies",
          "Office Supplies",
          "Furniture",
          "Technology",
          "Office Supplies",
          "Office Supplies",
          "Office Supplies",
          "Office Supplies",
          "Office Supplies",
          "Technology",
          "Office Supplies",
          "Office Supplies",
          "Office Supplies",
          "Office Supplies",
          "Office Supplies",
          "Office Supplies",
          "Office Supplies",
          "Technology",
          "Furniture",
          "Office Supplies",
          "Office Supplies",
          "Office Supplies",
          "Office Supplies",
          "Office Supplies",
          "Office Supplies",
          "Office Supplies",
          "Office Supplies",
          "Furniture",
          "Furniture",
          "Office Supplies",
          "Office Supplies",
          "Furniture",
          "Furniture",
          "Office Supplies",
          "Furniture",
          "Furniture",
          "Office Supplies",
          "Office Supplies",
          "Office Supplies",
          "Furniture",
          "Office Supplies",
          "Technology",
          "Technology",
          "Office Supplies",
          "Office Supplies",
          "Office Supplies",
          "Office Supplies",
          "Furniture",
          "Technology",
          "Office Supplies",
          "Office Supplies",
          "Technology",
          "Office Supplies",
          "Office Supplies",
          "Office Supplies",
          "Office Supplies",
          "Technology",
          "Office Supplies",
          "Furniture",
          "Office Supplies",
          "Office Supplies",
          "Furniture",
          "Technology",
          "Office Supplies",
          "Office Supplies",
          "Office Supplies",
          "Office Supplies",
          "Furniture",
          "Technology",
          "Furniture",
          "Office Supplies",
          "Office Supplies",
          "Furniture",
          "Technology",
          "Office Supplies",
          "Office Supplies",
          "Office Supplies",
          "Office Supplies",
          "Office Supplies",
          "Technology",
          "Furniture",
          "Office Supplies",
          "Office Supplies",
          "Furniture",
          "Office Supplies",
          "Office Supplies",
          "Office Supplies",
          "Office Supplies",
          "Office Supplies",
          "Office Supplies",
          "Office Supplies",
          "Office Supplies",
          "Office Supplies",
          "Office Supplies",
          "Office Supplies",
          "Office Supplies",
          "Office Supplies",
          "Office Supplies",
          "Office Supplies",
          "Office Supplies",
          "Office Supplies",
          "Office Supplies",
          "Office Supplies",
          "Office Supplies",
          "Office Supplies",
          "Office Supplies",
          "Furniture",
          "Technology",
          "Office Supplies",
          "Office Supplies",
          "Technology",
          "Office Supplies",
          "Office Supplies",
          "Office Supplies",
          "Office Supplies",
          "Technology",
          "Office Supplies",
          "Office Supplies",
          "Office Supplies",
          "Office Supplies",
          "Technology",
          "Office Supplies",
          "Office Supplies",
          "Office Supplies",
          "Office Supplies",
          "Office Supplies",
          "Office Supplies",
          "Office Supplies",
          "Office Supplies",
          "Office Supplies",
          "Furniture",
          "Furniture",
          "Technology",
          "Technology",
          "Office Supplies",
          "Office Supplies",
          "Office Supplies",
          "Office Supplies",
          "Office Supplies",
          "Office Supplies",
          "Furniture",
          "Office Supplies",
          "Office Supplies",
          "Office Supplies",
          "Office Supplies",
          "Office Supplies",
          "Office Supplies",
          "Office Supplies",
          "Furniture",
          "Furniture",
          "Office Supplies",
          "Office Supplies",
          "Office Supplies",
          "Office Supplies",
          "Furniture",
          "Technology",
          "Office Supplies",
          "Furniture",
          "Technology",
          "Furniture",
          "Technology",
          "Furniture",
          "Office Supplies",
          "Office Supplies",
          "Office Supplies",
          "Furniture",
          "Technology",
          "Furniture",
          "Furniture",
          "Technology",
          "Office Supplies",
          "Furniture",
          "Office Supplies",
          "Office Supplies",
          "Office Supplies",
          "Technology",
          "Furniture",
          "Furniture",
          "Office Supplies",
          "Office Supplies",
          "Furniture",
          "Office Supplies",
          "Office Supplies",
          "Office Supplies",
          "Office Supplies",
          "Technology",
          "Office Supplies",
          "Office Supplies",
          "Office Supplies",
          "Office Supplies",
          "Office Supplies",
          "Office Supplies",
          "Office Supplies",
          "Furniture",
          "Office Supplies",
          "Furniture",
          "Furniture",
          "Technology",
          "Technology",
          "Technology",
          "Office Supplies",
          "Office Supplies",
          "Office Supplies",
          "Office Supplies",
          "Office Supplies",
          "Technology",
          "Office Supplies",
          "Technology",
          "Office Supplies",
          "Furniture",
          "Office Supplies",
          "Office Supplies",
          "Furniture",
          "Furniture",
          "Office Supplies",
          "Technology",
          "Furniture",
          "Office Supplies",
          "Office Supplies",
          "Office Supplies",
          "Office Supplies",
          "Furniture",
          "Office Supplies",
          "Office Supplies",
          "Office Supplies",
          "Technology",
          "Technology",
          "Furniture",
          "Furniture",
          "Furniture",
          "Office Supplies",
          "Furniture",
          "Technology",
          "Office Supplies",
          "Office Supplies",
          "Office Supplies",
          "Office Supplies",
          "Office Supplies",
          "Office Supplies",
          "Office Supplies",
          "Office Supplies",
          "Office Supplies",
          "Office Supplies",
          "Office Supplies",
          "Technology",
          "Office Supplies",
          "Office Supplies",
          "Technology",
          "Technology",
          "Technology",
          "Office Supplies",
          "Furniture",
          "Office Supplies",
          "Technology",
          "Office Supplies",
          "Office Supplies",
          "Office Supplies",
          "Office Supplies",
          "Office Supplies",
          "Furniture",
          "Office Supplies",
          "Office Supplies",
          "Office Supplies",
          "Technology",
          "Furniture",
          "Office Supplies",
          "Furniture",
          "Office Supplies",
          "Furniture",
          "Furniture",
          "Office Supplies",
          "Office Supplies",
          "Office Supplies",
          "Furniture",
          "Office Supplies",
          "Technology",
          "Technology",
          "Office Supplies",
          "Office Supplies",
          "Office Supplies",
          "Furniture",
          "Office Supplies",
          "Office Supplies",
          "Office Supplies",
          "Office Supplies",
          "Office Supplies",
          "Technology",
          "Office Supplies",
          "Technology",
          "Office Supplies",
          "Office Supplies",
          "Furniture",
          "Office Supplies",
          "Office Supplies",
          "Office Supplies",
          "Furniture",
          "Furniture",
          "Office Supplies",
          "Office Supplies",
          "Office Supplies",
          "Technology",
          "Furniture",
          "Technology",
          "Technology",
          "Technology",
          "Technology",
          "Office Supplies",
          "Technology",
          "Office Supplies",
          "Office Supplies",
          "Furniture",
          "Technology",
          "Technology",
          "Furniture",
          "Technology",
          "Office Supplies",
          "Office Supplies",
          "Office Supplies",
          "Technology",
          "Furniture",
          "Furniture",
          "Office Supplies",
          "Office Supplies",
          "Office Supplies",
          "Furniture",
          "Furniture",
          "Furniture",
          "Office Supplies",
          "Office Supplies",
          "Furniture",
          "Office Supplies",
          "Furniture",
          "Technology",
          "Furniture",
          "Office Supplies",
          "Office Supplies",
          "Office Supplies",
          "Office Supplies",
          "Office Supplies",
          "Office Supplies",
          "Technology",
          "Office Supplies",
          "Furniture",
          "Office Supplies",
          "Office Supplies",
          "Technology",
          "Furniture",
          "Office Supplies",
          "Technology",
          "Furniture",
          "Office Supplies",
          "Office Supplies",
          "Office Supplies",
          "Furniture",
          "Technology",
          "Office Supplies",
          "Furniture",
          "Technology",
          "Office Supplies",
          "Furniture",
          "Furniture",
          "Technology",
          "Furniture",
          "Office Supplies",
          "Furniture",
          "Office Supplies",
          "Furniture",
          "Office Supplies",
          "Furniture",
          "Office Supplies",
          "Furniture",
          "Technology",
          "Office Supplies",
          "Furniture",
          "Office Supplies",
          "Office Supplies",
          "Office Supplies",
          "Technology",
          "Technology",
          "Office Supplies",
          "Office Supplies",
          "Office Supplies",
          "Office Supplies",
          "Furniture",
          "Technology",
          "Furniture",
          "Office Supplies",
          "Furniture",
          "Office Supplies",
          "Technology",
          "Office Supplies",
          "Office Supplies",
          "Office Supplies",
          "Furniture",
          "Office Supplies",
          "Office Supplies",
          "Technology",
          "Office Supplies",
          "Office Supplies",
          "Office Supplies",
          "Office Supplies",
          "Office Supplies",
          "Office Supplies",
          "Office Supplies",
          "Office Supplies",
          "Office Supplies",
          "Office Supplies",
          "Technology",
          "Office Supplies",
          "Office Supplies",
          "Office Supplies",
          "Office Supplies",
          "Office Supplies",
          "Furniture",
          "Technology",
          "Furniture",
          "Furniture",
          "Office Supplies",
          "Office Supplies",
          "Office Supplies",
          "Office Supplies",
          "Furniture",
          "Furniture",
          "Office Supplies",
          "Office Supplies",
          "Technology",
          "Furniture",
          "Office Supplies",
          "Office Supplies",
          "Furniture",
          "Furniture",
          "Furniture",
          "Furniture",
          "Office Supplies",
          "Furniture",
          "Furniture",
          "Technology",
          "Technology",
          "Technology",
          "Furniture",
          "Furniture",
          "Technology",
          "Technology",
          "Office Supplies",
          "Office Supplies",
          "Office Supplies",
          "Office Supplies",
          "Office Supplies",
          "Technology",
          "Office Supplies",
          "Furniture",
          "Furniture",
          "Furniture",
          "Office Supplies",
          "Office Supplies",
          "Office Supplies",
          "Office Supplies",
          "Office Supplies",
          "Office Supplies",
          "Office Supplies",
          "Office Supplies",
          "Office Supplies",
          "Office Supplies",
          "Office Supplies",
          "Furniture",
          "Office Supplies",
          "Furniture",
          "Office Supplies",
          "Office Supplies",
          "Office Supplies",
          "Office Supplies",
          "Office Supplies",
          "Furniture",
          "Office Supplies",
          "Furniture",
          "Office Supplies",
          "Furniture",
          "Office Supplies",
          "Technology",
          "Technology",
          "Office Supplies",
          "Office Supplies",
          "Technology",
          "Office Supplies",
          "Furniture",
          "Furniture",
          "Technology",
          "Office Supplies",
          "Technology",
          "Office Supplies",
          "Office Supplies",
          "Office Supplies",
          "Office Supplies",
          "Furniture",
          "Office Supplies",
          "Furniture",
          "Office Supplies",
          "Office Supplies",
          "Technology",
          "Office Supplies",
          "Furniture",
          "Office Supplies",
          "Office Supplies",
          "Technology",
          "Technology",
          "Office Supplies",
          "Office Supplies",
          "Office Supplies",
          "Office Supplies",
          "Furniture",
          "Office Supplies",
          "Office Supplies",
          "Office Supplies",
          "Technology",
          "Furniture",
          "Office Supplies",
          "Furniture",
          "Technology",
          "Office Supplies",
          "Furniture",
          "Office Supplies",
          "Office Supplies",
          "Furniture",
          "Office Supplies",
          "Office Supplies",
          "Furniture",
          "Technology",
          "Technology",
          "Office Supplies",
          "Technology",
          "Office Supplies",
          "Office Supplies",
          "Technology",
          "Office Supplies",
          "Office Supplies",
          "Technology",
          "Office Supplies",
          "Furniture",
          "Office Supplies",
          "Office Supplies",
          "Office Supplies",
          "Office Supplies",
          "Office Supplies",
          "Technology",
          "Office Supplies",
          "Office Supplies",
          "Technology",
          "Office Supplies",
          "Office Supplies",
          "Furniture",
          "Office Supplies",
          "Furniture",
          "Office Supplies",
          "Furniture",
          "Office Supplies",
          "Office Supplies",
          "Office Supplies",
          "Furniture",
          "Furniture",
          "Furniture",
          "Furniture",
          "Office Supplies",
          "Furniture",
          "Office Supplies",
          "Office Supplies",
          "Office Supplies",
          "Furniture",
          "Technology",
          "Furniture",
          "Technology",
          "Furniture",
          "Technology",
          "Technology",
          "Office Supplies",
          "Office Supplies",
          "Furniture",
          "Office Supplies",
          "Technology",
          "Office Supplies",
          "Office Supplies",
          "Furniture",
          "Office Supplies",
          "Office Supplies",
          "Office Supplies",
          "Office Supplies",
          "Office Supplies",
          "Furniture",
          "Furniture",
          "Furniture",
          "Technology",
          "Furniture",
          "Furniture",
          "Technology",
          "Office Supplies",
          "Office Supplies",
          "Office Supplies",
          "Office Supplies",
          "Office Supplies",
          "Furniture",
          "Office Supplies",
          "Office Supplies",
          "Technology",
          "Technology",
          "Technology",
          "Furniture",
          "Office Supplies",
          "Office Supplies",
          "Office Supplies",
          "Furniture",
          "Technology",
          "Office Supplies",
          "Office Supplies",
          "Office Supplies",
          "Office Supplies",
          "Furniture",
          "Office Supplies",
          "Furniture",
          "Furniture",
          "Office Supplies",
          "Furniture",
          "Office Supplies",
          "Office Supplies",
          "Technology",
          "Office Supplies",
          "Office Supplies",
          "Office Supplies",
          "Technology",
          "Office Supplies",
          "Technology",
          "Office Supplies",
          "Furniture",
          "Furniture",
          "Office Supplies",
          "Office Supplies",
          "Office Supplies",
          "Office Supplies",
          "Office Supplies",
          "Office Supplies",
          "Office Supplies",
          "Office Supplies",
          "Furniture",
          "Office Supplies",
          "Office Supplies",
          "Office Supplies",
          "Furniture",
          "Technology",
          "Technology",
          "Furniture",
          "Office Supplies",
          "Office Supplies",
          "Office Supplies",
          "Furniture",
          "Office Supplies",
          "Technology",
          "Office Supplies",
          "Office Supplies",
          "Technology",
          "Furniture",
          "Furniture",
          "Office Supplies",
          "Office Supplies",
          "Furniture",
          "Furniture",
          "Office Supplies",
          "Office Supplies",
          "Furniture",
          "Office Supplies",
          "Technology",
          "Office Supplies",
          "Office Supplies",
          "Technology",
          "Furniture",
          "Technology",
          "Office Supplies",
          "Furniture",
          "Furniture",
          "Office Supplies",
          "Technology",
          "Office Supplies",
          "Office Supplies",
          "Furniture",
          "Office Supplies",
          "Office Supplies",
          "Furniture",
          "Office Supplies",
          "Office Supplies",
          "Furniture",
          "Office Supplies",
          "Office Supplies",
          "Office Supplies",
          "Furniture",
          "Office Supplies",
          "Technology",
          "Office Supplies",
          "Office Supplies",
          "Office Supplies",
          "Technology",
          "Furniture",
          "Furniture",
          "Office Supplies",
          "Furniture",
          "Office Supplies",
          "Technology",
          "Office Supplies",
          "Office Supplies",
          "Technology",
          "Furniture",
          "Furniture",
          "Office Supplies",
          "Office Supplies",
          "Office Supplies",
          "Technology",
          "Furniture",
          "Office Supplies",
          "Technology",
          "Office Supplies",
          "Furniture",
          "Office Supplies",
          "Office Supplies",
          "Technology",
          "Furniture",
          "Office Supplies",
          "Office Supplies",
          "Technology",
          "Office Supplies",
          "Office Supplies",
          "Office Supplies",
          "Furniture",
          "Office Supplies",
          "Technology",
          "Furniture",
          "Technology",
          "Office Supplies",
          "Office Supplies",
          "Technology",
          "Office Supplies",
          "Technology",
          "Furniture",
          "Office Supplies",
          "Office Supplies",
          "Office Supplies",
          "Technology",
          "Office Supplies",
          "Office Supplies",
          "Technology",
          "Office Supplies",
          "Office Supplies",
          "Office Supplies",
          "Office Supplies",
          "Furniture",
          "Office Supplies",
          "Office Supplies",
          "Office Supplies",
          "Office Supplies",
          "Office Supplies",
          "Technology",
          "Furniture",
          "Office Supplies",
          "Office Supplies",
          "Office Supplies",
          "Office Supplies",
          "Office Supplies",
          "Office Supplies",
          "Office Supplies",
          "Technology",
          "Office Supplies",
          "Technology",
          "Technology",
          "Office Supplies",
          "Office Supplies",
          "Technology",
          "Office Supplies",
          "Technology",
          "Office Supplies",
          "Furniture",
          "Office Supplies",
          "Office Supplies",
          "Technology",
          "Office Supplies",
          "Furniture",
          "Office Supplies",
          "Office Supplies",
          "Technology",
          "Technology",
          "Furniture",
          "Office Supplies",
          "Office Supplies",
          "Office Supplies",
          "Office Supplies",
          "Office Supplies",
          "Office Supplies",
          "Furniture",
          "Office Supplies",
          "Office Supplies",
          "Office Supplies",
          "Technology",
          "Office Supplies",
          "Office Supplies",
          "Technology",
          "Technology",
          "Office Supplies",
          "Office Supplies",
          "Office Supplies",
          "Office Supplies",
          "Office Supplies",
          "Office Supplies",
          "Technology",
          "Office Supplies",
          "Office Supplies",
          "Furniture",
          "Office Supplies",
          "Office Supplies",
          "Office Supplies",
          "Office Supplies",
          "Furniture",
          "Office Supplies",
          "Office Supplies",
          "Office Supplies",
          "Technology",
          "Office Supplies",
          "Office Supplies",
          "Technology",
          "Office Supplies",
          "Office Supplies",
          "Technology",
          "Furniture",
          "Office Supplies",
          "Furniture",
          "Office Supplies",
          "Office Supplies",
          "Office Supplies",
          "Office Supplies",
          "Office Supplies",
          "Office Supplies",
          "Office Supplies",
          "Technology",
          "Office Supplies",
          "Office Supplies",
          "Furniture",
          "Furniture",
          "Furniture",
          "Technology",
          "Office Supplies",
          "Office Supplies",
          "Office Supplies",
          "Office Supplies",
          "Office Supplies",
          "Office Supplies",
          "Office Supplies",
          "Technology",
          "Furniture",
          "Furniture",
          "Technology",
          "Office Supplies",
          "Furniture",
          "Office Supplies",
          "Technology",
          "Office Supplies",
          "Technology",
          "Office Supplies",
          "Furniture",
          "Technology",
          "Furniture",
          "Office Supplies",
          "Technology",
          "Office Supplies",
          "Furniture",
          "Office Supplies",
          "Office Supplies",
          "Office Supplies",
          "Furniture",
          "Office Supplies",
          "Technology",
          "Furniture",
          "Office Supplies",
          "Office Supplies",
          "Office Supplies",
          "Office Supplies",
          "Office Supplies",
          "Office Supplies",
          "Office Supplies",
          "Technology",
          "Office Supplies",
          "Technology",
          "Office Supplies",
          "Office Supplies",
          "Office Supplies",
          "Technology",
          "Office Supplies",
          "Office Supplies",
          "Office Supplies",
          "Furniture",
          "Furniture",
          "Office Supplies",
          "Office Supplies",
          "Technology",
          "Office Supplies",
          "Office Supplies",
          "Furniture",
          "Office Supplies",
          "Office Supplies",
          "Office Supplies",
          "Office Supplies",
          "Office Supplies",
          "Furniture",
          "Furniture",
          "Office Supplies",
          "Technology",
          "Technology",
          "Office Supplies",
          "Office Supplies",
          "Furniture",
          "Furniture",
          "Furniture",
          "Office Supplies",
          "Office Supplies",
          "Technology",
          "Furniture",
          "Office Supplies",
          "Office Supplies",
          "Office Supplies",
          "Office Supplies",
          "Office Supplies",
          "Office Supplies",
          "Office Supplies",
          "Office Supplies",
          "Technology",
          "Furniture",
          "Office Supplies",
          "Furniture",
          "Office Supplies",
          "Office Supplies",
          "Office Supplies",
          "Office Supplies",
          "Furniture",
          "Office Supplies",
          "Office Supplies",
          "Furniture",
          "Furniture",
          "Office Supplies",
          "Technology",
          "Technology",
          "Furniture",
          "Office Supplies",
          "Office Supplies",
          "Office Supplies",
          "Technology",
          "Office Supplies",
          "Technology",
          "Office Supplies",
          "Office Supplies",
          "Office Supplies",
          "Technology",
          "Technology",
          "Furniture",
          "Furniture",
          "Office Supplies",
          "Furniture",
          "Office Supplies",
          "Office Supplies",
          "Technology",
          "Office Supplies",
          "Office Supplies",
          "Office Supplies",
          "Office Supplies",
          "Office Supplies",
          "Furniture",
          "Office Supplies",
          "Office Supplies",
          "Office Supplies",
          "Office Supplies",
          "Office Supplies",
          "Office Supplies",
          "Office Supplies",
          "Furniture",
          "Furniture",
          "Office Supplies",
          "Office Supplies",
          "Technology",
          "Office Supplies",
          "Office Supplies",
          "Furniture",
          "Office Supplies",
          "Office Supplies",
          "Furniture",
          "Furniture",
          "Technology",
          "Office Supplies",
          "Office Supplies",
          "Office Supplies",
          "Office Supplies",
          "Office Supplies",
          "Office Supplies",
          "Furniture",
          "Technology",
          "Furniture",
          "Technology",
          "Technology",
          "Office Supplies",
          "Office Supplies",
          "Furniture",
          "Office Supplies",
          "Office Supplies",
          "Technology",
          "Technology",
          "Office Supplies",
          "Office Supplies",
          "Office Supplies",
          "Furniture",
          "Office Supplies",
          "Office Supplies",
          "Office Supplies",
          "Technology",
          "Office Supplies",
          "Office Supplies",
          "Office Supplies",
          "Technology",
          "Office Supplies",
          "Technology",
          "Office Supplies",
          "Furniture",
          "Office Supplies",
          "Technology",
          "Furniture",
          "Furniture",
          "Office Supplies",
          "Technology",
          "Technology",
          "Office Supplies",
          "Technology",
          "Furniture",
          "Furniture",
          "Office Supplies",
          "Office Supplies",
          "Office Supplies",
          "Furniture",
          "Office Supplies",
          "Technology",
          "Office Supplies",
          "Technology",
          "Office Supplies",
          "Furniture",
          "Furniture",
          "Office Supplies",
          "Technology",
          "Office Supplies",
          "Office Supplies",
          "Office Supplies",
          "Office Supplies",
          "Furniture",
          "Office Supplies",
          "Furniture",
          "Office Supplies",
          "Technology",
          "Office Supplies",
          "Technology",
          "Furniture",
          "Office Supplies",
          "Office Supplies",
          "Office Supplies",
          "Furniture",
          "Office Supplies",
          "Office Supplies",
          "Office Supplies",
          "Furniture",
          "Furniture",
          "Office Supplies",
          "Technology",
          "Technology",
          "Furniture",
          "Office Supplies",
          "Office Supplies",
          "Office Supplies",
          "Office Supplies",
          "Office Supplies",
          "Office Supplies",
          "Furniture",
          "Office Supplies",
          "Office Supplies",
          "Office Supplies",
          "Office Supplies",
          "Furniture",
          "Office Supplies",
          "Office Supplies",
          "Technology",
          "Furniture",
          "Office Supplies",
          "Office Supplies",
          "Technology",
          "Technology",
          "Office Supplies",
          "Office Supplies",
          "Office Supplies",
          "Technology",
          "Furniture",
          "Office Supplies",
          "Furniture",
          "Furniture",
          "Office Supplies",
          "Office Supplies",
          "Office Supplies",
          "Office Supplies",
          "Furniture",
          "Office Supplies",
          "Technology",
          "Office Supplies",
          "Office Supplies",
          "Office Supplies",
          "Office Supplies",
          "Office Supplies",
          "Office Supplies",
          "Furniture",
          "Office Supplies",
          "Office Supplies",
          "Office Supplies",
          "Office Supplies",
          "Office Supplies",
          "Office Supplies",
          "Office Supplies",
          "Furniture",
          "Office Supplies",
          "Office Supplies",
          "Technology",
          "Office Supplies",
          "Office Supplies",
          "Technology",
          "Technology",
          "Office Supplies",
          "Technology",
          "Office Supplies",
          "Technology",
          "Furniture",
          "Office Supplies",
          "Technology",
          "Furniture",
          "Office Supplies",
          "Furniture",
          "Furniture",
          "Office Supplies",
          "Furniture",
          "Office Supplies",
          "Furniture",
          "Office Supplies",
          "Office Supplies",
          "Furniture",
          "Furniture",
          "Furniture",
          "Office Supplies",
          "Office Supplies",
          "Technology",
          "Furniture",
          "Office Supplies",
          "Technology",
          "Office Supplies",
          "Furniture",
          "Technology",
          "Office Supplies",
          "Office Supplies",
          "Office Supplies",
          "Furniture",
          "Office Supplies",
          "Office Supplies",
          "Furniture",
          "Furniture",
          "Office Supplies",
          "Office Supplies",
          "Office Supplies",
          "Office Supplies",
          "Office Supplies",
          "Furniture",
          "Technology",
          "Office Supplies",
          "Office Supplies",
          "Office Supplies",
          "Office Supplies",
          "Office Supplies",
          "Furniture",
          "Office Supplies",
          "Office Supplies",
          "Technology",
          "Technology",
          "Office Supplies",
          "Furniture",
          "Technology",
          "Office Supplies",
          "Technology",
          "Furniture",
          "Office Supplies",
          "Technology",
          "Furniture",
          "Office Supplies",
          "Office Supplies",
          "Furniture",
          "Furniture",
          "Furniture",
          "Furniture",
          "Technology",
          "Office Supplies",
          "Office Supplies",
          "Office Supplies",
          "Office Supplies",
          "Office Supplies",
          "Office Supplies",
          "Technology",
          "Technology",
          "Furniture",
          "Furniture",
          "Technology",
          "Furniture",
          "Furniture",
          "Office Supplies",
          "Office Supplies",
          "Furniture",
          "Office Supplies",
          "Office Supplies",
          "Office Supplies",
          "Office Supplies",
          "Furniture",
          "Office Supplies",
          "Office Supplies",
          "Furniture",
          "Office Supplies",
          "Technology",
          "Office Supplies",
          "Office Supplies",
          "Office Supplies",
          "Office Supplies",
          "Office Supplies",
          "Technology",
          "Furniture",
          "Technology",
          "Furniture",
          "Furniture",
          "Office Supplies",
          "Office Supplies",
          "Office Supplies",
          "Office Supplies",
          "Furniture",
          "Office Supplies",
          "Office Supplies",
          "Office Supplies",
          "Office Supplies",
          "Office Supplies",
          "Office Supplies",
          "Furniture",
          "Office Supplies",
          "Office Supplies",
          "Office Supplies",
          "Office Supplies",
          "Office Supplies",
          "Office Supplies",
          "Office Supplies",
          "Office Supplies",
          "Furniture",
          "Office Supplies",
          "Technology",
          "Office Supplies",
          "Furniture",
          "Office Supplies",
          "Office Supplies",
          "Office Supplies",
          "Furniture",
          "Furniture",
          "Office Supplies",
          "Office Supplies",
          "Office Supplies",
          "Furniture",
          "Office Supplies",
          "Technology",
          "Technology",
          "Furniture",
          "Office Supplies",
          "Office Supplies",
          "Office Supplies",
          "Technology",
          "Office Supplies",
          "Furniture",
          "Office Supplies",
          "Office Supplies",
          "Technology",
          "Office Supplies",
          "Technology",
          "Office Supplies",
          "Technology",
          "Office Supplies",
          "Office Supplies",
          "Office Supplies",
          "Office Supplies",
          "Office Supplies",
          "Office Supplies",
          "Office Supplies",
          "Office Supplies",
          "Technology",
          "Furniture",
          "Office Supplies",
          "Technology",
          "Office Supplies",
          "Furniture",
          "Furniture",
          "Office Supplies",
          "Office Supplies",
          "Office Supplies",
          "Office Supplies",
          "Office Supplies",
          "Office Supplies",
          "Office Supplies",
          "Office Supplies",
          "Furniture",
          "Technology",
          "Office Supplies",
          "Technology",
          "Furniture",
          "Office Supplies",
          "Office Supplies",
          "Technology",
          "Office Supplies",
          "Office Supplies",
          "Office Supplies",
          "Office Supplies",
          "Office Supplies",
          "Technology",
          "Office Supplies",
          "Technology",
          "Furniture",
          "Office Supplies",
          "Office Supplies",
          "Office Supplies",
          "Technology",
          "Furniture",
          "Technology",
          "Furniture",
          "Office Supplies",
          "Office Supplies",
          "Office Supplies",
          "Office Supplies",
          "Office Supplies",
          "Furniture",
          "Furniture",
          "Technology",
          "Furniture",
          "Office Supplies",
          "Office Supplies",
          "Office Supplies",
          "Office Supplies",
          "Office Supplies",
          "Office Supplies",
          "Office Supplies",
          "Office Supplies",
          "Office Supplies",
          "Office Supplies",
          "Office Supplies",
          "Technology",
          "Office Supplies",
          "Office Supplies",
          "Office Supplies",
          "Office Supplies",
          "Technology",
          "Office Supplies",
          "Furniture",
          "Office Supplies",
          "Office Supplies",
          "Office Supplies",
          "Office Supplies",
          "Office Supplies",
          "Technology",
          "Furniture",
          "Office Supplies",
          "Office Supplies",
          "Office Supplies",
          "Office Supplies",
          "Furniture",
          "Furniture",
          "Furniture",
          "Furniture",
          "Technology",
          "Furniture",
          "Office Supplies",
          "Furniture",
          "Office Supplies",
          "Furniture",
          "Office Supplies",
          "Office Supplies",
          "Furniture",
          "Office Supplies",
          "Technology",
          "Technology",
          "Office Supplies",
          "Office Supplies",
          "Furniture",
          "Office Supplies",
          "Technology",
          "Technology",
          "Office Supplies",
          "Office Supplies",
          "Office Supplies",
          "Furniture",
          "Furniture",
          "Office Supplies",
          "Furniture",
          "Office Supplies",
          "Office Supplies",
          "Office Supplies",
          "Office Supplies",
          "Office Supplies",
          "Office Supplies",
          "Office Supplies",
          "Office Supplies",
          "Technology",
          "Furniture",
          "Technology",
          "Office Supplies",
          "Office Supplies",
          "Office Supplies",
          "Office Supplies",
          "Office Supplies",
          "Office Supplies",
          "Office Supplies",
          "Furniture",
          "Technology",
          "Furniture",
          "Office Supplies",
          "Furniture",
          "Office Supplies",
          "Office Supplies",
          "Furniture",
          "Office Supplies",
          "Office Supplies",
          "Furniture",
          "Office Supplies",
          "Office Supplies",
          "Furniture",
          "Technology",
          "Furniture",
          "Office Supplies",
          "Office Supplies",
          "Office Supplies",
          "Furniture",
          "Office Supplies",
          "Furniture",
          "Office Supplies",
          "Technology",
          "Office Supplies",
          "Office Supplies",
          "Office Supplies",
          "Furniture",
          "Office Supplies",
          "Technology",
          "Technology",
          "Office Supplies",
          "Furniture",
          "Furniture",
          "Office Supplies",
          "Office Supplies",
          "Office Supplies",
          "Technology",
          "Furniture",
          "Office Supplies",
          "Furniture",
          "Office Supplies",
          "Office Supplies",
          "Furniture",
          "Office Supplies",
          "Office Supplies",
          "Technology",
          "Office Supplies",
          "Technology",
          "Office Supplies",
          "Office Supplies",
          "Technology",
          "Office Supplies",
          "Technology",
          "Furniture",
          "Furniture",
          "Furniture",
          "Furniture",
          "Office Supplies",
          "Office Supplies",
          "Technology",
          "Furniture",
          "Office Supplies",
          "Furniture",
          "Technology",
          "Furniture",
          "Office Supplies",
          "Office Supplies",
          "Office Supplies",
          "Office Supplies",
          "Office Supplies",
          "Office Supplies",
          "Technology",
          "Technology",
          "Office Supplies",
          "Office Supplies",
          "Office Supplies",
          "Furniture",
          "Furniture",
          "Technology",
          "Furniture",
          "Office Supplies",
          "Office Supplies",
          "Office Supplies",
          "Office Supplies",
          "Office Supplies",
          "Technology",
          "Office Supplies",
          "Office Supplies",
          "Technology",
          "Office Supplies",
          "Office Supplies",
          "Office Supplies",
          "Furniture",
          "Office Supplies",
          "Office Supplies",
          "Office Supplies",
          "Technology",
          "Office Supplies",
          "Furniture",
          "Office Supplies",
          "Office Supplies",
          "Technology",
          "Office Supplies",
          "Technology",
          "Office Supplies",
          "Technology",
          "Office Supplies",
          "Office Supplies",
          "Office Supplies",
          "Technology",
          "Furniture",
          "Office Supplies",
          "Furniture",
          "Office Supplies",
          "Technology",
          "Office Supplies",
          "Technology",
          "Technology",
          "Office Supplies",
          "Office Supplies",
          "Furniture",
          "Office Supplies",
          "Office Supplies",
          "Office Supplies",
          "Office Supplies",
          "Furniture",
          "Furniture",
          "Furniture",
          "Furniture",
          "Furniture",
          "Technology",
          "Office Supplies",
          "Technology",
          "Furniture",
          "Office Supplies",
          "Technology",
          "Office Supplies",
          "Furniture",
          "Office Supplies",
          "Office Supplies",
          "Office Supplies",
          "Furniture",
          "Office Supplies",
          "Technology",
          "Office Supplies",
          "Office Supplies",
          "Office Supplies",
          "Technology",
          "Office Supplies",
          "Office Supplies",
          "Furniture",
          "Technology",
          "Furniture",
          "Furniture",
          "Office Supplies",
          "Technology",
          "Office Supplies",
          "Furniture",
          "Office Supplies",
          "Office Supplies",
          "Technology",
          "Technology",
          "Furniture",
          "Technology",
          "Office Supplies",
          "Technology",
          "Office Supplies",
          "Technology",
          "Technology",
          "Furniture",
          "Furniture",
          "Office Supplies",
          "Furniture",
          "Technology",
          "Office Supplies",
          "Office Supplies",
          "Office Supplies",
          "Office Supplies",
          "Technology",
          "Office Supplies",
          "Technology",
          "Office Supplies",
          "Office Supplies",
          "Office Supplies",
          "Furniture",
          "Furniture",
          "Office Supplies",
          "Office Supplies",
          "Furniture",
          "Office Supplies",
          "Technology",
          "Office Supplies",
          "Office Supplies",
          "Office Supplies",
          "Technology",
          "Office Supplies",
          "Office Supplies",
          "Office Supplies",
          "Office Supplies",
          "Office Supplies",
          "Furniture",
          "Technology",
          "Technology",
          "Office Supplies",
          "Office Supplies",
          "Office Supplies",
          "Office Supplies",
          "Office Supplies",
          "Office Supplies",
          "Office Supplies",
          "Technology",
          "Technology",
          "Technology",
          "Technology",
          "Technology",
          "Furniture",
          "Office Supplies",
          "Furniture",
          "Furniture",
          "Technology",
          "Office Supplies",
          "Technology",
          "Office Supplies",
          "Office Supplies",
          "Office Supplies",
          "Office Supplies",
          "Furniture",
          "Office Supplies",
          "Furniture",
          "Office Supplies",
          "Office Supplies",
          "Office Supplies",
          "Technology",
          "Office Supplies",
          "Office Supplies",
          "Technology",
          "Office Supplies",
          "Furniture",
          "Office Supplies",
          "Furniture",
          "Office Supplies",
          "Office Supplies",
          "Furniture",
          "Office Supplies",
          "Office Supplies",
          "Furniture",
          "Technology",
          "Office Supplies",
          "Office Supplies",
          "Office Supplies",
          "Office Supplies",
          "Office Supplies",
          "Office Supplies",
          "Furniture",
          "Furniture",
          "Furniture",
          "Office Supplies",
          "Office Supplies",
          "Office Supplies",
          "Furniture",
          "Office Supplies",
          "Technology",
          "Technology",
          "Technology",
          "Office Supplies",
          "Office Supplies",
          "Office Supplies",
          "Office Supplies",
          "Furniture",
          "Furniture",
          "Technology",
          "Office Supplies",
          "Furniture",
          "Office Supplies",
          "Office Supplies",
          "Office Supplies",
          "Technology",
          "Office Supplies",
          "Furniture",
          "Office Supplies",
          "Office Supplies",
          "Furniture",
          "Office Supplies",
          "Office Supplies",
          "Furniture",
          "Furniture",
          "Office Supplies",
          "Technology",
          "Office Supplies",
          "Office Supplies",
          "Technology",
          "Office Supplies",
          "Technology",
          "Office Supplies",
          "Office Supplies",
          "Office Supplies",
          "Office Supplies",
          "Office Supplies",
          "Technology",
          "Technology",
          "Technology",
          "Technology",
          "Office Supplies",
          "Furniture",
          "Technology",
          "Furniture",
          "Furniture",
          "Technology",
          "Office Supplies",
          "Office Supplies",
          "Office Supplies",
          "Office Supplies",
          "Technology",
          "Office Supplies",
          "Furniture",
          "Office Supplies",
          "Technology",
          "Furniture",
          "Office Supplies",
          "Furniture",
          "Furniture",
          "Technology",
          "Office Supplies",
          "Office Supplies",
          "Office Supplies",
          "Furniture",
          "Office Supplies",
          "Office Supplies",
          "Furniture",
          "Office Supplies",
          "Office Supplies",
          "Office Supplies",
          "Office Supplies",
          "Office Supplies",
          "Technology",
          "Furniture",
          "Furniture",
          "Office Supplies",
          "Technology",
          "Office Supplies",
          "Office Supplies",
          "Furniture",
          "Technology",
          "Office Supplies",
          "Office Supplies",
          "Office Supplies",
          "Office Supplies",
          "Technology",
          "Office Supplies",
          "Office Supplies",
          "Furniture",
          "Technology",
          "Office Supplies",
          "Office Supplies",
          "Furniture",
          "Office Supplies",
          "Technology",
          "Office Supplies",
          "Technology",
          "Office Supplies",
          "Technology",
          "Office Supplies",
          "Office Supplies",
          "Office Supplies",
          "Office Supplies",
          "Office Supplies",
          "Furniture",
          "Office Supplies",
          "Office Supplies",
          "Office Supplies",
          "Office Supplies",
          "Office Supplies",
          "Office Supplies",
          "Office Supplies",
          "Office Supplies",
          "Office Supplies",
          "Technology",
          "Technology",
          "Furniture",
          "Office Supplies",
          "Office Supplies",
          "Office Supplies",
          "Office Supplies",
          "Office Supplies",
          "Furniture",
          "Office Supplies",
          "Furniture",
          "Office Supplies",
          "Office Supplies",
          "Furniture",
          "Office Supplies",
          "Furniture",
          "Office Supplies",
          "Technology",
          "Office Supplies",
          "Technology",
          "Furniture",
          "Furniture",
          "Office Supplies",
          "Technology",
          "Office Supplies",
          "Office Supplies",
          "Technology",
          "Technology",
          "Office Supplies",
          "Office Supplies",
          "Technology",
          "Technology",
          "Office Supplies",
          "Technology",
          "Furniture",
          "Technology",
          "Office Supplies",
          "Office Supplies",
          "Furniture",
          "Office Supplies",
          "Technology",
          "Office Supplies",
          "Office Supplies",
          "Office Supplies",
          "Office Supplies",
          "Furniture",
          "Technology",
          "Office Supplies",
          "Office Supplies",
          "Office Supplies",
          "Office Supplies",
          "Office Supplies",
          "Technology",
          "Office Supplies",
          "Office Supplies",
          "Office Supplies",
          "Office Supplies",
          "Office Supplies",
          "Office Supplies",
          "Office Supplies",
          "Office Supplies",
          "Office Supplies",
          "Office Supplies",
          "Furniture",
          "Office Supplies",
          "Office Supplies",
          "Technology",
          "Office Supplies",
          "Office Supplies",
          "Office Supplies",
          "Office Supplies",
          "Office Supplies",
          "Technology",
          "Technology",
          "Technology",
          "Office Supplies",
          "Office Supplies",
          "Office Supplies",
          "Office Supplies",
          "Office Supplies",
          "Technology",
          "Furniture",
          "Office Supplies",
          "Office Supplies",
          "Office Supplies",
          "Office Supplies",
          "Technology",
          "Office Supplies",
          "Technology",
          "Technology",
          "Office Supplies",
          "Technology",
          "Office Supplies",
          "Furniture",
          "Office Supplies",
          "Office Supplies",
          "Office Supplies",
          "Office Supplies",
          "Furniture",
          "Technology",
          "Technology",
          "Office Supplies",
          "Furniture",
          "Office Supplies",
          "Technology",
          "Office Supplies",
          "Office Supplies",
          "Office Supplies",
          "Office Supplies",
          "Technology",
          "Office Supplies",
          "Office Supplies",
          "Technology",
          "Technology",
          "Technology",
          "Office Supplies",
          "Office Supplies",
          "Office Supplies",
          "Office Supplies",
          "Office Supplies",
          "Furniture",
          "Technology",
          "Office Supplies",
          "Furniture",
          "Furniture",
          "Furniture",
          "Furniture",
          "Office Supplies",
          "Technology",
          "Office Supplies",
          "Technology",
          "Office Supplies",
          "Furniture",
          "Office Supplies",
          "Furniture",
          "Office Supplies",
          "Office Supplies",
          "Technology",
          "Office Supplies",
          "Technology",
          "Office Supplies",
          "Office Supplies",
          "Technology",
          "Technology",
          "Office Supplies",
          "Office Supplies",
          "Office Supplies",
          "Office Supplies",
          "Office Supplies",
          "Office Supplies",
          "Office Supplies",
          "Furniture",
          "Technology",
          "Technology",
          "Furniture",
          "Office Supplies",
          "Technology",
          "Office Supplies",
          "Furniture",
          "Office Supplies",
          "Furniture",
          "Furniture",
          "Technology",
          "Furniture",
          "Technology",
          "Furniture",
          "Office Supplies",
          "Technology",
          "Office Supplies",
          "Technology",
          "Office Supplies",
          "Office Supplies",
          "Office Supplies",
          "Office Supplies",
          "Technology",
          "Furniture",
          "Office Supplies",
          "Office Supplies",
          "Office Supplies",
          "Office Supplies",
          "Office Supplies",
          "Furniture",
          "Technology",
          "Office Supplies",
          "Office Supplies",
          "Office Supplies",
          "Furniture",
          "Office Supplies",
          "Furniture",
          "Technology",
          "Technology",
          "Office Supplies",
          "Furniture",
          "Office Supplies",
          "Furniture",
          "Technology",
          "Furniture",
          "Office Supplies",
          "Technology",
          "Furniture",
          "Office Supplies",
          "Office Supplies",
          "Technology",
          "Furniture",
          "Technology",
          "Furniture",
          "Office Supplies",
          "Office Supplies",
          "Furniture",
          "Office Supplies",
          "Office Supplies",
          "Office Supplies",
          "Office Supplies",
          "Office Supplies",
          "Office Supplies",
          "Furniture",
          "Furniture",
          "Furniture",
          "Office Supplies",
          "Technology",
          "Office Supplies",
          "Furniture",
          "Technology",
          "Technology",
          "Technology",
          "Furniture",
          "Office Supplies",
          "Office Supplies",
          "Technology",
          "Office Supplies",
          "Office Supplies",
          "Furniture",
          "Office Supplies",
          "Technology",
          "Office Supplies",
          "Technology",
          "Office Supplies",
          "Office Supplies",
          "Office Supplies",
          "Office Supplies",
          "Furniture",
          "Office Supplies",
          "Office Supplies",
          "Technology",
          "Furniture",
          "Office Supplies",
          "Office Supplies",
          "Office Supplies",
          "Office Supplies",
          "Office Supplies",
          "Office Supplies",
          "Technology",
          "Furniture",
          "Office Supplies",
          "Furniture",
          "Furniture",
          "Technology",
          "Technology",
          "Furniture",
          "Furniture",
          "Furniture",
          "Office Supplies",
          "Office Supplies",
          "Furniture",
          "Furniture",
          "Office Supplies",
          "Office Supplies",
          "Technology",
          "Office Supplies",
          "Office Supplies",
          "Technology",
          "Office Supplies",
          "Furniture",
          "Furniture",
          "Office Supplies",
          "Technology",
          "Office Supplies",
          "Technology",
          "Technology",
          "Office Supplies",
          "Office Supplies",
          "Office Supplies",
          "Office Supplies",
          "Office Supplies",
          "Office Supplies",
          "Technology",
          "Office Supplies",
          "Technology",
          "Furniture",
          "Furniture",
          "Furniture",
          "Furniture",
          "Office Supplies",
          "Office Supplies",
          "Office Supplies",
          "Office Supplies",
          "Office Supplies",
          "Office Supplies",
          "Technology",
          "Technology",
          "Furniture",
          "Office Supplies",
          "Furniture",
          "Office Supplies",
          "Office Supplies",
          "Technology",
          "Office Supplies",
          "Office Supplies",
          "Office Supplies",
          "Technology",
          "Furniture",
          "Office Supplies",
          "Technology",
          "Office Supplies",
          "Office Supplies",
          "Office Supplies",
          "Office Supplies",
          "Office Supplies",
          "Office Supplies",
          "Furniture",
          "Technology",
          "Office Supplies",
          "Office Supplies",
          "Office Supplies",
          "Furniture",
          "Technology",
          "Office Supplies",
          "Technology",
          "Office Supplies",
          "Office Supplies",
          "Technology",
          "Office Supplies",
          "Technology",
          "Office Supplies",
          "Office Supplies",
          "Furniture",
          "Office Supplies",
          "Office Supplies",
          "Technology",
          "Office Supplies",
          "Office Supplies",
          "Technology",
          "Office Supplies",
          "Technology",
          "Office Supplies",
          "Office Supplies",
          "Technology",
          "Technology",
          "Furniture",
          "Furniture",
          "Office Supplies",
          "Office Supplies",
          "Office Supplies",
          "Office Supplies",
          "Office Supplies",
          "Office Supplies",
          "Furniture",
          "Furniture",
          "Office Supplies",
          "Office Supplies",
          "Office Supplies",
          "Furniture",
          "Office Supplies",
          "Furniture",
          "Office Supplies",
          "Technology",
          "Office Supplies",
          "Office Supplies",
          "Office Supplies",
          "Office Supplies",
          "Technology",
          "Technology",
          "Technology",
          "Technology",
          "Office Supplies",
          "Technology",
          "Office Supplies",
          "Office Supplies",
          "Technology",
          "Office Supplies",
          "Office Supplies",
          "Office Supplies",
          "Office Supplies",
          "Office Supplies",
          "Technology",
          "Office Supplies",
          "Furniture",
          "Office Supplies",
          "Office Supplies",
          "Office Supplies",
          "Technology",
          "Office Supplies",
          "Office Supplies",
          "Furniture",
          "Furniture",
          "Technology",
          "Office Supplies",
          "Technology",
          "Office Supplies",
          "Office Supplies",
          "Office Supplies",
          "Office Supplies",
          "Furniture",
          "Office Supplies",
          "Office Supplies",
          "Office Supplies",
          "Technology",
          "Office Supplies",
          "Office Supplies",
          "Technology",
          "Office Supplies",
          "Technology",
          "Office Supplies",
          "Office Supplies",
          "Technology",
          "Office Supplies",
          "Furniture",
          "Furniture",
          "Office Supplies",
          "Office Supplies",
          "Technology",
          "Office Supplies",
          "Office Supplies",
          "Office Supplies",
          "Office Supplies",
          "Technology",
          "Office Supplies",
          "Technology",
          "Office Supplies",
          "Technology",
          "Office Supplies",
          "Furniture",
          "Furniture",
          "Office Supplies",
          "Office Supplies",
          "Office Supplies",
          "Office Supplies",
          "Office Supplies",
          "Office Supplies",
          "Technology",
          "Office Supplies",
          "Office Supplies",
          "Office Supplies",
          "Office Supplies",
          "Furniture",
          "Furniture",
          "Office Supplies",
          "Office Supplies",
          "Office Supplies",
          "Office Supplies",
          "Office Supplies",
          "Furniture",
          "Office Supplies",
          "Furniture",
          "Office Supplies",
          "Office Supplies",
          "Office Supplies",
          "Office Supplies",
          "Office Supplies",
          "Office Supplies",
          "Office Supplies",
          "Office Supplies",
          "Office Supplies",
          "Office Supplies",
          "Furniture",
          "Office Supplies",
          "Technology",
          "Office Supplies",
          "Furniture",
          "Office Supplies",
          "Furniture",
          "Office Supplies",
          "Office Supplies",
          "Office Supplies",
          "Office Supplies",
          "Furniture",
          "Office Supplies",
          "Office Supplies",
          "Office Supplies",
          "Office Supplies",
          "Office Supplies",
          "Technology",
          "Office Supplies",
          "Office Supplies",
          "Technology",
          "Office Supplies",
          "Furniture",
          "Office Supplies",
          "Office Supplies",
          "Furniture",
          "Office Supplies",
          "Office Supplies",
          "Office Supplies",
          "Furniture",
          "Furniture",
          "Office Supplies",
          "Office Supplies",
          "Office Supplies",
          "Furniture",
          "Furniture",
          "Office Supplies",
          "Office Supplies",
          "Office Supplies",
          "Furniture",
          "Technology",
          "Office Supplies",
          "Office Supplies",
          "Office Supplies",
          "Technology",
          "Office Supplies",
          "Office Supplies",
          "Furniture",
          "Furniture",
          "Office Supplies",
          "Office Supplies",
          "Office Supplies",
          "Furniture",
          "Furniture",
          "Office Supplies",
          "Furniture",
          "Furniture",
          "Office Supplies",
          "Office Supplies",
          "Office Supplies",
          "Office Supplies",
          "Office Supplies",
          "Office Supplies",
          "Furniture",
          "Technology",
          "Technology",
          "Office Supplies",
          "Office Supplies",
          "Furniture",
          "Technology",
          "Office Supplies",
          "Office Supplies",
          "Office Supplies",
          "Office Supplies",
          "Office Supplies",
          "Office Supplies",
          "Technology",
          "Office Supplies",
          "Office Supplies",
          "Office Supplies",
          "Office Supplies",
          "Office Supplies",
          "Office Supplies",
          "Technology",
          "Office Supplies",
          "Technology",
          "Office Supplies",
          "Furniture",
          "Furniture",
          "Furniture",
          "Furniture",
          "Office Supplies",
          "Furniture",
          "Office Supplies",
          "Furniture",
          "Technology",
          "Office Supplies",
          "Office Supplies",
          "Office Supplies",
          "Technology",
          "Office Supplies",
          "Office Supplies",
          "Furniture",
          "Office Supplies",
          "Office Supplies",
          "Office Supplies",
          "Office Supplies",
          "Office Supplies",
          "Office Supplies",
          "Technology",
          "Office Supplies",
          "Furniture",
          "Office Supplies",
          "Technology",
          "Furniture",
          "Furniture",
          "Furniture",
          "Furniture",
          "Office Supplies",
          "Furniture",
          "Furniture",
          "Office Supplies",
          "Office Supplies",
          "Office Supplies",
          "Office Supplies",
          "Office Supplies",
          "Furniture",
          "Furniture",
          "Office Supplies",
          "Office Supplies",
          "Office Supplies",
          "Furniture",
          "Office Supplies",
          "Office Supplies",
          "Office Supplies",
          "Office Supplies",
          "Office Supplies",
          "Furniture",
          "Furniture",
          "Furniture",
          "Office Supplies",
          "Technology",
          "Office Supplies",
          "Technology",
          "Technology",
          "Office Supplies",
          "Office Supplies",
          "Office Supplies",
          "Furniture",
          "Office Supplies",
          "Office Supplies",
          "Office Supplies",
          "Office Supplies",
          "Furniture",
          "Office Supplies",
          "Office Supplies",
          "Office Supplies",
          "Office Supplies",
          "Office Supplies",
          "Technology",
          "Furniture",
          "Technology",
          "Furniture",
          "Furniture",
          "Office Supplies",
          "Office Supplies",
          "Technology",
          "Office Supplies",
          "Office Supplies",
          "Furniture",
          "Furniture",
          "Office Supplies",
          "Office Supplies",
          "Technology",
          "Office Supplies",
          "Technology",
          "Furniture",
          "Office Supplies",
          "Furniture",
          "Office Supplies",
          "Furniture",
          "Office Supplies",
          "Technology",
          "Office Supplies",
          "Furniture",
          "Office Supplies",
          "Office Supplies",
          "Office Supplies",
          "Office Supplies",
          "Technology",
          "Office Supplies",
          "Technology",
          "Technology",
          "Furniture",
          "Office Supplies",
          "Furniture",
          "Furniture",
          "Technology",
          "Furniture",
          "Office Supplies",
          "Technology",
          "Office Supplies",
          "Office Supplies",
          "Technology",
          "Office Supplies",
          "Office Supplies",
          "Technology",
          "Office Supplies",
          "Office Supplies",
          "Office Supplies",
          "Office Supplies",
          "Technology",
          "Technology",
          "Office Supplies",
          "Office Supplies",
          "Furniture",
          "Office Supplies",
          "Office Supplies",
          "Office Supplies",
          "Office Supplies",
          "Office Supplies",
          "Office Supplies",
          "Technology",
          "Technology",
          "Technology",
          "Office Supplies",
          "Office Supplies",
          "Technology",
          "Office Supplies",
          "Technology",
          "Furniture",
          "Office Supplies",
          "Office Supplies",
          "Furniture",
          "Office Supplies",
          "Furniture",
          "Office Supplies",
          "Office Supplies",
          "Technology",
          "Office Supplies",
          "Furniture",
          "Furniture",
          "Office Supplies",
          "Office Supplies",
          "Furniture",
          "Office Supplies",
          "Office Supplies",
          "Office Supplies",
          "Office Supplies",
          "Office Supplies",
          "Technology",
          "Office Supplies",
          "Furniture",
          "Office Supplies",
          "Furniture",
          "Office Supplies",
          "Technology",
          "Office Supplies",
          "Office Supplies",
          "Office Supplies",
          "Office Supplies",
          "Furniture",
          "Office Supplies",
          "Technology",
          "Office Supplies",
          "Office Supplies",
          "Office Supplies",
          "Office Supplies",
          "Furniture",
          "Furniture",
          "Office Supplies",
          "Office Supplies",
          "Technology",
          "Office Supplies",
          "Office Supplies",
          "Office Supplies",
          "Office Supplies",
          "Office Supplies",
          "Office Supplies",
          "Office Supplies",
          "Furniture",
          "Technology",
          "Office Supplies",
          "Office Supplies",
          "Technology",
          "Office Supplies",
          "Office Supplies",
          "Office Supplies",
          "Office Supplies",
          "Technology",
          "Office Supplies",
          "Office Supplies",
          "Office Supplies",
          "Furniture",
          "Technology",
          "Office Supplies",
          "Office Supplies",
          "Office Supplies",
          "Office Supplies",
          "Office Supplies",
          "Furniture",
          "Office Supplies",
          "Office Supplies",
          "Office Supplies",
          "Furniture",
          "Furniture",
          "Office Supplies",
          "Office Supplies",
          "Furniture",
          "Office Supplies",
          "Office Supplies",
          "Office Supplies",
          "Furniture",
          "Technology",
          "Office Supplies",
          "Office Supplies",
          "Office Supplies",
          "Office Supplies",
          "Office Supplies",
          "Office Supplies",
          "Technology",
          "Furniture",
          "Furniture",
          "Office Supplies",
          "Office Supplies",
          "Furniture",
          "Technology",
          "Office Supplies",
          "Furniture",
          "Technology",
          "Technology",
          "Office Supplies",
          "Office Supplies",
          "Furniture",
          "Office Supplies",
          "Office Supplies",
          "Technology",
          "Office Supplies",
          "Office Supplies",
          "Office Supplies",
          "Office Supplies",
          "Office Supplies",
          "Furniture",
          "Furniture",
          "Technology",
          "Furniture",
          "Technology",
          "Office Supplies",
          "Office Supplies",
          "Furniture",
          "Office Supplies",
          "Furniture",
          "Office Supplies",
          "Office Supplies",
          "Office Supplies",
          "Office Supplies",
          "Office Supplies",
          "Office Supplies",
          "Office Supplies",
          "Furniture",
          "Furniture",
          "Office Supplies",
          "Office Supplies",
          "Office Supplies",
          "Office Supplies",
          "Technology",
          "Furniture",
          "Office Supplies",
          "Office Supplies",
          "Office Supplies",
          "Office Supplies",
          "Furniture",
          "Office Supplies",
          "Technology",
          "Office Supplies",
          "Office Supplies",
          "Office Supplies",
          "Furniture",
          "Office Supplies",
          "Office Supplies",
          "Technology",
          "Office Supplies",
          "Technology",
          "Office Supplies",
          "Office Supplies",
          "Technology",
          "Office Supplies",
          "Technology",
          "Office Supplies",
          "Technology",
          "Office Supplies",
          "Office Supplies",
          "Furniture",
          "Furniture",
          "Office Supplies",
          "Office Supplies",
          "Office Supplies",
          "Office Supplies",
          "Office Supplies",
          "Technology",
          "Office Supplies",
          "Technology",
          "Office Supplies",
          "Furniture",
          "Furniture",
          "Furniture",
          "Office Supplies",
          "Furniture",
          "Office Supplies",
          "Office Supplies",
          "Furniture",
          "Furniture",
          "Technology",
          "Office Supplies",
          "Office Supplies",
          "Office Supplies",
          "Technology",
          "Furniture",
          "Office Supplies",
          "Office Supplies",
          "Furniture",
          "Technology",
          "Office Supplies",
          "Furniture",
          "Office Supplies",
          "Office Supplies",
          "Furniture",
          "Office Supplies",
          "Technology",
          "Technology",
          "Technology",
          "Office Supplies",
          "Office Supplies",
          "Furniture",
          "Furniture",
          "Office Supplies",
          "Office Supplies",
          "Office Supplies",
          "Office Supplies",
          "Technology",
          "Office Supplies",
          "Technology",
          "Office Supplies",
          "Furniture",
          "Office Supplies",
          "Office Supplies",
          "Office Supplies",
          "Office Supplies",
          "Technology",
          "Office Supplies",
          "Office Supplies",
          "Furniture",
          "Office Supplies",
          "Technology",
          "Office Supplies",
          "Office Supplies",
          "Office Supplies",
          "Technology",
          "Office Supplies",
          "Furniture",
          "Office Supplies",
          "Office Supplies",
          "Office Supplies",
          "Office Supplies",
          "Office Supplies",
          "Furniture",
          "Office Supplies",
          "Office Supplies",
          "Technology",
          "Office Supplies",
          "Office Supplies",
          "Office Supplies",
          "Office Supplies",
          "Office Supplies",
          "Furniture",
          "Office Supplies",
          "Furniture",
          "Office Supplies",
          "Furniture",
          "Office Supplies",
          "Office Supplies",
          "Technology",
          "Technology",
          "Office Supplies",
          "Office Supplies",
          "Technology",
          "Technology",
          "Office Supplies",
          "Furniture",
          "Furniture",
          "Technology",
          "Office Supplies",
          "Office Supplies",
          "Technology",
          "Office Supplies",
          "Technology",
          "Office Supplies",
          "Office Supplies",
          "Office Supplies",
          "Office Supplies",
          "Furniture",
          "Office Supplies",
          "Office Supplies",
          "Office Supplies",
          "Technology",
          "Office Supplies",
          "Office Supplies",
          "Office Supplies",
          "Office Supplies",
          "Furniture",
          "Office Supplies",
          "Office Supplies",
          "Office Supplies",
          "Furniture",
          "Furniture",
          "Furniture",
          "Furniture",
          "Technology",
          "Office Supplies",
          "Office Supplies",
          "Office Supplies",
          "Office Supplies",
          "Office Supplies",
          "Office Supplies",
          "Furniture",
          "Technology",
          "Office Supplies",
          "Furniture",
          "Office Supplies",
          "Technology",
          "Office Supplies",
          "Office Supplies",
          "Technology",
          "Office Supplies",
          "Office Supplies",
          "Office Supplies",
          "Office Supplies",
          "Furniture",
          "Office Supplies",
          "Office Supplies",
          "Office Supplies",
          "Technology",
          "Office Supplies",
          "Furniture",
          "Office Supplies",
          "Technology",
          "Office Supplies",
          "Office Supplies",
          "Technology",
          "Office Supplies",
          "Office Supplies",
          "Office Supplies",
          "Furniture",
          "Office Supplies",
          "Furniture",
          "Furniture",
          "Furniture",
          "Technology",
          "Furniture",
          "Office Supplies",
          "Furniture",
          "Office Supplies",
          "Office Supplies",
          "Office Supplies",
          "Office Supplies",
          "Technology",
          "Technology",
          "Technology",
          "Technology",
          "Office Supplies",
          "Office Supplies",
          "Technology",
          "Furniture",
          "Furniture",
          "Office Supplies",
          "Furniture",
          "Office Supplies",
          "Office Supplies",
          "Office Supplies",
          "Office Supplies",
          "Office Supplies",
          "Office Supplies",
          "Office Supplies",
          "Office Supplies",
          "Office Supplies",
          "Furniture",
          "Office Supplies",
          "Office Supplies",
          "Office Supplies",
          "Office Supplies",
          "Office Supplies",
          "Office Supplies",
          "Office Supplies",
          "Office Supplies",
          "Furniture",
          "Office Supplies",
          "Office Supplies",
          "Furniture",
          "Technology",
          "Furniture",
          "Office Supplies",
          "Technology",
          "Furniture",
          "Office Supplies",
          "Office Supplies",
          "Office Supplies",
          "Office Supplies",
          "Technology",
          "Technology",
          "Office Supplies",
          "Furniture",
          "Office Supplies",
          "Furniture",
          "Office Supplies",
          "Office Supplies",
          "Furniture",
          "Office Supplies",
          "Office Supplies",
          "Furniture",
          "Office Supplies",
          "Office Supplies",
          "Furniture",
          "Furniture",
          "Office Supplies",
          "Office Supplies",
          "Furniture",
          "Office Supplies",
          "Office Supplies",
          "Technology",
          "Office Supplies",
          "Technology",
          "Office Supplies",
          "Technology",
          "Furniture",
          "Office Supplies",
          "Office Supplies",
          "Furniture",
          "Office Supplies",
          "Office Supplies",
          "Office Supplies",
          "Office Supplies",
          "Office Supplies",
          "Office Supplies",
          "Office Supplies",
          "Office Supplies",
          "Office Supplies",
          "Technology",
          "Furniture",
          "Office Supplies",
          "Office Supplies",
          "Technology",
          "Office Supplies",
          "Technology",
          "Technology",
          "Office Supplies",
          "Office Supplies",
          "Technology",
          "Office Supplies",
          "Office Supplies",
          "Technology",
          "Technology",
          "Furniture",
          "Furniture",
          "Technology",
          "Office Supplies",
          "Furniture",
          "Furniture",
          "Furniture",
          "Office Supplies",
          "Furniture",
          "Office Supplies",
          "Furniture",
          "Technology",
          "Furniture",
          "Office Supplies",
          "Furniture",
          "Furniture",
          "Furniture",
          "Office Supplies",
          "Office Supplies",
          "Furniture",
          "Office Supplies",
          "Office Supplies",
          "Office Supplies",
          "Office Supplies",
          "Furniture",
          "Office Supplies",
          "Furniture",
          "Office Supplies",
          "Office Supplies",
          "Technology",
          "Office Supplies",
          "Office Supplies",
          "Office Supplies",
          "Technology",
          "Office Supplies",
          "Furniture",
          "Technology",
          "Office Supplies",
          "Furniture",
          "Office Supplies",
          "Technology",
          "Office Supplies",
          "Office Supplies",
          "Office Supplies",
          "Furniture",
          "Furniture",
          "Office Supplies",
          "Office Supplies",
          "Technology",
          "Office Supplies",
          "Office Supplies",
          "Office Supplies",
          "Office Supplies",
          "Technology",
          "Furniture",
          "Office Supplies",
          "Technology",
          "Technology",
          "Office Supplies",
          "Office Supplies",
          "Office Supplies",
          "Office Supplies",
          "Furniture",
          "Office Supplies",
          "Office Supplies",
          "Office Supplies",
          "Office Supplies",
          "Technology",
          "Office Supplies",
          "Furniture",
          "Office Supplies",
          "Furniture",
          "Office Supplies",
          "Office Supplies",
          "Office Supplies",
          "Office Supplies",
          "Office Supplies",
          "Office Supplies",
          "Office Supplies",
          "Office Supplies",
          "Technology",
          "Office Supplies",
          "Office Supplies",
          "Technology",
          "Office Supplies",
          "Office Supplies",
          "Office Supplies",
          "Furniture",
          "Office Supplies",
          "Office Supplies",
          "Technology",
          "Office Supplies",
          "Office Supplies",
          "Technology",
          "Technology",
          "Technology",
          "Furniture",
          "Furniture",
          "Technology",
          "Office Supplies",
          "Office Supplies"
         ],
         "marker": {
          "colors": [
           "#FFA15A",
           "cyan",
           "#00CC96"
          ],
          "line": {
           "color": "white",
           "width": 2
          }
         },
         "pull": [
          0,
          0,
          0.1
         ],
         "rotation": 90,
         "sort": false,
         "textfont": {
          "size": 24
         },
         "textinfo": "label+percent",
         "textposition": "outside",
         "type": "pie",
         "values": {
          "bdata": "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",
          "dtype": "f8"
         }
        }
       ],
       "layout": {
        "height": 600,
        "legend": {
         "font": {
          "size": 12
         },
         "x": 1.05,
         "y": 0.9
        },
        "margin": {
         "b": 30,
         "l": 10,
         "r": 10,
         "t": 50
        },
        "showlegend": true,
        "template": {
         "data": {
          "bar": [
           {
            "error_x": {
             "color": "#f2f5fa"
            },
            "error_y": {
             "color": "#f2f5fa"
            },
            "marker": {
             "line": {
              "color": "rgb(17,17,17)",
              "width": 0.5
             },
             "pattern": {
              "fillmode": "overlay",
              "size": 10,
              "solidity": 0.2
             }
            },
            "type": "bar"
           }
          ],
          "barpolar": [
           {
            "marker": {
             "line": {
              "color": "rgb(17,17,17)",
              "width": 0.5
             },
             "pattern": {
              "fillmode": "overlay",
              "size": 10,
              "solidity": 0.2
             }
            },
            "type": "barpolar"
           }
          ],
          "carpet": [
           {
            "aaxis": {
             "endlinecolor": "#A2B1C6",
             "gridcolor": "#506784",
             "linecolor": "#506784",
             "minorgridcolor": "#506784",
             "startlinecolor": "#A2B1C6"
            },
            "baxis": {
             "endlinecolor": "#A2B1C6",
             "gridcolor": "#506784",
             "linecolor": "#506784",
             "minorgridcolor": "#506784",
             "startlinecolor": "#A2B1C6"
            },
            "type": "carpet"
           }
          ],
          "choropleth": [
           {
            "colorbar": {
             "outlinewidth": 0,
             "ticks": ""
            },
            "type": "choropleth"
           }
          ],
          "contour": [
           {
            "colorbar": {
             "outlinewidth": 0,
             "ticks": ""
            },
            "colorscale": [
             [
              0,
              "#0d0887"
             ],
             [
              0.1111111111111111,
              "#46039f"
             ],
             [
              0.2222222222222222,
              "#7201a8"
             ],
             [
              0.3333333333333333,
              "#9c179e"
             ],
             [
              0.4444444444444444,
              "#bd3786"
             ],
             [
              0.5555555555555556,
              "#d8576b"
             ],
             [
              0.6666666666666666,
              "#ed7953"
             ],
             [
              0.7777777777777778,
              "#fb9f3a"
             ],
             [
              0.8888888888888888,
              "#fdca26"
             ],
             [
              1,
              "#f0f921"
             ]
            ],
            "type": "contour"
           }
          ],
          "contourcarpet": [
           {
            "colorbar": {
             "outlinewidth": 0,
             "ticks": ""
            },
            "type": "contourcarpet"
           }
          ],
          "heatmap": [
           {
            "colorbar": {
             "outlinewidth": 0,
             "ticks": ""
            },
            "colorscale": [
             [
              0,
              "#0d0887"
             ],
             [
              0.1111111111111111,
              "#46039f"
             ],
             [
              0.2222222222222222,
              "#7201a8"
             ],
             [
              0.3333333333333333,
              "#9c179e"
             ],
             [
              0.4444444444444444,
              "#bd3786"
             ],
             [
              0.5555555555555556,
              "#d8576b"
             ],
             [
              0.6666666666666666,
              "#ed7953"
             ],
             [
              0.7777777777777778,
              "#fb9f3a"
             ],
             [
              0.8888888888888888,
              "#fdca26"
             ],
             [
              1,
              "#f0f921"
             ]
            ],
            "type": "heatmap"
           }
          ],
          "histogram": [
           {
            "marker": {
             "pattern": {
              "fillmode": "overlay",
              "size": 10,
              "solidity": 0.2
             }
            },
            "type": "histogram"
           }
          ],
          "histogram2d": [
           {
            "colorbar": {
             "outlinewidth": 0,
             "ticks": ""
            },
            "colorscale": [
             [
              0,
              "#0d0887"
             ],
             [
              0.1111111111111111,
              "#46039f"
             ],
             [
              0.2222222222222222,
              "#7201a8"
             ],
             [
              0.3333333333333333,
              "#9c179e"
             ],
             [
              0.4444444444444444,
              "#bd3786"
             ],
             [
              0.5555555555555556,
              "#d8576b"
             ],
             [
              0.6666666666666666,
              "#ed7953"
             ],
             [
              0.7777777777777778,
              "#fb9f3a"
             ],
             [
              0.8888888888888888,
              "#fdca26"
             ],
             [
              1,
              "#f0f921"
             ]
            ],
            "type": "histogram2d"
           }
          ],
          "histogram2dcontour": [
           {
            "colorbar": {
             "outlinewidth": 0,
             "ticks": ""
            },
            "colorscale": [
             [
              0,
              "#0d0887"
             ],
             [
              0.1111111111111111,
              "#46039f"
             ],
             [
              0.2222222222222222,
              "#7201a8"
             ],
             [
              0.3333333333333333,
              "#9c179e"
             ],
             [
              0.4444444444444444,
              "#bd3786"
             ],
             [
              0.5555555555555556,
              "#d8576b"
             ],
             [
              0.6666666666666666,
              "#ed7953"
             ],
             [
              0.7777777777777778,
              "#fb9f3a"
             ],
             [
              0.8888888888888888,
              "#fdca26"
             ],
             [
              1,
              "#f0f921"
             ]
            ],
            "type": "histogram2dcontour"
           }
          ],
          "mesh3d": [
           {
            "colorbar": {
             "outlinewidth": 0,
             "ticks": ""
            },
            "type": "mesh3d"
           }
          ],
          "parcoords": [
           {
            "line": {
             "colorbar": {
              "outlinewidth": 0,
              "ticks": ""
             }
            },
            "type": "parcoords"
           }
          ],
          "pie": [
           {
            "automargin": true,
            "type": "pie"
           }
          ],
          "scatter": [
           {
            "marker": {
             "line": {
              "color": "#283442"
             }
            },
            "type": "scatter"
           }
          ],
          "scatter3d": [
           {
            "line": {
             "colorbar": {
              "outlinewidth": 0,
              "ticks": ""
             }
            },
            "marker": {
             "colorbar": {
              "outlinewidth": 0,
              "ticks": ""
             }
            },
            "type": "scatter3d"
           }
          ],
          "scattercarpet": [
           {
            "marker": {
             "colorbar": {
              "outlinewidth": 0,
              "ticks": ""
             }
            },
            "type": "scattercarpet"
           }
          ],
          "scattergeo": [
           {
            "marker": {
             "colorbar": {
              "outlinewidth": 0,
              "ticks": ""
             }
            },
            "type": "scattergeo"
           }
          ],
          "scattergl": [
           {
            "marker": {
             "line": {
              "color": "#283442"
             }
            },
            "type": "scattergl"
           }
          ],
          "scattermap": [
           {
            "marker": {
             "colorbar": {
              "outlinewidth": 0,
              "ticks": ""
             }
            },
            "type": "scattermap"
           }
          ],
          "scattermapbox": [
           {
            "marker": {
             "colorbar": {
              "outlinewidth": 0,
              "ticks": ""
             }
            },
            "type": "scattermapbox"
           }
          ],
          "scatterpolar": [
           {
            "marker": {
             "colorbar": {
              "outlinewidth": 0,
              "ticks": ""
             }
            },
            "type": "scatterpolar"
           }
          ],
          "scatterpolargl": [
           {
            "marker": {
             "colorbar": {
              "outlinewidth": 0,
              "ticks": ""
             }
            },
            "type": "scatterpolargl"
           }
          ],
          "scatterternary": [
           {
            "marker": {
             "colorbar": {
              "outlinewidth": 0,
              "ticks": ""
             }
            },
            "type": "scatterternary"
           }
          ],
          "surface": [
           {
            "colorbar": {
             "outlinewidth": 0,
             "ticks": ""
            },
            "colorscale": [
             [
              0,
              "#0d0887"
             ],
             [
              0.1111111111111111,
              "#46039f"
             ],
             [
              0.2222222222222222,
              "#7201a8"
             ],
             [
              0.3333333333333333,
              "#9c179e"
             ],
             [
              0.4444444444444444,
              "#bd3786"
             ],
             [
              0.5555555555555556,
              "#d8576b"
             ],
             [
              0.6666666666666666,
              "#ed7953"
             ],
             [
              0.7777777777777778,
              "#fb9f3a"
             ],
             [
              0.8888888888888888,
              "#fdca26"
             ],
             [
              1,
              "#f0f921"
             ]
            ],
            "type": "surface"
           }
          ],
          "table": [
           {
            "cells": {
             "fill": {
              "color": "#506784"
             },
             "line": {
              "color": "rgb(17,17,17)"
             }
            },
            "header": {
             "fill": {
              "color": "#2a3f5f"
             },
             "line": {
              "color": "rgb(17,17,17)"
             }
            },
            "type": "table"
           }
          ]
         },
         "layout": {
          "annotationdefaults": {
           "arrowcolor": "#f2f5fa",
           "arrowhead": 0,
           "arrowwidth": 1
          },
          "autotypenumbers": "strict",
          "coloraxis": {
           "colorbar": {
            "outlinewidth": 0,
            "ticks": ""
           }
          },
          "colorscale": {
           "diverging": [
            [
             0,
             "#8e0152"
            ],
            [
             0.1,
             "#c51b7d"
            ],
            [
             0.2,
             "#de77ae"
            ],
            [
             0.3,
             "#f1b6da"
            ],
            [
             0.4,
             "#fde0ef"
            ],
            [
             0.5,
             "#f7f7f7"
            ],
            [
             0.6,
             "#e6f5d0"
            ],
            [
             0.7,
             "#b8e186"
            ],
            [
             0.8,
             "#7fbc41"
            ],
            [
             0.9,
             "#4d9221"
            ],
            [
             1,
             "#276419"
            ]
           ],
           "sequential": [
            [
             0,
             "#0d0887"
            ],
            [
             0.1111111111111111,
             "#46039f"
            ],
            [
             0.2222222222222222,
             "#7201a8"
            ],
            [
             0.3333333333333333,
             "#9c179e"
            ],
            [
             0.4444444444444444,
             "#bd3786"
            ],
            [
             0.5555555555555556,
             "#d8576b"
            ],
            [
             0.6666666666666666,
             "#ed7953"
            ],
            [
             0.7777777777777778,
             "#fb9f3a"
            ],
            [
             0.8888888888888888,
             "#fdca26"
            ],
            [
             1,
             "#f0f921"
            ]
           ],
           "sequentialminus": [
            [
             0,
             "#0d0887"
            ],
            [
             0.1111111111111111,
             "#46039f"
            ],
            [
             0.2222222222222222,
             "#7201a8"
            ],
            [
             0.3333333333333333,
             "#9c179e"
            ],
            [
             0.4444444444444444,
             "#bd3786"
            ],
            [
             0.5555555555555556,
             "#d8576b"
            ],
            [
             0.6666666666666666,
             "#ed7953"
            ],
            [
             0.7777777777777778,
             "#fb9f3a"
            ],
            [
             0.8888888888888888,
             "#fdca26"
            ],
            [
             1,
             "#f0f921"
            ]
           ]
          },
          "colorway": [
           "#636efa",
           "#EF553B",
           "#00cc96",
           "#ab63fa",
           "#FFA15A",
           "#19d3f3",
           "#FF6692",
           "#B6E880",
           "#FF97FF",
           "#FECB52"
          ],
          "font": {
           "color": "#f2f5fa"
          },
          "geo": {
           "bgcolor": "rgb(17,17,17)",
           "lakecolor": "rgb(17,17,17)",
           "landcolor": "rgb(17,17,17)",
           "showlakes": true,
           "showland": true,
           "subunitcolor": "#506784"
          },
          "hoverlabel": {
           "align": "left"
          },
          "hovermode": "closest",
          "mapbox": {
           "style": "dark"
          },
          "paper_bgcolor": "rgb(17,17,17)",
          "plot_bgcolor": "rgb(17,17,17)",
          "polar": {
           "angularaxis": {
            "gridcolor": "#506784",
            "linecolor": "#506784",
            "ticks": ""
           },
           "bgcolor": "rgb(17,17,17)",
           "radialaxis": {
            "gridcolor": "#506784",
            "linecolor": "#506784",
            "ticks": ""
           }
          },
          "scene": {
           "xaxis": {
            "backgroundcolor": "rgb(17,17,17)",
            "gridcolor": "#506784",
            "gridwidth": 2,
            "linecolor": "#506784",
            "showbackground": true,
            "ticks": "",
            "zerolinecolor": "#C8D4E3"
           },
           "yaxis": {
            "backgroundcolor": "rgb(17,17,17)",
            "gridcolor": "#506784",
            "gridwidth": 2,
            "linecolor": "#506784",
            "showbackground": true,
            "ticks": "",
            "zerolinecolor": "#C8D4E3"
           },
           "zaxis": {
            "backgroundcolor": "rgb(17,17,17)",
            "gridcolor": "#506784",
            "gridwidth": 2,
            "linecolor": "#506784",
            "showbackground": true,
            "ticks": "",
            "zerolinecolor": "#C8D4E3"
           }
          },
          "shapedefaults": {
           "line": {
            "color": "#f2f5fa"
           }
          },
          "sliderdefaults": {
           "bgcolor": "#C8D4E3",
           "bordercolor": "rgb(17,17,17)",
           "borderwidth": 1,
           "tickwidth": 0
          },
          "ternary": {
           "aaxis": {
            "gridcolor": "#506784",
            "linecolor": "#506784",
            "ticks": ""
           },
           "baxis": {
            "gridcolor": "#506784",
            "linecolor": "#506784",
            "ticks": ""
           },
           "bgcolor": "rgb(17,17,17)",
           "caxis": {
            "gridcolor": "#506784",
            "linecolor": "#506784",
            "ticks": ""
           }
          },
          "title": {
           "x": 0.05
          },
          "updatemenudefaults": {
           "bgcolor": "#506784",
           "borderwidth": 0
          },
          "xaxis": {
           "automargin": true,
           "gridcolor": "#283442",
           "linecolor": "#506784",
           "ticks": "",
           "title": {
            "standoff": 15
           },
           "zerolinecolor": "#283442",
           "zerolinewidth": 2
          },
          "yaxis": {
           "automargin": true,
           "gridcolor": "#283442",
           "linecolor": "#506784",
           "ticks": "",
           "title": {
            "standoff": 15
           },
           "zerolinecolor": "#283442",
           "zerolinewidth": 2
          }
         }
        },
        "title": {
         "font": {
          "size": 30
         },
         "pad": {
          "b": 50,
          "t": 50
         },
         "text": "<b>Sales by Product Category</b><br><sup>Technology-Furniture-Office Supplies</sup>",
         "x": 0.5
        },
        "width": 1000
       }
      }
     },
     "metadata": {},
     "output_type": "display_data"
    }
   ],
   "source": [
    "# fig = px.pie(sbc, values = 'Sales', names = 'Category', hole = 0.3,\n",
    "#              color_discrete_sequence = px.colors.qualitative.Pastel)\n",
    "# fig.update_traces(textposition = 'inside', textinfo = 'percent+label', textfont = dict(size = 14, family = 'Arial Black', color = 'black'))\n",
    "# fig.update_layout(title = dict(text = 'Sales Analysis by Category', font = dict(size = 34, family = 'Arial Black', color = 'black'), x = 0.5),\n",
    "#                   legend=dict(font=dict(size=14, family='Arial Black', color='black')), width = 700, height = 600)\n",
    "# fig.show()\n",
    "\n",
    "fig = go.Figure(data = [go.Pie(\n",
    "    labels = df['Category'],\n",
    "    values = df['Sales'],\n",
    "    domain = dict(x = [0.1, 0.9], y = [0.1, 0.9]),\n",
    "    hole = 0.3,\n",
    "    pull = [0,0,0.1],\n",
    "    marker = dict(colors = ['#FFA15A', 'cyan', '#00CC96'],\n",
    "                  line = dict(color = 'white', width = 2)),\n",
    "    textinfo = 'label+percent', rotation = 90,\n",
    "    insidetextorientation = 'radial',\n",
    "    textposition = 'outside', textfont = dict(size = 24),\n",
    "    hoverinfo = 'label+value+percent',\n",
    "    sort = False # Optional: maintain order\n",
    ")])\n",
    "\n",
    "#Layout styling\n",
    "fig.update_layout(\n",
    "    title = dict(text = '<b>Sales by Product Category</b><br><sup>Technology-Furniture-Office Supplies</sup>',\n",
    "                 font = dict(size = 30), x = 0.5, pad = dict(t = 50, b = 50)),\n",
    "    showlegend = True, width = 1000, height = 600,\n",
    "    template = 'plotly_dark', margin = dict(l = 10, r = 10, t = 100, b = 30),\n",
    "    legend = dict(x = 1.05, y = 0.9, font = dict(size = 12))\n",
    ")\n",
    "fig.show()"
   ]
  },
  {
   "cell_type": "markdown",
   "id": "7487cad4",
   "metadata": {},
   "source": [
    "<h4>Technology has the highest Sales across Categories. Whereas, Office Supplies has the lowest Sales </h4>"
   ]
  },
  {
   "cell_type": "markdown",
   "id": "17a4d4b2",
   "metadata": {},
   "source": [
    "<h3> Q.3 - Analyze Sales based on Sub-Categories </h3>"
   ]
  },
  {
   "cell_type": "code",
   "execution_count": 14,
   "id": "00639c0c",
   "metadata": {},
   "outputs": [],
   "source": [
    "sbsc = df.groupby(['Sub-Category'], as_index = False)['Sales'].sum().sort_values(by = 'Sales', ascending = False).reset_index(drop = True)"
   ]
  },
  {
   "cell_type": "code",
   "execution_count": 15,
   "id": "c5e5bacf",
   "metadata": {},
   "outputs": [
    {
     "data": {
      "text/html": [
       "<div>\n",
       "<style scoped>\n",
       "    .dataframe tbody tr th:only-of-type {\n",
       "        vertical-align: middle;\n",
       "    }\n",
       "\n",
       "    .dataframe tbody tr th {\n",
       "        vertical-align: top;\n",
       "    }\n",
       "\n",
       "    .dataframe thead th {\n",
       "        text-align: right;\n",
       "    }\n",
       "</style>\n",
       "<table border=\"1\" class=\"dataframe\">\n",
       "  <thead>\n",
       "    <tr style=\"text-align: right;\">\n",
       "      <th></th>\n",
       "      <th>Sub-Category</th>\n",
       "      <th>Sales</th>\n",
       "    </tr>\n",
       "  </thead>\n",
       "  <tbody>\n",
       "    <tr>\n",
       "      <th>0</th>\n",
       "      <td>Phones</td>\n",
       "      <td>330007.0540</td>\n",
       "    </tr>\n",
       "    <tr>\n",
       "      <th>1</th>\n",
       "      <td>Chairs</td>\n",
       "      <td>328449.1030</td>\n",
       "    </tr>\n",
       "    <tr>\n",
       "      <th>2</th>\n",
       "      <td>Storage</td>\n",
       "      <td>223843.6080</td>\n",
       "    </tr>\n",
       "    <tr>\n",
       "      <th>3</th>\n",
       "      <td>Tables</td>\n",
       "      <td>206965.5320</td>\n",
       "    </tr>\n",
       "    <tr>\n",
       "      <th>4</th>\n",
       "      <td>Binders</td>\n",
       "      <td>203412.7330</td>\n",
       "    </tr>\n",
       "    <tr>\n",
       "      <th>5</th>\n",
       "      <td>Machines</td>\n",
       "      <td>189238.6310</td>\n",
       "    </tr>\n",
       "    <tr>\n",
       "      <th>6</th>\n",
       "      <td>Accessories</td>\n",
       "      <td>167380.3180</td>\n",
       "    </tr>\n",
       "    <tr>\n",
       "      <th>7</th>\n",
       "      <td>Copiers</td>\n",
       "      <td>149528.0300</td>\n",
       "    </tr>\n",
       "    <tr>\n",
       "      <th>8</th>\n",
       "      <td>Bookcases</td>\n",
       "      <td>114879.9963</td>\n",
       "    </tr>\n",
       "    <tr>\n",
       "      <th>9</th>\n",
       "      <td>Appliances</td>\n",
       "      <td>107532.1610</td>\n",
       "    </tr>\n",
       "    <tr>\n",
       "      <th>10</th>\n",
       "      <td>Furnishings</td>\n",
       "      <td>91705.1640</td>\n",
       "    </tr>\n",
       "    <tr>\n",
       "      <th>11</th>\n",
       "      <td>Paper</td>\n",
       "      <td>78479.2060</td>\n",
       "    </tr>\n",
       "    <tr>\n",
       "      <th>12</th>\n",
       "      <td>Supplies</td>\n",
       "      <td>46673.5380</td>\n",
       "    </tr>\n",
       "    <tr>\n",
       "      <th>13</th>\n",
       "      <td>Art</td>\n",
       "      <td>27118.7920</td>\n",
       "    </tr>\n",
       "    <tr>\n",
       "      <th>14</th>\n",
       "      <td>Envelopes</td>\n",
       "      <td>16476.4020</td>\n",
       "    </tr>\n",
       "    <tr>\n",
       "      <th>15</th>\n",
       "      <td>Labels</td>\n",
       "      <td>12486.3120</td>\n",
       "    </tr>\n",
       "    <tr>\n",
       "      <th>16</th>\n",
       "      <td>Fasteners</td>\n",
       "      <td>3024.2800</td>\n",
       "    </tr>\n",
       "  </tbody>\n",
       "</table>\n",
       "</div>"
      ],
      "text/plain": [
       "   Sub-Category        Sales\n",
       "0        Phones  330007.0540\n",
       "1        Chairs  328449.1030\n",
       "2       Storage  223843.6080\n",
       "3        Tables  206965.5320\n",
       "4       Binders  203412.7330\n",
       "5      Machines  189238.6310\n",
       "6   Accessories  167380.3180\n",
       "7       Copiers  149528.0300\n",
       "8     Bookcases  114879.9963\n",
       "9    Appliances  107532.1610\n",
       "10  Furnishings   91705.1640\n",
       "11        Paper   78479.2060\n",
       "12     Supplies   46673.5380\n",
       "13          Art   27118.7920\n",
       "14    Envelopes   16476.4020\n",
       "15       Labels   12486.3120\n",
       "16    Fasteners    3024.2800"
      ]
     },
     "execution_count": 15,
     "metadata": {},
     "output_type": "execute_result"
    }
   ],
   "source": [
    "sbsc"
   ]
  },
  {
   "cell_type": "code",
   "execution_count": 21,
   "id": "383271b9",
   "metadata": {},
   "outputs": [
    {
     "data": {
      "application/vnd.plotly.v1+json": {
       "config": {
        "plotlyServerURL": "https://plot.ly"
       },
       "data": [
        {
         "hovertemplate": "%{y:$,.0f}<extra></extra>",
         "marker": {
          "color": "cyan",
          "line": {
           "color": "white",
           "width": 2
          }
         },
         "name": "Sales",
         "showlegend": true,
         "text": [
          "$ 330,007",
          "$ 328,449",
          "$ 223,844",
          "$ 206,966",
          "$ 203,413",
          "$ 189,239",
          "$ 167,380",
          "$ 149,528",
          "$ 114,880",
          "$ 107,532",
          "$ 91,705",
          "$ 78,479",
          "$ 46,674",
          "$ 27,119",
          "$ 16,476",
          "$ 12,486",
          "$ 3,024"
         ],
         "textfont": {
          "color": "white",
          "size": 16
         },
         "textposition": "outside",
         "type": "bar",
         "width": 0.8,
         "x": [
          "Phones",
          "Chairs",
          "Storage",
          "Tables",
          "Binders",
          "Machines",
          "Accessories",
          "Copiers",
          "Bookcases",
          "Appliances",
          "Furnishings",
          "Paper",
          "Supplies",
          "Art",
          "Envelopes",
          "Labels",
          "Fasteners"
         ],
         "y": {
          "bdata": "qMZLN1wkFEH+1HhpBAwUQaAaL90cUwtBTDeJQaxDCUGgGi/dpdQIQV66SQy1GQdBgZVDi6JuBEHXo3A9wEACQdBE2PD/C/xAa7x0k8JA+kDJdr6fkmP2QPCnxkvzKPNAqMZLNzHK5kCcxCCwsnvaQD81XroZF9BALbKd7ydjyEDD9Shcj6CnQA==",
          "dtype": "f8"
         }
        }
       ],
       "layout": {
        "bargap": 0.4,
        "bargroupgap": 0,
        "height": 600,
        "hovermode": "x unified",
        "legend": {
         "font": {
          "size": 18
         },
         "x": 0.85,
         "y": 0.99
        },
        "template": {
         "data": {
          "bar": [
           {
            "error_x": {
             "color": "#f2f5fa"
            },
            "error_y": {
             "color": "#f2f5fa"
            },
            "marker": {
             "line": {
              "color": "rgb(17,17,17)",
              "width": 0.5
             },
             "pattern": {
              "fillmode": "overlay",
              "size": 10,
              "solidity": 0.2
             }
            },
            "type": "bar"
           }
          ],
          "barpolar": [
           {
            "marker": {
             "line": {
              "color": "rgb(17,17,17)",
              "width": 0.5
             },
             "pattern": {
              "fillmode": "overlay",
              "size": 10,
              "solidity": 0.2
             }
            },
            "type": "barpolar"
           }
          ],
          "carpet": [
           {
            "aaxis": {
             "endlinecolor": "#A2B1C6",
             "gridcolor": "#506784",
             "linecolor": "#506784",
             "minorgridcolor": "#506784",
             "startlinecolor": "#A2B1C6"
            },
            "baxis": {
             "endlinecolor": "#A2B1C6",
             "gridcolor": "#506784",
             "linecolor": "#506784",
             "minorgridcolor": "#506784",
             "startlinecolor": "#A2B1C6"
            },
            "type": "carpet"
           }
          ],
          "choropleth": [
           {
            "colorbar": {
             "outlinewidth": 0,
             "ticks": ""
            },
            "type": "choropleth"
           }
          ],
          "contour": [
           {
            "colorbar": {
             "outlinewidth": 0,
             "ticks": ""
            },
            "colorscale": [
             [
              0,
              "#0d0887"
             ],
             [
              0.1111111111111111,
              "#46039f"
             ],
             [
              0.2222222222222222,
              "#7201a8"
             ],
             [
              0.3333333333333333,
              "#9c179e"
             ],
             [
              0.4444444444444444,
              "#bd3786"
             ],
             [
              0.5555555555555556,
              "#d8576b"
             ],
             [
              0.6666666666666666,
              "#ed7953"
             ],
             [
              0.7777777777777778,
              "#fb9f3a"
             ],
             [
              0.8888888888888888,
              "#fdca26"
             ],
             [
              1,
              "#f0f921"
             ]
            ],
            "type": "contour"
           }
          ],
          "contourcarpet": [
           {
            "colorbar": {
             "outlinewidth": 0,
             "ticks": ""
            },
            "type": "contourcarpet"
           }
          ],
          "heatmap": [
           {
            "colorbar": {
             "outlinewidth": 0,
             "ticks": ""
            },
            "colorscale": [
             [
              0,
              "#0d0887"
             ],
             [
              0.1111111111111111,
              "#46039f"
             ],
             [
              0.2222222222222222,
              "#7201a8"
             ],
             [
              0.3333333333333333,
              "#9c179e"
             ],
             [
              0.4444444444444444,
              "#bd3786"
             ],
             [
              0.5555555555555556,
              "#d8576b"
             ],
             [
              0.6666666666666666,
              "#ed7953"
             ],
             [
              0.7777777777777778,
              "#fb9f3a"
             ],
             [
              0.8888888888888888,
              "#fdca26"
             ],
             [
              1,
              "#f0f921"
             ]
            ],
            "type": "heatmap"
           }
          ],
          "histogram": [
           {
            "marker": {
             "pattern": {
              "fillmode": "overlay",
              "size": 10,
              "solidity": 0.2
             }
            },
            "type": "histogram"
           }
          ],
          "histogram2d": [
           {
            "colorbar": {
             "outlinewidth": 0,
             "ticks": ""
            },
            "colorscale": [
             [
              0,
              "#0d0887"
             ],
             [
              0.1111111111111111,
              "#46039f"
             ],
             [
              0.2222222222222222,
              "#7201a8"
             ],
             [
              0.3333333333333333,
              "#9c179e"
             ],
             [
              0.4444444444444444,
              "#bd3786"
             ],
             [
              0.5555555555555556,
              "#d8576b"
             ],
             [
              0.6666666666666666,
              "#ed7953"
             ],
             [
              0.7777777777777778,
              "#fb9f3a"
             ],
             [
              0.8888888888888888,
              "#fdca26"
             ],
             [
              1,
              "#f0f921"
             ]
            ],
            "type": "histogram2d"
           }
          ],
          "histogram2dcontour": [
           {
            "colorbar": {
             "outlinewidth": 0,
             "ticks": ""
            },
            "colorscale": [
             [
              0,
              "#0d0887"
             ],
             [
              0.1111111111111111,
              "#46039f"
             ],
             [
              0.2222222222222222,
              "#7201a8"
             ],
             [
              0.3333333333333333,
              "#9c179e"
             ],
             [
              0.4444444444444444,
              "#bd3786"
             ],
             [
              0.5555555555555556,
              "#d8576b"
             ],
             [
              0.6666666666666666,
              "#ed7953"
             ],
             [
              0.7777777777777778,
              "#fb9f3a"
             ],
             [
              0.8888888888888888,
              "#fdca26"
             ],
             [
              1,
              "#f0f921"
             ]
            ],
            "type": "histogram2dcontour"
           }
          ],
          "mesh3d": [
           {
            "colorbar": {
             "outlinewidth": 0,
             "ticks": ""
            },
            "type": "mesh3d"
           }
          ],
          "parcoords": [
           {
            "line": {
             "colorbar": {
              "outlinewidth": 0,
              "ticks": ""
             }
            },
            "type": "parcoords"
           }
          ],
          "pie": [
           {
            "automargin": true,
            "type": "pie"
           }
          ],
          "scatter": [
           {
            "marker": {
             "line": {
              "color": "#283442"
             }
            },
            "type": "scatter"
           }
          ],
          "scatter3d": [
           {
            "line": {
             "colorbar": {
              "outlinewidth": 0,
              "ticks": ""
             }
            },
            "marker": {
             "colorbar": {
              "outlinewidth": 0,
              "ticks": ""
             }
            },
            "type": "scatter3d"
           }
          ],
          "scattercarpet": [
           {
            "marker": {
             "colorbar": {
              "outlinewidth": 0,
              "ticks": ""
             }
            },
            "type": "scattercarpet"
           }
          ],
          "scattergeo": [
           {
            "marker": {
             "colorbar": {
              "outlinewidth": 0,
              "ticks": ""
             }
            },
            "type": "scattergeo"
           }
          ],
          "scattergl": [
           {
            "marker": {
             "line": {
              "color": "#283442"
             }
            },
            "type": "scattergl"
           }
          ],
          "scattermap": [
           {
            "marker": {
             "colorbar": {
              "outlinewidth": 0,
              "ticks": ""
             }
            },
            "type": "scattermap"
           }
          ],
          "scattermapbox": [
           {
            "marker": {
             "colorbar": {
              "outlinewidth": 0,
              "ticks": ""
             }
            },
            "type": "scattermapbox"
           }
          ],
          "scatterpolar": [
           {
            "marker": {
             "colorbar": {
              "outlinewidth": 0,
              "ticks": ""
             }
            },
            "type": "scatterpolar"
           }
          ],
          "scatterpolargl": [
           {
            "marker": {
             "colorbar": {
              "outlinewidth": 0,
              "ticks": ""
             }
            },
            "type": "scatterpolargl"
           }
          ],
          "scatterternary": [
           {
            "marker": {
             "colorbar": {
              "outlinewidth": 0,
              "ticks": ""
             }
            },
            "type": "scatterternary"
           }
          ],
          "surface": [
           {
            "colorbar": {
             "outlinewidth": 0,
             "ticks": ""
            },
            "colorscale": [
             [
              0,
              "#0d0887"
             ],
             [
              0.1111111111111111,
              "#46039f"
             ],
             [
              0.2222222222222222,
              "#7201a8"
             ],
             [
              0.3333333333333333,
              "#9c179e"
             ],
             [
              0.4444444444444444,
              "#bd3786"
             ],
             [
              0.5555555555555556,
              "#d8576b"
             ],
             [
              0.6666666666666666,
              "#ed7953"
             ],
             [
              0.7777777777777778,
              "#fb9f3a"
             ],
             [
              0.8888888888888888,
              "#fdca26"
             ],
             [
              1,
              "#f0f921"
             ]
            ],
            "type": "surface"
           }
          ],
          "table": [
           {
            "cells": {
             "fill": {
              "color": "#506784"
             },
             "line": {
              "color": "rgb(17,17,17)"
             }
            },
            "header": {
             "fill": {
              "color": "#2a3f5f"
             },
             "line": {
              "color": "rgb(17,17,17)"
             }
            },
            "type": "table"
           }
          ]
         },
         "layout": {
          "annotationdefaults": {
           "arrowcolor": "#f2f5fa",
           "arrowhead": 0,
           "arrowwidth": 1
          },
          "autotypenumbers": "strict",
          "coloraxis": {
           "colorbar": {
            "outlinewidth": 0,
            "ticks": ""
           }
          },
          "colorscale": {
           "diverging": [
            [
             0,
             "#8e0152"
            ],
            [
             0.1,
             "#c51b7d"
            ],
            [
             0.2,
             "#de77ae"
            ],
            [
             0.3,
             "#f1b6da"
            ],
            [
             0.4,
             "#fde0ef"
            ],
            [
             0.5,
             "#f7f7f7"
            ],
            [
             0.6,
             "#e6f5d0"
            ],
            [
             0.7,
             "#b8e186"
            ],
            [
             0.8,
             "#7fbc41"
            ],
            [
             0.9,
             "#4d9221"
            ],
            [
             1,
             "#276419"
            ]
           ],
           "sequential": [
            [
             0,
             "#0d0887"
            ],
            [
             0.1111111111111111,
             "#46039f"
            ],
            [
             0.2222222222222222,
             "#7201a8"
            ],
            [
             0.3333333333333333,
             "#9c179e"
            ],
            [
             0.4444444444444444,
             "#bd3786"
            ],
            [
             0.5555555555555556,
             "#d8576b"
            ],
            [
             0.6666666666666666,
             "#ed7953"
            ],
            [
             0.7777777777777778,
             "#fb9f3a"
            ],
            [
             0.8888888888888888,
             "#fdca26"
            ],
            [
             1,
             "#f0f921"
            ]
           ],
           "sequentialminus": [
            [
             0,
             "#0d0887"
            ],
            [
             0.1111111111111111,
             "#46039f"
            ],
            [
             0.2222222222222222,
             "#7201a8"
            ],
            [
             0.3333333333333333,
             "#9c179e"
            ],
            [
             0.4444444444444444,
             "#bd3786"
            ],
            [
             0.5555555555555556,
             "#d8576b"
            ],
            [
             0.6666666666666666,
             "#ed7953"
            ],
            [
             0.7777777777777778,
             "#fb9f3a"
            ],
            [
             0.8888888888888888,
             "#fdca26"
            ],
            [
             1,
             "#f0f921"
            ]
           ]
          },
          "colorway": [
           "#636efa",
           "#EF553B",
           "#00cc96",
           "#ab63fa",
           "#FFA15A",
           "#19d3f3",
           "#FF6692",
           "#B6E880",
           "#FF97FF",
           "#FECB52"
          ],
          "font": {
           "color": "#f2f5fa"
          },
          "geo": {
           "bgcolor": "rgb(17,17,17)",
           "lakecolor": "rgb(17,17,17)",
           "landcolor": "rgb(17,17,17)",
           "showlakes": true,
           "showland": true,
           "subunitcolor": "#506784"
          },
          "hoverlabel": {
           "align": "left"
          },
          "hovermode": "closest",
          "mapbox": {
           "style": "dark"
          },
          "paper_bgcolor": "rgb(17,17,17)",
          "plot_bgcolor": "rgb(17,17,17)",
          "polar": {
           "angularaxis": {
            "gridcolor": "#506784",
            "linecolor": "#506784",
            "ticks": ""
           },
           "bgcolor": "rgb(17,17,17)",
           "radialaxis": {
            "gridcolor": "#506784",
            "linecolor": "#506784",
            "ticks": ""
           }
          },
          "scene": {
           "xaxis": {
            "backgroundcolor": "rgb(17,17,17)",
            "gridcolor": "#506784",
            "gridwidth": 2,
            "linecolor": "#506784",
            "showbackground": true,
            "ticks": "",
            "zerolinecolor": "#C8D4E3"
           },
           "yaxis": {
            "backgroundcolor": "rgb(17,17,17)",
            "gridcolor": "#506784",
            "gridwidth": 2,
            "linecolor": "#506784",
            "showbackground": true,
            "ticks": "",
            "zerolinecolor": "#C8D4E3"
           },
           "zaxis": {
            "backgroundcolor": "rgb(17,17,17)",
            "gridcolor": "#506784",
            "gridwidth": 2,
            "linecolor": "#506784",
            "showbackground": true,
            "ticks": "",
            "zerolinecolor": "#C8D4E3"
           }
          },
          "shapedefaults": {
           "line": {
            "color": "#f2f5fa"
           }
          },
          "sliderdefaults": {
           "bgcolor": "#C8D4E3",
           "bordercolor": "rgb(17,17,17)",
           "borderwidth": 1,
           "tickwidth": 0
          },
          "ternary": {
           "aaxis": {
            "gridcolor": "#506784",
            "linecolor": "#506784",
            "ticks": ""
           },
           "baxis": {
            "gridcolor": "#506784",
            "linecolor": "#506784",
            "ticks": ""
           },
           "bgcolor": "rgb(17,17,17)",
           "caxis": {
            "gridcolor": "#506784",
            "linecolor": "#506784",
            "ticks": ""
           }
          },
          "title": {
           "x": 0.05
          },
          "updatemenudefaults": {
           "bgcolor": "#506784",
           "borderwidth": 0
          },
          "xaxis": {
           "automargin": true,
           "gridcolor": "#283442",
           "linecolor": "#506784",
           "ticks": "",
           "title": {
            "standoff": 15
           },
           "zerolinecolor": "#283442",
           "zerolinewidth": 2
          },
          "yaxis": {
           "automargin": true,
           "gridcolor": "#283442",
           "linecolor": "#506784",
           "ticks": "",
           "title": {
            "standoff": 15
           },
           "zerolinecolor": "#283442",
           "zerolinewidth": 2
          }
         }
        },
        "title": {
         "font": {
          "color": "white",
          "family": "Arial",
          "size": 30
         },
         "pad": {
          "b": 10,
          "t": 20
         },
         "text": "<b>Sales by Sub-Categories </b><br><sup>BAR CHART</sup>",
         "x": 0.5
        },
        "width": 1600,
        "xaxis": {
         "tickfont": {
          "color": "lightgray",
          "size": 12
         },
         "title": {
          "text": "Sub Categories"
         }
        },
        "yaxis": {
         "tickfont": {
          "color": "lightgray",
          "size": 12
         },
         "tickprefix": "$",
         "title": {
          "text": "Sales"
         }
        }
       }
      }
     },
     "metadata": {},
     "output_type": "display_data"
    }
   ],
   "source": [
    "# fig = px.bar(sbsc, x = 'Sub-Category', y = 'Sales', title = 'Sales analysis by Sub Categories')\n",
    "\n",
    "# fig.show()\n",
    "\n",
    "\n",
    "trace = go.Bar(\n",
    "    x = sbsc['Sub-Category'],\n",
    "    y = sbsc['Sales'],\n",
    "    marker = dict(color = 'cyan', line = dict(width = 2, color ='white')),\n",
    "    text = sbsc['Sales'].apply(lambda x: f\"${x: ,.0f}\"),\n",
    "    textfont = dict(size = 16, color = 'white'),\n",
    "    textposition = 'outside',\n",
    "    width = 0.8,\n",
    "    showlegend = True,\n",
    "    hovertemplate = '%{y:$,.0f}<extra></extra>',\n",
    "    name = 'Sales'\n",
    ")\n",
    "layout = go.Layout(\n",
    "    title = dict(text = '<b>Sales by Sub-Categories </b><br><sup>BAR CHART</sup>', \n",
    "                 font = dict(size = 30, family = 'Arial', color = 'white'), x = 0.5, pad = dict(t = 20, b = 10)),\n",
    "    xaxis = dict(title = 'Sub Categories',\n",
    "                 tickfont = dict(size = 12, color = 'lightgray')),\n",
    "    yaxis = dict(title = 'Sales', tickprefix = '$', tickfont = dict(size = 12, color = 'lightgray')),\n",
    "    bargap = 0.4, bargroupgap = 0, width = 1600, height = 600,\n",
    "    template = 'plotly_dark',\n",
    "    hovermode = 'x unified',\n",
    "    legend = dict(x = 0.85, y = 0.99, font = dict(size = 18))\n",
    ")\n",
    "\n",
    "fig = go.Figure(trace, layout)\n",
    "fig.show()"
   ]
  },
  {
   "cell_type": "markdown",
   "id": "3e0bd9ff",
   "metadata": {},
   "source": []
  },
  {
   "cell_type": "markdown",
   "id": "f6e13eb3",
   "metadata": {},
   "source": [
    "<h3> Q.4 - Analyze the monthly profit from Sales and determine which month had the highest profit. </h3>"
   ]
  },
  {
   "cell_type": "code",
   "execution_count": 17,
   "id": "c86eb6cb",
   "metadata": {},
   "outputs": [
    {
     "data": {
      "text/html": [
       "<div>\n",
       "<style scoped>\n",
       "    .dataframe tbody tr th:only-of-type {\n",
       "        vertical-align: middle;\n",
       "    }\n",
       "\n",
       "    .dataframe tbody tr th {\n",
       "        vertical-align: top;\n",
       "    }\n",
       "\n",
       "    .dataframe thead th {\n",
       "        text-align: right;\n",
       "    }\n",
       "</style>\n",
       "<table border=\"1\" class=\"dataframe\">\n",
       "  <thead>\n",
       "    <tr style=\"text-align: right;\">\n",
       "      <th></th>\n",
       "      <th>Order Month</th>\n",
       "      <th>Profit</th>\n",
       "    </tr>\n",
       "  </thead>\n",
       "  <tbody>\n",
       "    <tr>\n",
       "      <th>0</th>\n",
       "      <td>1</td>\n",
       "      <td>9134.4461</td>\n",
       "    </tr>\n",
       "    <tr>\n",
       "      <th>1</th>\n",
       "      <td>2</td>\n",
       "      <td>10294.6107</td>\n",
       "    </tr>\n",
       "    <tr>\n",
       "      <th>2</th>\n",
       "      <td>3</td>\n",
       "      <td>28594.6872</td>\n",
       "    </tr>\n",
       "    <tr>\n",
       "      <th>3</th>\n",
       "      <td>4</td>\n",
       "      <td>11587.4363</td>\n",
       "    </tr>\n",
       "    <tr>\n",
       "      <th>4</th>\n",
       "      <td>5</td>\n",
       "      <td>22411.3078</td>\n",
       "    </tr>\n",
       "    <tr>\n",
       "      <th>5</th>\n",
       "      <td>6</td>\n",
       "      <td>21285.7954</td>\n",
       "    </tr>\n",
       "    <tr>\n",
       "      <th>6</th>\n",
       "      <td>7</td>\n",
       "      <td>13832.6648</td>\n",
       "    </tr>\n",
       "    <tr>\n",
       "      <th>7</th>\n",
       "      <td>8</td>\n",
       "      <td>21776.9384</td>\n",
       "    </tr>\n",
       "    <tr>\n",
       "      <th>8</th>\n",
       "      <td>9</td>\n",
       "      <td>36857.4753</td>\n",
       "    </tr>\n",
       "    <tr>\n",
       "      <th>9</th>\n",
       "      <td>10</td>\n",
       "      <td>31784.0413</td>\n",
       "    </tr>\n",
       "    <tr>\n",
       "      <th>10</th>\n",
       "      <td>11</td>\n",
       "      <td>35468.4265</td>\n",
       "    </tr>\n",
       "    <tr>\n",
       "      <th>11</th>\n",
       "      <td>12</td>\n",
       "      <td>43369.1919</td>\n",
       "    </tr>\n",
       "  </tbody>\n",
       "</table>\n",
       "</div>"
      ],
      "text/plain": [
       "    Order Month      Profit\n",
       "0             1   9134.4461\n",
       "1             2  10294.6107\n",
       "2             3  28594.6872\n",
       "3             4  11587.4363\n",
       "4             5  22411.3078\n",
       "5             6  21285.7954\n",
       "6             7  13832.6648\n",
       "7             8  21776.9384\n",
       "8             9  36857.4753\n",
       "9            10  31784.0413\n",
       "10           11  35468.4265\n",
       "11           12  43369.1919"
      ]
     },
     "execution_count": 17,
     "metadata": {},
     "output_type": "execute_result"
    }
   ],
   "source": [
    "pbm = df.groupby(['Order Month'])['Profit'].sum().reset_index()\n",
    "pbm"
   ]
  },
  {
   "cell_type": "code",
   "execution_count": 36,
   "id": "6a70e0b4",
   "metadata": {},
   "outputs": [
    {
     "data": {
      "application/vnd.plotly.v1+json": {
       "config": {
        "plotlyServerURL": "https://plot.ly"
       },
       "data": [
        {
         "hovertemplate": "%{x}<br>Profit: %{y:$,.0f}<extra></extra>",
         "marker": {
          "color": "cyan",
          "line": {
           "color": "white",
           "width": 2
          }
         },
         "name": "Profit",
         "showlegend": true,
         "text": [
          "$ 9,134",
          "$ 10,295",
          "$ 28,595",
          "$ 11,587",
          "$ 22,411",
          "$ 21,286",
          "$ 13,833",
          "$ 21,777",
          "$ 36,857",
          "$ 31,784",
          "$ 35,468",
          "$ 43,369"
         ],
         "textfont": {
          "color": "white",
          "size": 14
         },
         "textposition": "outside",
         "type": "bar",
         "width": 0.7,
         "x": {
          "bdata": "AQAAAAIAAAADAAAABAAAAAUAAAAGAAAABwAAAAgAAAAJAAAACgAAAAsAAAAMAAAA",
          "dtype": "i4"
         },
         "y": {
          "bdata": "XwfOGTnXwUDV52orThvEQHS1Ffur7NtAn6ut2LehxkBtxf6y0+LVQM9m1edyydRAMZkqGFUEy0Ck374OPETVQHlYqDUv/+FAVcGopAIK30D4U+OljVHhQAN4CyQmLeVA",
          "dtype": "f8"
         }
        }
       ],
       "layout": {
        "height": 800,
        "legend": {
         "font": {
          "size": 18
         },
         "x": 0.01,
         "y": 0.99
        },
        "template": {
         "data": {
          "bar": [
           {
            "error_x": {
             "color": "#f2f5fa"
            },
            "error_y": {
             "color": "#f2f5fa"
            },
            "marker": {
             "line": {
              "color": "rgb(17,17,17)",
              "width": 0.5
             },
             "pattern": {
              "fillmode": "overlay",
              "size": 10,
              "solidity": 0.2
             }
            },
            "type": "bar"
           }
          ],
          "barpolar": [
           {
            "marker": {
             "line": {
              "color": "rgb(17,17,17)",
              "width": 0.5
             },
             "pattern": {
              "fillmode": "overlay",
              "size": 10,
              "solidity": 0.2
             }
            },
            "type": "barpolar"
           }
          ],
          "carpet": [
           {
            "aaxis": {
             "endlinecolor": "#A2B1C6",
             "gridcolor": "#506784",
             "linecolor": "#506784",
             "minorgridcolor": "#506784",
             "startlinecolor": "#A2B1C6"
            },
            "baxis": {
             "endlinecolor": "#A2B1C6",
             "gridcolor": "#506784",
             "linecolor": "#506784",
             "minorgridcolor": "#506784",
             "startlinecolor": "#A2B1C6"
            },
            "type": "carpet"
           }
          ],
          "choropleth": [
           {
            "colorbar": {
             "outlinewidth": 0,
             "ticks": ""
            },
            "type": "choropleth"
           }
          ],
          "contour": [
           {
            "colorbar": {
             "outlinewidth": 0,
             "ticks": ""
            },
            "colorscale": [
             [
              0,
              "#0d0887"
             ],
             [
              0.1111111111111111,
              "#46039f"
             ],
             [
              0.2222222222222222,
              "#7201a8"
             ],
             [
              0.3333333333333333,
              "#9c179e"
             ],
             [
              0.4444444444444444,
              "#bd3786"
             ],
             [
              0.5555555555555556,
              "#d8576b"
             ],
             [
              0.6666666666666666,
              "#ed7953"
             ],
             [
              0.7777777777777778,
              "#fb9f3a"
             ],
             [
              0.8888888888888888,
              "#fdca26"
             ],
             [
              1,
              "#f0f921"
             ]
            ],
            "type": "contour"
           }
          ],
          "contourcarpet": [
           {
            "colorbar": {
             "outlinewidth": 0,
             "ticks": ""
            },
            "type": "contourcarpet"
           }
          ],
          "heatmap": [
           {
            "colorbar": {
             "outlinewidth": 0,
             "ticks": ""
            },
            "colorscale": [
             [
              0,
              "#0d0887"
             ],
             [
              0.1111111111111111,
              "#46039f"
             ],
             [
              0.2222222222222222,
              "#7201a8"
             ],
             [
              0.3333333333333333,
              "#9c179e"
             ],
             [
              0.4444444444444444,
              "#bd3786"
             ],
             [
              0.5555555555555556,
              "#d8576b"
             ],
             [
              0.6666666666666666,
              "#ed7953"
             ],
             [
              0.7777777777777778,
              "#fb9f3a"
             ],
             [
              0.8888888888888888,
              "#fdca26"
             ],
             [
              1,
              "#f0f921"
             ]
            ],
            "type": "heatmap"
           }
          ],
          "histogram": [
           {
            "marker": {
             "pattern": {
              "fillmode": "overlay",
              "size": 10,
              "solidity": 0.2
             }
            },
            "type": "histogram"
           }
          ],
          "histogram2d": [
           {
            "colorbar": {
             "outlinewidth": 0,
             "ticks": ""
            },
            "colorscale": [
             [
              0,
              "#0d0887"
             ],
             [
              0.1111111111111111,
              "#46039f"
             ],
             [
              0.2222222222222222,
              "#7201a8"
             ],
             [
              0.3333333333333333,
              "#9c179e"
             ],
             [
              0.4444444444444444,
              "#bd3786"
             ],
             [
              0.5555555555555556,
              "#d8576b"
             ],
             [
              0.6666666666666666,
              "#ed7953"
             ],
             [
              0.7777777777777778,
              "#fb9f3a"
             ],
             [
              0.8888888888888888,
              "#fdca26"
             ],
             [
              1,
              "#f0f921"
             ]
            ],
            "type": "histogram2d"
           }
          ],
          "histogram2dcontour": [
           {
            "colorbar": {
             "outlinewidth": 0,
             "ticks": ""
            },
            "colorscale": [
             [
              0,
              "#0d0887"
             ],
             [
              0.1111111111111111,
              "#46039f"
             ],
             [
              0.2222222222222222,
              "#7201a8"
             ],
             [
              0.3333333333333333,
              "#9c179e"
             ],
             [
              0.4444444444444444,
              "#bd3786"
             ],
             [
              0.5555555555555556,
              "#d8576b"
             ],
             [
              0.6666666666666666,
              "#ed7953"
             ],
             [
              0.7777777777777778,
              "#fb9f3a"
             ],
             [
              0.8888888888888888,
              "#fdca26"
             ],
             [
              1,
              "#f0f921"
             ]
            ],
            "type": "histogram2dcontour"
           }
          ],
          "mesh3d": [
           {
            "colorbar": {
             "outlinewidth": 0,
             "ticks": ""
            },
            "type": "mesh3d"
           }
          ],
          "parcoords": [
           {
            "line": {
             "colorbar": {
              "outlinewidth": 0,
              "ticks": ""
             }
            },
            "type": "parcoords"
           }
          ],
          "pie": [
           {
            "automargin": true,
            "type": "pie"
           }
          ],
          "scatter": [
           {
            "marker": {
             "line": {
              "color": "#283442"
             }
            },
            "type": "scatter"
           }
          ],
          "scatter3d": [
           {
            "line": {
             "colorbar": {
              "outlinewidth": 0,
              "ticks": ""
             }
            },
            "marker": {
             "colorbar": {
              "outlinewidth": 0,
              "ticks": ""
             }
            },
            "type": "scatter3d"
           }
          ],
          "scattercarpet": [
           {
            "marker": {
             "colorbar": {
              "outlinewidth": 0,
              "ticks": ""
             }
            },
            "type": "scattercarpet"
           }
          ],
          "scattergeo": [
           {
            "marker": {
             "colorbar": {
              "outlinewidth": 0,
              "ticks": ""
             }
            },
            "type": "scattergeo"
           }
          ],
          "scattergl": [
           {
            "marker": {
             "line": {
              "color": "#283442"
             }
            },
            "type": "scattergl"
           }
          ],
          "scattermap": [
           {
            "marker": {
             "colorbar": {
              "outlinewidth": 0,
              "ticks": ""
             }
            },
            "type": "scattermap"
           }
          ],
          "scattermapbox": [
           {
            "marker": {
             "colorbar": {
              "outlinewidth": 0,
              "ticks": ""
             }
            },
            "type": "scattermapbox"
           }
          ],
          "scatterpolar": [
           {
            "marker": {
             "colorbar": {
              "outlinewidth": 0,
              "ticks": ""
             }
            },
            "type": "scatterpolar"
           }
          ],
          "scatterpolargl": [
           {
            "marker": {
             "colorbar": {
              "outlinewidth": 0,
              "ticks": ""
             }
            },
            "type": "scatterpolargl"
           }
          ],
          "scatterternary": [
           {
            "marker": {
             "colorbar": {
              "outlinewidth": 0,
              "ticks": ""
             }
            },
            "type": "scatterternary"
           }
          ],
          "surface": [
           {
            "colorbar": {
             "outlinewidth": 0,
             "ticks": ""
            },
            "colorscale": [
             [
              0,
              "#0d0887"
             ],
             [
              0.1111111111111111,
              "#46039f"
             ],
             [
              0.2222222222222222,
              "#7201a8"
             ],
             [
              0.3333333333333333,
              "#9c179e"
             ],
             [
              0.4444444444444444,
              "#bd3786"
             ],
             [
              0.5555555555555556,
              "#d8576b"
             ],
             [
              0.6666666666666666,
              "#ed7953"
             ],
             [
              0.7777777777777778,
              "#fb9f3a"
             ],
             [
              0.8888888888888888,
              "#fdca26"
             ],
             [
              1,
              "#f0f921"
             ]
            ],
            "type": "surface"
           }
          ],
          "table": [
           {
            "cells": {
             "fill": {
              "color": "#506784"
             },
             "line": {
              "color": "rgb(17,17,17)"
             }
            },
            "header": {
             "fill": {
              "color": "#2a3f5f"
             },
             "line": {
              "color": "rgb(17,17,17)"
             }
            },
            "type": "table"
           }
          ]
         },
         "layout": {
          "annotationdefaults": {
           "arrowcolor": "#f2f5fa",
           "arrowhead": 0,
           "arrowwidth": 1
          },
          "autotypenumbers": "strict",
          "coloraxis": {
           "colorbar": {
            "outlinewidth": 0,
            "ticks": ""
           }
          },
          "colorscale": {
           "diverging": [
            [
             0,
             "#8e0152"
            ],
            [
             0.1,
             "#c51b7d"
            ],
            [
             0.2,
             "#de77ae"
            ],
            [
             0.3,
             "#f1b6da"
            ],
            [
             0.4,
             "#fde0ef"
            ],
            [
             0.5,
             "#f7f7f7"
            ],
            [
             0.6,
             "#e6f5d0"
            ],
            [
             0.7,
             "#b8e186"
            ],
            [
             0.8,
             "#7fbc41"
            ],
            [
             0.9,
             "#4d9221"
            ],
            [
             1,
             "#276419"
            ]
           ],
           "sequential": [
            [
             0,
             "#0d0887"
            ],
            [
             0.1111111111111111,
             "#46039f"
            ],
            [
             0.2222222222222222,
             "#7201a8"
            ],
            [
             0.3333333333333333,
             "#9c179e"
            ],
            [
             0.4444444444444444,
             "#bd3786"
            ],
            [
             0.5555555555555556,
             "#d8576b"
            ],
            [
             0.6666666666666666,
             "#ed7953"
            ],
            [
             0.7777777777777778,
             "#fb9f3a"
            ],
            [
             0.8888888888888888,
             "#fdca26"
            ],
            [
             1,
             "#f0f921"
            ]
           ],
           "sequentialminus": [
            [
             0,
             "#0d0887"
            ],
            [
             0.1111111111111111,
             "#46039f"
            ],
            [
             0.2222222222222222,
             "#7201a8"
            ],
            [
             0.3333333333333333,
             "#9c179e"
            ],
            [
             0.4444444444444444,
             "#bd3786"
            ],
            [
             0.5555555555555556,
             "#d8576b"
            ],
            [
             0.6666666666666666,
             "#ed7953"
            ],
            [
             0.7777777777777778,
             "#fb9f3a"
            ],
            [
             0.8888888888888888,
             "#fdca26"
            ],
            [
             1,
             "#f0f921"
            ]
           ]
          },
          "colorway": [
           "#636efa",
           "#EF553B",
           "#00cc96",
           "#ab63fa",
           "#FFA15A",
           "#19d3f3",
           "#FF6692",
           "#B6E880",
           "#FF97FF",
           "#FECB52"
          ],
          "font": {
           "color": "#f2f5fa"
          },
          "geo": {
           "bgcolor": "rgb(17,17,17)",
           "lakecolor": "rgb(17,17,17)",
           "landcolor": "rgb(17,17,17)",
           "showlakes": true,
           "showland": true,
           "subunitcolor": "#506784"
          },
          "hoverlabel": {
           "align": "left"
          },
          "hovermode": "closest",
          "mapbox": {
           "style": "dark"
          },
          "paper_bgcolor": "rgb(17,17,17)",
          "plot_bgcolor": "rgb(17,17,17)",
          "polar": {
           "angularaxis": {
            "gridcolor": "#506784",
            "linecolor": "#506784",
            "ticks": ""
           },
           "bgcolor": "rgb(17,17,17)",
           "radialaxis": {
            "gridcolor": "#506784",
            "linecolor": "#506784",
            "ticks": ""
           }
          },
          "scene": {
           "xaxis": {
            "backgroundcolor": "rgb(17,17,17)",
            "gridcolor": "#506784",
            "gridwidth": 2,
            "linecolor": "#506784",
            "showbackground": true,
            "ticks": "",
            "zerolinecolor": "#C8D4E3"
           },
           "yaxis": {
            "backgroundcolor": "rgb(17,17,17)",
            "gridcolor": "#506784",
            "gridwidth": 2,
            "linecolor": "#506784",
            "showbackground": true,
            "ticks": "",
            "zerolinecolor": "#C8D4E3"
           },
           "zaxis": {
            "backgroundcolor": "rgb(17,17,17)",
            "gridcolor": "#506784",
            "gridwidth": 2,
            "linecolor": "#506784",
            "showbackground": true,
            "ticks": "",
            "zerolinecolor": "#C8D4E3"
           }
          },
          "shapedefaults": {
           "line": {
            "color": "#f2f5fa"
           }
          },
          "sliderdefaults": {
           "bgcolor": "#C8D4E3",
           "bordercolor": "rgb(17,17,17)",
           "borderwidth": 1,
           "tickwidth": 0
          },
          "ternary": {
           "aaxis": {
            "gridcolor": "#506784",
            "linecolor": "#506784",
            "ticks": ""
           },
           "baxis": {
            "gridcolor": "#506784",
            "linecolor": "#506784",
            "ticks": ""
           },
           "bgcolor": "rgb(17,17,17)",
           "caxis": {
            "gridcolor": "#506784",
            "linecolor": "#506784",
            "ticks": ""
           }
          },
          "title": {
           "x": 0.05
          },
          "updatemenudefaults": {
           "bgcolor": "#506784",
           "borderwidth": 0
          },
          "xaxis": {
           "automargin": true,
           "gridcolor": "#283442",
           "linecolor": "#506784",
           "ticks": "",
           "title": {
            "standoff": 15
           },
           "zerolinecolor": "#283442",
           "zerolinewidth": 2
          },
          "yaxis": {
           "automargin": true,
           "gridcolor": "#283442",
           "linecolor": "#506784",
           "ticks": "",
           "title": {
            "standoff": 15
           },
           "zerolinecolor": "#283442",
           "zerolinewidth": 2
          }
         }
        },
        "title": {
         "font": {
          "color": "white",
          "size": 24
         },
         "text": "<b>Profit by Month</b><br><sup>BAR GRAPH</sup>"
        },
        "width": 1400,
        "xaxis": {
         "tickfont": {
          "color": "lightgrey",
          "family": "Arial",
          "size": 18
         },
         "ticktext": [
          "Jan",
          "Feb",
          "Mar",
          "Apr",
          "May",
          "Jun",
          "Jul",
          "Aug",
          "Sep",
          "Oct",
          "Nov",
          "Dec"
         ],
         "tickvals": [
          1,
          2,
          3,
          4,
          5,
          6,
          7,
          8,
          9,
          10,
          11,
          12
         ],
         "title": {
          "font": {
           "family": "Arial",
           "size": 18
          },
          "text": "Months"
         }
        },
        "yaxis": {
         "title": {
          "font": {
           "color": "lightgrey",
           "family": "Arial",
           "size": 18
          },
          "text": "Profit"
         }
        }
       }
      }
     },
     "metadata": {},
     "output_type": "display_data"
    }
   ],
   "source": [
    "trace = go.Bar(\n",
    "    x = pbm['Order Month'],\n",
    "    y = pbm['Profit'],\n",
    "    marker = dict(color = 'cyan', line = dict(color = 'white', width = 2)),\n",
    "    text = pbm['Profit'].apply(lambda x: f\"${x: ,.0f}\"),\n",
    "    textfont = dict(size = 14, color = 'white'),\n",
    "    textposition = 'outside',\n",
    "    width = 0.7,\n",
    "    showlegend = True,\n",
    "    name = 'Profit',\n",
    "    hovertemplate = '%{x}<br>Profit: %{y:$,.0f}<extra></extra>'\n",
    ")\n",
    "\n",
    "layout = go.Layout(\n",
    "    title = dict(text = '<b>Profit by Month</b><br><sup>BAR GRAPH</sup>', font = dict(size = 24, color ='white')),\n",
    "    xaxis = dict(title = dict(text = 'Months', font = dict(family = 'Arial', size = 18)), tickvals = [1,2,3,4,5,6,7,8,9,10,11,12],\n",
    "                 ticktext = ['Jan', 'Feb', 'Mar', 'Apr', 'May','Jun','Jul','Aug','Sep','Oct','Nov','Dec'],\n",
    "                 tickfont = dict(size = 18, color = 'lightgrey', family = 'Arial')),\n",
    "    yaxis = dict(title = dict(text = 'Profit', font = dict(size = 18, color = 'lightgrey', family = 'Arial'))),\n",
    "    template = 'plotly_dark',\n",
    "    legend = dict(x = 0.01, y = 0.99, font = dict(size = 18)), width = 1400, height = 800\n",
    ")\n",
    "\n",
    "fig = go.Figure(trace, layout)\n",
    "fig.show()"
   ]
  },
  {
   "cell_type": "markdown",
   "id": "445b3e82",
   "metadata": {},
   "source": []
  },
  {
   "cell_type": "markdown",
   "id": "23672817",
   "metadata": {},
   "source": [
    "<h3>Q.5 - Analyze the Profit by category and sub-category. </h3>"
   ]
  },
  {
   "cell_type": "code",
   "execution_count": 38,
   "id": "9218017c",
   "metadata": {},
   "outputs": [
    {
     "data": {
      "text/html": [
       "<div>\n",
       "<style scoped>\n",
       "    .dataframe tbody tr th:only-of-type {\n",
       "        vertical-align: middle;\n",
       "    }\n",
       "\n",
       "    .dataframe tbody tr th {\n",
       "        vertical-align: top;\n",
       "    }\n",
       "\n",
       "    .dataframe thead th {\n",
       "        text-align: right;\n",
       "    }\n",
       "</style>\n",
       "<table border=\"1\" class=\"dataframe\">\n",
       "  <thead>\n",
       "    <tr style=\"text-align: right;\">\n",
       "      <th></th>\n",
       "      <th>Category</th>\n",
       "      <th>Profit</th>\n",
       "    </tr>\n",
       "  </thead>\n",
       "  <tbody>\n",
       "    <tr>\n",
       "      <th>0</th>\n",
       "      <td>Furniture</td>\n",
       "      <td>18451.2728</td>\n",
       "    </tr>\n",
       "    <tr>\n",
       "      <th>1</th>\n",
       "      <td>Office Supplies</td>\n",
       "      <td>122490.8008</td>\n",
       "    </tr>\n",
       "    <tr>\n",
       "      <th>2</th>\n",
       "      <td>Technology</td>\n",
       "      <td>145454.9481</td>\n",
       "    </tr>\n",
       "  </tbody>\n",
       "</table>\n",
       "</div>"
      ],
      "text/plain": [
       "          Category       Profit\n",
       "0        Furniture   18451.2728\n",
       "1  Office Supplies  122490.8008\n",
       "2       Technology  145454.9481"
      ]
     },
     "execution_count": 38,
     "metadata": {},
     "output_type": "execute_result"
    }
   ],
   "source": [
    "pbc = df.groupby(['Category'], as_index = False)['Profit'].sum()\n",
    "pbc"
   ]
  },
  {
   "cell_type": "code",
   "execution_count": 41,
   "id": "f1ab5b8f",
   "metadata": {},
   "outputs": [
    {
     "data": {
      "text/html": [
       "<div>\n",
       "<style scoped>\n",
       "    .dataframe tbody tr th:only-of-type {\n",
       "        vertical-align: middle;\n",
       "    }\n",
       "\n",
       "    .dataframe tbody tr th {\n",
       "        vertical-align: top;\n",
       "    }\n",
       "\n",
       "    .dataframe thead th {\n",
       "        text-align: right;\n",
       "    }\n",
       "</style>\n",
       "<table border=\"1\" class=\"dataframe\">\n",
       "  <thead>\n",
       "    <tr style=\"text-align: right;\">\n",
       "      <th></th>\n",
       "      <th>Sub-Category</th>\n",
       "      <th>Profit</th>\n",
       "    </tr>\n",
       "  </thead>\n",
       "  <tbody>\n",
       "    <tr>\n",
       "      <th>0</th>\n",
       "      <td>Copiers</td>\n",
       "      <td>55617.8249</td>\n",
       "    </tr>\n",
       "    <tr>\n",
       "      <th>1</th>\n",
       "      <td>Phones</td>\n",
       "      <td>44515.7306</td>\n",
       "    </tr>\n",
       "    <tr>\n",
       "      <th>2</th>\n",
       "      <td>Accessories</td>\n",
       "      <td>41936.6357</td>\n",
       "    </tr>\n",
       "    <tr>\n",
       "      <th>3</th>\n",
       "      <td>Paper</td>\n",
       "      <td>34053.5693</td>\n",
       "    </tr>\n",
       "    <tr>\n",
       "      <th>4</th>\n",
       "      <td>Binders</td>\n",
       "      <td>30221.7633</td>\n",
       "    </tr>\n",
       "    <tr>\n",
       "      <th>5</th>\n",
       "      <td>Chairs</td>\n",
       "      <td>26590.1663</td>\n",
       "    </tr>\n",
       "    <tr>\n",
       "      <th>6</th>\n",
       "      <td>Storage</td>\n",
       "      <td>21278.8264</td>\n",
       "    </tr>\n",
       "    <tr>\n",
       "      <th>7</th>\n",
       "      <td>Appliances</td>\n",
       "      <td>18138.0054</td>\n",
       "    </tr>\n",
       "    <tr>\n",
       "      <th>8</th>\n",
       "      <td>Furnishings</td>\n",
       "      <td>13059.1436</td>\n",
       "    </tr>\n",
       "    <tr>\n",
       "      <th>9</th>\n",
       "      <td>Envelopes</td>\n",
       "      <td>6964.1767</td>\n",
       "    </tr>\n",
       "    <tr>\n",
       "      <th>10</th>\n",
       "      <td>Art</td>\n",
       "      <td>6527.7870</td>\n",
       "    </tr>\n",
       "    <tr>\n",
       "      <th>11</th>\n",
       "      <td>Labels</td>\n",
       "      <td>5546.2540</td>\n",
       "    </tr>\n",
       "    <tr>\n",
       "      <th>12</th>\n",
       "      <td>Machines</td>\n",
       "      <td>3384.7569</td>\n",
       "    </tr>\n",
       "    <tr>\n",
       "      <th>13</th>\n",
       "      <td>Fasteners</td>\n",
       "      <td>949.5182</td>\n",
       "    </tr>\n",
       "    <tr>\n",
       "      <th>14</th>\n",
       "      <td>Supplies</td>\n",
       "      <td>-1189.0995</td>\n",
       "    </tr>\n",
       "    <tr>\n",
       "      <th>15</th>\n",
       "      <td>Bookcases</td>\n",
       "      <td>-3472.5560</td>\n",
       "    </tr>\n",
       "    <tr>\n",
       "      <th>16</th>\n",
       "      <td>Tables</td>\n",
       "      <td>-17725.4811</td>\n",
       "    </tr>\n",
       "  </tbody>\n",
       "</table>\n",
       "</div>"
      ],
      "text/plain": [
       "   Sub-Category      Profit\n",
       "0       Copiers  55617.8249\n",
       "1        Phones  44515.7306\n",
       "2   Accessories  41936.6357\n",
       "3         Paper  34053.5693\n",
       "4       Binders  30221.7633\n",
       "5        Chairs  26590.1663\n",
       "6       Storage  21278.8264\n",
       "7    Appliances  18138.0054\n",
       "8   Furnishings  13059.1436\n",
       "9     Envelopes   6964.1767\n",
       "10          Art   6527.7870\n",
       "11       Labels   5546.2540\n",
       "12     Machines   3384.7569\n",
       "13    Fasteners    949.5182\n",
       "14     Supplies  -1189.0995\n",
       "15    Bookcases  -3472.5560\n",
       "16       Tables -17725.4811"
      ]
     },
     "execution_count": 41,
     "metadata": {},
     "output_type": "execute_result"
    }
   ],
   "source": [
    "pbsc = df.groupby(['Sub-Category'])['Profit'].sum().sort_values(ascending = False).reset_index()\n",
    "pbsc"
   ]
  },
  {
   "cell_type": "code",
   "execution_count": 44,
   "id": "51c5b9a7",
   "metadata": {},
   "outputs": [
    {
     "data": {
      "application/vnd.plotly.v1+json": {
       "config": {
        "plotlyServerURL": "https://plot.ly"
       },
       "data": [
        {
         "hoverinfo": "label+value+percent",
         "labels": [
          "Furniture",
          "Office Supplies",
          "Technology"
         ],
         "marker": {
          "colors": [
           "green",
           "blue",
           "orange"
          ],
          "line": {
           "color": "white",
           "width": 2
          }
         },
         "showlegend": true,
         "textfont": {
          "color": "white",
          "size": 20
         },
         "textinfo": "label+percent",
         "textposition": "outside",
         "type": "pie",
         "values": {
          "bdata": "liGOddEE0kAqqRPQrOf9QOtztZV3wQFB",
          "dtype": "f8"
         }
        }
       ],
       "layout": {
        "height": 400,
        "legend": {
         "font": {
          "color": "white",
          "size": 14
         },
         "orientation": "v",
         "x": 0.95,
         "xanchor": "left",
         "y": 0.95,
         "yanchor": "top"
        },
        "margin": {
         "b": 50,
         "l": 50,
         "r": 50,
         "t": 100
        },
        "template": {
         "data": {
          "bar": [
           {
            "error_x": {
             "color": "#f2f5fa"
            },
            "error_y": {
             "color": "#f2f5fa"
            },
            "marker": {
             "line": {
              "color": "rgb(17,17,17)",
              "width": 0.5
             },
             "pattern": {
              "fillmode": "overlay",
              "size": 10,
              "solidity": 0.2
             }
            },
            "type": "bar"
           }
          ],
          "barpolar": [
           {
            "marker": {
             "line": {
              "color": "rgb(17,17,17)",
              "width": 0.5
             },
             "pattern": {
              "fillmode": "overlay",
              "size": 10,
              "solidity": 0.2
             }
            },
            "type": "barpolar"
           }
          ],
          "carpet": [
           {
            "aaxis": {
             "endlinecolor": "#A2B1C6",
             "gridcolor": "#506784",
             "linecolor": "#506784",
             "minorgridcolor": "#506784",
             "startlinecolor": "#A2B1C6"
            },
            "baxis": {
             "endlinecolor": "#A2B1C6",
             "gridcolor": "#506784",
             "linecolor": "#506784",
             "minorgridcolor": "#506784",
             "startlinecolor": "#A2B1C6"
            },
            "type": "carpet"
           }
          ],
          "choropleth": [
           {
            "colorbar": {
             "outlinewidth": 0,
             "ticks": ""
            },
            "type": "choropleth"
           }
          ],
          "contour": [
           {
            "colorbar": {
             "outlinewidth": 0,
             "ticks": ""
            },
            "colorscale": [
             [
              0,
              "#0d0887"
             ],
             [
              0.1111111111111111,
              "#46039f"
             ],
             [
              0.2222222222222222,
              "#7201a8"
             ],
             [
              0.3333333333333333,
              "#9c179e"
             ],
             [
              0.4444444444444444,
              "#bd3786"
             ],
             [
              0.5555555555555556,
              "#d8576b"
             ],
             [
              0.6666666666666666,
              "#ed7953"
             ],
             [
              0.7777777777777778,
              "#fb9f3a"
             ],
             [
              0.8888888888888888,
              "#fdca26"
             ],
             [
              1,
              "#f0f921"
             ]
            ],
            "type": "contour"
           }
          ],
          "contourcarpet": [
           {
            "colorbar": {
             "outlinewidth": 0,
             "ticks": ""
            },
            "type": "contourcarpet"
           }
          ],
          "heatmap": [
           {
            "colorbar": {
             "outlinewidth": 0,
             "ticks": ""
            },
            "colorscale": [
             [
              0,
              "#0d0887"
             ],
             [
              0.1111111111111111,
              "#46039f"
             ],
             [
              0.2222222222222222,
              "#7201a8"
             ],
             [
              0.3333333333333333,
              "#9c179e"
             ],
             [
              0.4444444444444444,
              "#bd3786"
             ],
             [
              0.5555555555555556,
              "#d8576b"
             ],
             [
              0.6666666666666666,
              "#ed7953"
             ],
             [
              0.7777777777777778,
              "#fb9f3a"
             ],
             [
              0.8888888888888888,
              "#fdca26"
             ],
             [
              1,
              "#f0f921"
             ]
            ],
            "type": "heatmap"
           }
          ],
          "histogram": [
           {
            "marker": {
             "pattern": {
              "fillmode": "overlay",
              "size": 10,
              "solidity": 0.2
             }
            },
            "type": "histogram"
           }
          ],
          "histogram2d": [
           {
            "colorbar": {
             "outlinewidth": 0,
             "ticks": ""
            },
            "colorscale": [
             [
              0,
              "#0d0887"
             ],
             [
              0.1111111111111111,
              "#46039f"
             ],
             [
              0.2222222222222222,
              "#7201a8"
             ],
             [
              0.3333333333333333,
              "#9c179e"
             ],
             [
              0.4444444444444444,
              "#bd3786"
             ],
             [
              0.5555555555555556,
              "#d8576b"
             ],
             [
              0.6666666666666666,
              "#ed7953"
             ],
             [
              0.7777777777777778,
              "#fb9f3a"
             ],
             [
              0.8888888888888888,
              "#fdca26"
             ],
             [
              1,
              "#f0f921"
             ]
            ],
            "type": "histogram2d"
           }
          ],
          "histogram2dcontour": [
           {
            "colorbar": {
             "outlinewidth": 0,
             "ticks": ""
            },
            "colorscale": [
             [
              0,
              "#0d0887"
             ],
             [
              0.1111111111111111,
              "#46039f"
             ],
             [
              0.2222222222222222,
              "#7201a8"
             ],
             [
              0.3333333333333333,
              "#9c179e"
             ],
             [
              0.4444444444444444,
              "#bd3786"
             ],
             [
              0.5555555555555556,
              "#d8576b"
             ],
             [
              0.6666666666666666,
              "#ed7953"
             ],
             [
              0.7777777777777778,
              "#fb9f3a"
             ],
             [
              0.8888888888888888,
              "#fdca26"
             ],
             [
              1,
              "#f0f921"
             ]
            ],
            "type": "histogram2dcontour"
           }
          ],
          "mesh3d": [
           {
            "colorbar": {
             "outlinewidth": 0,
             "ticks": ""
            },
            "type": "mesh3d"
           }
          ],
          "parcoords": [
           {
            "line": {
             "colorbar": {
              "outlinewidth": 0,
              "ticks": ""
             }
            },
            "type": "parcoords"
           }
          ],
          "pie": [
           {
            "automargin": true,
            "type": "pie"
           }
          ],
          "scatter": [
           {
            "marker": {
             "line": {
              "color": "#283442"
             }
            },
            "type": "scatter"
           }
          ],
          "scatter3d": [
           {
            "line": {
             "colorbar": {
              "outlinewidth": 0,
              "ticks": ""
             }
            },
            "marker": {
             "colorbar": {
              "outlinewidth": 0,
              "ticks": ""
             }
            },
            "type": "scatter3d"
           }
          ],
          "scattercarpet": [
           {
            "marker": {
             "colorbar": {
              "outlinewidth": 0,
              "ticks": ""
             }
            },
            "type": "scattercarpet"
           }
          ],
          "scattergeo": [
           {
            "marker": {
             "colorbar": {
              "outlinewidth": 0,
              "ticks": ""
             }
            },
            "type": "scattergeo"
           }
          ],
          "scattergl": [
           {
            "marker": {
             "line": {
              "color": "#283442"
             }
            },
            "type": "scattergl"
           }
          ],
          "scattermap": [
           {
            "marker": {
             "colorbar": {
              "outlinewidth": 0,
              "ticks": ""
             }
            },
            "type": "scattermap"
           }
          ],
          "scattermapbox": [
           {
            "marker": {
             "colorbar": {
              "outlinewidth": 0,
              "ticks": ""
             }
            },
            "type": "scattermapbox"
           }
          ],
          "scatterpolar": [
           {
            "marker": {
             "colorbar": {
              "outlinewidth": 0,
              "ticks": ""
             }
            },
            "type": "scatterpolar"
           }
          ],
          "scatterpolargl": [
           {
            "marker": {
             "colorbar": {
              "outlinewidth": 0,
              "ticks": ""
             }
            },
            "type": "scatterpolargl"
           }
          ],
          "scatterternary": [
           {
            "marker": {
             "colorbar": {
              "outlinewidth": 0,
              "ticks": ""
             }
            },
            "type": "scatterternary"
           }
          ],
          "surface": [
           {
            "colorbar": {
             "outlinewidth": 0,
             "ticks": ""
            },
            "colorscale": [
             [
              0,
              "#0d0887"
             ],
             [
              0.1111111111111111,
              "#46039f"
             ],
             [
              0.2222222222222222,
              "#7201a8"
             ],
             [
              0.3333333333333333,
              "#9c179e"
             ],
             [
              0.4444444444444444,
              "#bd3786"
             ],
             [
              0.5555555555555556,
              "#d8576b"
             ],
             [
              0.6666666666666666,
              "#ed7953"
             ],
             [
              0.7777777777777778,
              "#fb9f3a"
             ],
             [
              0.8888888888888888,
              "#fdca26"
             ],
             [
              1,
              "#f0f921"
             ]
            ],
            "type": "surface"
           }
          ],
          "table": [
           {
            "cells": {
             "fill": {
              "color": "#506784"
             },
             "line": {
              "color": "rgb(17,17,17)"
             }
            },
            "header": {
             "fill": {
              "color": "#2a3f5f"
             },
             "line": {
              "color": "rgb(17,17,17)"
             }
            },
            "type": "table"
           }
          ]
         },
         "layout": {
          "annotationdefaults": {
           "arrowcolor": "#f2f5fa",
           "arrowhead": 0,
           "arrowwidth": 1
          },
          "autotypenumbers": "strict",
          "coloraxis": {
           "colorbar": {
            "outlinewidth": 0,
            "ticks": ""
           }
          },
          "colorscale": {
           "diverging": [
            [
             0,
             "#8e0152"
            ],
            [
             0.1,
             "#c51b7d"
            ],
            [
             0.2,
             "#de77ae"
            ],
            [
             0.3,
             "#f1b6da"
            ],
            [
             0.4,
             "#fde0ef"
            ],
            [
             0.5,
             "#f7f7f7"
            ],
            [
             0.6,
             "#e6f5d0"
            ],
            [
             0.7,
             "#b8e186"
            ],
            [
             0.8,
             "#7fbc41"
            ],
            [
             0.9,
             "#4d9221"
            ],
            [
             1,
             "#276419"
            ]
           ],
           "sequential": [
            [
             0,
             "#0d0887"
            ],
            [
             0.1111111111111111,
             "#46039f"
            ],
            [
             0.2222222222222222,
             "#7201a8"
            ],
            [
             0.3333333333333333,
             "#9c179e"
            ],
            [
             0.4444444444444444,
             "#bd3786"
            ],
            [
             0.5555555555555556,
             "#d8576b"
            ],
            [
             0.6666666666666666,
             "#ed7953"
            ],
            [
             0.7777777777777778,
             "#fb9f3a"
            ],
            [
             0.8888888888888888,
             "#fdca26"
            ],
            [
             1,
             "#f0f921"
            ]
           ],
           "sequentialminus": [
            [
             0,
             "#0d0887"
            ],
            [
             0.1111111111111111,
             "#46039f"
            ],
            [
             0.2222222222222222,
             "#7201a8"
            ],
            [
             0.3333333333333333,
             "#9c179e"
            ],
            [
             0.4444444444444444,
             "#bd3786"
            ],
            [
             0.5555555555555556,
             "#d8576b"
            ],
            [
             0.6666666666666666,
             "#ed7953"
            ],
            [
             0.7777777777777778,
             "#fb9f3a"
            ],
            [
             0.8888888888888888,
             "#fdca26"
            ],
            [
             1,
             "#f0f921"
            ]
           ]
          },
          "colorway": [
           "#636efa",
           "#EF553B",
           "#00cc96",
           "#ab63fa",
           "#FFA15A",
           "#19d3f3",
           "#FF6692",
           "#B6E880",
           "#FF97FF",
           "#FECB52"
          ],
          "font": {
           "color": "#f2f5fa"
          },
          "geo": {
           "bgcolor": "rgb(17,17,17)",
           "lakecolor": "rgb(17,17,17)",
           "landcolor": "rgb(17,17,17)",
           "showlakes": true,
           "showland": true,
           "subunitcolor": "#506784"
          },
          "hoverlabel": {
           "align": "left"
          },
          "hovermode": "closest",
          "mapbox": {
           "style": "dark"
          },
          "paper_bgcolor": "rgb(17,17,17)",
          "plot_bgcolor": "rgb(17,17,17)",
          "polar": {
           "angularaxis": {
            "gridcolor": "#506784",
            "linecolor": "#506784",
            "ticks": ""
           },
           "bgcolor": "rgb(17,17,17)",
           "radialaxis": {
            "gridcolor": "#506784",
            "linecolor": "#506784",
            "ticks": ""
           }
          },
          "scene": {
           "xaxis": {
            "backgroundcolor": "rgb(17,17,17)",
            "gridcolor": "#506784",
            "gridwidth": 2,
            "linecolor": "#506784",
            "showbackground": true,
            "ticks": "",
            "zerolinecolor": "#C8D4E3"
           },
           "yaxis": {
            "backgroundcolor": "rgb(17,17,17)",
            "gridcolor": "#506784",
            "gridwidth": 2,
            "linecolor": "#506784",
            "showbackground": true,
            "ticks": "",
            "zerolinecolor": "#C8D4E3"
           },
           "zaxis": {
            "backgroundcolor": "rgb(17,17,17)",
            "gridcolor": "#506784",
            "gridwidth": 2,
            "linecolor": "#506784",
            "showbackground": true,
            "ticks": "",
            "zerolinecolor": "#C8D4E3"
           }
          },
          "shapedefaults": {
           "line": {
            "color": "#f2f5fa"
           }
          },
          "sliderdefaults": {
           "bgcolor": "#C8D4E3",
           "bordercolor": "rgb(17,17,17)",
           "borderwidth": 1,
           "tickwidth": 0
          },
          "ternary": {
           "aaxis": {
            "gridcolor": "#506784",
            "linecolor": "#506784",
            "ticks": ""
           },
           "baxis": {
            "gridcolor": "#506784",
            "linecolor": "#506784",
            "ticks": ""
           },
           "bgcolor": "rgb(17,17,17)",
           "caxis": {
            "gridcolor": "#506784",
            "linecolor": "#506784",
            "ticks": ""
           }
          },
          "title": {
           "x": 0.05
          },
          "updatemenudefaults": {
           "bgcolor": "#506784",
           "borderwidth": 0
          },
          "xaxis": {
           "automargin": true,
           "gridcolor": "#283442",
           "linecolor": "#506784",
           "ticks": "",
           "title": {
            "standoff": 15
           },
           "zerolinecolor": "#283442",
           "zerolinewidth": 2
          },
          "yaxis": {
           "automargin": true,
           "gridcolor": "#283442",
           "linecolor": "#506784",
           "ticks": "",
           "title": {
            "standoff": 15
           },
           "zerolinecolor": "#283442",
           "zerolinewidth": 2
          }
         }
        },
        "title": {
         "font": {
          "color": "white",
          "size": 24
         },
         "text": "<b>Profit by Category</b><br><sup>PIE CHART</sup>",
         "x": 0.5
        },
        "width": 600
       }
      }
     },
     "metadata": {},
     "output_type": "display_data"
    }
   ],
   "source": [
    "trace = go.Pie(\n",
    "    values = pbc['Profit'],\n",
    "    labels = pbc['Category'],\n",
    "    textinfo = 'label+percent',\n",
    "    hoverinfo = 'label+value+percent',\n",
    "    textposition = 'outside',\n",
    "    textfont = dict(size = 20, color = 'white'),\n",
    "    marker = dict(colors = ['green', 'blue', 'orange'], line = dict(color = 'white', width = 2)),\n",
    "    showlegend = True\n",
    ")\n",
    "\n",
    "layout = go.Layout(\n",
    "    title = dict(text = '<b>Profit by Category</b><br><sup>PIE CHART</sup>',\n",
    "                 font = dict(size = 24, color = 'white'),\n",
    "                 x = 0.5),\n",
    "    legend = dict(orientation = 'v', yanchor = 'top', y = 0.95,\n",
    "                  xanchor = 'left', x = 0.95, font = dict(size = 14, color = 'white')),\n",
    "    margin = dict(t = 100, b = 50, l = 50, r =50),\n",
    "    height = 400, width = 600, template = 'plotly_dark'\n",
    ")\n",
    "fig = go.Figure(trace, layout)\n",
    "fig.show()"
   ]
  },
  {
   "cell_type": "code",
   "execution_count": 53,
   "id": "d0dad222",
   "metadata": {},
   "outputs": [
    {
     "data": {
      "application/vnd.plotly.v1+json": {
       "config": {
        "plotlyServerURL": "https://plot.ly"
       },
       "data": [
        {
         "hoverinfo": "x+y",
         "hovertemplate": "%{y:$,.0f}<extra></extra>",
         "line": {
          "color": "cyan",
          "width": 2
         },
         "marker": {
          "color": "cyan",
          "line": {
           "color": "white",
           "width": 1.5
          },
          "size": 14
         },
         "mode": "lines+markers",
         "name": "Profit",
         "showlegend": true,
         "type": "scatter",
         "x": [
          "Copiers",
          "Phones",
          "Accessories",
          "Paper",
          "Binders",
          "Chairs",
          "Storage",
          "Appliances",
          "Furnishings",
          "Envelopes",
          "Art",
          "Labels",
          "Machines",
          "Fasteners",
          "Supplies",
          "Bookcases",
          "Tables"
         ],
         "y": {
          "bdata": "T6+UZToo60BPQBNhd7zlQMKGp1cUeuRANKK0N7Kg4EBCPujZcIPdQFXBqKSK99lAW9O847TH1EDaPXlYgLbRQNobfGGSgclANBE2PC00u0D0/dR4yX+5QC/dJAZBqrVAr5RliINxqkBMpgpGJayNQM/3U+NllJLAJzEIrBwhq8CHp1fKXk/RwA==",
          "dtype": "f8"
         }
        }
       ],
       "layout": {
        "height": 700,
        "hovermode": "x unified",
        "legend": {
         "font": {
          "color": "white",
          "size": 14
         },
         "orientation": "v",
         "x": 0.9,
         "xanchor": "left",
         "y": 0.95,
         "yanchor": "top"
        },
        "margin": {
         "b": 50,
         "l": 50,
         "r": 50,
         "t": 100
        },
        "template": {
         "data": {
          "bar": [
           {
            "error_x": {
             "color": "#f2f5fa"
            },
            "error_y": {
             "color": "#f2f5fa"
            },
            "marker": {
             "line": {
              "color": "rgb(17,17,17)",
              "width": 0.5
             },
             "pattern": {
              "fillmode": "overlay",
              "size": 10,
              "solidity": 0.2
             }
            },
            "type": "bar"
           }
          ],
          "barpolar": [
           {
            "marker": {
             "line": {
              "color": "rgb(17,17,17)",
              "width": 0.5
             },
             "pattern": {
              "fillmode": "overlay",
              "size": 10,
              "solidity": 0.2
             }
            },
            "type": "barpolar"
           }
          ],
          "carpet": [
           {
            "aaxis": {
             "endlinecolor": "#A2B1C6",
             "gridcolor": "#506784",
             "linecolor": "#506784",
             "minorgridcolor": "#506784",
             "startlinecolor": "#A2B1C6"
            },
            "baxis": {
             "endlinecolor": "#A2B1C6",
             "gridcolor": "#506784",
             "linecolor": "#506784",
             "minorgridcolor": "#506784",
             "startlinecolor": "#A2B1C6"
            },
            "type": "carpet"
           }
          ],
          "choropleth": [
           {
            "colorbar": {
             "outlinewidth": 0,
             "ticks": ""
            },
            "type": "choropleth"
           }
          ],
          "contour": [
           {
            "colorbar": {
             "outlinewidth": 0,
             "ticks": ""
            },
            "colorscale": [
             [
              0,
              "#0d0887"
             ],
             [
              0.1111111111111111,
              "#46039f"
             ],
             [
              0.2222222222222222,
              "#7201a8"
             ],
             [
              0.3333333333333333,
              "#9c179e"
             ],
             [
              0.4444444444444444,
              "#bd3786"
             ],
             [
              0.5555555555555556,
              "#d8576b"
             ],
             [
              0.6666666666666666,
              "#ed7953"
             ],
             [
              0.7777777777777778,
              "#fb9f3a"
             ],
             [
              0.8888888888888888,
              "#fdca26"
             ],
             [
              1,
              "#f0f921"
             ]
            ],
            "type": "contour"
           }
          ],
          "contourcarpet": [
           {
            "colorbar": {
             "outlinewidth": 0,
             "ticks": ""
            },
            "type": "contourcarpet"
           }
          ],
          "heatmap": [
           {
            "colorbar": {
             "outlinewidth": 0,
             "ticks": ""
            },
            "colorscale": [
             [
              0,
              "#0d0887"
             ],
             [
              0.1111111111111111,
              "#46039f"
             ],
             [
              0.2222222222222222,
              "#7201a8"
             ],
             [
              0.3333333333333333,
              "#9c179e"
             ],
             [
              0.4444444444444444,
              "#bd3786"
             ],
             [
              0.5555555555555556,
              "#d8576b"
             ],
             [
              0.6666666666666666,
              "#ed7953"
             ],
             [
              0.7777777777777778,
              "#fb9f3a"
             ],
             [
              0.8888888888888888,
              "#fdca26"
             ],
             [
              1,
              "#f0f921"
             ]
            ],
            "type": "heatmap"
           }
          ],
          "histogram": [
           {
            "marker": {
             "pattern": {
              "fillmode": "overlay",
              "size": 10,
              "solidity": 0.2
             }
            },
            "type": "histogram"
           }
          ],
          "histogram2d": [
           {
            "colorbar": {
             "outlinewidth": 0,
             "ticks": ""
            },
            "colorscale": [
             [
              0,
              "#0d0887"
             ],
             [
              0.1111111111111111,
              "#46039f"
             ],
             [
              0.2222222222222222,
              "#7201a8"
             ],
             [
              0.3333333333333333,
              "#9c179e"
             ],
             [
              0.4444444444444444,
              "#bd3786"
             ],
             [
              0.5555555555555556,
              "#d8576b"
             ],
             [
              0.6666666666666666,
              "#ed7953"
             ],
             [
              0.7777777777777778,
              "#fb9f3a"
             ],
             [
              0.8888888888888888,
              "#fdca26"
             ],
             [
              1,
              "#f0f921"
             ]
            ],
            "type": "histogram2d"
           }
          ],
          "histogram2dcontour": [
           {
            "colorbar": {
             "outlinewidth": 0,
             "ticks": ""
            },
            "colorscale": [
             [
              0,
              "#0d0887"
             ],
             [
              0.1111111111111111,
              "#46039f"
             ],
             [
              0.2222222222222222,
              "#7201a8"
             ],
             [
              0.3333333333333333,
              "#9c179e"
             ],
             [
              0.4444444444444444,
              "#bd3786"
             ],
             [
              0.5555555555555556,
              "#d8576b"
             ],
             [
              0.6666666666666666,
              "#ed7953"
             ],
             [
              0.7777777777777778,
              "#fb9f3a"
             ],
             [
              0.8888888888888888,
              "#fdca26"
             ],
             [
              1,
              "#f0f921"
             ]
            ],
            "type": "histogram2dcontour"
           }
          ],
          "mesh3d": [
           {
            "colorbar": {
             "outlinewidth": 0,
             "ticks": ""
            },
            "type": "mesh3d"
           }
          ],
          "parcoords": [
           {
            "line": {
             "colorbar": {
              "outlinewidth": 0,
              "ticks": ""
             }
            },
            "type": "parcoords"
           }
          ],
          "pie": [
           {
            "automargin": true,
            "type": "pie"
           }
          ],
          "scatter": [
           {
            "marker": {
             "line": {
              "color": "#283442"
             }
            },
            "type": "scatter"
           }
          ],
          "scatter3d": [
           {
            "line": {
             "colorbar": {
              "outlinewidth": 0,
              "ticks": ""
             }
            },
            "marker": {
             "colorbar": {
              "outlinewidth": 0,
              "ticks": ""
             }
            },
            "type": "scatter3d"
           }
          ],
          "scattercarpet": [
           {
            "marker": {
             "colorbar": {
              "outlinewidth": 0,
              "ticks": ""
             }
            },
            "type": "scattercarpet"
           }
          ],
          "scattergeo": [
           {
            "marker": {
             "colorbar": {
              "outlinewidth": 0,
              "ticks": ""
             }
            },
            "type": "scattergeo"
           }
          ],
          "scattergl": [
           {
            "marker": {
             "line": {
              "color": "#283442"
             }
            },
            "type": "scattergl"
           }
          ],
          "scattermap": [
           {
            "marker": {
             "colorbar": {
              "outlinewidth": 0,
              "ticks": ""
             }
            },
            "type": "scattermap"
           }
          ],
          "scattermapbox": [
           {
            "marker": {
             "colorbar": {
              "outlinewidth": 0,
              "ticks": ""
             }
            },
            "type": "scattermapbox"
           }
          ],
          "scatterpolar": [
           {
            "marker": {
             "colorbar": {
              "outlinewidth": 0,
              "ticks": ""
             }
            },
            "type": "scatterpolar"
           }
          ],
          "scatterpolargl": [
           {
            "marker": {
             "colorbar": {
              "outlinewidth": 0,
              "ticks": ""
             }
            },
            "type": "scatterpolargl"
           }
          ],
          "scatterternary": [
           {
            "marker": {
             "colorbar": {
              "outlinewidth": 0,
              "ticks": ""
             }
            },
            "type": "scatterternary"
           }
          ],
          "surface": [
           {
            "colorbar": {
             "outlinewidth": 0,
             "ticks": ""
            },
            "colorscale": [
             [
              0,
              "#0d0887"
             ],
             [
              0.1111111111111111,
              "#46039f"
             ],
             [
              0.2222222222222222,
              "#7201a8"
             ],
             [
              0.3333333333333333,
              "#9c179e"
             ],
             [
              0.4444444444444444,
              "#bd3786"
             ],
             [
              0.5555555555555556,
              "#d8576b"
             ],
             [
              0.6666666666666666,
              "#ed7953"
             ],
             [
              0.7777777777777778,
              "#fb9f3a"
             ],
             [
              0.8888888888888888,
              "#fdca26"
             ],
             [
              1,
              "#f0f921"
             ]
            ],
            "type": "surface"
           }
          ],
          "table": [
           {
            "cells": {
             "fill": {
              "color": "#506784"
             },
             "line": {
              "color": "rgb(17,17,17)"
             }
            },
            "header": {
             "fill": {
              "color": "#2a3f5f"
             },
             "line": {
              "color": "rgb(17,17,17)"
             }
            },
            "type": "table"
           }
          ]
         },
         "layout": {
          "annotationdefaults": {
           "arrowcolor": "#f2f5fa",
           "arrowhead": 0,
           "arrowwidth": 1
          },
          "autotypenumbers": "strict",
          "coloraxis": {
           "colorbar": {
            "outlinewidth": 0,
            "ticks": ""
           }
          },
          "colorscale": {
           "diverging": [
            [
             0,
             "#8e0152"
            ],
            [
             0.1,
             "#c51b7d"
            ],
            [
             0.2,
             "#de77ae"
            ],
            [
             0.3,
             "#f1b6da"
            ],
            [
             0.4,
             "#fde0ef"
            ],
            [
             0.5,
             "#f7f7f7"
            ],
            [
             0.6,
             "#e6f5d0"
            ],
            [
             0.7,
             "#b8e186"
            ],
            [
             0.8,
             "#7fbc41"
            ],
            [
             0.9,
             "#4d9221"
            ],
            [
             1,
             "#276419"
            ]
           ],
           "sequential": [
            [
             0,
             "#0d0887"
            ],
            [
             0.1111111111111111,
             "#46039f"
            ],
            [
             0.2222222222222222,
             "#7201a8"
            ],
            [
             0.3333333333333333,
             "#9c179e"
            ],
            [
             0.4444444444444444,
             "#bd3786"
            ],
            [
             0.5555555555555556,
             "#d8576b"
            ],
            [
             0.6666666666666666,
             "#ed7953"
            ],
            [
             0.7777777777777778,
             "#fb9f3a"
            ],
            [
             0.8888888888888888,
             "#fdca26"
            ],
            [
             1,
             "#f0f921"
            ]
           ],
           "sequentialminus": [
            [
             0,
             "#0d0887"
            ],
            [
             0.1111111111111111,
             "#46039f"
            ],
            [
             0.2222222222222222,
             "#7201a8"
            ],
            [
             0.3333333333333333,
             "#9c179e"
            ],
            [
             0.4444444444444444,
             "#bd3786"
            ],
            [
             0.5555555555555556,
             "#d8576b"
            ],
            [
             0.6666666666666666,
             "#ed7953"
            ],
            [
             0.7777777777777778,
             "#fb9f3a"
            ],
            [
             0.8888888888888888,
             "#fdca26"
            ],
            [
             1,
             "#f0f921"
            ]
           ]
          },
          "colorway": [
           "#636efa",
           "#EF553B",
           "#00cc96",
           "#ab63fa",
           "#FFA15A",
           "#19d3f3",
           "#FF6692",
           "#B6E880",
           "#FF97FF",
           "#FECB52"
          ],
          "font": {
           "color": "#f2f5fa"
          },
          "geo": {
           "bgcolor": "rgb(17,17,17)",
           "lakecolor": "rgb(17,17,17)",
           "landcolor": "rgb(17,17,17)",
           "showlakes": true,
           "showland": true,
           "subunitcolor": "#506784"
          },
          "hoverlabel": {
           "align": "left"
          },
          "hovermode": "closest",
          "mapbox": {
           "style": "dark"
          },
          "paper_bgcolor": "rgb(17,17,17)",
          "plot_bgcolor": "rgb(17,17,17)",
          "polar": {
           "angularaxis": {
            "gridcolor": "#506784",
            "linecolor": "#506784",
            "ticks": ""
           },
           "bgcolor": "rgb(17,17,17)",
           "radialaxis": {
            "gridcolor": "#506784",
            "linecolor": "#506784",
            "ticks": ""
           }
          },
          "scene": {
           "xaxis": {
            "backgroundcolor": "rgb(17,17,17)",
            "gridcolor": "#506784",
            "gridwidth": 2,
            "linecolor": "#506784",
            "showbackground": true,
            "ticks": "",
            "zerolinecolor": "#C8D4E3"
           },
           "yaxis": {
            "backgroundcolor": "rgb(17,17,17)",
            "gridcolor": "#506784",
            "gridwidth": 2,
            "linecolor": "#506784",
            "showbackground": true,
            "ticks": "",
            "zerolinecolor": "#C8D4E3"
           },
           "zaxis": {
            "backgroundcolor": "rgb(17,17,17)",
            "gridcolor": "#506784",
            "gridwidth": 2,
            "linecolor": "#506784",
            "showbackground": true,
            "ticks": "",
            "zerolinecolor": "#C8D4E3"
           }
          },
          "shapedefaults": {
           "line": {
            "color": "#f2f5fa"
           }
          },
          "sliderdefaults": {
           "bgcolor": "#C8D4E3",
           "bordercolor": "rgb(17,17,17)",
           "borderwidth": 1,
           "tickwidth": 0
          },
          "ternary": {
           "aaxis": {
            "gridcolor": "#506784",
            "linecolor": "#506784",
            "ticks": ""
           },
           "baxis": {
            "gridcolor": "#506784",
            "linecolor": "#506784",
            "ticks": ""
           },
           "bgcolor": "rgb(17,17,17)",
           "caxis": {
            "gridcolor": "#506784",
            "linecolor": "#506784",
            "ticks": ""
           }
          },
          "title": {
           "x": 0.05
          },
          "updatemenudefaults": {
           "bgcolor": "#506784",
           "borderwidth": 0
          },
          "xaxis": {
           "automargin": true,
           "gridcolor": "#283442",
           "linecolor": "#506784",
           "ticks": "",
           "title": {
            "standoff": 15
           },
           "zerolinecolor": "#283442",
           "zerolinewidth": 2
          },
          "yaxis": {
           "automargin": true,
           "gridcolor": "#283442",
           "linecolor": "#506784",
           "ticks": "",
           "title": {
            "standoff": 15
           },
           "zerolinecolor": "#283442",
           "zerolinewidth": 2
          }
         }
        },
        "title": {
         "font": {
          "color": "white",
          "size": 24
         },
         "text": "<b>Profit by Sub Category</b><br><sup>LINE GRAPH</sup>",
         "x": 0.5
        },
        "width": 1500,
        "xaxis": {
         "tickangle": 30,
         "title": {
          "text": "Sub Categories"
         }
        },
        "yaxis": {
         "tickprefix": "$",
         "title": {
          "text": "Total Profit"
         }
        }
       }
      }
     },
     "metadata": {},
     "output_type": "display_data"
    }
   ],
   "source": [
    "trace = go.Scatter(\n",
    "    x = pbsc['Sub-Category'],\n",
    "    y = pbsc['Profit'],\n",
    "    marker = dict(size = 14, color = 'cyan', line = dict(color = 'white', width = 1.5)),\n",
    "    hovertemplate = \"%{y:$,.0f}<extra></extra>\",\n",
    "    name = \"Profit\",\n",
    "    mode = ('lines+markers'),\n",
    "    line = dict(color = 'cyan', width = 2),\n",
    "    hoverinfo = 'x+y',\n",
    "    showlegend = True\n",
    ")\n",
    "layout = go.Layout(\n",
    "    title = dict(text = '<b>Profit by Sub Category</b><br><sup>LINE GRAPH</sup>',\n",
    "                 font = dict(size = 24, color = 'white'), x = 0.5),\n",
    "    xaxis = dict(title = 'Sub Categories', tickangle = 30),\n",
    "    yaxis = dict(title = 'Total Profit', tickprefix = '$'),\n",
    "    legend = dict(orientation = 'v', yanchor = 'top', y = 0.95,\n",
    "                  xanchor = 'left', x = 0.90,\n",
    "                  font = dict(size = 14, color = 'white')),\n",
    "    hovermode = 'x unified',\n",
    "    margin = dict(t = 100, b = 50, l = 50, r = 50),\n",
    "    template = 'plotly_dark', width = 1500, height = 700\n",
    ")\n",
    "fig = go.Figure(trace, layout)\n",
    "fig.show()\n"
   ]
  },
  {
   "cell_type": "markdown",
   "id": "f33d5933",
   "metadata": {},
   "source": []
  },
  {
   "cell_type": "markdown",
   "id": "98dc76de",
   "metadata": {},
   "source": [
    "<h3> Q.6 - Analyze the Sales and Profit by Customer segment.</h3>"
   ]
  },
  {
   "cell_type": "code",
   "execution_count": 58,
   "id": "3ab99087",
   "metadata": {},
   "outputs": [
    {
     "data": {
      "text/html": [
       "<div>\n",
       "<style scoped>\n",
       "    .dataframe tbody tr th:only-of-type {\n",
       "        vertical-align: middle;\n",
       "    }\n",
       "\n",
       "    .dataframe tbody tr th {\n",
       "        vertical-align: top;\n",
       "    }\n",
       "\n",
       "    .dataframe thead th {\n",
       "        text-align: right;\n",
       "    }\n",
       "</style>\n",
       "<table border=\"1\" class=\"dataframe\">\n",
       "  <thead>\n",
       "    <tr style=\"text-align: right;\">\n",
       "      <th></th>\n",
       "      <th>Segment</th>\n",
       "      <th>Sales</th>\n",
       "      <th>Profit</th>\n",
       "    </tr>\n",
       "  </thead>\n",
       "  <tbody>\n",
       "    <tr>\n",
       "      <th>0</th>\n",
       "      <td>Consumer</td>\n",
       "      <td>1161401.34</td>\n",
       "      <td>134119.21</td>\n",
       "    </tr>\n",
       "    <tr>\n",
       "      <th>1</th>\n",
       "      <td>Corporate</td>\n",
       "      <td>706146.37</td>\n",
       "      <td>91979.13</td>\n",
       "    </tr>\n",
       "    <tr>\n",
       "      <th>2</th>\n",
       "      <td>Home Office</td>\n",
       "      <td>429653.15</td>\n",
       "      <td>60298.68</td>\n",
       "    </tr>\n",
       "  </tbody>\n",
       "</table>\n",
       "</div>"
      ],
      "text/plain": [
       "       Segment      Sales    Profit\n",
       "0     Consumer 1161401.34 134119.21\n",
       "1    Corporate  706146.37  91979.13\n",
       "2  Home Office  429653.15  60298.68"
      ]
     },
     "execution_count": 58,
     "metadata": {},
     "output_type": "execute_result"
    }
   ],
   "source": [
    "spbcs = df.groupby(['Segment']).agg({'Sales' : 'sum', 'Profit': 'sum'}).reset_index()\n",
    "pd.set_option('display.float_format', '{:.2f}'.format)\n",
    "spbcs"
   ]
  },
  {
   "cell_type": "code",
   "execution_count": 61,
   "id": "7d567e5e",
   "metadata": {},
   "outputs": [
    {
     "data": {
      "application/vnd.plotly.v1+json": {
       "config": {
        "plotlyServerURL": "https://plot.ly"
       },
       "data": [
        {
         "hoverinfo": "x+y",
         "hovertemplate": "%{y:$,.0f}<extra>Sales</extra>",
         "marker": {
          "color": "cyan",
          "line": {
           "color": "white",
           "width": 2
          }
         },
         "name": "Sales",
         "showlegend": true,
         "text": [
          "$ 1,161,401",
          "$ 706,146",
          "$ 429,653"
         ],
         "textfont": {
          "color": "black",
          "size": 14
         },
         "textposition": "outside",
         "type": "bar",
         "width": 0.3,
         "x": [
          "Consumer",
          "Corporate",
          "Home Office"
         ],
         "y": {
          "bdata": "hetRWLm4MUGoNc27xIwlQU5iEJhUORpB",
          "dtype": "f8"
         }
        },
        {
         "hoverinfo": "x+y",
         "hovertemplate": "%{y:$,.0f}<extra>Profit</extra>",
         "marker": {
          "color": "magenta",
          "line": {
           "color": "white",
           "width": 2
          }
         },
         "name": "Profit",
         "showlegend": true,
         "text": [
          "$ 134,119",
          "$ 91,979",
          "$ 60,299"
         ],
         "textfont": {
          "color": "white",
          "size": 14
         },
         "textposition": "outside",
         "type": "bar",
         "width": 0.3,
         "x": [
          "Consumer",
          "Corporate",
          "Home Office"
         ],
         "y": {
          "bdata": "swxxrDlfAEEbL90ksnT2QMuhRbZVce1A",
          "dtype": "f8"
         }
        }
       ],
       "layout": {
        "barmode": "stack",
        "height": 500,
        "hovermode": "x unified",
        "legend": {
         "font": {
          "size": 14
         },
         "title": {
          "font": {
           "color": "turquoise",
           "size": 16
          },
          "text": "<b>Sales & Profit</b>"
         },
         "x": 0.85,
         "y": 0.95
        },
        "margin": {
         "b": 50,
         "l": 20,
         "r": 20,
         "t": 50
        },
        "template": {
         "data": {
          "bar": [
           {
            "error_x": {
             "color": "#f2f5fa"
            },
            "error_y": {
             "color": "#f2f5fa"
            },
            "marker": {
             "line": {
              "color": "rgb(17,17,17)",
              "width": 0.5
             },
             "pattern": {
              "fillmode": "overlay",
              "size": 10,
              "solidity": 0.2
             }
            },
            "type": "bar"
           }
          ],
          "barpolar": [
           {
            "marker": {
             "line": {
              "color": "rgb(17,17,17)",
              "width": 0.5
             },
             "pattern": {
              "fillmode": "overlay",
              "size": 10,
              "solidity": 0.2
             }
            },
            "type": "barpolar"
           }
          ],
          "carpet": [
           {
            "aaxis": {
             "endlinecolor": "#A2B1C6",
             "gridcolor": "#506784",
             "linecolor": "#506784",
             "minorgridcolor": "#506784",
             "startlinecolor": "#A2B1C6"
            },
            "baxis": {
             "endlinecolor": "#A2B1C6",
             "gridcolor": "#506784",
             "linecolor": "#506784",
             "minorgridcolor": "#506784",
             "startlinecolor": "#A2B1C6"
            },
            "type": "carpet"
           }
          ],
          "choropleth": [
           {
            "colorbar": {
             "outlinewidth": 0,
             "ticks": ""
            },
            "type": "choropleth"
           }
          ],
          "contour": [
           {
            "colorbar": {
             "outlinewidth": 0,
             "ticks": ""
            },
            "colorscale": [
             [
              0,
              "#0d0887"
             ],
             [
              0.1111111111111111,
              "#46039f"
             ],
             [
              0.2222222222222222,
              "#7201a8"
             ],
             [
              0.3333333333333333,
              "#9c179e"
             ],
             [
              0.4444444444444444,
              "#bd3786"
             ],
             [
              0.5555555555555556,
              "#d8576b"
             ],
             [
              0.6666666666666666,
              "#ed7953"
             ],
             [
              0.7777777777777778,
              "#fb9f3a"
             ],
             [
              0.8888888888888888,
              "#fdca26"
             ],
             [
              1,
              "#f0f921"
             ]
            ],
            "type": "contour"
           }
          ],
          "contourcarpet": [
           {
            "colorbar": {
             "outlinewidth": 0,
             "ticks": ""
            },
            "type": "contourcarpet"
           }
          ],
          "heatmap": [
           {
            "colorbar": {
             "outlinewidth": 0,
             "ticks": ""
            },
            "colorscale": [
             [
              0,
              "#0d0887"
             ],
             [
              0.1111111111111111,
              "#46039f"
             ],
             [
              0.2222222222222222,
              "#7201a8"
             ],
             [
              0.3333333333333333,
              "#9c179e"
             ],
             [
              0.4444444444444444,
              "#bd3786"
             ],
             [
              0.5555555555555556,
              "#d8576b"
             ],
             [
              0.6666666666666666,
              "#ed7953"
             ],
             [
              0.7777777777777778,
              "#fb9f3a"
             ],
             [
              0.8888888888888888,
              "#fdca26"
             ],
             [
              1,
              "#f0f921"
             ]
            ],
            "type": "heatmap"
           }
          ],
          "histogram": [
           {
            "marker": {
             "pattern": {
              "fillmode": "overlay",
              "size": 10,
              "solidity": 0.2
             }
            },
            "type": "histogram"
           }
          ],
          "histogram2d": [
           {
            "colorbar": {
             "outlinewidth": 0,
             "ticks": ""
            },
            "colorscale": [
             [
              0,
              "#0d0887"
             ],
             [
              0.1111111111111111,
              "#46039f"
             ],
             [
              0.2222222222222222,
              "#7201a8"
             ],
             [
              0.3333333333333333,
              "#9c179e"
             ],
             [
              0.4444444444444444,
              "#bd3786"
             ],
             [
              0.5555555555555556,
              "#d8576b"
             ],
             [
              0.6666666666666666,
              "#ed7953"
             ],
             [
              0.7777777777777778,
              "#fb9f3a"
             ],
             [
              0.8888888888888888,
              "#fdca26"
             ],
             [
              1,
              "#f0f921"
             ]
            ],
            "type": "histogram2d"
           }
          ],
          "histogram2dcontour": [
           {
            "colorbar": {
             "outlinewidth": 0,
             "ticks": ""
            },
            "colorscale": [
             [
              0,
              "#0d0887"
             ],
             [
              0.1111111111111111,
              "#46039f"
             ],
             [
              0.2222222222222222,
              "#7201a8"
             ],
             [
              0.3333333333333333,
              "#9c179e"
             ],
             [
              0.4444444444444444,
              "#bd3786"
             ],
             [
              0.5555555555555556,
              "#d8576b"
             ],
             [
              0.6666666666666666,
              "#ed7953"
             ],
             [
              0.7777777777777778,
              "#fb9f3a"
             ],
             [
              0.8888888888888888,
              "#fdca26"
             ],
             [
              1,
              "#f0f921"
             ]
            ],
            "type": "histogram2dcontour"
           }
          ],
          "mesh3d": [
           {
            "colorbar": {
             "outlinewidth": 0,
             "ticks": ""
            },
            "type": "mesh3d"
           }
          ],
          "parcoords": [
           {
            "line": {
             "colorbar": {
              "outlinewidth": 0,
              "ticks": ""
             }
            },
            "type": "parcoords"
           }
          ],
          "pie": [
           {
            "automargin": true,
            "type": "pie"
           }
          ],
          "scatter": [
           {
            "marker": {
             "line": {
              "color": "#283442"
             }
            },
            "type": "scatter"
           }
          ],
          "scatter3d": [
           {
            "line": {
             "colorbar": {
              "outlinewidth": 0,
              "ticks": ""
             }
            },
            "marker": {
             "colorbar": {
              "outlinewidth": 0,
              "ticks": ""
             }
            },
            "type": "scatter3d"
           }
          ],
          "scattercarpet": [
           {
            "marker": {
             "colorbar": {
              "outlinewidth": 0,
              "ticks": ""
             }
            },
            "type": "scattercarpet"
           }
          ],
          "scattergeo": [
           {
            "marker": {
             "colorbar": {
              "outlinewidth": 0,
              "ticks": ""
             }
            },
            "type": "scattergeo"
           }
          ],
          "scattergl": [
           {
            "marker": {
             "line": {
              "color": "#283442"
             }
            },
            "type": "scattergl"
           }
          ],
          "scattermap": [
           {
            "marker": {
             "colorbar": {
              "outlinewidth": 0,
              "ticks": ""
             }
            },
            "type": "scattermap"
           }
          ],
          "scattermapbox": [
           {
            "marker": {
             "colorbar": {
              "outlinewidth": 0,
              "ticks": ""
             }
            },
            "type": "scattermapbox"
           }
          ],
          "scatterpolar": [
           {
            "marker": {
             "colorbar": {
              "outlinewidth": 0,
              "ticks": ""
             }
            },
            "type": "scatterpolar"
           }
          ],
          "scatterpolargl": [
           {
            "marker": {
             "colorbar": {
              "outlinewidth": 0,
              "ticks": ""
             }
            },
            "type": "scatterpolargl"
           }
          ],
          "scatterternary": [
           {
            "marker": {
             "colorbar": {
              "outlinewidth": 0,
              "ticks": ""
             }
            },
            "type": "scatterternary"
           }
          ],
          "surface": [
           {
            "colorbar": {
             "outlinewidth": 0,
             "ticks": ""
            },
            "colorscale": [
             [
              0,
              "#0d0887"
             ],
             [
              0.1111111111111111,
              "#46039f"
             ],
             [
              0.2222222222222222,
              "#7201a8"
             ],
             [
              0.3333333333333333,
              "#9c179e"
             ],
             [
              0.4444444444444444,
              "#bd3786"
             ],
             [
              0.5555555555555556,
              "#d8576b"
             ],
             [
              0.6666666666666666,
              "#ed7953"
             ],
             [
              0.7777777777777778,
              "#fb9f3a"
             ],
             [
              0.8888888888888888,
              "#fdca26"
             ],
             [
              1,
              "#f0f921"
             ]
            ],
            "type": "surface"
           }
          ],
          "table": [
           {
            "cells": {
             "fill": {
              "color": "#506784"
             },
             "line": {
              "color": "rgb(17,17,17)"
             }
            },
            "header": {
             "fill": {
              "color": "#2a3f5f"
             },
             "line": {
              "color": "rgb(17,17,17)"
             }
            },
            "type": "table"
           }
          ]
         },
         "layout": {
          "annotationdefaults": {
           "arrowcolor": "#f2f5fa",
           "arrowhead": 0,
           "arrowwidth": 1
          },
          "autotypenumbers": "strict",
          "coloraxis": {
           "colorbar": {
            "outlinewidth": 0,
            "ticks": ""
           }
          },
          "colorscale": {
           "diverging": [
            [
             0,
             "#8e0152"
            ],
            [
             0.1,
             "#c51b7d"
            ],
            [
             0.2,
             "#de77ae"
            ],
            [
             0.3,
             "#f1b6da"
            ],
            [
             0.4,
             "#fde0ef"
            ],
            [
             0.5,
             "#f7f7f7"
            ],
            [
             0.6,
             "#e6f5d0"
            ],
            [
             0.7,
             "#b8e186"
            ],
            [
             0.8,
             "#7fbc41"
            ],
            [
             0.9,
             "#4d9221"
            ],
            [
             1,
             "#276419"
            ]
           ],
           "sequential": [
            [
             0,
             "#0d0887"
            ],
            [
             0.1111111111111111,
             "#46039f"
            ],
            [
             0.2222222222222222,
             "#7201a8"
            ],
            [
             0.3333333333333333,
             "#9c179e"
            ],
            [
             0.4444444444444444,
             "#bd3786"
            ],
            [
             0.5555555555555556,
             "#d8576b"
            ],
            [
             0.6666666666666666,
             "#ed7953"
            ],
            [
             0.7777777777777778,
             "#fb9f3a"
            ],
            [
             0.8888888888888888,
             "#fdca26"
            ],
            [
             1,
             "#f0f921"
            ]
           ],
           "sequentialminus": [
            [
             0,
             "#0d0887"
            ],
            [
             0.1111111111111111,
             "#46039f"
            ],
            [
             0.2222222222222222,
             "#7201a8"
            ],
            [
             0.3333333333333333,
             "#9c179e"
            ],
            [
             0.4444444444444444,
             "#bd3786"
            ],
            [
             0.5555555555555556,
             "#d8576b"
            ],
            [
             0.6666666666666666,
             "#ed7953"
            ],
            [
             0.7777777777777778,
             "#fb9f3a"
            ],
            [
             0.8888888888888888,
             "#fdca26"
            ],
            [
             1,
             "#f0f921"
            ]
           ]
          },
          "colorway": [
           "#636efa",
           "#EF553B",
           "#00cc96",
           "#ab63fa",
           "#FFA15A",
           "#19d3f3",
           "#FF6692",
           "#B6E880",
           "#FF97FF",
           "#FECB52"
          ],
          "font": {
           "color": "#f2f5fa"
          },
          "geo": {
           "bgcolor": "rgb(17,17,17)",
           "lakecolor": "rgb(17,17,17)",
           "landcolor": "rgb(17,17,17)",
           "showlakes": true,
           "showland": true,
           "subunitcolor": "#506784"
          },
          "hoverlabel": {
           "align": "left"
          },
          "hovermode": "closest",
          "mapbox": {
           "style": "dark"
          },
          "paper_bgcolor": "rgb(17,17,17)",
          "plot_bgcolor": "rgb(17,17,17)",
          "polar": {
           "angularaxis": {
            "gridcolor": "#506784",
            "linecolor": "#506784",
            "ticks": ""
           },
           "bgcolor": "rgb(17,17,17)",
           "radialaxis": {
            "gridcolor": "#506784",
            "linecolor": "#506784",
            "ticks": ""
           }
          },
          "scene": {
           "xaxis": {
            "backgroundcolor": "rgb(17,17,17)",
            "gridcolor": "#506784",
            "gridwidth": 2,
            "linecolor": "#506784",
            "showbackground": true,
            "ticks": "",
            "zerolinecolor": "#C8D4E3"
           },
           "yaxis": {
            "backgroundcolor": "rgb(17,17,17)",
            "gridcolor": "#506784",
            "gridwidth": 2,
            "linecolor": "#506784",
            "showbackground": true,
            "ticks": "",
            "zerolinecolor": "#C8D4E3"
           },
           "zaxis": {
            "backgroundcolor": "rgb(17,17,17)",
            "gridcolor": "#506784",
            "gridwidth": 2,
            "linecolor": "#506784",
            "showbackground": true,
            "ticks": "",
            "zerolinecolor": "#C8D4E3"
           }
          },
          "shapedefaults": {
           "line": {
            "color": "#f2f5fa"
           }
          },
          "sliderdefaults": {
           "bgcolor": "#C8D4E3",
           "bordercolor": "rgb(17,17,17)",
           "borderwidth": 1,
           "tickwidth": 0
          },
          "ternary": {
           "aaxis": {
            "gridcolor": "#506784",
            "linecolor": "#506784",
            "ticks": ""
           },
           "baxis": {
            "gridcolor": "#506784",
            "linecolor": "#506784",
            "ticks": ""
           },
           "bgcolor": "rgb(17,17,17)",
           "caxis": {
            "gridcolor": "#506784",
            "linecolor": "#506784",
            "ticks": ""
           }
          },
          "title": {
           "x": 0.05
          },
          "updatemenudefaults": {
           "bgcolor": "#506784",
           "borderwidth": 0
          },
          "xaxis": {
           "automargin": true,
           "gridcolor": "#283442",
           "linecolor": "#506784",
           "ticks": "",
           "title": {
            "standoff": 15
           },
           "zerolinecolor": "#283442",
           "zerolinewidth": 2
          },
          "yaxis": {
           "automargin": true,
           "gridcolor": "#283442",
           "linecolor": "#506784",
           "ticks": "",
           "title": {
            "standoff": 15
           },
           "zerolinecolor": "#283442",
           "zerolinewidth": 2
          }
         }
        },
        "title": {
         "font": {
          "color": "whitesmoke",
          "size": 24
         },
         "text": "<b>Sales and Profit by Customer Segment</b><br><sup>STACKED BAR CHART</sup>",
         "x": 0.5
        },
        "xaxis": {
         "tickangle": 0,
         "tickfont": {
          "size": 16
         },
         "title": {
          "font": {
           "color": "whitesmoke",
           "family": "Arial",
           "size": 20
          },
          "text": "Customer Segments"
         }
        },
        "yaxis": {
         "title": {
          "font": {
           "color": "whitesmoke",
           "family": "Arial",
           "size": 20
          },
          "text": "Sales & Profit"
         }
        }
       }
      }
     },
     "metadata": {},
     "output_type": "display_data"
    }
   ],
   "source": [
    "trace1 = go.Bar(\n",
    "    x = spbcs['Segment'],\n",
    "    y = spbcs['Sales'],\n",
    "    marker = dict(color = 'cyan', line = dict(color = 'white', width = 2)),\n",
    "    text = spbcs['Sales'].apply(lambda x: f'${x: ,.0f}'),\n",
    "    textfont = dict(color = 'black', size = 14),\n",
    "    textposition = 'outside',\n",
    "    showlegend = True,\n",
    "    width = 0.3, name = 'Sales',\n",
    "    hoverinfo = 'x+y',\n",
    "    hovertemplate = '%{y:$,.0f}<extra>Sales</extra>'\n",
    ")\n",
    "trace2 = go.Bar(\n",
    "    x = spbcs['Segment'],\n",
    "    y = spbcs['Profit'],\n",
    "    marker = dict(color = 'magenta', line = dict(color = 'white', width = 2)),\n",
    "    text = spbcs['Profit'].apply(lambda x: f'${x: ,.0f}'),\n",
    "    textfont = dict(color = 'white', size = 14),\n",
    "    textposition = 'outside',\n",
    "    showlegend = True,\n",
    "    width = 0.3, name = 'Profit',\n",
    "    hoverinfo = 'x+y', hovertemplate = '%{y:$,.0f}<extra>Profit</extra>'\n",
    ")\n",
    "layout = go.Layout(\n",
    "    title = dict(text = '<b>Sales and Profit by Customer Segment</b><br><sup>STACKED BAR CHART</sup>', \n",
    "                 font = dict(size = 24, color = 'whitesmoke'), x = 0.5),\n",
    "    barmode = 'stack',\n",
    "    xaxis = dict(title = dict(text = 'Customer Segments', font = dict(size = 20, color = 'whitesmoke', family = 'Arial')), tickangle = 0, tickfont = dict(size = 16)),\n",
    "    yaxis = dict(title = dict(text = 'Sales & Profit', font = dict(size = 20, color = 'whitesmoke', family = 'Arial'))),\n",
    "    legend = dict(x = 0.85, y = 0.95, title = dict(text = '<b>Sales & Profit</b>', font = dict(size = 16, color = 'turquoise')), font = dict(size = 14)),\n",
    "    template = 'plotly_dark',\n",
    "    height = 500, hovermode = 'x unified',\n",
    "    margin = dict(t = 50, b = 50, r = 20, l = 20)\n",
    ")\n",
    "fig = go.Figure([trace1,trace2],layout)\n",
    "fig.show()"
   ]
  },
  {
   "cell_type": "markdown",
   "id": "bdbcb5e9",
   "metadata": {},
   "source": [
    "<h3>Q.7 - Analyze the Sales to Profit ratio.</h3>"
   ]
  },
  {
   "cell_type": "code",
   "execution_count": 63,
   "id": "82b00afa",
   "metadata": {},
   "outputs": [
    {
     "name": "stdout",
     "output_type": "stream",
     "text": [
      "       Segment  Sales_to_Profit_Ratio\n",
      "0     Consumer                   8.66\n",
      "1    Corporate                   7.68\n",
      "2  Home Office                   7.13\n"
     ]
    }
   ],
   "source": [
    "spbcs = df.groupby(['Segment']).agg({'Sales' : 'sum', 'Profit': 'sum'}).reset_index()\n",
    "spbcs['Sales_to_Profit_Ratio'] = spbcs['Sales'] / spbcs['Profit']\n",
    "print(spbcs[['Segment', 'Sales_to_Profit_Ratio']])"
   ]
  },
  {
   "cell_type": "code",
   "execution_count": null,
   "id": "a7ba0469",
   "metadata": {},
   "outputs": [],
   "source": []
  }
 ],
 "metadata": {
  "kernelspec": {
   "display_name": "Python 3",
   "language": "python",
   "name": "python3"
  },
  "language_info": {
   "codemirror_mode": {
    "name": "ipython",
    "version": 3
   },
   "file_extension": ".py",
   "mimetype": "text/x-python",
   "name": "python",
   "nbconvert_exporter": "python",
   "pygments_lexer": "ipython3",
   "version": "3.13.2"
  }
 },
 "nbformat": 4,
 "nbformat_minor": 5
}
